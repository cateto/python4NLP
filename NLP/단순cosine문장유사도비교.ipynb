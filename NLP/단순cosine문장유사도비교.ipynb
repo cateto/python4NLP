{
  "nbformat": 4,
  "nbformat_minor": 0,
  "metadata": {
    "colab": {
      "name": "단순cosine문장유사도비교.ipynb",
      "provenance": [],
      "authorship_tag": "ABX9TyMcvxqNLHPu7iNwVfBCWb2w",
      "include_colab_link": true
    },
    "kernelspec": {
      "name": "python3",
      "display_name": "Python 3"
    },
    "language_info": {
      "name": "python"
    }
  },
  "cells": [
    {
      "cell_type": "markdown",
      "metadata": {
        "id": "view-in-github",
        "colab_type": "text"
      },
      "source": [
        "<a href=\"https://colab.research.google.com/github/cateto/python4NLP/blob/main/NLP/%EB%8B%A8%EC%88%9Ccosine%EB%AC%B8%EC%9E%A5%EC%9C%A0%EC%82%AC%EB%8F%84%EB%B9%84%EA%B5%90.ipynb\" target=\"_parent\"><img src=\"https://colab.research.google.com/assets/colab-badge.svg\" alt=\"Open In Colab\"/></a>"
      ]
    },
    {
      "cell_type": "code",
      "metadata": {
        "colab": {
          "base_uri": "https://localhost:8080/"
        },
        "id": "rGAmuln-ZlSV",
        "outputId": "885bec52-f53e-4925-e189-4de9e2e36497"
      },
      "source": [
        "!pip install nltk"
      ],
      "execution_count": 1,
      "outputs": [
        {
          "output_type": "stream",
          "name": "stdout",
          "text": [
            "Requirement already satisfied: nltk in /usr/local/lib/python3.7/dist-packages (3.2.5)\n",
            "Requirement already satisfied: six in /usr/local/lib/python3.7/dist-packages (from nltk) (1.15.0)\n"
          ]
        }
      ]
    },
    {
      "cell_type": "code",
      "metadata": {
        "colab": {
          "base_uri": "https://localhost:8080/"
        },
        "id": "3Po8RwQWaUi2",
        "outputId": "87307ffc-e855-4235-8fcf-49dbb7716149"
      },
      "source": [
        "import nltk\n",
        "nltk.download('punkt')\n",
        "nltk.download('stopwords')"
      ],
      "execution_count": 7,
      "outputs": [
        {
          "output_type": "stream",
          "name": "stdout",
          "text": [
            "[nltk_data] Downloading package punkt to /root/nltk_data...\n",
            "[nltk_data]   Package punkt is already up-to-date!\n",
            "[nltk_data] Downloading package stopwords to /root/nltk_data...\n",
            "[nltk_data]   Unzipping corpora/stopwords.zip.\n"
          ]
        },
        {
          "output_type": "execute_result",
          "data": {
            "text/plain": [
              "True"
            ]
          },
          "metadata": {},
          "execution_count": 7
        }
      ]
    },
    {
      "cell_type": "code",
      "metadata": {
        "colab": {
          "base_uri": "https://localhost:8080/"
        },
        "id": "Lnk-8f7DZp2J",
        "outputId": "3b26b49f-5ecc-42f4-d8b8-910e91b10ea9"
      },
      "source": [
        "from nltk.corpus import stopwords\n",
        "from nltk.tokenize import word_tokenize\n",
        "\n",
        "X =\"세계제약협회는 2019년 1월 1일부터 제약사들이 보건의료전문가 개인에게 기념품 등 일체의 물품을 제공하는 것은 원칙적으로 금지되며, 전문의약품과 관련한 판촉물 제공도 전면적으로 금지하기로 했다..\"\n",
        "Y =\"다만, 학술‧교육행사에서 참석자들이 필기하는데 필요한 펜이나 메모지(notepad) 정도는 소액이고 합리적으로 필요한 범위 내에서 회사명만을 표시하고 제공할 수 있게 됐다.\"\n",
        "\n",
        "X_list = word_tokenize(X)\n",
        "Y_list = word_tokenize(Y)\n",
        "\n",
        "sw = stopwords.words('english')\n",
        "l1 =[];l2 =[]\n",
        "\n",
        "X_set = {w for w in X_list if not w in sw}\n",
        "Y_set = {w for w in Y_list if not w in sw}\n",
        "\n",
        "rvector = X_set.union(Y_set)\n",
        "for w in rvector:\n",
        "  if w in X_set: l1.append(1)\n",
        "  else: l1.append(0)\n",
        "  if w in Y_set: l2.append(2)\n",
        "  else: l2.append(0)\n",
        "c = 0\n",
        "\n",
        "# cosine formula \n",
        "for i in range(len(rvector)):\n",
        "        c+= l1[i]*l2[i]\n",
        "cosine = c / float((sum(l1)*sum(l2))**0.5)\n",
        "print(\"similarity: \", cosine)"
      ],
      "execution_count": 39,
      "outputs": [
        {
          "output_type": "stream",
          "name": "stdout",
          "text": [
            "similarity:  0.061487546190134565\n"
          ]
        }
      ]
    }
  ]
}