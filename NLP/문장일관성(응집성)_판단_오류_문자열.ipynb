{
  "nbformat": 4,
  "nbformat_minor": 0,
  "metadata": {
    "colab": {
      "name": "문장일관성(응집성)_판단_오류 문자열.ipynb",
      "provenance": [],
      "toc_visible": true,
      "authorship_tag": "ABX9TyMPUUWkpYsqreW57WRxefcG",
      "include_colab_link": true
    },
    "kernelspec": {
      "name": "python3",
      "display_name": "Python 3"
    },
    "language_info": {
      "name": "python"
    }
  },
  "cells": [
    {
      "cell_type": "markdown",
      "metadata": {
        "id": "view-in-github",
        "colab_type": "text"
      },
      "source": [
        "<a href=\"https://colab.research.google.com/github/cateto/python4NLP/blob/main/NLP/%EB%AC%B8%EC%9E%A5%EC%9D%BC%EA%B4%80%EC%84%B1(%EC%9D%91%EC%A7%91%EC%84%B1)_%ED%8C%90%EB%8B%A8_%EC%98%A4%EB%A5%98_%EB%AC%B8%EC%9E%90%EC%97%B4.ipynb\" target=\"_parent\"><img src=\"https://colab.research.google.com/assets/colab-badge.svg\" alt=\"Open In Colab\"/></a>"
      ]
    },
    {
      "cell_type": "markdown",
      "metadata": {
        "id": "XQZs3L7ci18w"
      },
      "source": [
        "# 문장 단위 분리 (KSS 활용)"
      ]
    },
    {
      "cell_type": "code",
      "metadata": {
        "colab": {
          "base_uri": "https://localhost:8080/"
        },
        "id": "UupCc_gEU50s",
        "outputId": "142d4c3f-0cf4-4caf-df42-5d55a27828eb"
      },
      "source": [
        "!pip install kss"
      ],
      "execution_count": 2,
      "outputs": [
        {
          "output_type": "stream",
          "name": "stdout",
          "text": [
            "Collecting kss\n",
            "  Downloading kss-3.3.0.tar.gz (42.4 MB)\n",
            "\u001b[K     |████████████████████████████████| 42.4 MB 64 kB/s \n",
            "\u001b[?25hCollecting emoji\n",
            "  Downloading emoji-1.6.1.tar.gz (170 kB)\n",
            "\u001b[K     |████████████████████████████████| 170 kB 45.9 MB/s \n",
            "\u001b[?25hBuilding wheels for collected packages: kss, emoji\n",
            "  Building wheel for kss (setup.py) ... \u001b[?25l\u001b[?25hdone\n",
            "  Created wheel for kss: filename=kss-3.3.0-py3-none-any.whl size=42449194 sha256=53e72e86163cb0c5c985be013ad961626269466e98126e1e3d8a1926c92b9a4a\n",
            "  Stored in directory: /root/.cache/pip/wheels/0e/16/eb/7c53a9fa7971bf12ea368b4e1f265c3848135cd217fa87ad68\n",
            "  Building wheel for emoji (setup.py) ... \u001b[?25l\u001b[?25hdone\n",
            "  Created wheel for emoji: filename=emoji-1.6.1-py3-none-any.whl size=169314 sha256=6f1de7625e50f4a237af3df62f997a79717e46258de64e983927e2e6e6ecad7b\n",
            "  Stored in directory: /root/.cache/pip/wheels/ea/5f/d3/03d313ddb3c2a1a427bb4690f1621eea60fe6f2a30cc95940f\n",
            "Successfully built kss emoji\n",
            "Installing collected packages: emoji, kss\n",
            "Successfully installed emoji-1.6.1 kss-3.3.0\n"
          ]
        }
      ]
    },
    {
      "cell_type": "code",
      "metadata": {
        "id": "XIc4evbWIvy_"
      },
      "source": [
        "doc = '''\n",
        "[앵커]\n",
        "\n",
        "국민의힘은 이재명 후보를 '대장동 의혹'의 몸통으로 규정하고  특검을 도입하라는 공세를 늦추지 않았습니다. \n",
        "\n",
        "국민의힘 대선 후보들도 역시 특검 도입에 동조했는데,  다만 윤석열 후보를 향한 견제 분위기도 드러나고 있습니다. \n",
        "\n",
        "강병수 기자가 보도합니다. \n",
        "\n",
        " [리포트]\n",
        "\n",
        " \"특검을 거부하는 자가 범인이다\", 회의장 뒷걸개도 새로 내 건 국민의힘이  민주당 이재명 후보를  정면으로 겨냥하고, 대장동 의혹 특검 도입을 촉구했습니다.\n",
        "\n",
        " [이준석/국민의힘 대표 :  \"이것을 거부하는 의도가 무엇입니까? 특검을 거부하는 사람들이야말로, 바로 여기 쓰여 있는 대로 첫 번째 의심 대상자이자 범인일 것입니다.\"]\n",
        "\n",
        " 수사 초기인 상황에서 특검을 요구하는 근거로는  검찰 수사팀이 친정권 인사로 채워졌다고 본다는 이유를 들었습니다.\n",
        "\n",
        " 윤석열 후보도 힘을 보탰습니다.\n",
        "\n",
        " [윤석열/국민의힘 대선 경선 후보 : \"압수수색이라는 것이 다 똑같은 게 아니고 얼마나 치열하고 제대로 압수수색을 해서 수사를 하는 건지 좀 보겠습니다.\"]\n",
        "\n",
        " 다른 경쟁 후보들도  특검을 요구하기는 마찬가지입니다.\n",
        "\n",
        " 다만,  이재명 후보를 겨누면서도  윤석열 후보 역시  무관하지 않은 것 아니냐는 의혹을  은근히 부각하고 있습니다.\n",
        "\n",
        " [홍준표/국민의힘 대선 경선 후보 : \"우리 당 후보 중의 한 명의 부친의 부동산이 화천대유의 주범하고 부동산 거래를 했다는 의혹을 낳고 있습니다.\"]\n",
        "\n",
        " [유승민/국민의힘 대선 경선 후보 : \"윤석열 후보 본인하고 김만배가 원래 가깝게 알고 지내던 사이라면, 그런데도 이것을 진짜 우연으로 봐야 되느냐?\"]\n",
        "\n",
        " 한편, 윤석열 후보는 자신의 유튜브 채널에서  TV 토론회 과정에서 불거진 주택청약통장 논란을 해명하는 과정에서  \"주택청약 통장을 모르면 거의 치매 환자\"라고 발언했다가 다시 실언이라는 지적을 받았습니다.\n",
        "\n",
        " 윤 후보 측은  논란이 되자 해당 영상을 삭제했고,  적절한 비유가 아니었다고  사과했습니다. \n",
        "\n",
        "'''"
      ],
      "execution_count": 23,
      "outputs": []
    },
    {
      "cell_type": "code",
      "metadata": {
        "id": "wiJqb1VLiU1H"
      },
      "source": [
        "from kss import split_sentences\n",
        "sentences = split_sentences(doc)"
      ],
      "execution_count": 24,
      "outputs": []
    },
    {
      "cell_type": "code",
      "metadata": {
        "colab": {
          "base_uri": "https://localhost:8080/"
        },
        "id": "-kYwmBk8ideL",
        "outputId": "6b6d1cfb-c34d-43db-cf93-4d600ab48bae"
      },
      "source": [
        "sentences"
      ],
      "execution_count": 25,
      "outputs": [
        {
          "output_type": "execute_result",
          "data": {
            "text/plain": [
              "['[앵커]',\n",
              " \"국민의힘은 이재명 후보를 '대장동 의혹'의 몸통으로 규정하고 특검을 도입하라는 공세를 늦추지 않았습니다.\",\n",
              " '국민의힘 대선 후보들도 역시 특검 도입에 동조했는데, 다만 윤석열 후보를 향한 견제 분위기도 드러나고 있습니다.',\n",
              " '강병수 기자가 보도합니다.',\n",
              " '[리포트]',\n",
              " '\"특검을 거부하는 자가 범인이다\", 회의장 뒷걸개도 새로 내 건 국민의힘이 민주당 이재명 후보를 정면으로 겨냥하고, 대장동 의혹 특검 도입을 촉구했습니다.',\n",
              " '[이준석/국민의힘 대표 : \"이것을 거부하는 의도가 무엇입니까?',\n",
              " '특검을 거부하는 사람들이야말로, 바로 여기 쓰여 있는 대로 첫 번째 의심 대상자이자 범인일 것입니다.\"]',\n",
              " '수사 초기인 상황에서 특검을 요구하는 근거로는 검찰 수사팀이 친정권 인사로 채워졌다고 본다는 이유를 들었습니다.',\n",
              " '윤석열 후보도 힘을 보탰습니다.',\n",
              " '[윤석열/국민의힘 대선 경선 후보 : \"압수수색이라는 것이 다 똑같은 게 아니고 얼마나 치열하고 제대로 압수수색을 해서 수사를 하는 건지 좀 보겠습니다.\"]',\n",
              " '다른 경쟁 후보들도 특검을 요구하기는 마찬가지입니다.',\n",
              " '다만, 이재명 후보를 겨누면서도 윤석열 후보 역시 무관하지 않은 것 아니냐는 의혹을 은근히 부각하고 있습니다.',\n",
              " '[홍준표/국민의힘 대선 경선 후보 : \"우리 당 후보 중의 한 명의 부친의 부동산이 화천대유의 주범하고 부동산 거래를 했다는 의혹을 낳고 있습니다.\"]',\n",
              " '[유승민/국민의힘 대선 경선 후보 : \"윤석열 후보 본인하고 김만배가 원래 가깝게 알고 지내던 사이라면, 그런데도 이것을 진짜 우연으로 봐야 되느냐?\"]',\n",
              " '한편, 윤석열 후보는 자신의 유튜브 채널에서 TV 토론회 과정에서 불거진 주택청약통장 논란을 해명하는 과정에서 \"주택청약 통장을 모르면 거의 치매 환자\"라고 발언했다가 다시 실언이라는 지적을 받았습니다.',\n",
              " '윤 후보 측은 논란이 되자 해당 영상을 삭제했고, 적절한 비유가 아니었다고 사과했습니다.']"
            ]
          },
          "metadata": {},
          "execution_count": 25
        }
      ]
    },
    {
      "cell_type": "markdown",
      "metadata": {
        "id": "eoyN6GEIi4WG"
      },
      "source": [
        "# 품사 한정 (명사, 동사, 형용사)"
      ]
    },
    {
      "cell_type": "code",
      "metadata": {
        "id": "N6rDSwElizz-"
      },
      "source": [
        "# Colab에 Mecab 설치\n",
        "!git clone https://github.com/SOMJANG/Mecab-ko-for-Google-Colab.git\n",
        "%cd Mecab-ko-for-Google-Colab\n",
        "!bash install_mecab-ko_on_colab190912.sh"
      ],
      "execution_count": null,
      "outputs": []
    },
    {
      "cell_type": "code",
      "metadata": {
        "id": "s_DRV2jWiqtk"
      },
      "source": [
        "from konlpy.tag import *\n",
        "okt = Okt()"
      ],
      "execution_count": 20,
      "outputs": []
    },
    {
      "cell_type": "code",
      "metadata": {
        "colab": {
          "base_uri": "https://localhost:8080/"
        },
        "id": "UNdzRl4uihyH",
        "outputId": "676f85de-8ff6-4094-9bb7-344b541ed0d6"
      },
      "source": [
        "result_arr = []\n",
        "result = []\n",
        "for sentence in sentences:\n",
        "  clean_words = []\n",
        "  for word in okt.pos(sentence, stem=True):\n",
        "    if word[1] in ['Noun', 'Verb', 'Adjective']: #명사, 동사, 형용사\n",
        "      clean_words.append(word[0])\n",
        "  print(clean_words)\n",
        "  temp_sentence = ' '.join(clean_words)\n",
        "  result_arr.append(clean_words)\n",
        "  result.append(temp_sentence)"
      ],
      "execution_count": 26,
      "outputs": [
        {
          "output_type": "stream",
          "name": "stdout",
          "text": [
            "['앵커']\n",
            "['국민', '힘', '이재명', '후보', '대장동', '의혹', '의', '몸통', '규정', '특검', '도입', '공세', '늦추다', '않다']\n",
            "['국민', '힘', '대선', '후보', '역시', '특검', '도입', '동조', '하다', '다만', '윤석열', '후보', '향', '견제', '분위기', '드러나다', '있다']\n",
            "['강병수', '기자', '보도', '하다']\n",
            "['리포트']\n",
            "['특검', '거부', '하다', '자가', '범인', '회의장', '걸', '새롭다', '내', '건', '국민', '힘', '민주당', '이재명', '후보', '정면', '겨냥', '대장동', '의혹', '특검', '도입', '촉구', '하다']\n",
            "['이준석', '국민', '힘', '대표', '것', '거부', '하다', '의도', '무엇', '입']\n",
            "['특검', '거부', '하다', '사람', '바로', '여기', '쓰이다', '있다', '대로', '첫', '의심', '대상자', '이자', '범인', '일', '것', '이다']\n",
            "['수사', '초기', '상황', '특검', '요구', '하다', '근거', '검찰', '팀', '친정', '인사', '채우다', '보다', '이유', '들다']\n",
            "['윤석열', '후보', '힘', '보탰습니']\n",
            "['윤석열', '국민', '힘', '대선', '경선', '후보', '압수수색', '것', '똑같다', '게', '아니다', '얼마나', '치열하다', '제대로', '압수수색', '하다', '수사', '하다', '건지다', '좀', '보다']\n",
            "['다른', '경쟁', '후보', '특검', '요구', '하다', '마찬가지', '이다']\n",
            "['다만', '이재명', '후보', '겨누', '서도', '윤석열', '후보', '역시', '무관', '하다', '않다', '것', '아니다', '의혹', '은근', '부각', '있다']\n",
            "['홍준표', '국민', '힘', '대선', '경선', '후보', '우리', '당', '후보', '중', '하다', '명의', '부친', '부동산', '화천', '유의', '범', '부동산', '거래', '하다', '의혹', '낳다', '있다']\n",
            "['유승민', '국민', '힘', '대선', '경선', '후보', '윤석열', '후보', '본인', '김', '만배', '원래', '가깝다', '알', '지내다', '라면', '그렇다', '것', '진짜', '우연', '보다', '되다']\n",
            "['한편', '윤석열', '후보', '자신', '유튜브', '채널', '토론회', '과정', '불거지다', '주택', '청약', '통장', '논란', '해명', '하다', '과정', '주택', '청약', '통장', '모르다', '거의', '치매', '환자', '발언', '하다', '다시', '실언', '지적', '받다']\n",
            "['윤', '후보', '측은', '논란', '되다', '해당', '영상', '삭제', '하다', '적절하다', '비유', '아니다', '사과', '하다']\n"
          ]
        }
      ]
    },
    {
      "cell_type": "markdown",
      "metadata": {
        "id": "TLN9bSAdjJjx"
      },
      "source": [
        "# 국소적 응집성 계산"
      ]
    },
    {
      "cell_type": "code",
      "metadata": {
        "colab": {
          "base_uri": "https://localhost:8080/"
        },
        "id": "a2gkPTmQimGC",
        "outputId": "e7fedff4-82b6-4c16-beb6-ea2b76c60a2a"
      },
      "source": [
        "import numpy\n",
        "all_coherence = []\n",
        "for i, sentence in enumerate(result_arr):\n",
        "  print(i)\n",
        "  if(i==len(result)-1): \n",
        "    break\n",
        "  same_word = [x for x in result_arr[i] if x in result_arr[i+1]]\n",
        "  # 입력 문장 - 문장 후보군 간 코사인 유사도 계산 후,\n",
        "  print(result[i], '와' ,result[i+1], ' 의 상호 참조 관계 :', min(len(same_word),1))\n",
        "  all_coherence.append(min(len(same_word),1))\n",
        "print('국소 응집성: ',numpy.mean(all_coherence))\n",
        "print('표준 편차: ',numpy.std(all_coherence))"
      ],
      "execution_count": 27,
      "outputs": [
        {
          "output_type": "stream",
          "name": "stdout",
          "text": [
            "0\n",
            "앵커 와 국민 힘 이재명 후보 대장동 의혹 의 몸통 규정 특검 도입 공세 늦추다 않다  의 상호 참조 관계 : 0\n",
            "1\n",
            "국민 힘 이재명 후보 대장동 의혹 의 몸통 규정 특검 도입 공세 늦추다 않다 와 국민 힘 대선 후보 역시 특검 도입 동조 하다 다만 윤석열 후보 향 견제 분위기 드러나다 있다  의 상호 참조 관계 : 1\n",
            "2\n",
            "국민 힘 대선 후보 역시 특검 도입 동조 하다 다만 윤석열 후보 향 견제 분위기 드러나다 있다 와 강병수 기자 보도 하다  의 상호 참조 관계 : 1\n",
            "3\n",
            "강병수 기자 보도 하다 와 리포트  의 상호 참조 관계 : 0\n",
            "4\n",
            "리포트 와 특검 거부 하다 자가 범인 회의장 걸 새롭다 내 건 국민 힘 민주당 이재명 후보 정면 겨냥 대장동 의혹 특검 도입 촉구 하다  의 상호 참조 관계 : 0\n",
            "5\n",
            "특검 거부 하다 자가 범인 회의장 걸 새롭다 내 건 국민 힘 민주당 이재명 후보 정면 겨냥 대장동 의혹 특검 도입 촉구 하다 와 이준석 국민 힘 대표 것 거부 하다 의도 무엇 입  의 상호 참조 관계 : 1\n",
            "6\n",
            "이준석 국민 힘 대표 것 거부 하다 의도 무엇 입 와 특검 거부 하다 사람 바로 여기 쓰이다 있다 대로 첫 의심 대상자 이자 범인 일 것 이다  의 상호 참조 관계 : 1\n",
            "7\n",
            "특검 거부 하다 사람 바로 여기 쓰이다 있다 대로 첫 의심 대상자 이자 범인 일 것 이다 와 수사 초기 상황 특검 요구 하다 근거 검찰 팀 친정 인사 채우다 보다 이유 들다  의 상호 참조 관계 : 1\n",
            "8\n",
            "수사 초기 상황 특검 요구 하다 근거 검찰 팀 친정 인사 채우다 보다 이유 들다 와 윤석열 후보 힘 보탰습니  의 상호 참조 관계 : 0\n",
            "9\n",
            "윤석열 후보 힘 보탰습니 와 윤석열 국민 힘 대선 경선 후보 압수수색 것 똑같다 게 아니다 얼마나 치열하다 제대로 압수수색 하다 수사 하다 건지다 좀 보다  의 상호 참조 관계 : 1\n",
            "10\n",
            "윤석열 국민 힘 대선 경선 후보 압수수색 것 똑같다 게 아니다 얼마나 치열하다 제대로 압수수색 하다 수사 하다 건지다 좀 보다 와 다른 경쟁 후보 특검 요구 하다 마찬가지 이다  의 상호 참조 관계 : 1\n",
            "11\n",
            "다른 경쟁 후보 특검 요구 하다 마찬가지 이다 와 다만 이재명 후보 겨누 서도 윤석열 후보 역시 무관 하다 않다 것 아니다 의혹 은근 부각 있다  의 상호 참조 관계 : 1\n",
            "12\n",
            "다만 이재명 후보 겨누 서도 윤석열 후보 역시 무관 하다 않다 것 아니다 의혹 은근 부각 있다 와 홍준표 국민 힘 대선 경선 후보 우리 당 후보 중 하다 명의 부친 부동산 화천 유의 범 부동산 거래 하다 의혹 낳다 있다  의 상호 참조 관계 : 1\n",
            "13\n",
            "홍준표 국민 힘 대선 경선 후보 우리 당 후보 중 하다 명의 부친 부동산 화천 유의 범 부동산 거래 하다 의혹 낳다 있다 와 유승민 국민 힘 대선 경선 후보 윤석열 후보 본인 김 만배 원래 가깝다 알 지내다 라면 그렇다 것 진짜 우연 보다 되다  의 상호 참조 관계 : 1\n",
            "14\n",
            "유승민 국민 힘 대선 경선 후보 윤석열 후보 본인 김 만배 원래 가깝다 알 지내다 라면 그렇다 것 진짜 우연 보다 되다 와 한편 윤석열 후보 자신 유튜브 채널 토론회 과정 불거지다 주택 청약 통장 논란 해명 하다 과정 주택 청약 통장 모르다 거의 치매 환자 발언 하다 다시 실언 지적 받다  의 상호 참조 관계 : 1\n",
            "15\n",
            "한편 윤석열 후보 자신 유튜브 채널 토론회 과정 불거지다 주택 청약 통장 논란 해명 하다 과정 주택 청약 통장 모르다 거의 치매 환자 발언 하다 다시 실언 지적 받다 와 윤 후보 측은 논란 되다 해당 영상 삭제 하다 적절하다 비유 아니다 사과 하다  의 상호 참조 관계 : 1\n",
            "16\n",
            "국소 응집성:  0.75\n",
            "표준 편차:  0.4330127018922193\n"
          ]
        }
      ]
    },
    {
      "cell_type": "code",
      "metadata": {
        "colab": {
          "base_uri": "https://localhost:8080/"
        },
        "id": "d-9_vMerk8eV",
        "outputId": "6f1f6d20-0e4c-403a-f2a9-4e148d52f58a"
      },
      "source": [
        "all_coherence"
      ],
      "execution_count": 28,
      "outputs": [
        {
          "output_type": "execute_result",
          "data": {
            "text/plain": [
              "[0, 1, 1, 0, 0, 1, 1, 1, 0, 1, 1, 1, 1, 1, 1, 1]"
            ]
          },
          "metadata": {},
          "execution_count": 28
        }
      ]
    },
    {
      "cell_type": "code",
      "metadata": {
        "id": "quLhuZqQk-6k"
      },
      "source": [
        ""
      ],
      "execution_count": null,
      "outputs": []
    }
  ]
}