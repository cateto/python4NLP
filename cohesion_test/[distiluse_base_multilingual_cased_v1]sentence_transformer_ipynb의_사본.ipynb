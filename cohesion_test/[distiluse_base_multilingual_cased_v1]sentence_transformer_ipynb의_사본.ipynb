{
  "nbformat": 4,
  "nbformat_minor": 0,
  "metadata": {
    "colab": {
      "name": "[distiluse-base-multilingual-cased-v1]sentence_transformer.ipynb의 사본",
      "provenance": [],
      "toc_visible": true,
      "authorship_tag": "ABX9TyOCS5XnqfMOE84j0tOkI9Z2",
      "include_colab_link": true
    },
    "kernelspec": {
      "name": "python3",
      "display_name": "Python 3"
    },
    "language_info": {
      "name": "python"
    },
    "accelerator": "GPU"
  },
  "cells": [
    {
      "cell_type": "markdown",
      "metadata": {
        "id": "view-in-github",
        "colab_type": "text"
      },
      "source": [
        "<a href=\"https://colab.research.google.com/github/cateto/python4NLP/blob/main/cohesion_test/%5Bdistiluse_base_multilingual_cased_v1%5Dsentence_transformer_ipynb%EC%9D%98_%EC%82%AC%EB%B3%B8.ipynb\" target=\"_parent\"><img src=\"https://colab.research.google.com/assets/colab-badge.svg\" alt=\"Open In Colab\"/></a>"
      ]
    },
    {
      "cell_type": "markdown",
      "metadata": {
        "id": "EAPkswsJ-YKP"
      },
      "source": [
        "# sentence transformers 로딩"
      ]
    },
    {
      "cell_type": "code",
      "metadata": {
        "colab": {
          "base_uri": "https://localhost:8080/"
        },
        "id": "Hm6oinEz2jIf",
        "outputId": "7d0cbaef-3135-4c35-8bbd-4eb8e4c78e1d"
      },
      "source": [
        "pip install -U sentence-transformers datasets"
      ],
      "execution_count": 149,
      "outputs": [
        {
          "output_type": "stream",
          "name": "stdout",
          "text": [
            "Requirement already satisfied: sentence-transformers in /usr/local/lib/python3.7/dist-packages (2.1.0)\n",
            "Requirement already satisfied: datasets in /usr/local/lib/python3.7/dist-packages (1.14.0)\n",
            "Requirement already satisfied: scipy in /usr/local/lib/python3.7/dist-packages (from sentence-transformers) (1.4.1)\n",
            "Requirement already satisfied: transformers<5.0.0,>=4.6.0 in /usr/local/lib/python3.7/dist-packages (from sentence-transformers) (4.12.2)\n",
            "Requirement already satisfied: torchvision in /usr/local/lib/python3.7/dist-packages (from sentence-transformers) (0.10.0+cu111)\n",
            "Requirement already satisfied: torch>=1.6.0 in /usr/local/lib/python3.7/dist-packages (from sentence-transformers) (1.9.0+cu111)\n",
            "Requirement already satisfied: tqdm in /usr/local/lib/python3.7/dist-packages (from sentence-transformers) (4.62.3)\n",
            "Requirement already satisfied: huggingface-hub in /usr/local/lib/python3.7/dist-packages (from sentence-transformers) (0.0.19)\n",
            "Requirement already satisfied: scikit-learn in /usr/local/lib/python3.7/dist-packages (from sentence-transformers) (0.22.2.post1)\n",
            "Requirement already satisfied: nltk in /usr/local/lib/python3.7/dist-packages (from sentence-transformers) (3.2.5)\n",
            "Requirement already satisfied: numpy in /usr/local/lib/python3.7/dist-packages (from sentence-transformers) (1.19.5)\n",
            "Requirement already satisfied: tokenizers>=0.10.3 in /usr/local/lib/python3.7/dist-packages (from sentence-transformers) (0.10.3)\n",
            "Requirement already satisfied: sentencepiece in /usr/local/lib/python3.7/dist-packages (from sentence-transformers) (0.1.96)\n",
            "Requirement already satisfied: typing-extensions in /usr/local/lib/python3.7/dist-packages (from torch>=1.6.0->sentence-transformers) (3.7.4.3)\n",
            "Requirement already satisfied: importlib-metadata in /usr/local/lib/python3.7/dist-packages (from transformers<5.0.0,>=4.6.0->sentence-transformers) (4.8.1)\n",
            "Requirement already satisfied: sacremoses in /usr/local/lib/python3.7/dist-packages (from transformers<5.0.0,>=4.6.0->sentence-transformers) (0.0.46)\n",
            "Requirement already satisfied: packaging>=20.0 in /usr/local/lib/python3.7/dist-packages (from transformers<5.0.0,>=4.6.0->sentence-transformers) (21.0)\n",
            "Requirement already satisfied: regex!=2019.12.17 in /usr/local/lib/python3.7/dist-packages (from transformers<5.0.0,>=4.6.0->sentence-transformers) (2019.12.20)\n",
            "Requirement already satisfied: requests in /usr/local/lib/python3.7/dist-packages (from transformers<5.0.0,>=4.6.0->sentence-transformers) (2.23.0)\n",
            "Requirement already satisfied: filelock in /usr/local/lib/python3.7/dist-packages (from transformers<5.0.0,>=4.6.0->sentence-transformers) (3.3.0)\n",
            "Requirement already satisfied: pyyaml>=5.1 in /usr/local/lib/python3.7/dist-packages (from transformers<5.0.0,>=4.6.0->sentence-transformers) (6.0)\n",
            "Requirement already satisfied: pyparsing>=2.0.2 in /usr/local/lib/python3.7/dist-packages (from packaging>=20.0->transformers<5.0.0,>=4.6.0->sentence-transformers) (2.4.7)\n",
            "Requirement already satisfied: xxhash in /usr/local/lib/python3.7/dist-packages (from datasets) (2.0.2)\n",
            "Requirement already satisfied: multiprocess in /usr/local/lib/python3.7/dist-packages (from datasets) (0.70.12.2)\n",
            "Requirement already satisfied: pyarrow!=4.0.0,>=1.0.0 in /usr/local/lib/python3.7/dist-packages (from datasets) (3.0.0)\n",
            "Requirement already satisfied: aiohttp in /usr/local/lib/python3.7/dist-packages (from datasets) (3.8.0)\n",
            "Requirement already satisfied: dill in /usr/local/lib/python3.7/dist-packages (from datasets) (0.3.4)\n",
            "Requirement already satisfied: fsspec[http]>=2021.05.0 in /usr/local/lib/python3.7/dist-packages (from datasets) (2021.10.1)\n",
            "Requirement already satisfied: pandas in /usr/local/lib/python3.7/dist-packages (from datasets) (1.1.5)\n",
            "Requirement already satisfied: chardet<4,>=3.0.2 in /usr/local/lib/python3.7/dist-packages (from requests->transformers<5.0.0,>=4.6.0->sentence-transformers) (3.0.4)\n",
            "Requirement already satisfied: idna<3,>=2.5 in /usr/local/lib/python3.7/dist-packages (from requests->transformers<5.0.0,>=4.6.0->sentence-transformers) (2.10)\n",
            "Requirement already satisfied: certifi>=2017.4.17 in /usr/local/lib/python3.7/dist-packages (from requests->transformers<5.0.0,>=4.6.0->sentence-transformers) (2021.5.30)\n",
            "Requirement already satisfied: urllib3!=1.25.0,!=1.25.1,<1.26,>=1.21.1 in /usr/local/lib/python3.7/dist-packages (from requests->transformers<5.0.0,>=4.6.0->sentence-transformers) (1.24.3)\n",
            "Requirement already satisfied: multidict<7.0,>=4.5 in /usr/local/lib/python3.7/dist-packages (from aiohttp->datasets) (5.2.0)\n",
            "Requirement already satisfied: aiosignal>=1.1.2 in /usr/local/lib/python3.7/dist-packages (from aiohttp->datasets) (1.2.0)\n",
            "Requirement already satisfied: asynctest==0.13.0 in /usr/local/lib/python3.7/dist-packages (from aiohttp->datasets) (0.13.0)\n",
            "Requirement already satisfied: async-timeout<5.0,>=4.0.0a3 in /usr/local/lib/python3.7/dist-packages (from aiohttp->datasets) (4.0.0)\n",
            "Requirement already satisfied: frozenlist>=1.1.1 in /usr/local/lib/python3.7/dist-packages (from aiohttp->datasets) (1.2.0)\n",
            "Requirement already satisfied: charset-normalizer<3.0,>=2.0 in /usr/local/lib/python3.7/dist-packages (from aiohttp->datasets) (2.0.7)\n",
            "Requirement already satisfied: attrs>=17.3.0 in /usr/local/lib/python3.7/dist-packages (from aiohttp->datasets) (21.2.0)\n",
            "Requirement already satisfied: yarl<2.0,>=1.0 in /usr/local/lib/python3.7/dist-packages (from aiohttp->datasets) (1.7.2)\n",
            "Requirement already satisfied: zipp>=0.5 in /usr/local/lib/python3.7/dist-packages (from importlib-metadata->transformers<5.0.0,>=4.6.0->sentence-transformers) (3.6.0)\n",
            "Requirement already satisfied: six in /usr/local/lib/python3.7/dist-packages (from nltk->sentence-transformers) (1.15.0)\n",
            "Requirement already satisfied: python-dateutil>=2.7.3 in /usr/local/lib/python3.7/dist-packages (from pandas->datasets) (2.8.2)\n",
            "Requirement already satisfied: pytz>=2017.2 in /usr/local/lib/python3.7/dist-packages (from pandas->datasets) (2018.9)\n",
            "Requirement already satisfied: joblib in /usr/local/lib/python3.7/dist-packages (from sacremoses->transformers<5.0.0,>=4.6.0->sentence-transformers) (1.0.1)\n",
            "Requirement already satisfied: click in /usr/local/lib/python3.7/dist-packages (from sacremoses->transformers<5.0.0,>=4.6.0->sentence-transformers) (7.1.2)\n",
            "Requirement already satisfied: pillow>=5.3.0 in /usr/local/lib/python3.7/dist-packages (from torchvision->sentence-transformers) (7.1.2)\n"
          ]
        }
      ]
    },
    {
      "cell_type": "code",
      "metadata": {
        "id": "K7xziHiB_oHS"
      },
      "source": [
        "!pip install -q Korpora"
      ],
      "execution_count": 150,
      "outputs": []
    },
    {
      "cell_type": "code",
      "metadata": {
        "id": "8gj5EBqg2x6L"
      },
      "source": [
        "import math\n",
        "import logging\n",
        "from datetime import datetime\n",
        "\n",
        "import torch\n",
        "from torch.utils.data import DataLoader\n",
        "from datasets import load_dataset\n",
        "from sentence_transformers import SentenceTransformer,  LoggingHandler, losses, models, util\n",
        "from sentence_transformers.evaluation import EmbeddingSimilarityEvaluator\n",
        "from sentence_transformers.readers import InputExample\n",
        "from Korpora import Korpora"
      ],
      "execution_count": 151,
      "outputs": []
    },
    {
      "cell_type": "markdown",
      "metadata": {
        "id": "4FzF8mcoFY4J"
      },
      "source": [
        "# Korpora STS (korsts)\n",
        "https://github.com/kakaobrain/KorNLUDatasets"
      ]
    },
    {
      "cell_type": "code",
      "metadata": {
        "colab": {
          "base_uri": "https://localhost:8080/"
        },
        "id": "li8r3snqEPQK",
        "outputId": "3500b7f8-6005-4798-b099-21565d792087"
      },
      "source": [
        "Korpora.fetch('korsts',root_dir='.')"
      ],
      "execution_count": 152,
      "outputs": [
        {
          "output_type": "stream",
          "name": "stdout",
          "text": [
            "[Korpora] Corpus `korsts` is already installed at /content/korsts/sts-train.tsv\n",
            "[Korpora] Corpus `korsts` is already installed at /content/korsts/sts-dev.tsv\n",
            "[Korpora] Corpus `korsts` is already installed at /content/korsts/sts-test.tsv\n"
          ]
        }
      ]
    },
    {
      "cell_type": "code",
      "metadata": {
        "colab": {
          "base_uri": "https://localhost:8080/"
        },
        "id": "KFIowpjcEeG-",
        "outputId": "6038d7d5-3594-45b3-cb98-2eebdc33a41f"
      },
      "source": [
        "datasets = pd.read_csv('korsts/sts-train.tsv', sep='\\t', error_bad_lines=False)"
      ],
      "execution_count": 153,
      "outputs": [
        {
          "output_type": "stream",
          "name": "stderr",
          "text": [
            "b'Skipping line 2096: expected 7 fields, saw 8\\nSkipping line 2511: expected 7 fields, saw 8\\nSkipping line 2652: expected 7 fields, saw 8\\nSkipping line 2729: expected 7 fields, saw 8\\nSkipping line 2818: expected 7 fields, saw 8\\nSkipping line 3063: expected 7 fields, saw 8\\nSkipping line 3385: expected 7 fields, saw 8\\n'\n"
          ]
        }
      ]
    },
    {
      "cell_type": "code",
      "metadata": {
        "colab": {
          "base_uri": "https://localhost:8080/",
          "height": 202
        },
        "id": "SJVvKK_PA2as",
        "outputId": "6750421e-fd7f-474b-891b-adf78e0651ab"
      },
      "source": [
        "datasets.head()"
      ],
      "execution_count": 154,
      "outputs": [
        {
          "output_type": "execute_result",
          "data": {
            "text/html": [
              "<div>\n",
              "<style scoped>\n",
              "    .dataframe tbody tr th:only-of-type {\n",
              "        vertical-align: middle;\n",
              "    }\n",
              "\n",
              "    .dataframe tbody tr th {\n",
              "        vertical-align: top;\n",
              "    }\n",
              "\n",
              "    .dataframe thead th {\n",
              "        text-align: right;\n",
              "    }\n",
              "</style>\n",
              "<table border=\"1\" class=\"dataframe\">\n",
              "  <thead>\n",
              "    <tr style=\"text-align: right;\">\n",
              "      <th></th>\n",
              "      <th>genre</th>\n",
              "      <th>filename</th>\n",
              "      <th>year</th>\n",
              "      <th>id</th>\n",
              "      <th>score</th>\n",
              "      <th>sentence1</th>\n",
              "      <th>sentence2</th>\n",
              "    </tr>\n",
              "  </thead>\n",
              "  <tbody>\n",
              "    <tr>\n",
              "      <th>0</th>\n",
              "      <td>main-captions</td>\n",
              "      <td>MSRvid</td>\n",
              "      <td>2012test</td>\n",
              "      <td>1</td>\n",
              "      <td>5.00</td>\n",
              "      <td>비행기가 이륙하고 있다.</td>\n",
              "      <td>비행기가 이륙하고 있다.</td>\n",
              "    </tr>\n",
              "    <tr>\n",
              "      <th>1</th>\n",
              "      <td>main-captions</td>\n",
              "      <td>MSRvid</td>\n",
              "      <td>2012test</td>\n",
              "      <td>4</td>\n",
              "      <td>3.80</td>\n",
              "      <td>한 남자가 큰 플루트를 연주하고 있다.</td>\n",
              "      <td>남자가 플루트를 연주하고 있다.</td>\n",
              "    </tr>\n",
              "    <tr>\n",
              "      <th>2</th>\n",
              "      <td>main-captions</td>\n",
              "      <td>MSRvid</td>\n",
              "      <td>2012test</td>\n",
              "      <td>5</td>\n",
              "      <td>3.80</td>\n",
              "      <td>한 남자가 피자에 치즈를 뿌려놓고 있다.</td>\n",
              "      <td>한 남자가 구운 피자에 치즈 조각을 뿌려놓고 있다.</td>\n",
              "    </tr>\n",
              "    <tr>\n",
              "      <th>3</th>\n",
              "      <td>main-captions</td>\n",
              "      <td>MSRvid</td>\n",
              "      <td>2012test</td>\n",
              "      <td>6</td>\n",
              "      <td>2.60</td>\n",
              "      <td>세 남자가 체스를 하고 있다.</td>\n",
              "      <td>두 남자가 체스를 하고 있다.</td>\n",
              "    </tr>\n",
              "    <tr>\n",
              "      <th>4</th>\n",
              "      <td>main-captions</td>\n",
              "      <td>MSRvid</td>\n",
              "      <td>2012test</td>\n",
              "      <td>9</td>\n",
              "      <td>4.25</td>\n",
              "      <td>한 남자가 첼로를 연주하고 있다.</td>\n",
              "      <td>자리에 앉은 남자가 첼로를 연주하고 있다.</td>\n",
              "    </tr>\n",
              "  </tbody>\n",
              "</table>\n",
              "</div>"
            ],
            "text/plain": [
              "           genre filename  ...               sentence1                     sentence2\n",
              "0  main-captions   MSRvid  ...           비행기가 이륙하고 있다.                 비행기가 이륙하고 있다.\n",
              "1  main-captions   MSRvid  ...   한 남자가 큰 플루트를 연주하고 있다.             남자가 플루트를 연주하고 있다.\n",
              "2  main-captions   MSRvid  ...  한 남자가 피자에 치즈를 뿌려놓고 있다.  한 남자가 구운 피자에 치즈 조각을 뿌려놓고 있다.\n",
              "3  main-captions   MSRvid  ...        세 남자가 체스를 하고 있다.              두 남자가 체스를 하고 있다.\n",
              "4  main-captions   MSRvid  ...      한 남자가 첼로를 연주하고 있다.       자리에 앉은 남자가 첼로를 연주하고 있다.\n",
              "\n",
              "[5 rows x 7 columns]"
            ]
          },
          "metadata": {},
          "execution_count": 154
        }
      ]
    },
    {
      "cell_type": "code",
      "metadata": {
        "id": "38RcdjU3Fcr0"
      },
      "source": [
        "datasets['score_sim'] = -1\n",
        "datasets['score_sim'] = round(datasets['score']/5, 2)"
      ],
      "execution_count": 155,
      "outputs": []
    },
    {
      "cell_type": "code",
      "metadata": {
        "id": "vG6HJav6NQWz"
      },
      "source": [
        "train_df = datasets"
      ],
      "execution_count": 156,
      "outputs": []
    },
    {
      "cell_type": "code",
      "metadata": {
        "id": "Q4irewgAOcBA"
      },
      "source": [
        "import numpy as np\n",
        "\n",
        "train_df['cos_sim'] = np.nan # 컬럼 생성 및 초기화\n",
        "train_df['abs_diff'] = np.nan # 컬럼 생성 및 초기화"
      ],
      "execution_count": 157,
      "outputs": []
    },
    {
      "cell_type": "code",
      "metadata": {
        "colab": {
          "base_uri": "https://localhost:8080/",
          "height": 202
        },
        "id": "xZPIYTvKC9u6",
        "outputId": "68a25d91-e6f3-4639-afb7-496c95dc4e91"
      },
      "source": [
        "train_df.head()"
      ],
      "execution_count": 158,
      "outputs": [
        {
          "output_type": "execute_result",
          "data": {
            "text/html": [
              "<div>\n",
              "<style scoped>\n",
              "    .dataframe tbody tr th:only-of-type {\n",
              "        vertical-align: middle;\n",
              "    }\n",
              "\n",
              "    .dataframe tbody tr th {\n",
              "        vertical-align: top;\n",
              "    }\n",
              "\n",
              "    .dataframe thead th {\n",
              "        text-align: right;\n",
              "    }\n",
              "</style>\n",
              "<table border=\"1\" class=\"dataframe\">\n",
              "  <thead>\n",
              "    <tr style=\"text-align: right;\">\n",
              "      <th></th>\n",
              "      <th>genre</th>\n",
              "      <th>filename</th>\n",
              "      <th>year</th>\n",
              "      <th>id</th>\n",
              "      <th>score</th>\n",
              "      <th>sentence1</th>\n",
              "      <th>sentence2</th>\n",
              "      <th>score_sim</th>\n",
              "      <th>cos_sim</th>\n",
              "      <th>abs_diff</th>\n",
              "    </tr>\n",
              "  </thead>\n",
              "  <tbody>\n",
              "    <tr>\n",
              "      <th>0</th>\n",
              "      <td>main-captions</td>\n",
              "      <td>MSRvid</td>\n",
              "      <td>2012test</td>\n",
              "      <td>1</td>\n",
              "      <td>5.00</td>\n",
              "      <td>비행기가 이륙하고 있다.</td>\n",
              "      <td>비행기가 이륙하고 있다.</td>\n",
              "      <td>1.00</td>\n",
              "      <td>NaN</td>\n",
              "      <td>NaN</td>\n",
              "    </tr>\n",
              "    <tr>\n",
              "      <th>1</th>\n",
              "      <td>main-captions</td>\n",
              "      <td>MSRvid</td>\n",
              "      <td>2012test</td>\n",
              "      <td>4</td>\n",
              "      <td>3.80</td>\n",
              "      <td>한 남자가 큰 플루트를 연주하고 있다.</td>\n",
              "      <td>남자가 플루트를 연주하고 있다.</td>\n",
              "      <td>0.76</td>\n",
              "      <td>NaN</td>\n",
              "      <td>NaN</td>\n",
              "    </tr>\n",
              "    <tr>\n",
              "      <th>2</th>\n",
              "      <td>main-captions</td>\n",
              "      <td>MSRvid</td>\n",
              "      <td>2012test</td>\n",
              "      <td>5</td>\n",
              "      <td>3.80</td>\n",
              "      <td>한 남자가 피자에 치즈를 뿌려놓고 있다.</td>\n",
              "      <td>한 남자가 구운 피자에 치즈 조각을 뿌려놓고 있다.</td>\n",
              "      <td>0.76</td>\n",
              "      <td>NaN</td>\n",
              "      <td>NaN</td>\n",
              "    </tr>\n",
              "    <tr>\n",
              "      <th>3</th>\n",
              "      <td>main-captions</td>\n",
              "      <td>MSRvid</td>\n",
              "      <td>2012test</td>\n",
              "      <td>6</td>\n",
              "      <td>2.60</td>\n",
              "      <td>세 남자가 체스를 하고 있다.</td>\n",
              "      <td>두 남자가 체스를 하고 있다.</td>\n",
              "      <td>0.52</td>\n",
              "      <td>NaN</td>\n",
              "      <td>NaN</td>\n",
              "    </tr>\n",
              "    <tr>\n",
              "      <th>4</th>\n",
              "      <td>main-captions</td>\n",
              "      <td>MSRvid</td>\n",
              "      <td>2012test</td>\n",
              "      <td>9</td>\n",
              "      <td>4.25</td>\n",
              "      <td>한 남자가 첼로를 연주하고 있다.</td>\n",
              "      <td>자리에 앉은 남자가 첼로를 연주하고 있다.</td>\n",
              "      <td>0.85</td>\n",
              "      <td>NaN</td>\n",
              "      <td>NaN</td>\n",
              "    </tr>\n",
              "  </tbody>\n",
              "</table>\n",
              "</div>"
            ],
            "text/plain": [
              "           genre filename      year  ...  score_sim  cos_sim abs_diff\n",
              "0  main-captions   MSRvid  2012test  ...       1.00      NaN      NaN\n",
              "1  main-captions   MSRvid  2012test  ...       0.76      NaN      NaN\n",
              "2  main-captions   MSRvid  2012test  ...       0.76      NaN      NaN\n",
              "3  main-captions   MSRvid  2012test  ...       0.52      NaN      NaN\n",
              "4  main-captions   MSRvid  2012test  ...       0.85      NaN      NaN\n",
              "\n",
              "[5 rows x 10 columns]"
            ]
          },
          "metadata": {},
          "execution_count": 158
        }
      ]
    },
    {
      "cell_type": "markdown",
      "metadata": {
        "id": "N9c6Yod-Lxj2"
      },
      "source": [
        "# 모델 로드"
      ]
    },
    {
      "cell_type": "code",
      "metadata": {
        "id": "yxdwI0rt2jul"
      },
      "source": [
        "import torch\n",
        "from sentence_transformers import SentenceTransformer, util\n",
        "\n",
        "model_name = 'sentence-transformers/distiluse-base-multilingual-cased-v1'\n",
        "\n",
        "\n",
        "embedding_model = models.Transformer(model_name)\n",
        "\n",
        "pooler = models.Pooling(\n",
        "    embedding_model.get_word_embedding_dimension(),\n",
        "    pooling_mode_mean_tokens=True,\n",
        "    pooling_mode_cls_token=False,\n",
        "    pooling_mode_max_tokens=False,\n",
        ")\n",
        "\n",
        "model = SentenceTransformer(modules=[embedding_model, pooler])\n"
      ],
      "execution_count": 159,
      "outputs": []
    },
    {
      "cell_type": "markdown",
      "metadata": {
        "id": "fOwo4Psi-c_R"
      },
      "source": [
        "# 문장 유사도 평가 및 차이 추출"
      ]
    },
    {
      "cell_type": "code",
      "metadata": {
        "colab": {
          "base_uri": "https://localhost:8080/"
        },
        "id": "taFT3Ogo_NUt",
        "outputId": "cddb75e1-ada3-4998-827a-be75d936ac02"
      },
      "source": [
        "s1 = 'sentence1'\n",
        "s2 = 'sentence2'\n",
        "\n",
        "for i, row in train_df[:1000].iterrows():\n",
        "  emb1 = model.encode(row[s1])\n",
        "  emb2 = model.encode(row[s2])\n",
        "  cos_score = abs(util.pytorch_cos_sim(emb1, emb2)[0])\n",
        "\n",
        "  train_df['cos_sim'][i] = round(cos_score.item(), 2)\n",
        "  train_df['abs_diff'][i] = abs(row['score_sim'] - round(cos_score.item(), 2))"
      ],
      "execution_count": 160,
      "outputs": [
        {
          "output_type": "stream",
          "name": "stderr",
          "text": [
            "/usr/local/lib/python3.7/dist-packages/ipykernel_launcher.py:9: SettingWithCopyWarning: \n",
            "A value is trying to be set on a copy of a slice from a DataFrame\n",
            "\n",
            "See the caveats in the documentation: https://pandas.pydata.org/pandas-docs/stable/user_guide/indexing.html#returning-a-view-versus-a-copy\n",
            "  if __name__ == '__main__':\n",
            "/usr/local/lib/python3.7/dist-packages/ipykernel_launcher.py:10: SettingWithCopyWarning: \n",
            "A value is trying to be set on a copy of a slice from a DataFrame\n",
            "\n",
            "See the caveats in the documentation: https://pandas.pydata.org/pandas-docs/stable/user_guide/indexing.html#returning-a-view-versus-a-copy\n",
            "  # Remove the CWD from sys.path while we load stuff.\n"
          ]
        }
      ]
    },
    {
      "cell_type": "code",
      "metadata": {
        "colab": {
          "base_uri": "https://localhost:8080/",
          "height": 662
        },
        "id": "xj7WJjPbSusk",
        "outputId": "1b534034-5d5e-4c6f-f0c7-e445f4a7c0ad"
      },
      "source": [
        "train_df[:20]"
      ],
      "execution_count": 161,
      "outputs": [
        {
          "output_type": "execute_result",
          "data": {
            "text/html": [
              "<div>\n",
              "<style scoped>\n",
              "    .dataframe tbody tr th:only-of-type {\n",
              "        vertical-align: middle;\n",
              "    }\n",
              "\n",
              "    .dataframe tbody tr th {\n",
              "        vertical-align: top;\n",
              "    }\n",
              "\n",
              "    .dataframe thead th {\n",
              "        text-align: right;\n",
              "    }\n",
              "</style>\n",
              "<table border=\"1\" class=\"dataframe\">\n",
              "  <thead>\n",
              "    <tr style=\"text-align: right;\">\n",
              "      <th></th>\n",
              "      <th>genre</th>\n",
              "      <th>filename</th>\n",
              "      <th>year</th>\n",
              "      <th>id</th>\n",
              "      <th>score</th>\n",
              "      <th>sentence1</th>\n",
              "      <th>sentence2</th>\n",
              "      <th>score_sim</th>\n",
              "      <th>cos_sim</th>\n",
              "      <th>abs_diff</th>\n",
              "    </tr>\n",
              "  </thead>\n",
              "  <tbody>\n",
              "    <tr>\n",
              "      <th>0</th>\n",
              "      <td>main-captions</td>\n",
              "      <td>MSRvid</td>\n",
              "      <td>2012test</td>\n",
              "      <td>1</td>\n",
              "      <td>5.000</td>\n",
              "      <td>비행기가 이륙하고 있다.</td>\n",
              "      <td>비행기가 이륙하고 있다.</td>\n",
              "      <td>1.00</td>\n",
              "      <td>1.00</td>\n",
              "      <td>0.00</td>\n",
              "    </tr>\n",
              "    <tr>\n",
              "      <th>1</th>\n",
              "      <td>main-captions</td>\n",
              "      <td>MSRvid</td>\n",
              "      <td>2012test</td>\n",
              "      <td>4</td>\n",
              "      <td>3.800</td>\n",
              "      <td>한 남자가 큰 플루트를 연주하고 있다.</td>\n",
              "      <td>남자가 플루트를 연주하고 있다.</td>\n",
              "      <td>0.76</td>\n",
              "      <td>0.89</td>\n",
              "      <td>0.13</td>\n",
              "    </tr>\n",
              "    <tr>\n",
              "      <th>2</th>\n",
              "      <td>main-captions</td>\n",
              "      <td>MSRvid</td>\n",
              "      <td>2012test</td>\n",
              "      <td>5</td>\n",
              "      <td>3.800</td>\n",
              "      <td>한 남자가 피자에 치즈를 뿌려놓고 있다.</td>\n",
              "      <td>한 남자가 구운 피자에 치즈 조각을 뿌려놓고 있다.</td>\n",
              "      <td>0.76</td>\n",
              "      <td>0.91</td>\n",
              "      <td>0.15</td>\n",
              "    </tr>\n",
              "    <tr>\n",
              "      <th>3</th>\n",
              "      <td>main-captions</td>\n",
              "      <td>MSRvid</td>\n",
              "      <td>2012test</td>\n",
              "      <td>6</td>\n",
              "      <td>2.600</td>\n",
              "      <td>세 남자가 체스를 하고 있다.</td>\n",
              "      <td>두 남자가 체스를 하고 있다.</td>\n",
              "      <td>0.52</td>\n",
              "      <td>0.88</td>\n",
              "      <td>0.36</td>\n",
              "    </tr>\n",
              "    <tr>\n",
              "      <th>4</th>\n",
              "      <td>main-captions</td>\n",
              "      <td>MSRvid</td>\n",
              "      <td>2012test</td>\n",
              "      <td>9</td>\n",
              "      <td>4.250</td>\n",
              "      <td>한 남자가 첼로를 연주하고 있다.</td>\n",
              "      <td>자리에 앉은 남자가 첼로를 연주하고 있다.</td>\n",
              "      <td>0.85</td>\n",
              "      <td>0.86</td>\n",
              "      <td>0.01</td>\n",
              "    </tr>\n",
              "    <tr>\n",
              "      <th>5</th>\n",
              "      <td>main-captions</td>\n",
              "      <td>MSRvid</td>\n",
              "      <td>2012test</td>\n",
              "      <td>11</td>\n",
              "      <td>4.250</td>\n",
              "      <td>몇몇 남자들이 싸우고 있다.</td>\n",
              "      <td>두 남자가 싸우고 있다.</td>\n",
              "      <td>0.85</td>\n",
              "      <td>0.89</td>\n",
              "      <td>0.04</td>\n",
              "    </tr>\n",
              "    <tr>\n",
              "      <th>6</th>\n",
              "      <td>main-captions</td>\n",
              "      <td>MSRvid</td>\n",
              "      <td>2012test</td>\n",
              "      <td>12</td>\n",
              "      <td>0.500</td>\n",
              "      <td>남자가 담배를 피우고 있다.</td>\n",
              "      <td>남자가 스케이트를 타고 있다.</td>\n",
              "      <td>0.10</td>\n",
              "      <td>0.39</td>\n",
              "      <td>0.29</td>\n",
              "    </tr>\n",
              "    <tr>\n",
              "      <th>7</th>\n",
              "      <td>main-captions</td>\n",
              "      <td>MSRvid</td>\n",
              "      <td>2012test</td>\n",
              "      <td>13</td>\n",
              "      <td>1.600</td>\n",
              "      <td>남자가 피아노를 치고 있다.</td>\n",
              "      <td>남자가 기타를 연주하고 있다.</td>\n",
              "      <td>0.32</td>\n",
              "      <td>0.64</td>\n",
              "      <td>0.32</td>\n",
              "    </tr>\n",
              "    <tr>\n",
              "      <th>8</th>\n",
              "      <td>main-captions</td>\n",
              "      <td>MSRvid</td>\n",
              "      <td>2012test</td>\n",
              "      <td>14</td>\n",
              "      <td>2.200</td>\n",
              "      <td>한 남자가 기타를 치고 노래를 부르고 있다.</td>\n",
              "      <td>한 여성이 어쿠스틱 기타를 연주하고 노래를 부르고 있다.</td>\n",
              "      <td>0.44</td>\n",
              "      <td>0.78</td>\n",
              "      <td>0.34</td>\n",
              "    </tr>\n",
              "    <tr>\n",
              "      <th>9</th>\n",
              "      <td>main-captions</td>\n",
              "      <td>MSRvid</td>\n",
              "      <td>2012test</td>\n",
              "      <td>16</td>\n",
              "      <td>5.000</td>\n",
              "      <td>사람이 고양이를 천장에 던지고 있다.</td>\n",
              "      <td>사람이 고양이를 천장에 던진다.</td>\n",
              "      <td>1.00</td>\n",
              "      <td>0.99</td>\n",
              "      <td>0.01</td>\n",
              "    </tr>\n",
              "    <tr>\n",
              "      <th>10</th>\n",
              "      <td>main-captions</td>\n",
              "      <td>MSRvid</td>\n",
              "      <td>2012test</td>\n",
              "      <td>17</td>\n",
              "      <td>4.200</td>\n",
              "      <td>그 남자는 다른 남자를 막대기로 때렸다.</td>\n",
              "      <td>그 남자는 다른 남자를 막대기로 때렸다.</td>\n",
              "      <td>0.84</td>\n",
              "      <td>1.00</td>\n",
              "      <td>0.16</td>\n",
              "    </tr>\n",
              "    <tr>\n",
              "      <th>11</th>\n",
              "      <td>main-captions</td>\n",
              "      <td>MSRvid</td>\n",
              "      <td>2012test</td>\n",
              "      <td>18</td>\n",
              "      <td>4.600</td>\n",
              "      <td>한 여성이 아기를 안아서 캥거루를 안는다.</td>\n",
              "      <td>한 여성이 아기를 안아서 팔에 캥거루를 안는다.</td>\n",
              "      <td>0.92</td>\n",
              "      <td>0.85</td>\n",
              "      <td>0.07</td>\n",
              "    </tr>\n",
              "    <tr>\n",
              "      <th>12</th>\n",
              "      <td>main-captions</td>\n",
              "      <td>MSRvid</td>\n",
              "      <td>2012test</td>\n",
              "      <td>19</td>\n",
              "      <td>3.867</td>\n",
              "      <td>남자가 플루트를 연주하고 있다.</td>\n",
              "      <td>남자가 대나무 플루트를 연주하고 있다.</td>\n",
              "      <td>0.77</td>\n",
              "      <td>0.81</td>\n",
              "      <td>0.04</td>\n",
              "    </tr>\n",
              "    <tr>\n",
              "      <th>13</th>\n",
              "      <td>main-captions</td>\n",
              "      <td>MSRvid</td>\n",
              "      <td>2012test</td>\n",
              "      <td>20</td>\n",
              "      <td>4.667</td>\n",
              "      <td>사람이 종이 한 장을 접고 있다.</td>\n",
              "      <td>누군가가 종이를 접고 있다.</td>\n",
              "      <td>0.93</td>\n",
              "      <td>0.93</td>\n",
              "      <td>0.00</td>\n",
              "    </tr>\n",
              "    <tr>\n",
              "      <th>14</th>\n",
              "      <td>main-captions</td>\n",
              "      <td>MSRvid</td>\n",
              "      <td>2012test</td>\n",
              "      <td>21</td>\n",
              "      <td>1.667</td>\n",
              "      <td>한 남자가 도로를 달리고 있다.</td>\n",
              "      <td>판다 개가 도로에서 달리고 있다.</td>\n",
              "      <td>0.33</td>\n",
              "      <td>0.79</td>\n",
              "      <td>0.46</td>\n",
              "    </tr>\n",
              "    <tr>\n",
              "      <th>15</th>\n",
              "      <td>main-captions</td>\n",
              "      <td>MSRvid</td>\n",
              "      <td>2012test</td>\n",
              "      <td>22</td>\n",
              "      <td>3.750</td>\n",
              "      <td>개가 베이컨을 등에서 떼려고 하고 있다.</td>\n",
              "      <td>개가 등에 있는 베이컨을 먹으려고 하고 있다.</td>\n",
              "      <td>0.75</td>\n",
              "      <td>0.97</td>\n",
              "      <td>0.22</td>\n",
              "    </tr>\n",
              "    <tr>\n",
              "      <th>16</th>\n",
              "      <td>main-captions</td>\n",
              "      <td>MSRvid</td>\n",
              "      <td>2012test</td>\n",
              "      <td>25</td>\n",
              "      <td>5.000</td>\n",
              "      <td>북극곰이 눈 위에서 미끄러지고 있다.</td>\n",
              "      <td>북극곰이 눈 위로 미끄러져 가고 있다.</td>\n",
              "      <td>1.00</td>\n",
              "      <td>0.99</td>\n",
              "      <td>0.01</td>\n",
              "    </tr>\n",
              "    <tr>\n",
              "      <th>17</th>\n",
              "      <td>main-captions</td>\n",
              "      <td>MSRvid</td>\n",
              "      <td>2012test</td>\n",
              "      <td>26</td>\n",
              "      <td>0.500</td>\n",
              "      <td>여자가 글을 쓰고 있다.</td>\n",
              "      <td>여자가 수영을 하고 있다.</td>\n",
              "      <td>0.10</td>\n",
              "      <td>0.46</td>\n",
              "      <td>0.36</td>\n",
              "    </tr>\n",
              "    <tr>\n",
              "      <th>18</th>\n",
              "      <td>main-captions</td>\n",
              "      <td>MSRvid</td>\n",
              "      <td>2012test</td>\n",
              "      <td>28</td>\n",
              "      <td>3.800</td>\n",
              "      <td>고양이가 아기의 얼굴을 문지르고 있다.</td>\n",
              "      <td>고양이가 아기에게 문지르고 있다.</td>\n",
              "      <td>0.76</td>\n",
              "      <td>0.87</td>\n",
              "      <td>0.11</td>\n",
              "    </tr>\n",
              "    <tr>\n",
              "      <th>19</th>\n",
              "      <td>main-captions</td>\n",
              "      <td>MSRvid</td>\n",
              "      <td>2012test</td>\n",
              "      <td>29</td>\n",
              "      <td>5.000</td>\n",
              "      <td>남자가 말을 타고 있다.</td>\n",
              "      <td>남자가 말을 타고 있다.</td>\n",
              "      <td>1.00</td>\n",
              "      <td>1.00</td>\n",
              "      <td>0.00</td>\n",
              "    </tr>\n",
              "  </tbody>\n",
              "</table>\n",
              "</div>"
            ],
            "text/plain": [
              "            genre filename      year  ...  score_sim  cos_sim abs_diff\n",
              "0   main-captions   MSRvid  2012test  ...       1.00     1.00     0.00\n",
              "1   main-captions   MSRvid  2012test  ...       0.76     0.89     0.13\n",
              "2   main-captions   MSRvid  2012test  ...       0.76     0.91     0.15\n",
              "3   main-captions   MSRvid  2012test  ...       0.52     0.88     0.36\n",
              "4   main-captions   MSRvid  2012test  ...       0.85     0.86     0.01\n",
              "5   main-captions   MSRvid  2012test  ...       0.85     0.89     0.04\n",
              "6   main-captions   MSRvid  2012test  ...       0.10     0.39     0.29\n",
              "7   main-captions   MSRvid  2012test  ...       0.32     0.64     0.32\n",
              "8   main-captions   MSRvid  2012test  ...       0.44     0.78     0.34\n",
              "9   main-captions   MSRvid  2012test  ...       1.00     0.99     0.01\n",
              "10  main-captions   MSRvid  2012test  ...       0.84     1.00     0.16\n",
              "11  main-captions   MSRvid  2012test  ...       0.92     0.85     0.07\n",
              "12  main-captions   MSRvid  2012test  ...       0.77     0.81     0.04\n",
              "13  main-captions   MSRvid  2012test  ...       0.93     0.93     0.00\n",
              "14  main-captions   MSRvid  2012test  ...       0.33     0.79     0.46\n",
              "15  main-captions   MSRvid  2012test  ...       0.75     0.97     0.22\n",
              "16  main-captions   MSRvid  2012test  ...       1.00     0.99     0.01\n",
              "17  main-captions   MSRvid  2012test  ...       0.10     0.46     0.36\n",
              "18  main-captions   MSRvid  2012test  ...       0.76     0.87     0.11\n",
              "19  main-captions   MSRvid  2012test  ...       1.00     1.00     0.00\n",
              "\n",
              "[20 rows x 10 columns]"
            ]
          },
          "metadata": {},
          "execution_count": 161
        }
      ]
    },
    {
      "cell_type": "markdown",
      "metadata": {
        "id": "DmWoUyofVlZY"
      },
      "source": [
        "# 오차 평균 값 계산"
      ]
    },
    {
      "cell_type": "code",
      "metadata": {
        "id": "d5E068ABHipc",
        "colab": {
          "base_uri": "https://localhost:8080/"
        },
        "outputId": "61ef2034-297d-40aa-929a-2f47c3ca4ac8"
      },
      "source": [
        "diff_total = train_df['abs_diff'][:1000].sum()\n",
        "print(f'{model_name}의 오차 평균값 : ',diff_total/1000)"
      ],
      "execution_count": 162,
      "outputs": [
        {
          "output_type": "stream",
          "name": "stdout",
          "text": [
            "sentence-transformers/distiluse-base-multilingual-cased-v1의 오차 평균값 :  0.22211\n"
          ]
        }
      ]
    },
    {
      "cell_type": "code",
      "metadata": {
        "id": "eTlouHZex77I"
      },
      "source": [
        ""
      ],
      "execution_count": 162,
      "outputs": []
    }
  ]
}