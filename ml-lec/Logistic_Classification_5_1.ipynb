{
  "nbformat": 4,
  "nbformat_minor": 0,
  "metadata": {
    "colab": {
      "name": "Logistic Classification_5-1.ipynb",
      "provenance": [],
      "authorship_tag": "ABX9TyOaxDKR3Pxgx45c4oWC/+jW",
      "include_colab_link": true
    },
    "kernelspec": {
      "name": "python3",
      "display_name": "Python 3"
    },
    "language_info": {
      "name": "python"
    }
  },
  "cells": [
    {
      "cell_type": "markdown",
      "metadata": {
        "id": "view-in-github",
        "colab_type": "text"
      },
      "source": [
        "<a href=\"https://colab.research.google.com/github/cateto/python4NLP/blob/main/ml-lec/Logistic_Classification_5_1.ipynb\" target=\"_parent\"><img src=\"https://colab.research.google.com/assets/colab-badge.svg\" alt=\"Open In Colab\"/></a>"
      ]
    },
    {
      "cell_type": "markdown",
      "metadata": {
        "id": "jU_A9sv82QGB"
      },
      "source": [
        "## Linear Regression\n",
        "* Hypothesis\n",
        "* Cost\n",
        "* Gradient descent\n",
        "\n",
        "## Classification \n",
        "ex) Spam Detection ==> Spam(1), Ham(0) [ Binary Classfication, 0, 1 encoding ] <br/>\n",
        "ex2) tumor ==> malignant tumor(1), benign tumor(0)\n",
        "<br/>\n",
        "ex3) stock ==> Sell(1), Buy(0)\n",
        "\n",
        "## Logistic Regression의 cost함수\n",
        "cost(W) = 1/m ∑ c(H(x), y) <br/>\n",
        "c(H(x), y) = -log H(x) : y  = 1 <br/>\n",
        "           = -log(1-H(x)) : y = 0\n",
        "\n",
        "\n",
        "#### log함수 1일때 0, 0일때 무한히 증가 "
      ]
    },
    {
      "cell_type": "code",
      "metadata": {
        "id": "6Pt_MWBe1T7q",
        "colab": {
          "base_uri": "https://localhost:8080/"
        },
        "outputId": "e0180639-a500-4a07-e971-ab0234cb8ac3"
      },
      "source": [
        "# Lab 5 Logistic Regression Classifier\n",
        "import tensorflow.compat.v1 as tf\n",
        "tf.disable_v2_behavior()\n",
        "tf.set_random_seed(777)  # for reproducibility\n",
        "\n",
        "x_data = [[1, 2],\n",
        "          [2, 3],\n",
        "          [3, 1],\n",
        "          [4, 3],\n",
        "          [5, 3],\n",
        "          [6, 2]]\n",
        "y_data = [[0],\n",
        "          [0],\n",
        "          [0],\n",
        "          [1],\n",
        "          [1],\n",
        "          [1]]"
      ],
      "execution_count": 2,
      "outputs": [
        {
          "output_type": "stream",
          "text": [
            "WARNING:tensorflow:From /usr/local/lib/python3.7/dist-packages/tensorflow/python/compat/v2_compat.py:96: disable_resource_variables (from tensorflow.python.ops.variable_scope) is deprecated and will be removed in a future version.\n",
            "Instructions for updating:\n",
            "non-resource variables are not supported in the long term\n"
          ],
          "name": "stdout"
        }
      ]
    },
    {
      "cell_type": "code",
      "metadata": {
        "id": "1FPCVGPd-f2U"
      },
      "source": [
        "X = tf.placeholder(tf.float32, shape=[None, 2])\n",
        "Y = tf.placeholder(tf.float32, shape=[None, 1])"
      ],
      "execution_count": 3,
      "outputs": []
    },
    {
      "cell_type": "code",
      "metadata": {
        "colab": {
          "base_uri": "https://localhost:8080/"
        },
        "id": "ArC6txOV_JRm",
        "outputId": "2ca92b12-c907-44fb-a125-44ecbedff375"
      },
      "source": [
        "W = tf.Variable(tf.random_normal([2,1]), name=\"weight\")\n",
        "b = tf.Variable(tf.random_normal([1]), name=\"bias\")\n",
        "print(W)\n",
        "print(b)"
      ],
      "execution_count": 6,
      "outputs": [
        {
          "output_type": "stream",
          "text": [
            "<tf.Variable 'weight_2:0' shape=(2, 1) dtype=float32_ref>\n",
            "<tf.Variable 'bias_2:0' shape=(1,) dtype=float32_ref>\n"
          ],
          "name": "stdout"
        }
      ]
    },
    {
      "cell_type": "code",
      "metadata": {
        "id": "drJe2C8i_b_N"
      },
      "source": [
        "hypothesis = tf.sigmoid(tf.matmul(X,W)+b)"
      ],
      "execution_count": 7,
      "outputs": []
    },
    {
      "cell_type": "code",
      "metadata": {
        "id": "Vrp9bNpP_maV"
      },
      "source": [
        "cost = -tf.reduce_mean(Y*tf.log(hypothesis)+ (1-Y)*tf.log(1-hypothesis))"
      ],
      "execution_count": 8,
      "outputs": []
    },
    {
      "cell_type": "code",
      "metadata": {
        "id": "b0GM2nWB_4li"
      },
      "source": [
        "train = tf.train.GradientDescentOptimizer(learning_rate=0.01).minimize(cost)"
      ],
      "execution_count": 9,
      "outputs": []
    },
    {
      "cell_type": "code",
      "metadata": {
        "id": "3RRKNrNP_89h"
      },
      "source": [
        "predicted = tf.cast(hypothesis > 0.5, dtype=tf.float32)\n",
        "accuracy = tf.reduce_mean(tf.cast(tf.equal(predicted, Y), dtype=tf.float32))"
      ],
      "execution_count": 11,
      "outputs": []
    },
    {
      "cell_type": "code",
      "metadata": {
        "colab": {
          "base_uri": "https://localhost:8080/"
        },
        "id": "Sz96kcpXAlMT",
        "outputId": "d0b907c1-a06b-47aa-979c-666a1e2b95dd"
      },
      "source": [
        "with tf.Session() as sess:\n",
        "  sess.run(tf.global_variables_initializer())\n",
        "\n",
        "  for step in range(11000):\n",
        "    cost_val, _ = sess.run([cost, train], feed_dict={X: x_data, Y: y_data})\n",
        "    if step % 200 == 0:\n",
        "      print(step, cost_val)\n",
        "  h, c, a = sess.run([hypothesis, predicted, accuracy], feed_dict={X: x_data, Y: y_data})\n",
        "\n",
        "  print(\"\\n hypothesis:\", h, \"\\nCorrect(Y):\", c, \"\\nAccuracy: \", a)"
      ],
      "execution_count": 13,
      "outputs": [
        {
          "output_type": "stream",
          "text": [
            "0 2.2566195\n",
            "200 0.6706552\n",
            "400 0.58392096\n",
            "600 0.5380911\n",
            "800 0.5080319\n",
            "1000 0.48497188\n",
            "1200 0.46549192\n",
            "1400 0.44811425\n",
            "1600 0.43214452\n",
            "1800 0.41723248\n",
            "2000 0.4031881\n",
            "2200 0.38990033\n",
            "2400 0.37729737\n",
            "2600 0.36532784\n",
            "2800 0.35395125\n",
            "3000 0.3431332\n",
            "3200 0.33284268\n",
            "3400 0.32305083\n",
            "3600 0.3137306\n",
            "3800 0.3048562\n",
            "4000 0.29640296\n",
            "4200 0.2883475\n",
            "4400 0.2806676\n",
            "4600 0.2733421\n",
            "4800 0.26635095\n",
            "5000 0.25967523\n",
            "5200 0.25329712\n",
            "5400 0.24719982\n",
            "5600 0.24136733\n",
            "5800 0.23578496\n",
            "6000 0.23043859\n",
            "6200 0.22531527\n",
            "6400 0.22040264\n",
            "6600 0.21568918\n",
            "6800 0.21116401\n",
            "7000 0.20681705\n",
            "7200 0.2026388\n",
            "7400 0.19862032\n",
            "7600 0.19475323\n",
            "7800 0.19102968\n",
            "8000 0.18744242\n",
            "8200 0.18398444\n",
            "8400 0.18064934\n",
            "8600 0.17743103\n",
            "8800 0.17432374\n",
            "9000 0.1713221\n",
            "9200 0.16842107\n",
            "9400 0.1656159\n",
            "9600 0.16290207\n",
            "9800 0.16027541\n",
            "10000 0.15773189\n",
            "10200 0.15526779\n",
            "10400 0.15287946\n",
            "10600 0.1505637\n",
            "10800 0.1483173\n",
            "\n",
            " hypothesis: [[0.02934444]\n",
            " [0.15690985]\n",
            " [0.2981202 ]\n",
            " [0.7844816 ]\n",
            " [0.9415121 ]\n",
            " [0.98082113]] \n",
            "Correct(Y): [[0.]\n",
            " [0.]\n",
            " [0.]\n",
            " [1.]\n",
            " [1.]\n",
            " [1.]] \n",
            "Accuracy:  1.0\n"
          ],
          "name": "stdout"
        }
      ]
    },
    {
      "cell_type": "code",
      "metadata": {
        "id": "zRJ5_sZhBqSq"
      },
      "source": [
        ""
      ],
      "execution_count": null,
      "outputs": []
    }
  ]
}