{
  "nbformat": 4,
  "nbformat_minor": 0,
  "metadata": {
    "colab": {
      "name": "cost_function.ipynb",
      "provenance": [],
      "authorship_tag": "ABX9TyO+YGjwDNCggxFtxcWv0YIW",
      "include_colab_link": true
    },
    "kernelspec": {
      "name": "python3",
      "display_name": "Python 3"
    },
    "language_info": {
      "name": "python"
    }
  },
  "cells": [
    {
      "cell_type": "markdown",
      "metadata": {
        "id": "view-in-github",
        "colab_type": "text"
      },
      "source": [
        "<a href=\"https://colab.research.google.com/github/cateto/python4NLP/blob/main/ml_lec/cost_function.ipynb\" target=\"_parent\"><img src=\"https://colab.research.google.com/assets/colab-badge.svg\" alt=\"Open In Colab\"/></a>"
      ]
    },
    {
      "cell_type": "code",
      "metadata": {
        "colab": {
          "base_uri": "https://localhost:8080/"
        },
        "id": "KqyQmm5P23Oy",
        "outputId": "cb9d6bdb-3ca9-44ca-fa6f-23accf21f733"
      },
      "source": [
        "import tensorflow.compat.v1 as tf\n",
        "tf.disable_v2_behavior()\n",
        "import matplotlib.pyplot as plt\n",
        "\n",
        "X = [1,2,3]\n",
        "Y = [1,2,3]\n",
        "\n",
        "W = tf.placeholder(tf.float32)\n",
        "hypothesis = X * W\n"
      ],
      "execution_count": 3,
      "outputs": [
        {
          "output_type": "stream",
          "text": [
            "WARNING:tensorflow:From /usr/local/lib/python3.7/dist-packages/tensorflow/python/compat/v2_compat.py:96: disable_resource_variables (from tensorflow.python.ops.variable_scope) is deprecated and will be removed in a future version.\n",
            "Instructions for updating:\n",
            "non-resource variables are not supported in the long term\n"
          ],
          "name": "stdout"
        }
      ]
    },
    {
      "cell_type": "code",
      "metadata": {
        "id": "f9zL2REU-tAv"
      },
      "source": [
        "cost = tf.reduce_mean(tf.square(hypothesis -Y))"
      ],
      "execution_count": 4,
      "outputs": []
    },
    {
      "cell_type": "code",
      "metadata": {
        "id": "skLyIZyZ_BjR"
      },
      "source": [
        "sess = tf.Session()\n",
        "sess.run(tf.global_variables_initializer())"
      ],
      "execution_count": 5,
      "outputs": []
    },
    {
      "cell_type": "code",
      "metadata": {
        "id": "_4oySM6r_JgF"
      },
      "source": [
        "W_val = []\n",
        "cost_val = []\n",
        "for i in range(-30,50):\n",
        "  feed_W = i * 0.1\n",
        "  curr_cost, curr_W = sess.run([cost, W], feed_dict={W:feed_W})\n",
        "  W_val.append(curr_W)\n",
        "  cost_val.append(curr_cost)"
      ],
      "execution_count": 7,
      "outputs": []
    },
    {
      "cell_type": "code",
      "metadata": {
        "colab": {
          "base_uri": "https://localhost:8080/",
          "height": 265
        },
        "id": "lYIDCvM2_bgk",
        "outputId": "18669a1f-baf1-437e-8a0a-415c068b10fe"
      },
      "source": [
        "plt.plot(W_val, cost_val)\n",
        "plt.show()"
      ],
      "execution_count": 8,
      "outputs": [
        {
          "output_type": "display_data",
          "data": {
            "image/png": "[encoded data removed]",
            "text/plain": [
              "<Figure size 432x288 with 1 Axes>"
            ]
          },
          "metadata": {
            "tags": [],
            "needs_background": "light"
          }
        }
      ]
    },
    {
      "cell_type": "code",
      "metadata": {
        "colab": {
          "base_uri": "https://localhost:8080/"
        },
        "id": "WW1eM9OR_iXE",
        "outputId": "7b128e1c-5260-4651-c49f-5b58a20c150a"
      },
      "source": [
        "import tensorflow.compat.v1 as tf\n",
        "tf.disable_v2_behavior()\n",
        "\n",
        "x_data = [1,2,3]\n",
        "y_data = [1,2,3]\n",
        "\n",
        "W = tf.Variable(tf.random_normal([1]), name=\"weight\")\n",
        "X = tf.placeholder(tf.float32)\n",
        "Y = tf.placeholder(tf.float32)\n",
        "\n",
        "hypothesis = X*W\n",
        "\n",
        "cost = tf.reduce_sum(tf.square(hypothesis - Y))\n",
        "\n",
        "learning_rate = 0.1\n",
        "gradient = tf.reduce_mean(W*X - Y) * W\n",
        "descent = W - learning_rate * gradient\n",
        "update = W.assign(descent)\n",
        "\n",
        "sess = tf.Session()\n",
        "sess.run(tf.global_variables_initializer())\n",
        "for step in range(21):\n",
        "  sess.run(update, feed_dict={X: x_data, Y:y_data})\n",
        "  print(step, sess.run(cost, feed_dict={X: x_data, Y:y_data}), sess.run(W))\n"
      ],
      "execution_count": 15,
      "outputs": [
        {
          "output_type": "stream",
          "text": [
            "0 38.204803 [-0.6519427]\n",
            "1 48.81727 [-0.86733705]\n",
            "2 67.222626 [-1.1912591]\n",
            "3 103.07028 [-1.7133307]\n",
            "4 185.81024 [-2.6430974]\n",
            "5 434.1786 [-4.5689096]\n",
            "6 1590.2056 [-9.657679]\n",
            "7 13666.072 [-30.243366]\n",
            "8 678982.3 [-219.22429]\n",
            "9 1365475300.0 [-9874.928]\n",
            "10 5331525000000000.0 [-19514690.]\n",
            "11 8.121476e+28 [-7.616465e+13]\n",
            "12 inf [-1.16021085e+27]\n",
            "13 inf [-inf]\n",
            "14 inf [-inf]\n",
            "15 inf [-inf]\n",
            "16 inf [-inf]\n",
            "17 inf [-inf]\n",
            "18 inf [-inf]\n",
            "19 inf [-inf]\n",
            "20 inf [-inf]\n"
          ],
          "name": "stdout"
        }
      ]
    },
    {
      "cell_type": "markdown",
      "metadata": {
        "id": "IrD2cdULCKFL"
      },
      "source": [
        "위에 코드는 실패한거같음 ㅠㅠ"
      ]
    },
    {
      "cell_type": "code",
      "metadata": {
        "colab": {
          "base_uri": "https://localhost:8080/"
        },
        "id": "OJOCwZgWBWn7",
        "outputId": "da200d9d-b71a-4350-cc11-81a1834da3f6"
      },
      "source": [
        "import tensorflow.compat.v1 as tf\n",
        "tf.disable_v2_behavior()\n",
        "\n",
        "X = [1,2,3]\n",
        "Y = [1,2,3]\n",
        "\n",
        "W = tf.Variable(5.0)\n",
        "\n",
        "hypothesis = X * W\n",
        "\n",
        "cost = tf.reduce_mean(tf.square(hypothesis - Y))\n",
        "optimizer = tf.train.GradientDescentOptimizer(learning_rate=0.1)\n",
        "train = optimizer.minimize(cost)\n",
        "\n",
        "sess = tf.Session()\n",
        "sess.run(tf.global_variables_initializer())\n",
        "\n",
        "for step in range(100):\n",
        "  print(step, sess.run(W))\n",
        "  sess.run(train)\n"
      ],
      "execution_count": 18,
      "outputs": [
        {
          "output_type": "stream",
          "text": [
            "0 5.0\n",
            "1 1.2666664\n",
            "2 1.0177778\n",
            "3 1.0011852\n",
            "4 1.000079\n",
            "5 1.0000052\n",
            "6 1.0000004\n",
            "7 1.0\n",
            "8 1.0\n",
            "9 1.0\n",
            "10 1.0\n",
            "11 1.0\n",
            "12 1.0\n",
            "13 1.0\n",
            "14 1.0\n",
            "15 1.0\n",
            "16 1.0\n",
            "17 1.0\n",
            "18 1.0\n",
            "19 1.0\n",
            "20 1.0\n",
            "21 1.0\n",
            "22 1.0\n",
            "23 1.0\n",
            "24 1.0\n",
            "25 1.0\n",
            "26 1.0\n",
            "27 1.0\n",
            "28 1.0\n",
            "29 1.0\n",
            "30 1.0\n",
            "31 1.0\n",
            "32 1.0\n",
            "33 1.0\n",
            "34 1.0\n",
            "35 1.0\n",
            "36 1.0\n",
            "37 1.0\n",
            "38 1.0\n",
            "39 1.0\n",
            "40 1.0\n",
            "41 1.0\n",
            "42 1.0\n",
            "43 1.0\n",
            "44 1.0\n",
            "45 1.0\n",
            "46 1.0\n",
            "47 1.0\n",
            "48 1.0\n",
            "49 1.0\n",
            "50 1.0\n",
            "51 1.0\n",
            "52 1.0\n",
            "53 1.0\n",
            "54 1.0\n",
            "55 1.0\n",
            "56 1.0\n",
            "57 1.0\n",
            "58 1.0\n",
            "59 1.0\n",
            "60 1.0\n",
            "61 1.0\n",
            "62 1.0\n",
            "63 1.0\n",
            "64 1.0\n",
            "65 1.0\n",
            "66 1.0\n",
            "67 1.0\n",
            "68 1.0\n",
            "69 1.0\n",
            "70 1.0\n",
            "71 1.0\n",
            "72 1.0\n",
            "73 1.0\n",
            "74 1.0\n",
            "75 1.0\n",
            "76 1.0\n",
            "77 1.0\n",
            "78 1.0\n",
            "79 1.0\n",
            "80 1.0\n",
            "81 1.0\n",
            "82 1.0\n",
            "83 1.0\n",
            "84 1.0\n",
            "85 1.0\n",
            "86 1.0\n",
            "87 1.0\n",
            "88 1.0\n",
            "89 1.0\n",
            "90 1.0\n",
            "91 1.0\n",
            "92 1.0\n",
            "93 1.0\n",
            "94 1.0\n",
            "95 1.0\n",
            "96 1.0\n",
            "97 1.0\n",
            "98 1.0\n",
            "99 1.0\n"
          ],
          "name": "stdout"
        }
      ]
    },
    {
      "cell_type": "code",
      "metadata": {
        "colab": {
          "base_uri": "https://localhost:8080/"
        },
        "id": "rfyoR6tHCzWD",
        "outputId": "171e01b6-0811-44db-d2b5-4f5c5b150f95"
      },
      "source": [
        "import tensorflow.compat.v1 as tf\n",
        "tf.disable_v2_behavior()\n",
        "\n",
        "X = [1,2,3]\n",
        "Y = [1,2,3]\n",
        "\n",
        "W = tf.Variable(-3.0)\n",
        "\n",
        "hypothesis = X * W\n",
        "\n",
        "cost = tf.reduce_mean(tf.square(hypothesis - Y))\n",
        "optimizer = tf.train.GradientDescentOptimizer(learning_rate=0.1)\n",
        "train = optimizer.minimize(cost)\n",
        "\n",
        "sess = tf.Session()\n",
        "sess.run(tf.global_variables_initializer())\n",
        "\n",
        "for step in range(100):\n",
        "  print(step, sess.run(W))\n",
        "  sess.run(train)\n"
      ],
      "execution_count": 19,
      "outputs": [
        {
          "output_type": "stream",
          "text": [
            "0 -3.0\n",
            "1 0.73333365\n",
            "2 0.98222226\n",
            "3 0.9988148\n",
            "4 0.99992096\n",
            "5 0.9999947\n",
            "6 0.99999964\n",
            "7 0.99999994\n",
            "8 1.0\n",
            "9 1.0\n",
            "10 1.0\n",
            "11 1.0\n",
            "12 1.0\n",
            "13 1.0\n",
            "14 1.0\n",
            "15 1.0\n",
            "16 1.0\n",
            "17 1.0\n",
            "18 1.0\n",
            "19 1.0\n",
            "20 1.0\n",
            "21 1.0\n",
            "22 1.0\n",
            "23 1.0\n",
            "24 1.0\n",
            "25 1.0\n",
            "26 1.0\n",
            "27 1.0\n",
            "28 1.0\n",
            "29 1.0\n",
            "30 1.0\n",
            "31 1.0\n",
            "32 1.0\n",
            "33 1.0\n",
            "34 1.0\n",
            "35 1.0\n",
            "36 1.0\n",
            "37 1.0\n",
            "38 1.0\n",
            "39 1.0\n",
            "40 1.0\n",
            "41 1.0\n",
            "42 1.0\n",
            "43 1.0\n",
            "44 1.0\n",
            "45 1.0\n",
            "46 1.0\n",
            "47 1.0\n",
            "48 1.0\n",
            "49 1.0\n",
            "50 1.0\n",
            "51 1.0\n",
            "52 1.0\n",
            "53 1.0\n",
            "54 1.0\n",
            "55 1.0\n",
            "56 1.0\n",
            "57 1.0\n",
            "58 1.0\n",
            "59 1.0\n",
            "60 1.0\n",
            "61 1.0\n",
            "62 1.0\n",
            "63 1.0\n",
            "64 1.0\n",
            "65 1.0\n",
            "66 1.0\n",
            "67 1.0\n",
            "68 1.0\n",
            "69 1.0\n",
            "70 1.0\n",
            "71 1.0\n",
            "72 1.0\n",
            "73 1.0\n",
            "74 1.0\n",
            "75 1.0\n",
            "76 1.0\n",
            "77 1.0\n",
            "78 1.0\n",
            "79 1.0\n",
            "80 1.0\n",
            "81 1.0\n",
            "82 1.0\n",
            "83 1.0\n",
            "84 1.0\n",
            "85 1.0\n",
            "86 1.0\n",
            "87 1.0\n",
            "88 1.0\n",
            "89 1.0\n",
            "90 1.0\n",
            "91 1.0\n",
            "92 1.0\n",
            "93 1.0\n",
            "94 1.0\n",
            "95 1.0\n",
            "96 1.0\n",
            "97 1.0\n",
            "98 1.0\n",
            "99 1.0\n"
          ],
          "name": "stdout"
        }
      ]
    },
    {
      "cell_type": "code",
      "metadata": {
        "colab": {
          "base_uri": "https://localhost:8080/"
        },
        "id": "1JRiTOfbDBiM",
        "outputId": "813c2f70-6d6c-4c89-9e0b-954b9cf4bbd3"
      },
      "source": [
        "import tensorflow.compat.v1 as tf\n",
        "tf.disable_v2_behavior()\n",
        "\n",
        "X = [1,2,3]\n",
        "Y = [1,2,3]\n",
        "\n",
        "W = tf.Variable(5.)\n",
        "\n",
        "hypothesis = X * W\n",
        "\n",
        "gradient = tf.reduce_mean((W*X-Y)*X)*2 #미분으로 수식으로 계산한것!!!!!\n",
        "\n",
        "cost = tf.reduce_mean(tf.square(hypothesis - Y))\n",
        "optimizer = tf.train.GradientDescentOptimizer(learning_rate=0.01)\n",
        "\n",
        "#get gradient(기울기를 수정하려는 경우!!!!!!!)\n",
        "gvs = optimizer.compute_gradients(cost)\n",
        "apply_gradients = optimizer.apply_gradients(gvs)\n",
        "\n",
        "train = optimizer.minimize(cost)\n",
        "\n",
        "sess = tf.Session()\n",
        "sess.run(tf.global_variables_initializer())\n",
        "\n",
        "for step in range(100):\n",
        "  print(step, sess.run([gradient, W])) #print(step, sess.run([gradient, W, gvs]))\n",
        "  sess.run(apply_gradients)\n"
      ],
      "execution_count": 22,
      "outputs": [
        {
          "output_type": "stream",
          "text": [
            "0 [37.333332, 5.0]\n",
            "1 [33.84889, 4.6266665]\n",
            "2 [30.689657, 4.2881775]\n",
            "3 [27.825289, 3.981281]\n",
            "4 [25.228264, 3.7030282]\n",
            "5 [22.873625, 3.4507456]\n",
            "6 [20.738754, 3.2220094]\n",
            "7 [18.803139, 3.014622]\n",
            "8 [17.04818, 2.8265905]\n",
            "9 [15.457016, 2.6561089]\n",
            "10 [14.014362, 2.5015388]\n",
            "11 [12.706355, 2.3613951]\n",
            "12 [11.520428, 2.2343316]\n",
            "13 [10.445188, 2.1191273]\n",
            "14 [9.470304, 2.0146754]\n",
            "15 [8.586408, 1.9199723]\n",
            "16 [7.78501, 1.8341082]\n",
            "17 [7.058409, 1.7562581]\n",
            "18 [6.3996243, 1.6856741]\n",
            "19 [5.8023267, 1.6216779]\n",
            "20 [5.2607765, 1.5636547]\n",
            "21 [4.769771, 1.5110469]\n",
            "22 [4.3245926, 1.4633492]\n",
            "23 [3.9209645, 1.4201033]\n",
            "24 [3.555008, 1.3808937]\n",
            "25 [3.2232068, 1.3453436]\n",
            "26 [2.9223745, 1.3131115]\n",
            "27 [2.6496189, 1.2838877]\n",
            "28 [2.4023216, 1.2573916]\n",
            "29 [2.178105, 1.2333684]\n",
            "30 [1.9748148, 1.2115873]\n",
            "31 [1.7904993, 1.1918392]\n",
            "32 [1.623386, 1.1739342]\n",
            "33 [1.4718704, 1.1577004]\n",
            "34 [1.3344965, 1.1429818]\n",
            "35 [1.2099432, 1.1296368]\n",
            "36 [1.0970153, 1.1175374]\n",
            "37 [0.99462754, 1.1065673]\n",
            "38 [0.90179634, 1.096621]\n",
            "39 [0.81762886, 1.0876031]\n",
            "40 [0.7413165, 1.0794268]\n",
            "41 [0.67212707, 1.0720136]\n",
            "42 [0.6093953, 1.0652924]\n",
            "43 [0.5525182, 1.0591984]\n",
            "44 [0.50094914, 1.0536731]\n",
            "45 [0.45419374, 1.0486636]\n",
            "46 [0.41180158, 1.0441216]\n",
            "47 [0.37336722, 1.0400037]\n",
            "48 [0.33851996, 1.03627]\n",
            "49 [0.30692515, 1.0328848]\n",
            "50 [0.27827826, 1.0298156]\n",
            "51 [0.25230527, 1.0270327]\n",
            "52 [0.2287569, 1.0245097]\n",
            "53 [0.20740573, 1.022222]\n",
            "54 [0.18804836, 1.020148]\n",
            "55 [0.17049654, 1.0182675]\n",
            "56 [0.15458433, 1.0165626]\n",
            "57 [0.14015675, 1.0150168]\n",
            "58 [0.12707591, 1.0136153]\n",
            "59 [0.11521538, 1.0123445]\n",
            "60 [0.10446167, 1.0111923]\n",
            "61 [0.09471202, 1.0101477]\n",
            "62 [0.08587202, 1.0092006]\n",
            "63 [0.07785805, 1.0083419]\n",
            "64 [0.07059129, 1.0075634]\n",
            "65 [0.06400236, 1.0068574]\n",
            "66 [0.05802846, 1.0062174]\n",
            "67 [0.052612226, 1.005637]\n",
            "68 [0.047702473, 1.005111]\n",
            "69 [0.043249767, 1.0046339]\n",
            "70 [0.03921318, 1.0042014]\n",
            "71 [0.035553534, 1.0038093]\n",
            "72 [0.032236177, 1.0034539]\n",
            "73 [0.029227654, 1.0031315]\n",
            "74 [0.02649951, 1.0028392]\n",
            "75 [0.024025917, 1.0025742]\n",
            "76 [0.021783749, 1.002334]\n",
            "77 [0.01975123, 1.0021162]\n",
            "78 [0.017907381, 1.0019187]\n",
            "79 [0.016236702, 1.0017396]\n",
            "80 [0.014720838, 1.0015773]\n",
            "81 [0.01334699, 1.00143]\n",
            "82 [0.012100856, 1.0012965]\n",
            "83 [0.010971785, 1.0011755]\n",
            "84 [0.0099481745, 1.0010659]\n",
            "85 [0.009018898, 1.0009663]\n",
            "86 [0.008176883, 1.0008761]\n",
            "87 [0.007413149, 1.0007943]\n",
            "88 [0.006721576, 1.0007201]\n",
            "89 [0.0060940585, 1.0006529]\n",
            "90 [0.005525271, 1.000592]\n",
            "91 [0.0050098896, 1.0005368]\n",
            "92 [0.004542589, 1.0004867]\n",
            "93 [0.0041189194, 1.0004413]\n",
            "94 [0.0037339528, 1.0004001]\n",
            "95 [0.0033854644, 1.0003628]\n",
            "96 [0.0030694802, 1.0003289]\n",
            "97 [0.0027837753, 1.0002983]\n",
            "98 [0.0025234222, 1.0002704]\n",
            "99 [0.0022875469, 1.0002451]\n"
          ],
          "name": "stdout"
        }
      ]
    },
    {
      "cell_type": "code",
      "metadata": {
        "id": "jeR3_TifDwC6"
      },
      "source": [
        ""
      ],
      "execution_count": null,
      "outputs": []
    }
  ]
}