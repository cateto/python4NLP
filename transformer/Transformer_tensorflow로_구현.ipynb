{
  "nbformat": 4,
  "nbformat_minor": 0,
  "metadata": {
    "colab": {
      "name": "Transformer_tensorflow로 구현.ipynb",
      "provenance": [],
      "collapsed_sections": [],
      "toc_visible": true,
      "authorship_tag": "ABX9TyO1JdJqIp1JP3Zw6AaXQNd4",
      "include_colab_link": true
    },
    "kernelspec": {
      "name": "python3",
      "display_name": "Python 3"
    },
    "language_info": {
      "name": "python"
    }
  },
  "cells": [
    {
      "cell_type": "markdown",
      "metadata": {
        "id": "view-in-github",
        "colab_type": "text"
      },
      "source": [
        "<a href=\"https://colab.research.google.com/github/cateto/python4NLP/blob/main/transformer/Transformer_tensorflow%EB%A1%9C_%EA%B5%AC%ED%98%84.ipynb\" target=\"_parent\"><img src=\"https://colab.research.google.com/assets/colab-badge.svg\" alt=\"Open In Colab\"/></a>"
      ]
    },
    {
      "cell_type": "code",
      "metadata": {
        "id": "PVefB-JGTlY_"
      },
      "source": [
        "import tensorflow as tf\n",
        "import numpy as np\n",
        "import pandas as pd\n",
        "import matplotlib.pyplot as plt"
      ],
      "execution_count": 7,
      "outputs": []
    },
    {
      "cell_type": "markdown",
      "metadata": {
        "id": "EMyIqoYxMMgG"
      },
      "source": [
        "# 포지셔널 인코딩 구현"
      ]
    },
    {
      "cell_type": "code",
      "metadata": {
        "id": "-TN0s4jhTWrd"
      },
      "source": [
        "class PositionalEncoding(tf.keras.layers.Layer):\n",
        "  def __init__(self, position, d_model):\n",
        "    super(PositionalEncoding, self).__init__()\n",
        "    self.pos_encoding = self.positional_encoding(position, d_model)\n",
        "  \n",
        "  def get_angles(self, position, i, d_model):\n",
        "    angles = 1 / tf.pow(10000, (2 * (i // 2)) / tf.cast(d_model, tf.float32))\n",
        "    return position * angles\n",
        "  \n",
        "  def positional_encoding(self, position, d_model):\n",
        "    angle_rads = self.get_angles(position=tf.range(position, dtype=tf.float32)[:, tf.newaxis],\n",
        "                                 i=tf.range(d_model, dtype=tf.float32)[tf.newaxis, :],\n",
        "                                 d_model=d_model)\n",
        "    \n",
        "    # 배열의 짝수 인덱스 (2i)에는 사인 함수 적용\n",
        "    sines = tf.math.sin(angle_rads[:, 0::2])\n",
        "    \n",
        "    #배열의 홀수 인덱스(2i+1)에는 코사인 함수 적용\n",
        "    cosines = tf.math.cos(angle_rads[:, 1::2])\n",
        "    \n",
        "    angle_rads = np.zeros(angle_rads.shape)\n",
        "    angle_rads[:, 0::2] = sines\n",
        "    angle_rads[:, 1::2] = cosines\n",
        "    pos_encoding = tf.constant(angle_rads)\n",
        "    pos_encoding = pos_encoding[tf.newaxis, ...]\n",
        "\n",
        "    print(pos_encoding)\n",
        "    return tf.cast(pos_encoding, tf.float32)\n",
        "\n",
        "  def call(self, inputs):\n",
        "    return inputs + self.pos_encoding[:, :tf.shape(inputs)[1], :]  "
      ],
      "execution_count": 9,
      "outputs": []
    },
    {
      "cell_type": "code",
      "metadata": {
        "colab": {
          "base_uri": "https://localhost:8080/",
          "height": 535
        },
        "id": "_a01heeyFb15",
        "outputId": "2d77774b-32cc-41af-d327-f2daf20d27e1"
      },
      "source": [
        "#문장의 길이 50, 벡터의 차원 128\n",
        "sample_pos_encoding = PositionalEncoding(50, 128)\n",
        "\n",
        "plt.pcolormesh(sample_pos_encoding.pos_encoding.numpy()[0], cmap='RdBu')\n",
        "plt.xlabel('Depth')\n",
        "plt.xlim((0, 128))\n",
        "plt.ylabel('Position')\n",
        "plt.colorbar()\n",
        "plt.show()"
      ],
      "execution_count": 10,
      "outputs": [
        {
          "output_type": "stream",
          "name": "stdout",
          "text": [
            "tf.Tensor(\n",
            "[[[ 0.00000000e+00  1.00000000e+00  0.00000000e+00 ...  1.00000000e+00\n",
            "    0.00000000e+00  1.00000000e+00]\n",
            "  [ 8.41471016e-01  5.40302277e-01  7.61720419e-01 ...  1.00000000e+00\n",
            "    1.15478193e-04  1.00000000e+00]\n",
            "  [ 9.09297407e-01 -4.16146815e-01  9.87046242e-01 ...  9.99999940e-01\n",
            "    2.30956386e-04  1.00000000e+00]\n",
            "  ...\n",
            "  [ 1.23573124e-01 -9.92335498e-01  1.39918879e-01 ...  9.99980330e-01\n",
            "    5.42744854e-03  9.99985278e-01]\n",
            "  [-7.68254638e-01 -6.40144348e-01 -6.63572073e-01 ...  9.99979496e-01\n",
            "    5.54292509e-03  9.99984622e-01]\n",
            "  [-9.53752637e-01  3.00592542e-01 -9.99784648e-01 ...  9.99978662e-01\n",
            "    5.65840118e-03  9.99983966e-01]]], shape=(1, 50, 128), dtype=float64)\n"
          ]
        },
        {
          "output_type": "display_data",
          "data": {
            "image/png": "[encoded data removed]",
            "text/plain": [
              "<Figure size 432x288 with 2 Axes>"
            ]
          },
          "metadata": {
            "needs_background": "light"
          }
        }
      ]
    },
    {
      "cell_type": "markdown",
      "metadata": {
        "id": "OLqTjufFGenY"
      },
      "source": [
        "인코더의 셀프 어텐션 : Query = Key = Value <br/>\n",
        "디코더의 마스크드 셀프 어텐션 : Query = Key = Value <br/>\n",
        "디코더의 인코더-디코더 어텐션 : Query : 디코더 벡터 / Key = Value : 인코더 벡터 <br/>"
      ]
    },
    {
      "cell_type": "markdown",
      "metadata": {
        "id": "DomeThReMR1V"
      },
      "source": [
        "# 어텐션 구현 (스케일드 닷 프로덕트)"
      ]
    },
    {
      "cell_type": "code",
      "metadata": {
        "id": "2LqFhvnXFpRd"
      },
      "source": [
        "def scaled_dot_product_attention(query, key, value, mask):\n",
        "  # query 크기 : (batch_size, num_heads, query의 문장 길이, d_model/num_heads)\n",
        "  # key 크기 : (batch_size, num_heads, key의 문장 길이, d_model/num_heads)\n",
        "  # value 크기 : (batch size, num_heads, value의 문장 길이, d_model/num_heads)\n",
        "  # padding_mask : (batch_size, 1, 1, key의 문장 길이)\n",
        "\n",
        "  # Query와 Key의 곱, 어텐션 스코어 행렬\n",
        "  matmul_qk = tf.matmul(query, key, transpose_b=True)\n",
        "  \n",
        "  # 스케일링\n",
        "  # dk의 루트 값으로 나눠준다.\n",
        "  depth = tf.cast(tf.shape(key)[-1], tf.float32)\n",
        "  logits = matmul_qk / tf.math.sqrt(depth)\n",
        "\n",
        "  # 마스킹, 어텐션 스코어 행렬의 마스킹 할 위치에 매우 작은 음수값을 넣는다. (입력 문장에 <PAD> 토큰이 있을 경우 어텐션에서 사실상 제외하기 위한 연산)\n",
        "  # 매우 작은 값이므로 소프트맥스 함수를 지나면 행렬의 해당 위치의 값은 0이 된다.\n",
        "  if mask is not None:\n",
        "    logits += (mask * -1e9)\n",
        "\n",
        "  # 소프트 맥스 함수는 마지막 차원인 key의 문장 길이 방향으로 수행된다.\n",
        "  # attention_weights : (batch_size, num_heads, query의 문장 길이, key의 문장길이)\n",
        "  attention_weights = tf.nn.softmax(logits, axis = -1)\n",
        "  \n",
        "  # output : (batch_size, num_heads, query의 문장 길이, d_model/num_heads)\n",
        "  output = tf.matmul(attention_weights, value)\n",
        "\n",
        "  return output, attention_weights"
      ],
      "execution_count": 11,
      "outputs": []
    },
    {
      "cell_type": "code",
      "metadata": {
        "id": "oAPvFTiPJlvG"
      },
      "source": [
        "# 임의의 Query, Key, Value인 Q, K, V 행렬 생성\n",
        "np.set_printoptions(suppress=True)\n",
        "\n",
        "temp_k = tf.constant([[10,0,0],\n",
        "                      [0,10,0],\n",
        "                      [0,0,10],\n",
        "                      [0,0,10]],dtype=tf.float32) #4,3행렬\n",
        "temp_v = tf.constant([[1,0],\n",
        "                      [10,0],\n",
        "                      [100,5],\n",
        "                      [1000,6]], dtype=tf.float32) # 4,2 행렬\n",
        "temp_q = tf.constant([[0,10,0]], dtype=tf.float32) #1,3 행렬"
      ],
      "execution_count": 12,
      "outputs": []
    },
    {
      "cell_type": "code",
      "metadata": {
        "colab": {
          "base_uri": "https://localhost:8080/"
        },
        "id": "tLAW_usaKWdW",
        "outputId": "c495a016-c709-4c96-f57a-5df13b924ea5"
      },
      "source": [
        "temp_out, temp_attn = scaled_dot_product_attention(temp_q, temp_k, temp_v, None)\n",
        "print(\"어텐션 분포\")\n",
        "print(temp_attn)\n",
        "print(\"어텐션 값\")\n",
        "print(temp_out)"
      ],
      "execution_count": 13,
      "outputs": [
        {
          "output_type": "stream",
          "name": "stdout",
          "text": [
            "어텐션 분포\n",
            "tf.Tensor([[0. 1. 0. 0.]], shape=(1, 4), dtype=float32)\n",
            "어텐션 값\n",
            "tf.Tensor([[10.  0.]], shape=(1, 2), dtype=float32)\n"
          ]
        }
      ]
    },
    {
      "cell_type": "markdown",
      "metadata": {
        "id": "7Nnflc7vLAwc"
      },
      "source": [
        "Query는 4개의 Key값 중 두번째 값과 일치하므로 어텐션 분포는 [0, 1, 0, 0]의 값을 가지며 결과적으로 Value의 두번째 값인 [10, 0]이 출력되는 것을 확인"
      ]
    },
    {
      "cell_type": "code",
      "metadata": {
        "colab": {
          "base_uri": "https://localhost:8080/"
        },
        "id": "JW_ImkkDKf9t",
        "outputId": "261e9e77-7dc4-4da2-d238-bb2fbe4ed160"
      },
      "source": [
        "temp_q = tf.constant([[0,0,10]],dtype=tf.float32)\n",
        "temp_out, temp_attn = scaled_dot_product_attention(temp_q, temp_k, temp_v, None)\n",
        "print(\"어텐션 분포\")\n",
        "print(temp_attn)\n",
        "print(\"어텐션 값\")\n",
        "print(temp_out)"
      ],
      "execution_count": 15,
      "outputs": [
        {
          "output_type": "stream",
          "name": "stdout",
          "text": [
            "어텐션 분포\n",
            "tf.Tensor([[0.  0.  0.5 0.5]], shape=(1, 4), dtype=float32)\n",
            "어텐션 값\n",
            "tf.Tensor([[550.    5.5]], shape=(1, 2), dtype=float32)\n"
          ]
        }
      ]
    },
    {
      "cell_type": "markdown",
      "metadata": {
        "id": "I1SB5oG1K-QG"
      },
      "source": [
        "결과적으로 나오는 값 [550, 5.5]는 Value의 세번째 값 [100, 5]에 0.5를 곱한 값과 네번째 값 [1000, 6]에 0.5를 곱한 값의 원소별 합"
      ]
    },
    {
      "cell_type": "code",
      "metadata": {
        "colab": {
          "base_uri": "https://localhost:8080/"
        },
        "id": "vpXpzpJYK2ys",
        "outputId": "54b6378d-f079-4fe6-f13c-fd901c14fe19"
      },
      "source": [
        "temp_q = tf.constant([[0,0,10], \n",
        "                      [0,10,0],\n",
        "                      [10,10,0]], dtype=tf.float32) # 3,3 행렬\n",
        "temp_out, temp_attn = scaled_dot_product_attention(temp_q, temp_k, temp_v, None)\n",
        "print(\"어텐션 분포\")\n",
        "print(temp_attn)\n",
        "print(\"어텐션 값\")\n",
        "print(temp_out)"
      ],
      "execution_count": 16,
      "outputs": [
        {
          "output_type": "stream",
          "name": "stdout",
          "text": [
            "어텐션 분포\n",
            "tf.Tensor(\n",
            "[[0.  0.  0.5 0.5]\n",
            " [0.  1.  0.  0. ]\n",
            " [0.5 0.5 0.  0. ]], shape=(3, 4), dtype=float32)\n",
            "어텐션 값\n",
            "tf.Tensor(\n",
            "[[550.    5.5]\n",
            " [ 10.    0. ]\n",
            " [  5.5   0. ]], shape=(3, 2), dtype=float32)\n"
          ]
        }
      ]
    },
    {
      "cell_type": "markdown",
      "metadata": {
        "id": "JUBoftEPMWdo"
      },
      "source": [
        "# 멀티헤드 어텐션 구현"
      ]
    },
    {
      "cell_type": "markdown",
      "metadata": {
        "id": "SynxyNMGMc86"
      },
      "source": [
        "멀티 헤드 어텐션에서는 크 게 두 종류의 가중치 행렬이 나왔습니다. 바로 Q, K, V 행렬을 만들기 위한 가중치 행렬인 WQ, WK, WV 행렬과 바로 어텐션 헤드들을 연결(concatenation) 후에 곱해주는 WO 행렬입니다. 가중치 행렬을 곱하는 것을 구현 상에서는 입력을 밀집층(Dense layer)를 지나게 하므로서 구현합니다"
      ]
    },
    {
      "cell_type": "markdown",
      "metadata": {
        "id": "Vif47rDjMfz0"
      },
      "source": [
        "1. WQ, WK, WV에 해당하는 d_model 크기의 밀집층(Dense layer)을 지나게한다.\n",
        "2. 지정된 헤드 수(num_heads)만큼 나눈다(split).\n",
        "3. 스케일드 닷 프로덕트 어텐션.\n",
        "4. 나눠졌던 헤드들을 연결(concatenatetion)한다.\n",
        "5. WO에 해당하는 밀집층을 지나게 한다."
      ]
    },
    {
      "cell_type": "code",
      "metadata": {
        "id": "_mG1Ae-OLUdw"
      },
      "source": [
        "class MultiHeadAttention(tf.keras.layers.Layer):\n",
        "  def __init__(self, d_model, num_heads, name=\"multi_head_attention\"):\n",
        "    super(MultiHeadAttention, self).__init__(name=name)\n",
        "    self.num_heads = num_heads\n",
        "    self.d_model = d_model\n",
        "\n",
        "    assert d_model % self.num_heads == 0\n",
        "\n",
        "    # d_model을 num_heads로 나눈 값\n",
        "    # 논문 기준 64\n",
        "    self.depth = d_model // self.num_heads\n",
        "\n",
        "    # WQ, WK, WV에 해당하는 밀집층 정의\n",
        "    self.query_dense = tf.keras.layers.Dense(units=d_model)\n",
        "    self.key_dense = tf.keras.layers.Dense(units=d_model)\n",
        "    self.value_dense = tf.keras.layers.Dense(units=d_model)\n",
        "\n",
        "    # WO에 해당하는 밀집층 정의\n",
        "    self.dense = tf.keras.layers.Dense(units=d_model)\n",
        "  \n",
        "  # num_heads 개수만큼 q, k, v를 split하는 함수\n",
        "  def split_heads(self, inputs, batch_size):\n",
        "    inputs = tf.reshape(\n",
        "        inputs, shape=(batch_size, -1, self.num_heads, self.depth)\n",
        "    )\n",
        "    return tf.transpose(inputs, perm=[0,2,1,3])\n",
        "  \n",
        "  def call(self, inputs):\n",
        "    query, key, value, mask = inputs['query'], inputs['key'], inputs['value'], inputs['mask']\n",
        "    batch_size = tf.shape(query)[0]\n",
        "\n",
        "    # 1. WQ, WK, WV에 해당하는 밀집층 지나기\n",
        "    # q : (batch_size, query의 문장 길이, d_model)\n",
        "    # k : (batch_size, key의 문장 길이, d_model)\n",
        "    # v : (batch_size, value의 문장 길이, d_model)\n",
        "    # 참고) 인코더(k, v)-디코더(q) 어텐션에서는 query 길이와 key, value의 길이는 다를 수 있다.\n",
        "    query = self.query_dense(query)\n",
        "    key = self.key_dense(key)\n",
        "    value = self.value_dense(value)\n",
        "\n",
        "    # 2. 헤드 나누기\n",
        "    # q : (batch_size, num_heads, query의 문장 길이, d_model/num_heads)\n",
        "    # k : (batch_size, num_heads, key의 문장 길이, d_model/num_heads)\n",
        "    # v : (batch_size, num_heads, value의 문장 길이, d_model/num_heads)\n",
        "    query = self.split_heads(query, batch_size)\n",
        "    key = self.split_heads(key, batch_size)\n",
        "    value = self.split_heads(value, batch_size)\n",
        "\n",
        "    # 3. 스케일드 닷 프로젝트 어텐션\n",
        "    # (batch_size, num_heads, query의 문장 길이, d_model/num_heads)\n",
        "    scaled_attention, _ = scaled_dot_product_attention(query, key, value, mask)\n",
        "    scaled_attention = tf.transpose(scaled_attention, perm=[0,2,1,3])\n",
        "\n",
        "    # 4. 헤드 연결 (concatenate) 하기\n",
        "    # (batch_size, query의 문장 길이, d_model)\n",
        "    concat_attention = tf.reshape(scaled_attention, (batch_size, -1, self.d_model))\n",
        "\n",
        "    # 5. WO에 해당하는 밀집층 지나기\n",
        "    # (batch_size, query의 문장 길이, d_model)\n",
        "    outputs = self.dense(concat_attention)\n",
        "\n",
        "    return outputs"
      ],
      "execution_count": 18,
      "outputs": []
    },
    {
      "cell_type": "markdown",
      "metadata": {
        "id": "YCUq92uRQDw8"
      },
      "source": [
        "패딩을 마스킹한다"
      ]
    },
    {
      "cell_type": "code",
      "metadata": {
        "id": "N1DUVE8KNijt"
      },
      "source": [
        "def create_padding_mask(x):\n",
        "  mask = tf.cast(tf.math.equal(x, 0), tf.float32)\n",
        "  # (batch_size, 1, 1, key의 문장 길이)\n",
        "  return mask[:, tf.newaxis, tf.newaxis, :]"
      ],
      "execution_count": 19,
      "outputs": []
    },
    {
      "cell_type": "code",
      "metadata": {
        "colab": {
          "base_uri": "https://localhost:8080/"
        },
        "id": "dLcQuG5FQP63",
        "outputId": "670e25c0-b7f9-4d78-a965-caf9e74d4ee9"
      },
      "source": [
        "print(create_padding_mask(tf.constant([[1, 21, 777, 0, 0]])))"
      ],
      "execution_count": 20,
      "outputs": [
        {
          "output_type": "stream",
          "name": "stdout",
          "text": [
            "tf.Tensor([[[[0. 0. 0. 1. 1.]]]], shape=(1, 1, 1, 5), dtype=float32)\n"
          ]
        }
      ]
    },
    {
      "cell_type": "markdown",
      "metadata": {
        "id": "0gskZUVnTEh_"
      },
      "source": [
        "# 인코더 종합\n"
      ]
    },
    {
      "cell_type": "code",
      "metadata": {
        "id": "WqoTlKKeQQ4K"
      },
      "source": [
        "def encoder_layer(diff, d_model, num_heads, dropout, name=\"encoder_layer\"):\n",
        "  inputs = tf.keras.Input(shape=(None, d_model), name=\"inputs\")\n",
        "\n",
        "  #인코더는 패딩 마스크 사용\n",
        "  padding_mask = tf.keras.Input(shape=(1,1, None), name=\"padding_mask\")\n",
        "\n",
        "  # 멀티 헤드 어텐션 (첫번째 서브층 / 셀프 어텐션)\n",
        "  attention = MultiHeadAttention(\n",
        "      d_model, num_heads, name=\"attention\")({\n",
        "          'query': inputs, 'key': inputs, 'value' : inputs, # 인코더 블럭의 Q=K=V\n",
        "          'mask' : padding_mask\n",
        "      })\n",
        "  # 드롭아웃 + resudial connection과 layer nomalization\n",
        "  attention = tf.keras.Dropout(rate=dropout)(attention)\n",
        "  attention = tf.keras.layes.LayerNormalization(epsilon=1e-6)(inputs + attention)\n",
        "\n",
        "  # Position-wise FFNN (두번째 서브층)\n",
        "  outputs = tf.keras.layers.Dense(units=dff, activation='relu')(attention)\n",
        "  outputs = tf.keras.layers.Dense(unit=d_model)(outputs)\n",
        "\n",
        "  # 드롭아웃 + resudial connection과 layer nomalization\n",
        "  outputs = tf.keras.layers.Dropout(rate=dropout)(outputs)\n",
        "  outputs = tf.keras.layers.LayerNormalization(epsilon=1e-6)(attention + outputs)\n",
        "\n",
        "  return tf.keras.Model(inputs=[inputs, padding_mask], outputs=outputs, name=name)"
      ],
      "execution_count": 21,
      "outputs": []
    },
    {
      "cell_type": "markdown",
      "metadata": {
        "id": "TJg9PQlVUn9i"
      },
      "source": [
        "실제로는 num_layers 만큼 쌓게 됨. 그리고 마지막 인코더 층의 output을 디코더로 보내줌."
      ]
    },
    {
      "cell_type": "code",
      "metadata": {
        "id": "Fu7PC7i_UjQw"
      },
      "source": [
        "def encoder(vocab_size, num_layers, dff, d_model, num_heads, dropout, name=\"encoder\"):\n",
        "  inputs = tf.keras.Input(shape=(None,), name=\"inputs\")\n",
        "\n",
        "  #인코더는 패딩 마스크 사용\n",
        "  padding_mask = tf.keras.Input(shape=(1,1,None), name=\"padding_mask\")\n",
        "\n",
        "  #포지셔널 인코딩 + 드롭아웃\n",
        "  embeddings = tf.keras.layers.Embedding(vocab_size, d_model)(inputs)\n",
        "  embeddings *= tf.math.sqrt(tf.cast(d_model, tf.float32))\n",
        "  embeddings = PositionalEncoding(vocab_size, d_model)(embeddings)\n",
        "  outputs = tf.keras.layers.Dropout(rate=dropout)(embeddings)\n",
        "\n",
        "  # 인코더를 num_layers 만큼 쌓기\n",
        "  for i in range(num_layers):\n",
        "    outputs = encoder_layer(dff=dff, d_model=d_model, num_heads=num_heads,\n",
        "                            dropout=dropout, name=\"encoder_layer_{}\".format(i),\n",
        "                            )([outputs, padding_mask])\n",
        "  return tf.keras.Model(inputs=[inputs, padding_mask], outputs=outputs, name=name)"
      ],
      "execution_count": 22,
      "outputs": []
    },
    {
      "cell_type": "markdown",
      "metadata": {
        "id": "ie6oE1uiZn-q"
      },
      "source": [
        "# 디코더 : masked multi-head self attention"
      ]
    },
    {
      "cell_type": "markdown",
      "metadata": {
        "id": "EFHIkeOvZrOP"
      },
      "source": [
        "트랜스포머에는 총 세 가지 어텐션이 존재하며, 모두 멀티 헤드 어텐션을 수행하고, 멀티 헤드 어텐션 함수 내부에서 스케일드 닷 프로덕트 어텐션 함수를 호출하는데 각 어텐션 시 함수에 전달하는 마스킹은 다음과 같습니다.\n",
        "\n",
        "- 인코더의 셀프 어텐션 : 패딩 마스크를 전달\n",
        "- 디코더의 첫번째 서브층인 마스크드 셀프 어텐션 : 룩-어헤드 마스크를 전달 <-- 지금 배우고 있음.\n",
        "- 디코더의 두번째 서브층인 인코더-디코더 어텐션 : 패딩 마스크를 전달"
      ]
    },
    {
      "cell_type": "code",
      "metadata": {
        "id": "4DO51vMSVn9I"
      },
      "source": [
        "# 디코더의 첫번째 서브층(sublayer)에서 미래 토큰을 Mask하는 함수\n",
        "def create_look_ahead_mask(x):\n",
        "  seq_len = tf.shape(x)[1]\n",
        "  look_ahead_mask = 1 - tf.linalg.band_part(tf.ones((seq_len, seq_len)), -1, 0)\n",
        "  padding_mask = create_padding_mask(x) # 패딩 마스크도 포함\n",
        "  return tf.maximum(look_ahead_mask, padding_mask)"
      ],
      "execution_count": 25,
      "outputs": []
    },
    {
      "cell_type": "code",
      "metadata": {
        "colab": {
          "base_uri": "https://localhost:8080/"
        },
        "id": "Li545c_kaHCV",
        "outputId": "e1db560e-3cf3-4c9d-b332-f62b2c2fbc32"
      },
      "source": [
        "print(create_look_ahead_mask(tf.constant([[1, 2, 0, 4, 5]])))"
      ],
      "execution_count": 26,
      "outputs": [
        {
          "output_type": "stream",
          "name": "stdout",
          "text": [
            "tf.Tensor(\n",
            "[[[[0. 1. 1. 1. 1.]\n",
            "   [0. 0. 1. 1. 1.]\n",
            "   [0. 0. 1. 1. 1.]\n",
            "   [0. 0. 1. 0. 1.]\n",
            "   [0. 0. 1. 0. 0.]]]], shape=(1, 1, 5, 5), dtype=float32)\n"
          ]
        }
      ]
    },
    {
      "cell_type": "code",
      "metadata": {
        "id": "DOYqzBNcaIP1"
      },
      "source": [
        ""
      ],
      "execution_count": null,
      "outputs": []
    },
    {
      "cell_type": "markdown",
      "metadata": {
        "id": "dShzejopcyQk"
      },
      "source": [
        "# 디코더 구현"
      ]
    },
    {
      "cell_type": "code",
      "metadata": {
        "id": "LGwxwVsHc6Rg"
      },
      "source": [
        "def decoder_layer(dff, d_model, num_heads, dropout, name=\"decoder_layer\"):\n",
        "  inputs = tf.keras.Input(shape=(None, d_model), name=\"inputs\")\n",
        "  enc_outputs = tf.keras.Input(shape=(None, d_model), name=\"encoder_outputs\")\n",
        "\n",
        "  # 첫번째 서브층에서의 mask (현재 시점 뒤의 단어에 대한 masking)\n",
        "  look_ahead_mask = tf.keras.Input(\n",
        "      shape=(1, None, None), name=\"look_ahead_mask\"\n",
        "  )\n",
        "\n",
        "  # 두번째 서브층에서의 mask (pad된 단어에 대한 masking)\n",
        "  padding_mask = tf.keras.Input(shape=(1,1,None), name=\"padding_mask\")\n",
        "\n",
        "  # masked multi head self attention\n",
        "  attention_1 = MultiHeadAttention(\n",
        "      d_model, num_heads, name=\"attention_1\")(inputs={\n",
        "          'query': inputs, 'key': inputs, 'value': inputs,\n",
        "          'mask' : look_ahead_mask\n",
        "      })\n",
        "  # add & norm\n",
        "  attention_1 = tf.keras.layers.LayerNormalization(\n",
        "      epsilon=1e-6)(attention_1 + inputs)\n",
        "  \n",
        "  # multi head attention\n",
        "  attention_2 = MultiHeadAttention(\n",
        "      d_model, num_heads, name=\"attention_2\")(inputs={\n",
        "          'query': attention_1, 'key': enc_outputs, 'value': enc_outputs,\n",
        "          'mask': padding_mask\n",
        "      })\n",
        "  \n",
        "  # dropout + add & norm\n",
        "  attention_2 = tf.keras.layers.Dropout(rate=dropout)(attention_2)\n",
        "  attention_2 = tf.keras.layers.LayerNormalization(\n",
        "      epsilon=1e-6)(attention_2 + attention_1)\n",
        "\n",
        "  # Position wise FFNN\n",
        "  outputs = tf.keras.layers.Dense(units=dff, activation='relu')(attention_2)\n",
        "  outputs = tf.keras.layers.Dense(units=d_model)(outputs)\n",
        "\n",
        "  # dropout + add & norm\n",
        "  outputs = tf.keras.layers.Dropout(rate=dropout)(outputs)\n",
        "  outputs = tf.keras.layers.LayerNormalization(\n",
        "      epsilon=1e-6)(outputs + attention_2)\n",
        "  \n",
        "  return tf.keras.Model(\n",
        "      inputs=[inputs, enc_outputs, look_ahead_mask, padding_mask], outputs=outputs, name=name\n",
        "  )"
      ],
      "execution_count": 1,
      "outputs": []
    },
    {
      "cell_type": "code",
      "metadata": {
        "id": "qnFvGCmSgUQc"
      },
      "source": [
        "def decoder(vocab_size, num_layers, dff, d_model, num_heads, dropout, name=\"decoder\"):\n",
        "  inputs = tf.keras.Input(shape=(None,), name=\"inputs\")\n",
        "  enc_outputs = tf.keras.Input(shape=(None, d_model), name=\"encoder_outputs\")\n",
        "\n",
        "  # look_ahead_mask & padding_mask\n",
        "  look_ahead_mask = tf.keras.Input(shape=(1, None, None), name=\"look_ahead_mask\")\n",
        "  padding_mask = tf.keras.Input(shape=(1,1,None), name=\"padding_mask\")\n",
        "\n",
        "  # positional encoding + dropout\n",
        "  embeddings = tf.keras.layers.Embedding(vocab_size, d_model)(inputs)\n",
        "  embeddings *= tf.math.sqrt(tf.cast(d_model, tf.float32))\n",
        "  embeddings = PositionalEncoding(vocab_size, d_model)(embeddings)\n",
        "  outputs = tf.keras.layers.Dropout(rate=dropout)(embeddings)\n",
        "\n",
        "  # decoder * num_layers\n",
        "  for i in range(num_layers):\n",
        "    outputs = decoder_layer(dff=dff, d_model=d_model, num_heads=num_heads,\n",
        "                            dropout=dropout, name=\"decoder_layer_{}\".format(i),\n",
        "                            )(inputs=[outputs, enc_outputs, look_ahead_mask, padding_mask])\n",
        "  return tf.keras.Model(\n",
        "      inputs=[inputs, enc_outputs, look_ahead_mask, padding_mask],\n",
        "      outputs=outputs,\n",
        "      name=name\n",
        "  )"
      ],
      "execution_count": 2,
      "outputs": []
    },
    {
      "cell_type": "markdown",
      "metadata": {
        "id": "wmjY3qfi_6wr"
      },
      "source": [
        "# 트랜스포머 구현"
      ]
    },
    {
      "cell_type": "code",
      "metadata": {
        "id": "o35UASCxlUOB"
      },
      "source": [
        "def transformer(vocab_size, num_layers, dff, d_model, num_heads, dropout, name=\"transformer\"):\n",
        "  # encoder input\n",
        "  inputs = tf.keras.Input(shape=(None,), name=\"inputs\")\n",
        "\n",
        "  # decoder input\n",
        "  dec_inputs = tf.keras.Input(shape=(None,),name=\"dec_inputs\")\n",
        "\n",
        "  # encoder padding mask \n",
        "  enc_padding_mask = tf.keras.layers.Lambda(\n",
        "      create_padding_mask, output_shape=(1,1,None),\n",
        "      name='enc_padding_mask')(inputs)\n",
        "  \n",
        "  # decoder look ahead mask\n",
        "  look_ahead_mask = tf.keras.layers.Lambda(\n",
        "      create_look_ahead_mask, output_shape=(1,None, None),\n",
        "      name = 'look_ahead_mask')(dec_inputs)\n",
        "  \n",
        "  # decoder padding mask\n",
        "  dec_padding_mask = tf.keras.layers.Lambda(\n",
        "      create_padding_mask, output_shape=(1,1,None),\n",
        "      name='dec_padding_mask')(inputs)\n",
        "  \n",
        "  # encoder 출력\n",
        "  enc_outputs = encoder(vocab_size=vocab_size, num_layers=num_layers, dff=dff,\n",
        "                        d_model=d_model, num_heads=num_heads, dropout=dropout,\n",
        "                        )(inputs=[inputs, enc_padding_mask]) # 인코더의 입력은 입력 문장과 패딩마스크\n",
        "  # decoder 출력\n",
        "  dec_outputs = decoder(vocab_size=vocab_size, num_layers=num_layers, dff=dff,\n",
        "                        d_model=d_model, num_heads=num_heads, dropout=dropout,\n",
        "                        )(inputs=[dec_inputs,  enc_outputs, look_ahead_mask, dec_padding_mask])\n",
        "\n",
        "  # 다음 seq 예측을 위한 출력층\n",
        "  outputs = tf.keras.layers.Dense(units=vocab_size, name=\"outputs\")(dec_outputs)\n",
        "\n",
        "  return tf.keras.Model(inputs=[inputs, dec_inputs], outputs=outputs, name=name)    "
      ],
      "execution_count": 1,
      "outputs": []
    },
    {
      "cell_type": "code",
      "metadata": {
        "id": "BbRCkXOh_0KK"
      },
      "source": [
        ""
      ],
      "execution_count": null,
      "outputs": []
    }
  ]
}