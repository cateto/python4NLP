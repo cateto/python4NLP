{
  "nbformat": 4,
  "nbformat_minor": 0,
  "metadata": {
    "colab": {
      "provenance": [],
      "authorship_tag": "ABX9TyP/WMaf+9MAyQP/eYjlSp5F",
      "include_colab_link": true
    },
    "kernelspec": {
      "name": "python3",
      "display_name": "Python 3"
    },
    "language_info": {
      "name": "python"
    },
    "accelerator": "GPU",
    "gpuClass": "standard"
  },
  "cells": [
    {
      "cell_type": "markdown",
      "metadata": {
        "id": "view-in-github",
        "colab_type": "text"
      },
      "source": [
        "<a href=\"https://colab.research.google.com/github/cateto/python4NLP/blob/main/sentence_transformers/sentence_%ED%95%9C%EA%B5%AD%EC%96%B4%EB%8D%B0%EC%8A%A4%ED%8A%B8.ipynb\" target=\"_parent\"><img src=\"https://colab.research.google.com/assets/colab-badge.svg\" alt=\"Open In Colab\"/></a>"
      ]
    },
    {
      "cell_type": "code",
      "execution_count": null,
      "metadata": {
        "colab": {
          "base_uri": "https://localhost:8080/"
        },
        "id": "OrVRVzMIvtUs",
        "outputId": "37ff9855-d41f-4b84-9a1e-9b0c6c26a649"
      },
      "outputs": [
        {
          "output_type": "stream",
          "name": "stdout",
          "text": [
            "Cloning into 'ko-sentence-transformers'...\n",
            "remote: Enumerating objects: 66, done.\u001b[K\n",
            "remote: Counting objects:   1% (1/66)\u001b[K\rremote: Counting objects:   3% (2/66)\u001b[K\rremote: Counting objects:   4% (3/66)\u001b[K\rremote: Counting objects:   6% (4/66)\u001b[K\rremote: Counting objects:   7% (5/66)\u001b[K\rremote: Counting objects:   9% (6/66)\u001b[K\rremote: Counting objects:  10% (7/66)\u001b[K\rremote: Counting objects:  12% (8/66)\u001b[K\rremote: Counting objects:  13% (9/66)\u001b[K\rremote: Counting objects:  15% (10/66)\u001b[K\rremote: Counting objects:  16% (11/66)\u001b[K\rremote: Counting objects:  18% (12/66)\u001b[K\rremote: Counting objects:  19% (13/66)\u001b[K\rremote: Counting objects:  21% (14/66)\u001b[K\rremote: Counting objects:  22% (15/66)\u001b[K\rremote: Counting objects:  24% (16/66)\u001b[K\rremote: Counting objects:  25% (17/66)\u001b[K\rremote: Counting objects:  27% (18/66)\u001b[K\rremote: Counting objects:  28% (19/66)\u001b[K\rremote: Counting objects:  30% (20/66)\u001b[K\rremote: Counting objects:  31% (21/66)\u001b[K\rremote: Counting objects:  33% (22/66)\u001b[K\rremote: Counting objects:  34% (23/66)\u001b[K\rremote: Counting objects:  36% (24/66)\u001b[K\rremote: Counting objects:  37% (25/66)\u001b[K\rremote: Counting objects:  39% (26/66)\u001b[K\rremote: Counting objects:  40% (27/66)\u001b[K\rremote: Counting objects:  42% (28/66)\u001b[K\rremote: Counting objects:  43% (29/66)\u001b[K\rremote: Counting objects:  45% (30/66)\u001b[K\rremote: Counting objects:  46% (31/66)\u001b[K\rremote: Counting objects:  48% (32/66)\u001b[K\rremote: Counting objects:  50% (33/66)\u001b[K\rremote: Counting objects:  51% (34/66)\u001b[K\rremote: Counting objects:  53% (35/66)\u001b[K\rremote: Counting objects:  54% (36/66)\u001b[K\rremote: Counting objects:  56% (37/66)\u001b[K\rremote: Counting objects:  57% (38/66)\u001b[K\rremote: Counting objects:  59% (39/66)\u001b[K\rremote: Counting objects:  60% (40/66)\u001b[K\rremote: Counting objects:  62% (41/66)\u001b[K\rremote: Counting objects:  63% (42/66)\u001b[K\rremote: Counting objects:  65% (43/66)\u001b[K\rremote: Counting objects:  66% (44/66)\u001b[K\rremote: Counting objects:  68% (45/66)\u001b[K\rremote: Counting objects:  69% (46/66)\u001b[K\rremote: Counting objects:  71% (47/66)\u001b[K\rremote: Counting objects:  72% (48/66)\u001b[K\rremote: Counting objects:  74% (49/66)\u001b[K\rremote: Counting objects:  75% (50/66)\u001b[K\rremote: Counting objects:  77% (51/66)\u001b[K\rremote: Counting objects:  78% (52/66)\u001b[K\rremote: Counting objects:  80% (53/66)\u001b[K\rremote: Counting objects:  81% (54/66)\u001b[K\rremote: Counting objects:  83% (55/66)\u001b[K\rremote: Counting objects:  84% (56/66)\u001b[K\rremote: Counting objects:  86% (57/66)\u001b[K\rremote: Counting objects:  87% (58/66)\u001b[K\rremote: Counting objects:  89% (59/66)\u001b[K\rremote: Counting objects:  90% (60/66)\u001b[K\rremote: Counting objects:  92% (61/66)\u001b[K\rremote: Counting objects:  93% (62/66)\u001b[K\rremote: Counting objects:  95% (63/66)\u001b[K\rremote: Counting objects:  96% (64/66)\u001b[K\rremote: Counting objects:  98% (65/66)\u001b[K\rremote: Counting objects: 100% (66/66)\u001b[K\rremote: Counting objects: 100% (66/66), done.\u001b[K\n",
            "remote: Compressing objects:   2% (1/43)\u001b[K\rremote: Compressing objects:   4% (2/43)\u001b[K\rremote: Compressing objects:   6% (3/43)\u001b[K\rremote: Compressing objects:   9% (4/43)\u001b[K\rremote: Compressing objects:  11% (5/43)\u001b[K\rremote: Compressing objects:  13% (6/43)\u001b[K\rremote: Compressing objects:  16% (7/43)\u001b[K\rremote: Compressing objects:  18% (8/43)\u001b[K\rremote: Compressing objects:  20% (9/43)\u001b[K\rremote: Compressing objects:  23% (10/43)\u001b[K\rremote: Compressing objects:  25% (11/43)\u001b[K\rremote: Compressing objects:  27% (12/43)\u001b[K\rremote: Compressing objects:  30% (13/43)\u001b[K\rremote: Compressing objects:  32% (14/43)\u001b[K\rremote: Compressing objects:  34% (15/43)\u001b[K\rremote: Compressing objects:  37% (16/43)\u001b[K\rremote: Compressing objects:  39% (17/43)\u001b[K\rremote: Compressing objects:  41% (18/43)\u001b[K\rremote: Compressing objects:  44% (19/43)\u001b[K\rremote: Compressing objects:  46% (20/43)\u001b[K\rremote: Compressing objects:  48% (21/43)\u001b[K\rremote: Compressing objects:  51% (22/43)\u001b[K\rremote: Compressing objects:  53% (23/43)\u001b[K\rremote: Compressing objects:  55% (24/43)\u001b[K\rremote: Compressing objects:  58% (25/43)\u001b[K\rremote: Compressing objects:  60% (26/43)\u001b[K\rremote: Compressing objects:  62% (27/43)\u001b[K\rremote: Compressing objects:  65% (28/43)\u001b[K\rremote: Compressing objects:  67% (29/43)\u001b[K\rremote: Compressing objects:  69% (30/43)\u001b[K\rremote: Compressing objects:  72% (31/43)\u001b[K\rremote: Compressing objects:  74% (32/43)\u001b[K\rremote: Compressing objects:  76% (33/43)\u001b[K\rremote: Compressing objects:  79% (34/43)\u001b[K\rremote: Compressing objects:  81% (35/43)\u001b[K\rremote: Compressing objects:  83% (36/43)\u001b[K\rremote: Compressing objects:  86% (37/43)\u001b[K\rremote: Compressing objects:  88% (38/43)\u001b[K\rremote: Compressing objects:  90% (39/43)\u001b[K\rremote: Compressing objects:  93% (40/43)\u001b[K\rremote: Compressing objects:  95% (41/43)\u001b[K\rremote: Compressing objects:  97% (42/43)\u001b[K\rremote: Compressing objects: 100% (43/43)\u001b[K\rremote: Compressing objects: 100% (43/43), done.\u001b[K\n",
            "remote: Total 66 (delta 33), reused 44 (delta 19), pack-reused 0\u001b[K\n",
            "Unpacking objects: 100% (66/66), 36.90 KiB | 1.08 MiB/s, done.\n"
          ]
        }
      ],
      "source": [
        "!git clone https://github.com/jhgan00/ko-sentence-transformers.git"
      ]
    },
    {
      "cell_type": "code",
      "source": [
        "%cd ko-sentence-transformers/"
      ],
      "metadata": {
        "colab": {
          "base_uri": "https://localhost:8080/"
        },
        "id": "HJVotButvvFU",
        "outputId": "c249df04-73ba-4d8e-d904-b58a0708cf52"
      },
      "execution_count": null,
      "outputs": [
        {
          "output_type": "stream",
          "name": "stdout",
          "text": [
            "/content/ko-sentence-transformers/ko-sentence-transformers\n"
          ]
        }
      ]
    },
    {
      "cell_type": "code",
      "source": [
        "!git clone https://github.com/kakaobrain/KorNLUDatasets.git"
      ],
      "metadata": {
        "colab": {
          "base_uri": "https://localhost:8080/"
        },
        "id": "Ma8icLg9vzdv",
        "outputId": "f5c4de23-0811-4336-f654-22b4f8b524d1"
      },
      "execution_count": null,
      "outputs": [
        {
          "output_type": "stream",
          "name": "stdout",
          "text": [
            "Cloning into 'KorNLUDatasets'...\n",
            "remote: Enumerating objects: 16, done.\u001b[K\n",
            "remote: Counting objects: 100% (2/2), done.\u001b[K\n",
            "remote: Total 16 (delta 1), reused 1 (delta 1), pack-reused 14\u001b[K\n",
            "Unpacking objects: 100% (16/16), 46.67 MiB | 7.06 MiB/s, done.\n",
            "Updating files: 100% (9/9), done.\n"
          ]
        }
      ]
    },
    {
      "cell_type": "code",
      "source": [
        "!pip install -r requirements.txt"
      ],
      "metadata": {
        "colab": {
          "base_uri": "https://localhost:8080/"
        },
        "id": "G0nVxxONwUJZ",
        "outputId": "c044ebc8-ac72-4df2-bc9b-778930b56288"
      },
      "execution_count": null,
      "outputs": [
        {
          "output_type": "stream",
          "name": "stdout",
          "text": [
            "Looking in indexes: https://pypi.org/simple, https://us-python.pkg.dev/colab-wheels/public/simple/\n",
            "Requirement already satisfied: sentence-transformers in /usr/local/lib/python3.9/dist-packages (from -r requirements.txt (line 1)) (2.2.2)\n",
            "Requirement already satisfied: torch>=1.6.0 in /usr/local/lib/python3.9/dist-packages (from sentence-transformers->-r requirements.txt (line 1)) (2.0.0+cu118)\n",
            "Requirement already satisfied: scipy in /usr/local/lib/python3.9/dist-packages (from sentence-transformers->-r requirements.txt (line 1)) (1.10.1)\n",
            "Requirement already satisfied: torchvision in /usr/local/lib/python3.9/dist-packages (from sentence-transformers->-r requirements.txt (line 1)) (0.15.1+cu118)\n",
            "Requirement already satisfied: tqdm in /usr/local/lib/python3.9/dist-packages (from sentence-transformers->-r requirements.txt (line 1)) (4.65.0)\n",
            "Requirement already satisfied: sentencepiece in /usr/local/lib/python3.9/dist-packages (from sentence-transformers->-r requirements.txt (line 1)) (0.1.97)\n",
            "Requirement already satisfied: numpy in /usr/local/lib/python3.9/dist-packages (from sentence-transformers->-r requirements.txt (line 1)) (1.22.4)\n",
            "Requirement already satisfied: huggingface-hub>=0.4.0 in /usr/local/lib/python3.9/dist-packages (from sentence-transformers->-r requirements.txt (line 1)) (0.13.3)\n",
            "Requirement already satisfied: nltk in /usr/local/lib/python3.9/dist-packages (from sentence-transformers->-r requirements.txt (line 1)) (3.8.1)\n",
            "Requirement already satisfied: transformers<5.0.0,>=4.6.0 in /usr/local/lib/python3.9/dist-packages (from sentence-transformers->-r requirements.txt (line 1)) (4.27.4)\n",
            "Requirement already satisfied: scikit-learn in /usr/local/lib/python3.9/dist-packages (from sentence-transformers->-r requirements.txt (line 1)) (1.2.2)\n",
            "Requirement already satisfied: packaging>=20.9 in /usr/local/lib/python3.9/dist-packages (from huggingface-hub>=0.4.0->sentence-transformers->-r requirements.txt (line 1)) (23.0)\n",
            "Requirement already satisfied: filelock in /usr/local/lib/python3.9/dist-packages (from huggingface-hub>=0.4.0->sentence-transformers->-r requirements.txt (line 1)) (3.10.7)\n",
            "Requirement already satisfied: typing-extensions>=3.7.4.3 in /usr/local/lib/python3.9/dist-packages (from huggingface-hub>=0.4.0->sentence-transformers->-r requirements.txt (line 1)) (4.5.0)\n",
            "Requirement already satisfied: pyyaml>=5.1 in /usr/local/lib/python3.9/dist-packages (from huggingface-hub>=0.4.0->sentence-transformers->-r requirements.txt (line 1)) (6.0)\n",
            "Requirement already satisfied: requests in /usr/local/lib/python3.9/dist-packages (from huggingface-hub>=0.4.0->sentence-transformers->-r requirements.txt (line 1)) (2.27.1)\n",
            "Requirement already satisfied: triton==2.0.0 in /usr/local/lib/python3.9/dist-packages (from torch>=1.6.0->sentence-transformers->-r requirements.txt (line 1)) (2.0.0)\n",
            "Requirement already satisfied: networkx in /usr/local/lib/python3.9/dist-packages (from torch>=1.6.0->sentence-transformers->-r requirements.txt (line 1)) (3.0)\n",
            "Requirement already satisfied: jinja2 in /usr/local/lib/python3.9/dist-packages (from torch>=1.6.0->sentence-transformers->-r requirements.txt (line 1)) (3.1.2)\n",
            "Requirement already satisfied: sympy in /usr/local/lib/python3.9/dist-packages (from torch>=1.6.0->sentence-transformers->-r requirements.txt (line 1)) (1.11.1)\n",
            "Requirement already satisfied: lit in /usr/local/lib/python3.9/dist-packages (from triton==2.0.0->torch>=1.6.0->sentence-transformers->-r requirements.txt (line 1)) (16.0.0)\n",
            "Requirement already satisfied: cmake in /usr/local/lib/python3.9/dist-packages (from triton==2.0.0->torch>=1.6.0->sentence-transformers->-r requirements.txt (line 1)) (3.25.2)\n",
            "Requirement already satisfied: tokenizers!=0.11.3,<0.14,>=0.11.1 in /usr/local/lib/python3.9/dist-packages (from transformers<5.0.0,>=4.6.0->sentence-transformers->-r requirements.txt (line 1)) (0.13.2)\n",
            "Requirement already satisfied: regex!=2019.12.17 in /usr/local/lib/python3.9/dist-packages (from transformers<5.0.0,>=4.6.0->sentence-transformers->-r requirements.txt (line 1)) (2022.10.31)\n",
            "Requirement already satisfied: joblib in /usr/local/lib/python3.9/dist-packages (from nltk->sentence-transformers->-r requirements.txt (line 1)) (1.1.1)\n",
            "Requirement already satisfied: click in /usr/local/lib/python3.9/dist-packages (from nltk->sentence-transformers->-r requirements.txt (line 1)) (8.1.3)\n",
            "Requirement already satisfied: threadpoolctl>=2.0.0 in /usr/local/lib/python3.9/dist-packages (from scikit-learn->sentence-transformers->-r requirements.txt (line 1)) (3.1.0)\n",
            "Requirement already satisfied: pillow!=8.3.*,>=5.3.0 in /usr/local/lib/python3.9/dist-packages (from torchvision->sentence-transformers->-r requirements.txt (line 1)) (8.4.0)\n",
            "Requirement already satisfied: MarkupSafe>=2.0 in /usr/local/lib/python3.9/dist-packages (from jinja2->torch>=1.6.0->sentence-transformers->-r requirements.txt (line 1)) (2.1.2)\n",
            "Requirement already satisfied: charset-normalizer~=2.0.0 in /usr/local/lib/python3.9/dist-packages (from requests->huggingface-hub>=0.4.0->sentence-transformers->-r requirements.txt (line 1)) (2.0.12)\n",
            "Requirement already satisfied: idna<4,>=2.5 in /usr/local/lib/python3.9/dist-packages (from requests->huggingface-hub>=0.4.0->sentence-transformers->-r requirements.txt (line 1)) (3.4)\n",
            "Requirement already satisfied: certifi>=2017.4.17 in /usr/local/lib/python3.9/dist-packages (from requests->huggingface-hub>=0.4.0->sentence-transformers->-r requirements.txt (line 1)) (2022.12.7)\n",
            "Requirement already satisfied: urllib3<1.27,>=1.21.1 in /usr/local/lib/python3.9/dist-packages (from requests->huggingface-hub>=0.4.0->sentence-transformers->-r requirements.txt (line 1)) (1.26.15)\n",
            "Requirement already satisfied: mpmath>=0.19 in /usr/local/lib/python3.9/dist-packages (from sympy->torch>=1.6.0->sentence-transformers->-r requirements.txt (line 1)) (1.3.0)\n"
          ]
        }
      ]
    },
    {
      "cell_type": "code",
      "source": [
        "!python benchmark.py"
      ],
      "metadata": {
        "colab": {
          "base_uri": "https://localhost:8080/"
        },
        "id": "Bi_OOlrBwTQG",
        "outputId": "562a68a6-9ea7-4d4e-f7f0-99a16c234b41"
      },
      "execution_count": null,
      "outputs": [
        {
          "output_type": "stream",
          "name": "stdout",
          "text": [
            "2023-04-05 00:52:34 - Load pretrained SentenceTransformer: jhgan/ko-sroberta-multitask\n",
            "2023-04-05 00:52:36 - Use pytorch device: cuda\n",
            "2023-04-05 00:52:36 - EmbeddingSimilarityEvaluator: Evaluating the model on sts-test dataset:\n",
            "2023-04-05 00:52:42 - Cosine-Similarity :\tPearson: 0.8477\tSpearman: 0.8560\n",
            "2023-04-05 00:52:42 - Manhattan-Distance:\tPearson: 0.8370\tSpearman: 0.8438\n",
            "2023-04-05 00:52:42 - Euclidean-Distance:\tPearson: 0.8371\tSpearman: 0.8440\n",
            "2023-04-05 00:52:42 - Dot-Product-Similarity:\tPearson: 0.8242\tSpearman: 0.8233\n",
            "2023-04-05 00:52:42 - Load pretrained SentenceTransformer: jhgan/ko-sbert-sts\n",
            "2023-04-05 00:52:43 - Use pytorch device: cuda\n",
            "2023-04-05 00:52:43 - EmbeddingSimilarityEvaluator: Evaluating the model on sts-test dataset:\n",
            "2023-04-05 00:52:47 - Cosine-Similarity :\tPearson: 0.8155\tSpearman: 0.8123\n",
            "2023-04-05 00:52:47 - Manhattan-Distance:\tPearson: 0.7990\tSpearman: 0.7975\n",
            "2023-04-05 00:52:47 - Euclidean-Distance:\tPearson: 0.7994\tSpearman: 0.7978\n",
            "2023-04-05 00:52:47 - Dot-Product-Similarity:\tPearson: 0.7602\tSpearman: 0.7531\n",
            "2023-04-05 00:52:47 - Load pretrained SentenceTransformer: all-mpnet-base-v2\n",
            "Downloading (…)a8e1d/.gitattributes: 100% 1.18k/1.18k [00:00<00:00, 507kB/s]\n",
            "Downloading (…)_Pooling/config.json: 100% 190/190 [00:00<00:00, 83.3kB/s]\n",
            "Downloading (…)b20bca8e1d/README.md: 100% 10.6k/10.6k [00:00<00:00, 3.92MB/s]\n",
            "Downloading (…)0bca8e1d/config.json: 100% 571/571 [00:00<00:00, 236kB/s]\n",
            "Downloading (…)ce_transformers.json: 100% 116/116 [00:00<00:00, 43.9kB/s]\n",
            "Downloading (…)e1d/data_config.json: 100% 39.3k/39.3k [00:00<00:00, 1.27MB/s]\n",
            "Downloading pytorch_model.bin: 100% 438M/438M [00:02<00:00, 199MB/s]\n",
            "Downloading (…)nce_bert_config.json: 100% 53.0/53.0 [00:00<00:00, 23.0kB/s]\n",
            "Downloading (…)cial_tokens_map.json: 100% 239/239 [00:00<00:00, 80.4kB/s]\n",
            "Downloading (…)a8e1d/tokenizer.json: 100% 466k/466k [00:00<00:00, 3.89MB/s]\n",
            "Downloading (…)okenizer_config.json: 100% 363/363 [00:00<00:00, 122kB/s]\n",
            "Downloading (…)8e1d/train_script.py: 100% 13.1k/13.1k [00:00<00:00, 4.65MB/s]\n",
            "Downloading (…)b20bca8e1d/vocab.txt: 100% 232k/232k [00:00<00:00, 2.55MB/s]\n",
            "Downloading (…)bca8e1d/modules.json: 100% 349/349 [00:00<00:00, 142kB/s]\n",
            "2023-04-05 00:52:54 - Use pytorch device: cuda\n",
            "2023-04-05 00:52:54 - EmbeddingSimilarityEvaluator: Evaluating the model on sts-test dataset:\n",
            "2023-04-05 00:53:03 - Cosine-Similarity :\tPearson: 0.2265\tSpearman: 0.3635\n",
            "2023-04-05 00:53:03 - Manhattan-Distance:\tPearson: 0.3110\tSpearman: 0.3624\n",
            "2023-04-05 00:53:03 - Euclidean-Distance:\tPearson: 0.3110\tSpearman: 0.3635\n",
            "2023-04-05 00:53:03 - Dot-Product-Similarity:\tPearson: 0.2265\tSpearman: 0.3635\n",
            "2023-04-05 00:53:03 - Load pretrained SentenceTransformer: all-distilroberta-v1\n",
            "Downloading (…)87e68/.gitattributes: 100% 737/737 [00:00<00:00, 301kB/s]\n",
            "Downloading (…)_Pooling/config.json: 100% 190/190 [00:00<00:00, 85.1kB/s]\n",
            "Downloading (…)5afc487e68/README.md: 100% 10.3k/10.3k [00:00<00:00, 4.61MB/s]\n",
            "Downloading (…)fc487e68/config.json: 100% 653/653 [00:00<00:00, 157kB/s]\n",
            "Downloading (…)ce_transformers.json: 100% 116/116 [00:00<00:00, 40.6kB/s]\n",
            "Downloading (…)e68/data_config.json: 100% 15.7k/15.7k [00:00<00:00, 5.70MB/s]\n",
            "Downloading (…)afc487e68/merges.txt: 100% 456k/456k [00:00<00:00, 3.86MB/s]\n",
            "Downloading pytorch_model.bin: 100% 329M/329M [00:03<00:00, 96.0MB/s]\n",
            "Downloading (…)nce_bert_config.json: 100% 53.0/53.0 [00:00<00:00, 23.2kB/s]\n",
            "Downloading (…)cial_tokens_map.json: 100% 239/239 [00:00<00:00, 105kB/s]\n",
            "Downloading (…)87e68/tokenizer.json: 100% 1.36M/1.36M [00:00<00:00, 9.30MB/s]\n",
            "Downloading (…)okenizer_config.json: 100% 333/333 [00:00<00:00, 120kB/s]\n",
            "Downloading (…)7e68/train_script.py: 100% 13.1k/13.1k [00:00<00:00, 5.71MB/s]\n",
            "Downloading (…)afc487e68/vocab.json: 100% 798k/798k [00:00<00:00, 6.00MB/s]\n",
            "Downloading (…)c487e68/modules.json: 100% 349/349 [00:00<00:00, 146kB/s]\n",
            "2023-04-05 00:53:11 - Use pytorch device: cuda\n",
            "2023-04-05 00:53:11 - EmbeddingSimilarityEvaluator: Evaluating the model on sts-test dataset:\n",
            "2023-04-05 00:53:17 - Cosine-Similarity :\tPearson: 0.1649\tSpearman: 0.3245\n",
            "2023-04-05 00:53:17 - Manhattan-Distance:\tPearson: 0.2537\tSpearman: 0.3230\n",
            "2023-04-05 00:53:17 - Euclidean-Distance:\tPearson: 0.2554\tSpearman: 0.3245\n",
            "2023-04-05 00:53:17 - Dot-Product-Similarity:\tPearson: 0.1649\tSpearman: 0.3245\n",
            "2023-04-05 00:53:17 - Load pretrained SentenceTransformer: all-MiniLM-L6-v2\n",
            "Downloading (…)e9125/.gitattributes: 100% 1.18k/1.18k [00:00<00:00, 430kB/s]\n",
            "Downloading (…)_Pooling/config.json: 100% 190/190 [00:00<00:00, 71.8kB/s]\n",
            "Downloading (…)7e55de9125/README.md: 100% 10.6k/10.6k [00:00<00:00, 3.83MB/s]\n",
            "Downloading (…)55de9125/config.json: 100% 612/612 [00:00<00:00, 210kB/s]\n",
            "Downloading (…)ce_transformers.json: 100% 116/116 [00:00<00:00, 31.4kB/s]\n",
            "Downloading (…)125/data_config.json: 100% 39.3k/39.3k [00:00<00:00, 1.25MB/s]\n",
            "Downloading pytorch_model.bin: 100% 90.9M/90.9M [00:00<00:00, 172MB/s]\n",
            "Downloading (…)nce_bert_config.json: 100% 53.0/53.0 [00:00<00:00, 22.9kB/s]\n",
            "Downloading (…)cial_tokens_map.json: 100% 112/112 [00:00<00:00, 41.2kB/s]\n",
            "Downloading (…)e9125/tokenizer.json: 100% 466k/466k [00:00<00:00, 4.26MB/s]\n",
            "Downloading (…)okenizer_config.json: 100% 350/350 [00:00<00:00, 151kB/s]\n",
            "Downloading (…)9125/train_script.py: 100% 13.2k/13.2k [00:00<00:00, 4.48MB/s]\n",
            "Downloading (…)7e55de9125/vocab.txt: 100% 232k/232k [00:00<00:00, 2.86MB/s]\n",
            "Downloading (…)5de9125/modules.json: 100% 349/349 [00:00<00:00, 134kB/s]\n",
            "2023-04-05 00:53:22 - Use pytorch device: cuda\n",
            "2023-04-05 00:53:22 - EmbeddingSimilarityEvaluator: Evaluating the model on sts-test dataset:\n",
            "2023-04-05 00:53:24 - Cosine-Similarity :\tPearson: 0.3693\tSpearman: 0.4218\n",
            "2023-04-05 00:53:24 - Manhattan-Distance:\tPearson: 0.4170\tSpearman: 0.4221\n",
            "2023-04-05 00:53:24 - Euclidean-Distance:\tPearson: 0.4169\tSpearman: 0.4218\n",
            "2023-04-05 00:53:24 - Dot-Product-Similarity:\tPearson: 0.3693\tSpearman: 0.4218\n",
            "2023-04-05 00:53:24 - Load pretrained SentenceTransformer: paraphrase-multilingual-MiniLM-L12-v2\n",
            "Downloading (…)0fe39/.gitattributes: 100% 968/968 [00:00<00:00, 377kB/s]\n",
            "Downloading (…)_Pooling/config.json: 100% 190/190 [00:00<00:00, 81.5kB/s]\n",
            "Downloading (…)83e900fe39/README.md: 100% 3.79k/3.79k [00:00<00:00, 1.57MB/s]\n",
            "Downloading (…)e900fe39/config.json: 100% 645/645 [00:00<00:00, 275kB/s]\n",
            "Downloading (…)ce_transformers.json: 100% 122/122 [00:00<00:00, 53.4kB/s]\n",
            "Downloading pytorch_model.bin: 100% 471M/471M [00:03<00:00, 154MB/s]\n",
            "Downloading (…)nce_bert_config.json: 100% 53.0/53.0 [00:00<00:00, 17.5kB/s]\n",
            "Downloading (…)tencepiece.bpe.model: 100% 5.07M/5.07M [00:00<00:00, 58.6MB/s]\n",
            "Downloading (…)cial_tokens_map.json: 100% 239/239 [00:00<00:00, 103kB/s]\n",
            "Downloading tokenizer.json: 100% 9.08M/9.08M [00:00<00:00, 90.9MB/s]\n",
            "Downloading (…)okenizer_config.json: 100% 480/480 [00:00<00:00, 134kB/s]\n",
            "Downloading unigram.json: 100% 14.8M/14.8M [00:00<00:00, 110MB/s]\n",
            "Downloading (…)900fe39/modules.json: 100% 229/229 [00:00<00:00, 84.4kB/s]\n",
            "2023-04-05 00:53:33 - Use pytorch device: cuda\n",
            "2023-04-05 00:53:33 - EmbeddingSimilarityEvaluator: Evaluating the model on sts-test dataset:\n",
            "2023-04-05 00:53:35 - Cosine-Similarity :\tPearson: 0.7388\tSpearman: 0.7444\n",
            "2023-04-05 00:53:35 - Manhattan-Distance:\tPearson: 0.7255\tSpearman: 0.7195\n",
            "2023-04-05 00:53:35 - Euclidean-Distance:\tPearson: 0.7245\tSpearman: 0.7185\n",
            "2023-04-05 00:53:35 - Dot-Product-Similarity:\tPearson: 0.5586\tSpearman: 0.5526\n",
            "2023-04-05 00:53:35 - Load pretrained SentenceTransformer: paraphrase-multilingual-mpnet-base-v2\n",
            "Downloading (…)9e268/.gitattributes: 100% 690/690 [00:00<00:00, 295kB/s]\n",
            "Downloading (…)_Pooling/config.json: 100% 190/190 [00:00<00:00, 82.1kB/s]\n",
            "Downloading (…)f2cd19e268/README.md: 100% 3.77k/3.77k [00:00<00:00, 1.46MB/s]\n",
            "Downloading (…)cd19e268/config.json: 100% 723/723 [00:00<00:00, 292kB/s]\n",
            "Downloading (…)ce_transformers.json: 100% 122/122 [00:00<00:00, 51.6kB/s]\n",
            "Downloading pytorch_model.bin: 100% 1.11G/1.11G [00:11<00:00, 99.5MB/s]\n",
            "Downloading (…)nce_bert_config.json: 100% 53.0/53.0 [00:00<00:00, 15.9kB/s]\n",
            "Downloading (…)tencepiece.bpe.model: 100% 5.07M/5.07M [00:00<00:00, 56.2MB/s]\n",
            "Downloading (…)cial_tokens_map.json: 100% 239/239 [00:00<00:00, 79.8kB/s]\n",
            "Downloading (…)9e268/tokenizer.json: 100% 9.08M/9.08M [00:00<00:00, 33.7MB/s]\n",
            "Downloading (…)okenizer_config.json: 100% 402/402 [00:00<00:00, 139kB/s]\n",
            "Downloading (…)d19e268/modules.json: 100% 229/229 [00:00<00:00, 102kB/s]\n",
            "2023-04-05 00:53:54 - Use pytorch device: cuda\n",
            "2023-04-05 00:53:54 - EmbeddingSimilarityEvaluator: Evaluating the model on sts-test dataset:\n",
            "2023-04-05 00:53:58 - Cosine-Similarity :\tPearson: 0.8070\tSpearman: 0.8200\n",
            "2023-04-05 00:53:58 - Manhattan-Distance:\tPearson: 0.8033\tSpearman: 0.8039\n",
            "2023-04-05 00:53:58 - Euclidean-Distance:\tPearson: 0.8048\tSpearman: 0.8061\n",
            "2023-04-05 00:53:58 - Dot-Product-Similarity:\tPearson: 0.7030\tSpearman: 0.6849\n"
          ]
        }
      ]
    }
  ]
}