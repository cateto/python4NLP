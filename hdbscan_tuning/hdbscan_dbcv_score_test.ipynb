{
  "nbformat": 4,
  "nbformat_minor": 0,
  "metadata": {
    "colab": {
      "provenance": [],
      "authorship_tag": "ABX9TyOpgREKoXvgzE3kt6p/2/g8",
      "include_colab_link": true
    },
    "kernelspec": {
      "name": "python3",
      "display_name": "Python 3"
    },
    "language_info": {
      "name": "python"
    }
  },
  "cells": [
    {
      "cell_type": "markdown",
      "metadata": {
        "id": "view-in-github",
        "colab_type": "text"
      },
      "source": [
        "<a href=\"https://colab.research.google.com/github/cateto/python4NLP/blob/main/hdbscan_tuning/hdbscan_dbcv_score_test.ipynb\" target=\"_parent\"><img src=\"https://colab.research.google.com/assets/colab-badge.svg\" alt=\"Open In Colab\"/></a>"
      ]
    },
    {
      "cell_type": "code",
      "source": [
        "!pip install hdbscan Amazon-DenseClus"
      ],
      "metadata": {
        "colab": {
          "base_uri": "https://localhost:8080/"
        },
        "id": "j6kXecRjjDak",
        "outputId": "ec702714-3e87-49b4-a94e-767f11bd5b29"
      },
      "execution_count": 6,
      "outputs": [
        {
          "output_type": "stream",
          "name": "stdout",
          "text": [
            "Looking in indexes: https://pypi.org/simple, https://us-python.pkg.dev/colab-wheels/public/simple/\n",
            "Requirement already satisfied: hdbscan in /usr/local/lib/python3.8/dist-packages (0.8.29)\n",
            "Collecting Amazon-DenseClus\n",
            "  Downloading Amazon_DenseClus-0.0.9-py3-none-any.whl (7.0 kB)\n",
            "Requirement already satisfied: scipy>=1.0 in /usr/local/lib/python3.8/dist-packages (from hdbscan) (1.7.3)\n",
            "Requirement already satisfied: numpy>=1.20 in /usr/local/lib/python3.8/dist-packages (from hdbscan) (1.21.6)\n",
            "Requirement already satisfied: scikit-learn>=0.20 in /usr/local/lib/python3.8/dist-packages (from hdbscan) (1.0.2)\n",
            "Requirement already satisfied: cython>=0.27 in /usr/local/lib/python3.8/dist-packages (from hdbscan) (0.29.32)\n",
            "Requirement already satisfied: joblib>=1.0 in /usr/local/lib/python3.8/dist-packages (from hdbscan) (1.2.0)\n",
            "Requirement already satisfied: numba>=0.51.2 in /usr/local/lib/python3.8/dist-packages (from Amazon-DenseClus) (0.56.4)\n",
            "Collecting umap-learn>=0.5.1\n",
            "  Downloading umap-learn-0.5.3.tar.gz (88 kB)\n",
            "\u001b[2K     \u001b[90m━━━━━━━━━━━━━━━━━━━━━━━━━━━━━━━━━━━━━━━━\u001b[0m \u001b[32m88.2/88.2 KB\u001b[0m \u001b[31m4.0 MB/s\u001b[0m eta \u001b[36m0:00:00\u001b[0m\n",
            "\u001b[?25h  Preparing metadata (setup.py) ... \u001b[?25l\u001b[?25hdone\n",
            "Requirement already satisfied: pandas>=1.2.4 in /usr/local/lib/python3.8/dist-packages (from Amazon-DenseClus) (1.3.5)\n",
            "Requirement already satisfied: setuptools in /usr/local/lib/python3.8/dist-packages (from numba>=0.51.2->Amazon-DenseClus) (57.4.0)\n",
            "Requirement already satisfied: importlib-metadata in /usr/local/lib/python3.8/dist-packages (from numba>=0.51.2->Amazon-DenseClus) (6.0.0)\n",
            "Requirement already satisfied: llvmlite<0.40,>=0.39.0dev0 in /usr/local/lib/python3.8/dist-packages (from numba>=0.51.2->Amazon-DenseClus) (0.39.1)\n",
            "Requirement already satisfied: python-dateutil>=2.7.3 in /usr/local/lib/python3.8/dist-packages (from pandas>=1.2.4->Amazon-DenseClus) (2.8.2)\n",
            "Requirement already satisfied: pytz>=2017.3 in /usr/local/lib/python3.8/dist-packages (from pandas>=1.2.4->Amazon-DenseClus) (2022.7)\n",
            "Requirement already satisfied: threadpoolctl>=2.0.0 in /usr/local/lib/python3.8/dist-packages (from scikit-learn>=0.20->hdbscan) (3.1.0)\n",
            "Collecting pynndescent>=0.5\n",
            "  Downloading pynndescent-0.5.8.tar.gz (1.1 MB)\n",
            "\u001b[2K     \u001b[90m━━━━━━━━━━━━━━━━━━━━━━━━━━━━━━━━━━━━━━━━\u001b[0m \u001b[32m1.1/1.1 MB\u001b[0m \u001b[31m30.0 MB/s\u001b[0m eta \u001b[36m0:00:00\u001b[0m\n",
            "\u001b[?25h  Preparing metadata (setup.py) ... \u001b[?25l\u001b[?25hdone\n",
            "Requirement already satisfied: tqdm in /usr/local/lib/python3.8/dist-packages (from umap-learn>=0.5.1->Amazon-DenseClus) (4.64.1)\n",
            "Requirement already satisfied: six>=1.5 in /usr/local/lib/python3.8/dist-packages (from python-dateutil>=2.7.3->pandas>=1.2.4->Amazon-DenseClus) (1.15.0)\n",
            "Requirement already satisfied: zipp>=0.5 in /usr/local/lib/python3.8/dist-packages (from importlib-metadata->numba>=0.51.2->Amazon-DenseClus) (3.11.0)\n",
            "Building wheels for collected packages: umap-learn, pynndescent\n",
            "  Building wheel for umap-learn (setup.py) ... \u001b[?25l\u001b[?25hdone\n",
            "  Created wheel for umap-learn: filename=umap_learn-0.5.3-py3-none-any.whl size=82829 sha256=497c1e05d80b911e2ea24f75bf82ab31920e69173d8d5931ec68ec3f293180a9\n",
            "  Stored in directory: /root/.cache/pip/wheels/a9/3a/67/06a8950e053725912e6a8c42c4a3a241410f6487b8402542ea\n",
            "  Building wheel for pynndescent (setup.py) ... \u001b[?25l\u001b[?25hdone\n",
            "  Created wheel for pynndescent: filename=pynndescent-0.5.8-py3-none-any.whl size=55513 sha256=4eaa0c814c4c0f73dd59dfd05069c9caf86bdee9a4e15c16590de722e8bdd517\n",
            "  Stored in directory: /root/.cache/pip/wheels/1c/63/3a/29954bca1a27ba100ed8c27973a78cb71b43dc67aed62e80c3\n",
            "Successfully built umap-learn pynndescent\n",
            "Installing collected packages: pynndescent, umap-learn, Amazon-DenseClus\n",
            "Successfully installed Amazon-DenseClus-0.0.9 pynndescent-0.5.8 umap-learn-0.5.3\n"
          ]
        }
      ]
    },
    {
      "cell_type": "code",
      "source": [
        "import matplotlib.pyplot as plt\n",
        "import seaborn as sns\n",
        "import pandas as pd\n",
        "import numpy as np\n",
        "\n",
        "%matplotlib inline\n",
        "\n",
        "sns.set_style(\"darkgrid\", {\"axes.facecolor\": \".9\"})\n",
        "sns.set(rc={\"figure.figsize\": (10, 8)})\n",
        "\n",
        "SEED = 42\n",
        "np.random.seed(SEED)  # set the random seed as best we can\n",
        "\n",
        "data_url = \"https://raw.githubusercontent.com/awslabs/aws-customer-churn-pipeline/main/data/churn.txt\"\n",
        "df = pd.read_csv(data_url).sample(n=2000, random_state=SEED)\n",
        "df.drop([\"Phone\",\"Area Code\"], axis=1, inplace=True)"
      ],
      "metadata": {
        "id": "SdfJYknCjgwf"
      },
      "execution_count": 7,
      "outputs": []
    },
    {
      "cell_type": "code",
      "source": [
        "from denseclus import DenseClus\n",
        "\n",
        "import logging # to further silence deprecation warnings\n",
        "\n",
        "logging.captureWarnings(True)\n",
        "clf = DenseClus(\n",
        "    random_state=SEED,\n",
        "    umap_combine_method=\"intersection_union_mapper\"\n",
        ")\n",
        "\n",
        "clf.fit(df)"
      ],
      "metadata": {
        "colab": {
          "base_uri": "https://localhost:8080/"
        },
        "id": "JI0iab6YjUrk",
        "outputId": "69eb400f-6840-4471-8992-be9281f9d9c6"
      },
      "execution_count": null,
      "outputs": [
        {
          "output_type": "stream",
          "name": "stderr",
          "text": [
            "WARNING:py.warnings:/usr/local/lib/python3.8/dist-packages/umap/umap_.py:1802: UserWarning: gradient function is not yet implemented for dice distance metric; inverse_transform will be unavailable\n",
            "  warn(\n",
            "\n"
          ]
        }
      ]
    },
    {
      "cell_type": "code",
      "source": [
        "embedding = clf.mapper_.embedding_\n",
        "labels = clf.score()\n",
        "clustered = (labels >= 0)\n",
        "\n",
        "cnts = pd.DataFrame(labels)[0].value_counts()\n",
        "cnts = cnts.reset_index()\n",
        "cnts.columns = ['cluster','count']\n",
        "print(cnts.sort_values(['cluster']))"
      ],
      "metadata": {
        "id": "B8PZroBDjXPJ"
      },
      "execution_count": null,
      "outputs": []
    },
    {
      "cell_type": "code",
      "execution_count": null,
      "metadata": {
        "id": "FxwJRRAcjAml"
      },
      "outputs": [],
      "source": [
        "from sklearn.model_selection import RandomizedSearchCV\n",
        "import hdbscan\n",
        "from sklearn.metrics import make_scorer\n",
        "import logging\n",
        "\n",
        "logging.captureWarnings(True)\n",
        "hdb = hdbscan.HDBSCAN(gen_min_span_tree=True).fit(embedding)\n",
        "\n",
        "# specify parameters and distributions to sample from\n",
        "param_dist = {'min_samples': [10,30,50,60,100],\n",
        "              'min_cluster_size':[100,200,300,400,500,600],  \n",
        "              'cluster_selection_method' : ['eom','leaf'],\n",
        "              'metric' : ['euclidean','manhattan'] \n",
        "             }\n",
        "\n",
        "#validity_scroer = \"hdbscan__hdbscan___HDBSCAN__validity_index\"\n",
        "validity_scorer = make_scorer(hdbscan.validity.validity_index,greater_is_better=True)\n",
        "\n",
        "\n",
        "n_iter_search = 20\n",
        "random_search = RandomizedSearchCV(hdb\n",
        "                                   ,param_distributions=param_dist\n",
        "                                   ,n_iter=n_iter_search\n",
        "                                   ,scoring=validity_scorer \n",
        "                                   ,random_state=SEED)\n",
        "\n",
        "random_search.fit(embedding)\n",
        "\n",
        "\n",
        "print(f\"Best Parameters {random_search.best_params_}\")\n",
        "print(f\"DBCV score :{random_search.best_estimator_.relative_validity_}\")"
      ]
    },
    {
      "cell_type": "code",
      "source": [],
      "metadata": {
        "id": "a7u4VWUdjIjj"
      },
      "execution_count": null,
      "outputs": []
    }
  ]
}