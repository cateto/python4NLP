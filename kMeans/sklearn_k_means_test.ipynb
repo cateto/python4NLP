{
  "nbformat": 4,
  "nbformat_minor": 0,
  "metadata": {
    "colab": {
      "name": "sklearn_k-means_test.ipynb",
      "provenance": [],
      "authorship_tag": "ABX9TyOmFR1Gv4va2YOvpx3Ia/0p",
      "include_colab_link": true
    },
    "kernelspec": {
      "name": "python3",
      "display_name": "Python 3"
    },
    "language_info": {
      "name": "python"
    },
    "accelerator": "GPU"
  },
  "cells": [
    {
      "cell_type": "markdown",
      "metadata": {
        "id": "view-in-github",
        "colab_type": "text"
      },
      "source": [
        "<a href=\"https://colab.research.google.com/github/cateto/python4NLP/blob/main/kMeans/sklearn_k_means_test.ipynb\" target=\"_parent\"><img src=\"https://colab.research.google.com/assets/colab-badge.svg\" alt=\"Open In Colab\"/></a>"
      ]
    },
    {
      "cell_type": "code",
      "metadata": {
        "colab": {
          "base_uri": "https://localhost:8080/"
        },
        "id": "vd5oupp2PZPE",
        "outputId": "a11ecbec-42a3-43d0-8061-beabcec59dbb"
      },
      "source": [
        "from google.colab import drive\n",
        "drive.mount('/content/drive')"
      ],
      "execution_count": 39,
      "outputs": [
        {
          "output_type": "stream",
          "name": "stdout",
          "text": [
            "Drive already mounted at /content/drive; to attempt to forcibly remount, call drive.mount(\"/content/drive\", force_remount=True).\n"
          ]
        }
      ]
    },
    {
      "cell_type": "code",
      "metadata": {
        "id": "7bWpQBjmPVXf"
      },
      "source": [
        "import pandas as pd\n",
        "\n",
        "save_path = \"/content/drive/MyDrive/sentence_sim/sampling_data_코로나_5.json\""
      ],
      "execution_count": 40,
      "outputs": []
    },
    {
      "cell_type": "code",
      "metadata": {
        "id": "UAFs2hFvPvlB"
      },
      "source": [
        "import json\n",
        "with open(save_path, 'r') as datafile:\n",
        "    data = json.load(datafile)\n",
        "df = pd.DataFrame(data)"
      ],
      "execution_count": 41,
      "outputs": []
    },
    {
      "cell_type": "code",
      "metadata": {
        "id": "F2HLAwwIQSXN"
      },
      "source": [
        "target_df = df"
      ],
      "execution_count": 42,
      "outputs": []
    },
    {
      "cell_type": "code",
      "metadata": {
        "id": "0qeMTBaZQc1l"
      },
      "source": [
        "del df"
      ],
      "execution_count": 43,
      "outputs": []
    },
    {
      "cell_type": "code",
      "metadata": {
        "id": "ExfeNtppRE7N"
      },
      "source": [
        "db_array = np.array(target_df['embedding'].to_list(), dtype=np.float32)"
      ],
      "execution_count": 44,
      "outputs": []
    },
    {
      "cell_type": "code",
      "metadata": {
        "id": "M4CK-G1HQdU-"
      },
      "source": [
        "from sklearn.cluster import KMeans\n",
        "import time\n",
        "import numpy as np\n",
        "\n",
        "num_clusters = 4\n",
        "\n",
        "# K means 를 정의하고 학습시킨다.\n",
        "kmeans_clustering = KMeans( n_clusters = num_clusters )\n",
        "idx = kmeans_clustering.fit_predict( db_array )\n",
        "target_df['topic'] = idx"
      ],
      "execution_count": 47,
      "outputs": []
    },
    {
      "cell_type": "code",
      "metadata": {
        "colab": {
          "base_uri": "https://localhost:8080/",
          "height": 586
        },
        "id": "_fYCHAX-RGV_",
        "outputId": "8db4812b-13b0-4d55-82f9-31eab84c46b7"
      },
      "source": [
        "target_df[:10]"
      ],
      "execution_count": 49,
      "outputs": [
        {
          "output_type": "execute_result",
          "data": {
            "text/html": [
              "<div>\n",
              "<style scoped>\n",
              "    .dataframe tbody tr th:only-of-type {\n",
              "        vertical-align: middle;\n",
              "    }\n",
              "\n",
              "    .dataframe tbody tr th {\n",
              "        vertical-align: top;\n",
              "    }\n",
              "\n",
              "    .dataframe thead th {\n",
              "        text-align: right;\n",
              "    }\n",
              "</style>\n",
              "<table border=\"1\" class=\"dataframe\">\n",
              "  <thead>\n",
              "    <tr style=\"text-align: right;\">\n",
              "      <th></th>\n",
              "      <th>id</th>\n",
              "      <th>date</th>\n",
              "      <th>source</th>\n",
              "      <th>dataset</th>\n",
              "      <th>keyword</th>\n",
              "      <th>url</th>\n",
              "      <th>category</th>\n",
              "      <th>title</th>\n",
              "      <th>embedding</th>\n",
              "      <th>topic</th>\n",
              "    </tr>\n",
              "  </thead>\n",
              "  <tbody>\n",
              "    <tr>\n",
              "      <th>0</th>\n",
              "      <td>TW1462521192577781763</td>\n",
              "      <td>20211122</td>\n",
              "      <td>트위터</td>\n",
              "      <td>5</td>\n",
              "      <td>코로나</td>\n",
              "      <td>https://twitter.com/zack5087/status/1462521192...</td>\n",
              "      <td>기타</td>\n",
              "      <td>with 코로나로 방역수칙 해제\\n하니, 지역 꼴통 진쌍 손님들\\n단체 출몰.\\n....</td>\n",
              "      <td>[-0.4904758036136627, -0.23830904066562653, 0....</td>\n",
              "      <td>2</td>\n",
              "    </tr>\n",
              "    <tr>\n",
              "      <th>1</th>\n",
              "      <td>TW1461602129052049410</td>\n",
              "      <td>20211119</td>\n",
              "      <td>트위터</td>\n",
              "      <td>5</td>\n",
              "      <td>코로나</td>\n",
              "      <td>https://twitter.com/renalneral/status/14616021...</td>\n",
              "      <td>사회-보건복지</td>\n",
              "      <td>엄마 직종이 코로나로 인한 영업제한이 좀 빡센 직종이었어서 울엄마 개빡쳐했었는데 이...</td>\n",
              "      <td>[0.006760332267731428, -0.07630155980587006, 0...</td>\n",
              "      <td>2</td>\n",
              "    </tr>\n",
              "    <tr>\n",
              "      <th>2</th>\n",
              "      <td>TW1460233131907108868</td>\n",
              "      <td>20211115</td>\n",
              "      <td>트위터</td>\n",
              "      <td>5</td>\n",
              "      <td>코로나</td>\n",
              "      <td>https://twitter.com/meritsun/status/1460233131...</td>\n",
              "      <td>기타</td>\n",
              "      <td>유럽서만 지난주 신규 200만명.. 영업제한 등 '재봉쇄' 늘어난다 [시험대 오른 ...</td>\n",
              "      <td>[-0.24062581360340118, -0.25737911462783813, 0...</td>\n",
              "      <td>3</td>\n",
              "    </tr>\n",
              "    <tr>\n",
              "      <th>3</th>\n",
              "      <td>TW1459557792130691072</td>\n",
              "      <td>20211114</td>\n",
              "      <td>트위터</td>\n",
              "      <td>5</td>\n",
              "      <td>코로나</td>\n",
              "      <td>https://twitter.com/23o_Ol/status/145955779213...</td>\n",
              "      <td>기타</td>\n",
              "      <td>@huyn9508 ㅋㅋㅋㅋㅋㅋㅋㅋ아아뇨ㅠㅋㅋㅋㅋㅋㅋㅋ 위드코로나땜에 영업제한풀려서 ...</td>\n",
              "      <td>[-0.7829262018203735, -0.11043275147676468, -0...</td>\n",
              "      <td>2</td>\n",
              "    </tr>\n",
              "    <tr>\n",
              "      <th>4</th>\n",
              "      <td>TW1458395419847712771</td>\n",
              "      <td>20211110</td>\n",
              "      <td>트위터</td>\n",
              "      <td>5</td>\n",
              "      <td>코로나</td>\n",
              "      <td>https://twitter.com/99Kh179/status/14583954198...</td>\n",
              "      <td>기타</td>\n",
              "      <td>코로나 영업제한 풀려서 이 시간에 전화도 못하겠다 다들 바쁘겠지?</td>\n",
              "      <td>[-0.6574677228927612, -0.1331237554550171, -0....</td>\n",
              "      <td>2</td>\n",
              "    </tr>\n",
              "    <tr>\n",
              "      <th>5</th>\n",
              "      <td>TW1457633998142803969</td>\n",
              "      <td>20211108</td>\n",
              "      <td>트위터</td>\n",
              "      <td>5</td>\n",
              "      <td>코로나</td>\n",
              "      <td>https://twitter.com/hanitweet/status/145763399...</td>\n",
              "      <td>산업-유통/쇼핑/물류</td>\n",
              "      <td>코로나19로 인해 집합금지 또는 영업제한을 겪은 소상공인과 소상공인 임차인의 임대료...</td>\n",
              "      <td>[-0.3113981783390045, -0.25453248620033264, -0...</td>\n",
              "      <td>0</td>\n",
              "    </tr>\n",
              "    <tr>\n",
              "      <th>6</th>\n",
              "      <td>TW1456824229236641794</td>\n",
              "      <td>20211106</td>\n",
              "      <td>트위터</td>\n",
              "      <td>5</td>\n",
              "      <td>코로나</td>\n",
              "      <td>https://twitter.com/eastbright2021/status/1456...</td>\n",
              "      <td>생활-의료</td>\n",
              "      <td>코로나 팬데믹 이전과 지금 상황을 비교해 보십시오\\n\\n마스크 진단검사 사회적거리두...</td>\n",
              "      <td>[0.24139820039272308, -0.48503372073173523, -0...</td>\n",
              "      <td>1</td>\n",
              "    </tr>\n",
              "    <tr>\n",
              "      <th>7</th>\n",
              "      <td>TW1456647959538397195</td>\n",
              "      <td>20211106</td>\n",
              "      <td>트위터</td>\n",
              "      <td>5</td>\n",
              "      <td>코로나</td>\n",
              "      <td>https://twitter.com/dupdup271828/status/145664...</td>\n",
              "      <td>기타</td>\n",
              "      <td>코로나 영업제한 풀린게 이렇게까지 크리티컬할줄이야... N차 달리고싶자나...</td>\n",
              "      <td>[-0.190200075507164, -0.3914167284965515, -0.5...</td>\n",
              "      <td>2</td>\n",
              "    </tr>\n",
              "    <tr>\n",
              "      <th>8</th>\n",
              "      <td>TW1456309530451578880</td>\n",
              "      <td>20211105</td>\n",
              "      <td>트위터</td>\n",
              "      <td>5</td>\n",
              "      <td>코로나</td>\n",
              "      <td>https://twitter.com/canuluvmeliktht/status/145...</td>\n",
              "      <td>기타</td>\n",
              "      <td>지금까지 코로나 영업제한과 내 통금시간이 비슷해서 몰랐지만 풀리고나니 나는 이제 친...</td>\n",
              "      <td>[-0.03227975219488144, -0.30957308411598206, -...</td>\n",
              "      <td>2</td>\n",
              "    </tr>\n",
              "    <tr>\n",
              "      <th>9</th>\n",
              "      <td>TW1455944132183019524</td>\n",
              "      <td>20211104</td>\n",
              "      <td>트위터</td>\n",
              "      <td>5</td>\n",
              "      <td>코로나</td>\n",
              "      <td>https://twitter.com/Teraskim/status/1455944132...</td>\n",
              "      <td>기타</td>\n",
              "      <td>영업제한이 풀리자 택시 타기전쟁이 다시 시작되었다 \\n특정 역 앞에서 우리집 가는데...</td>\n",
              "      <td>[-0.15069955587387085, -0.39990097284317017, -...</td>\n",
              "      <td>2</td>\n",
              "    </tr>\n",
              "  </tbody>\n",
              "</table>\n",
              "</div>"
            ],
            "text/plain": [
              "                      id  ... topic\n",
              "0  TW1462521192577781763  ...     2\n",
              "1  TW1461602129052049410  ...     2\n",
              "2  TW1460233131907108868  ...     3\n",
              "3  TW1459557792130691072  ...     2\n",
              "4  TW1458395419847712771  ...     2\n",
              "5  TW1457633998142803969  ...     0\n",
              "6  TW1456824229236641794  ...     1\n",
              "7  TW1456647959538397195  ...     2\n",
              "8  TW1456309530451578880  ...     2\n",
              "9  TW1455944132183019524  ...     2\n",
              "\n",
              "[10 rows x 10 columns]"
            ]
          },
          "metadata": {},
          "execution_count": 49
        }
      ]
    },
    {
      "cell_type": "code",
      "metadata": {
        "colab": {
          "base_uri": "https://localhost:8080/",
          "height": 35
        },
        "id": "CnLI023MSOsg",
        "outputId": "e9f5be3e-5d50-4b6a-cb34-6f2d84557220"
      },
      "source": [
        "target_df['title'][5] # topic 0"
      ],
      "execution_count": 50,
      "outputs": [
        {
          "output_type": "execute_result",
          "data": {
            "application/vnd.google.colaboratory.intrinsic+json": {
              "type": "string"
            },
            "text/plain": [
              "'코로나19로 인해 집합금지 또는 영업제한을 겪은 소상공인과 소상공인 임차인의 임대료를 인하해주고 세액공제를 받은 ‘착한 임대인’ 등 136만명에 대해 종합소득세 중간예납 기한이 3개월 연장됐다.\\nhttps://t.co/duLUXCEM4W'"
            ]
          },
          "metadata": {},
          "execution_count": 50
        }
      ]
    },
    {
      "cell_type": "code",
      "metadata": {
        "colab": {
          "base_uri": "https://localhost:8080/",
          "height": 52
        },
        "id": "jrzvx39USmGv",
        "outputId": "2372db59-ff91-4502-86bb-998a2907eafc"
      },
      "source": [
        "target_df['title'][6] # topic 1"
      ],
      "execution_count": 51,
      "outputs": [
        {
          "output_type": "execute_result",
          "data": {
            "application/vnd.google.colaboratory.intrinsic+json": {
              "type": "string"
            },
            "text/plain": [
              "'코로나 팬데믹 이전과 지금 상황을 비교해 보십시오\\n\\n마스크 진단검사 사회적거리두기 격리 영업제한 백신접종(사실상 강제접종) 백신패스 신체의 자유제한 집회자유 통제 코로나 걸릴까봐 서로가 서로를 의심 감염에… https://t.co/7zgKR7IDZa'"
            ]
          },
          "metadata": {},
          "execution_count": 51
        }
      ]
    },
    {
      "cell_type": "code",
      "metadata": {
        "colab": {
          "base_uri": "https://localhost:8080/",
          "height": 35
        },
        "id": "f7Z_8KIYSnLu",
        "outputId": "3b891179-bab5-4224-bcbc-a3d11dc3c1f4"
      },
      "source": [
        "target_df['title'][7] # topic 2"
      ],
      "execution_count": 52,
      "outputs": [
        {
          "output_type": "execute_result",
          "data": {
            "application/vnd.google.colaboratory.intrinsic+json": {
              "type": "string"
            },
            "text/plain": [
              "'코로나 영업제한 풀린게 이렇게까지 크리티컬할줄이야... N차 달리고싶자나...'"
            ]
          },
          "metadata": {},
          "execution_count": 52
        }
      ]
    },
    {
      "cell_type": "code",
      "metadata": {
        "id": "3sKAKM6eSn8A"
      },
      "source": [
        ""
      ],
      "execution_count": null,
      "outputs": []
    }
  ]
}