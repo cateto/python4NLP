{
 "cells": [
  {
   "cell_type": "code",
   "execution_count": 1,
   "id": "0b11b780",
   "metadata": {},
   "outputs": [],
   "source": [
    "import pandas as pd\n",
    "\n",
    "save_path = '/home/rsn-dl/deep-learning/Dasom/result/'\n",
    "df = pd.read_json(save_path+'sampling_data_코로나_5.json')"
   ]
  },
  {
   "cell_type": "code",
   "execution_count": 8,
   "id": "36d77e2a",
   "metadata": {},
   "outputs": [
    {
     "data": {
      "text/plain": [
       "SentenceTransformer(\n",
       "  (0): Transformer({'max_seq_length': 512, 'do_lower_case': False}) with Transformer model: RobertaModel \n",
       "  (1): Pooling({'word_embedding_dimension': 768, 'pooling_mode_cls_token': False, 'pooling_mode_mean_tokens': True, 'pooling_mode_max_tokens': False, 'pooling_mode_mean_sqrt_len_tokens': False})\n",
       ")"
      ]
     },
     "execution_count": 8,
     "metadata": {},
     "output_type": "execute_result"
    }
   ],
   "source": [
    "import torch\n",
    "PATH = \"/home/rsn-dl/deep-learning/Dasom/klue-roberta-ftned.pt\"\n",
    "model = torch.load(PATH)\n",
    "model.eval()"
   ]
  },
  {
   "cell_type": "code",
   "execution_count": 2,
   "id": "e6546f95",
   "metadata": {},
   "outputs": [],
   "source": [
    "target_df = df"
   ]
  },
  {
   "cell_type": "code",
   "execution_count": 3,
   "id": "22266afb",
   "metadata": {},
   "outputs": [],
   "source": [
    "emb_shape = len(target_df['embedding'][0])"
   ]
  },
  {
   "cell_type": "code",
   "execution_count": 4,
   "id": "8bcf890b",
   "metadata": {},
   "outputs": [],
   "source": [
    "import numpy as np\n",
    "db_array = np.array(target_df['embedding'].to_list(), dtype=np.float32)"
   ]
  },
  {
   "cell_type": "code",
   "execution_count": 5,
   "id": "fe9319a1",
   "metadata": {},
   "outputs": [],
   "source": [
    "import faiss\n",
    "\n",
    "index = faiss.IndexIDMap(faiss.IndexFlatIP(emb_shape))\n",
    "index.add_with_ids(db_array, np.array(range(0, len(target_df))))"
   ]
  },
  {
   "cell_type": "code",
   "execution_count": 6,
   "id": "03b52dbd",
   "metadata": {},
   "outputs": [],
   "source": [
    "faiss.write_index(index, 'corona_twitter') #인덱스 쓰기"
   ]
  },
  {
   "cell_type": "code",
   "execution_count": 7,
   "id": "2841cd9f",
   "metadata": {},
   "outputs": [],
   "source": [
    "index = faiss.read_index('corona_twitter') #역직렬화"
   ]
  },
  {
   "cell_type": "code",
   "execution_count": 13,
   "id": "98bc62a5",
   "metadata": {},
   "outputs": [],
   "source": [
    "import time\n",
    "def search(query):\n",
    "   t=time.time()\n",
    "   query_vector = model.encode([query])\n",
    "   k = 5\n",
    "   top_k = index.search(query_vector, k)\n",
    "   print('totaltime: {}'.format(time.time()-t))\n",
    "   return [target_df['title'][_id] for _id in top_k[1].tolist()[0]]"
   ]
  },
  {
   "cell_type": "code",
   "execution_count": 17,
   "id": "afac58fd",
   "metadata": {},
   "outputs": [
    {
     "name": "stdout",
     "output_type": "stream",
     "text": [
      "단계적 일상회복이 이제는 시작됬군!\n",
      "totaltime: 0.02735447883605957\n",
      "results :\n",
      "\t ‘단계적 일상회복’ 위드코로나!\n",
      "일상회복을 위한 첫 걸음으로\n",
      "음식점, 카페 등 영업제한 해제?\n",
      "\n",
      "자세한 내용 가치보다로 같이보자!\n",
      "\n",
      "#가치보다 #KTV국민방송 #위드코로나 #백신패스\n",
      "#사적모임 #회식… https://t.co/zBdzHSnpF3\n",
      "\t 위드코로나 영업제한 푸는 걸 11월 1일 오전 6시부터 했어야....\n",
      "\t 금일부터 00~06시 영업제한 해제 되었습니다.\n",
      "코로나 2단계에 따라 방역수칙 준수 부탁드립니다.\n",
      "\t 진짜 거리두기, 영업제한..이제는 지친다..코로나 전에 굶어죽겠다..\n",
      "\t @kyunghyang \"어제 코로나19 신규 확진자 363명...이틀째 300명대\"\n",
      "확산세가 안전정적 추세인데...\n",
      "이제 '영업제한시간'을 해제하고 일상으로 돌아가 경제에 전념해야 한다. \n",
      "한편 나라가 디비… https://t.co/2pPxSYSct0\n"
     ]
    }
   ],
   "source": [
    "query=str(input())\n",
    "results=search(query)\n",
    "print('results :')\n",
    "for result in results:\n",
    "   print('\\t',result)"
   ]
  },
  {
   "cell_type": "code",
   "execution_count": 19,
   "id": "d94900d9",
   "metadata": {},
   "outputs": [
    {
     "name": "stdout",
     "output_type": "stream",
     "text": [
      "아마 메타버스 관련 글은 없을껄?\n",
      "totaltime: 0.012840509414672852\n",
      "results :\n",
      "\t 행정가 이재명 “코로나19, 영업제한 소상공인 보상법 반드시 제정해야”(정치/사회) https://t.co/vMN2PKBPkU \n",
      "\n",
      "전투형 노무현 이재명!!  again 2002\n",
      "\t '코로나 비관' 관장 사망? 헬스장 아닌 재활체육센터\n",
      "#오마이뉴스\n",
      "https://t.co/FBz2UqLbYh\n",
      "이런 기데기 새끼들!!!!\n",
      "나도 오늘까지 관장이 영업제한때문에 자살한 걸로 알고 있었는데;;;\n",
      "대… https://t.co/mSeGapG9YS\n",
      "\t 코로나 버티려면 영업제한, 금지업종에 집중지원해야 한다고 생각한다. . 초기에는 이재명처럼 하지만 지금은 이재명처럼 하면 언발에 오줌누기밖에 되지 않는다고 생각된다. .\n",
      "\t 합격하고 난 뒤엔 법학 선행 공부도 했다. 코로나 영업제한 제외하고 늘 새벽 2시까지 독서실에서 공부했다.\n",
      "\t 코로나 9시 영업제한 이전에\n",
      "새벽에 가도 항상 택시아재들 옹기종기 모여서 국밥 한그릇하는게 눈에 보였는데\n",
      "이제는 아예 보이질않음ᆢ\n"
     ]
    }
   ],
   "source": [
    "query=str(input())\n",
    "results=search(query)\n",
    "print('results :')\n",
    "for result in results:\n",
    "   print('\\t',result)"
   ]
  },
  {
   "cell_type": "code",
   "execution_count": 20,
   "id": "0d6bc53a",
   "metadata": {},
   "outputs": [],
   "source": [
    "class FaissKMeans:\n",
    "    def __init__(self, n_clusters=10, n_init=100, max_iter=300):\n",
    "        self.n_clusters = n_clusters\n",
    "        self.n_init = n_init\n",
    "        self.max_iter = max_iter\n",
    "        self.kmeans = None\n",
    "        self.cluster_centers_ = None\n",
    "        self.inertia_ = None\n",
    "\n",
    "    def fit(self, X, y):\n",
    "        self.kmeans = faiss.Kmeans(d=X.shape[1],\n",
    "                                   k=self.n_clusters,\n",
    "                                   niter=self.max_iter,\n",
    "                                   nredo=self.n_init)\n",
    "        self.kmeans.train(X.astype(np.float32))\n",
    "        self.cluster_centers_ = self.kmeans.centroids\n",
    "        self.inertia_ = self.kmeans.obj[-1]\n",
    "\n",
    "    def predict(self, X):\n",
    "        return self.kmeans.index.search(X.astype(np.float32), 1)[1]"
   ]
  },
  {
   "cell_type": "code",
   "execution_count": 21,
   "id": "aad36471",
   "metadata": {},
   "outputs": [
    {
     "name": "stdout",
     "output_type": "stream",
     "text": [
      "Clustering 851 points in 768D to 5 clusters, redo 1 times, 20 iterations\n",
      "  Preprocessing in 0.00 s\n",
      "[78087.390625   47895.8046875  46711.16796875 46279.55859375lance=1.469 nsplit=0         \n",
      " 46101.53515625 45957.0859375  45838.71484375 45758.08203125\n",
      " 45722.34765625 45707.01953125 45689.734375   45671.2421875\n",
      " 45661.6640625  45655.1015625  45650.328125   45647.1015625\n",
      " 45645.25390625 45644.96484375 45644.96484375 45644.96484375]\n",
      "(5, 768)\n",
      "(851, 1)\n",
      "D: 768\n",
      "K: 5\n",
      "niter: 20\n",
      "\n"
     ]
    }
   ],
   "source": [
    "D = emb_shape\n",
    "K = 5  # The number of clusters\n",
    "\n",
    "# Setup\n",
    "kmeans = faiss.Kmeans(d=D, k=K, niter=20, verbose=True)\n",
    "# For GPU(s), run the following line. This will use all GPUs\n",
    "# kmeans = faiss.Kmeans(d=D, k=K, niter=20, verbose=True, gpu=True)\n",
    "\n",
    "# Run clustering\n",
    "kmeans.train(db_array)\n",
    "\n",
    "# Error for each iteration\n",
    "print(kmeans.obj)  # array with 20 elements\n",
    "\n",
    "# Centroids after clustering\n",
    "print(kmeans.centroids.shape)  # (10, 128)\n",
    "\n",
    "# The assignment for each vector.\n",
    "dists, ids = kmeans.index.search(db_array, 1)  # Need to run NN search again\n",
    "print(ids.shape)\n",
    "\n",
    "# Params\n",
    "print(\"D:\", kmeans.d)\n",
    "print(\"K:\", kmeans.k)\n",
    "print(\"niter:\", kmeans.cp.niter)"
   ]
  },
  {
   "cell_type": "code",
   "execution_count": null,
   "id": "8a7dd8df",
   "metadata": {},
   "outputs": [],
   "source": []
  }
 ],
 "metadata": {
  "kernelspec": {
   "display_name": "py37_som",
   "language": "python",
   "name": "py37_som"
  },
  "language_info": {
   "codemirror_mode": {
    "name": "ipython",
    "version": 3
   },
   "file_extension": ".py",
   "mimetype": "text/x-python",
   "name": "python",
   "nbconvert_exporter": "python",
   "pygments_lexer": "ipython3",
   "version": "3.7.0"
  }
 },
 "nbformat": 4,
 "nbformat_minor": 5
}
