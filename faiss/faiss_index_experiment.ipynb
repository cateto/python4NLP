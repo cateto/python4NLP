{
  "nbformat": 4,
  "nbformat_minor": 0,
  "metadata": {
    "colab": {
      "name": "faiss_index_experiment.ipynb",
      "provenance": [],
      "authorship_tag": "ABX9TyMoSjdHXbIiF8wErD8h96Vj",
      "include_colab_link": true
    },
    "kernelspec": {
      "name": "python3",
      "display_name": "Python 3"
    },
    "language_info": {
      "name": "python"
    }
  },
  "cells": [
    {
      "cell_type": "markdown",
      "metadata": {
        "id": "view-in-github",
        "colab_type": "text"
      },
      "source": [
        "<a href=\"https://colab.research.google.com/github/cateto/python4NLP/blob/main/faiss/faiss_index_experiment.ipynb\" target=\"_parent\"><img src=\"https://colab.research.google.com/assets/colab-badge.svg\" alt=\"Open In Colab\"/></a>"
      ]
    },
    {
      "cell_type": "code",
      "source": [
        "!apt install libomp-dev\n",
        "!python -m pip install --upgrade faiss faiss-gpu"
      ],
      "metadata": {
        "colab": {
          "base_uri": "https://localhost:8080/"
        },
        "id": "RQkMZnGNmolQ",
        "outputId": "f9fa2c7c-2631-4537-b326-41de12a504ef"
      },
      "execution_count": 14,
      "outputs": [
        {
          "output_type": "stream",
          "name": "stdout",
          "text": [
            "Reading package lists... Done\n",
            "Building dependency tree       \n",
            "Reading state information... Done\n",
            "The following additional packages will be installed:\n",
            "  libomp5\n",
            "Suggested packages:\n",
            "  libomp-doc\n",
            "The following NEW packages will be installed:\n",
            "  libomp-dev libomp5\n",
            "0 upgraded, 2 newly installed, 0 to remove and 37 not upgraded.\n",
            "Need to get 239 kB of archives.\n",
            "After this operation, 804 kB of additional disk space will be used.\n",
            "Get:1 http://archive.ubuntu.com/ubuntu bionic/universe amd64 libomp5 amd64 5.0.1-1 [234 kB]\n",
            "Get:2 http://archive.ubuntu.com/ubuntu bionic/universe amd64 libomp-dev amd64 5.0.1-1 [5,088 B]\n",
            "Fetched 239 kB in 1s (213 kB/s)\n",
            "Selecting previously unselected package libomp5:amd64.\n",
            "(Reading database ... 155229 files and directories currently installed.)\n",
            "Preparing to unpack .../libomp5_5.0.1-1_amd64.deb ...\n",
            "Unpacking libomp5:amd64 (5.0.1-1) ...\n",
            "Selecting previously unselected package libomp-dev.\n",
            "Preparing to unpack .../libomp-dev_5.0.1-1_amd64.deb ...\n",
            "Unpacking libomp-dev (5.0.1-1) ...\n",
            "Setting up libomp5:amd64 (5.0.1-1) ...\n",
            "Setting up libomp-dev (5.0.1-1) ...\n",
            "Processing triggers for libc-bin (2.27-3ubuntu1.3) ...\n",
            "/sbin/ldconfig.real: /usr/local/lib/python3.7/dist-packages/ideep4py/lib/libmkldnn.so.0 is not a symbolic link\n",
            "\n",
            "Requirement already satisfied: faiss in /usr/local/lib/python3.7/dist-packages (1.5.3)\n",
            "Collecting faiss-gpu\n",
            "  Downloading faiss_gpu-1.7.1.post3-cp37-cp37m-manylinux_2_17_x86_64.manylinux2014_x86_64.whl (90.1 MB)\n",
            "\u001b[K     |████████████████████████████████| 90.1 MB 20 kB/s \n",
            "\u001b[?25hRequirement already satisfied: numpy in /usr/local/lib/python3.7/dist-packages (from faiss) (1.19.5)\n",
            "Installing collected packages: faiss-gpu\n",
            "Successfully installed faiss-gpu-1.7.1.post3\n"
          ]
        }
      ]
    },
    {
      "cell_type": "code",
      "execution_count": 1,
      "metadata": {
        "id": "ZSnCnpG2jnAj"
      },
      "outputs": [],
      "source": [
        "import shutil\n",
        "import urllib.request as request\n",
        "from contextlib import closing\n",
        "\n",
        "# first we download the Sift1M dataset\n",
        "with closing(request.urlopen('ftp://ftp.irisa.fr/local/texmex/corpus/sift.tar.gz')) as r:\n",
        "    with open('sift.tar.gz', 'wb') as f:\n",
        "        shutil.copyfileobj(r, f)"
      ]
    },
    {
      "cell_type": "code",
      "source": [
        "import tarfile\n",
        "\n",
        "tar = tarfile.open('sift.tar.gz', 'r:gz')\n",
        "tar.extractall()"
      ],
      "metadata": {
        "id": "Jh1hq56NjycS"
      },
      "execution_count": 2,
      "outputs": []
    },
    {
      "cell_type": "code",
      "source": [
        "import numpy as np\n",
        "\n",
        "def read_fvecs(fp):\n",
        "    a = np.fromfile(fp, dtype='int32')\n",
        "    d = a[0]\n",
        "    return a.reshape(-1, d+1)[:, 1:].copy().view('float32')"
      ],
      "metadata": {
        "id": "eXJg4mUcj0IO"
      },
      "execution_count": 3,
      "outputs": []
    },
    {
      "cell_type": "code",
      "source": [
        "# 검색할 데이터\n",
        "xb = read_fvecs('./sift/sift_base.fvecs') #1M samples\n",
        "# some query vectors\n",
        "xq = read_fvecs('./sift/sift_query.fvecs')\n",
        "# 하나의 쿼리를 추출\n",
        "xq = xq[0].reshape(1, xq.shape[1])"
      ],
      "metadata": {
        "id": "OViiRXnjj5fv"
      },
      "execution_count": 4,
      "outputs": []
    },
    {
      "cell_type": "code",
      "source": [
        "xq.shape"
      ],
      "metadata": {
        "colab": {
          "base_uri": "https://localhost:8080/"
        },
        "id": "dgHOns_tkS7_",
        "outputId": "70bb3736-3569-40b7-bd3e-7d23f0272fa8"
      },
      "execution_count": 5,
      "outputs": [
        {
          "output_type": "execute_result",
          "data": {
            "text/plain": [
              "(1, 128)"
            ]
          },
          "metadata": {},
          "execution_count": 5
        }
      ]
    },
    {
      "cell_type": "code",
      "source": [
        "xb.shape"
      ],
      "metadata": {
        "colab": {
          "base_uri": "https://localhost:8080/"
        },
        "id": "DVEOY5UqkT2B",
        "outputId": "c2d55844-5411-48a4-aed0-485b43451565"
      },
      "execution_count": 6,
      "outputs": [
        {
          "output_type": "execute_result",
          "data": {
            "text/plain": [
              "(1000000, 128)"
            ]
          },
          "metadata": {},
          "execution_count": 6
        }
      ]
    },
    {
      "cell_type": "code",
      "source": [
        "xq"
      ],
      "metadata": {
        "colab": {
          "base_uri": "https://localhost:8080/"
        },
        "id": "kvdgua00kUp_",
        "outputId": "b317eb04-db15-4a9f-f505-0c5516c012c1"
      },
      "execution_count": 7,
      "outputs": [
        {
          "output_type": "execute_result",
          "data": {
            "text/plain": [
              "array([[  1.,   3.,  11., 110.,  62.,  22.,   4.,   0.,  43.,  21.,  22.,\n",
              "         18.,   6.,  28.,  64.,   9.,  11.,   1.,   0.,   0.,   1.,  40.,\n",
              "        101.,  21.,  20.,   2.,   4.,   2.,   2.,   9.,  18.,  35.,   1.,\n",
              "          1.,   7.,  25., 108., 116.,  63.,   2.,   0.,   0.,  11.,  74.,\n",
              "         40., 101., 116.,   3.,  33.,   1.,   1.,  11.,  14.,  18., 116.,\n",
              "        116.,  68.,  12.,   5.,   4.,   2.,   2.,   9., 102.,  17.,   3.,\n",
              "         10.,  18.,   8.,  15.,  67.,  63.,  15.,   0.,  14., 116.,  80.,\n",
              "          0.,   2.,  22.,  96.,  37.,  28.,  88.,  43.,   1.,   4.,  18.,\n",
              "        116.,  51.,   5.,  11.,  32.,  14.,   8.,  23.,  44.,  17.,  12.,\n",
              "          9.,   0.,   0.,  19.,  37.,  85.,  18.,  16., 104.,  22.,   6.,\n",
              "          2.,  26.,  12.,  58.,  67.,  82.,  25.,  12.,   2.,   2.,  25.,\n",
              "         18.,   8.,   2.,  19.,  42.,  48.,  11.]], dtype=float32)"
            ]
          },
          "metadata": {},
          "execution_count": 7
        }
      ]
    },
    {
      "cell_type": "markdown",
      "source": [
        "# IndexFlatL2\n",
        "- balance of search spped of search quality\n",
        "- 대부분 검색 품질이 높으면 검색 속도가 낮아진다.\n",
        "- 10억개의 벡터가 있고 1분에 100개의 쿼리를 수행한다고 하면 오랜시간이 걸릴 것이다.\n",
        "- 그리고 이걸 실행하려면 미친 하드웨어가 필요하므로 완전 검색에서는 빠른 색인을 사용할 수 없지만 사용 방법을 보여드리겠습니다~"
      ],
      "metadata": {
        "id": "MNaOPcQCkZQ-"
      }
    },
    {
      "cell_type": "code",
      "source": [
        "d = 128\n",
        "k = 10 # how many result do i want\n",
        "\n",
        "import faiss\n",
        "\n",
        "index = faiss.IndexFlatIP(d) # L2보다 약간 빠름. 실제로는 거의 차이가 없음\n",
        "index.add(xb)\n"
      ],
      "metadata": {
        "id": "OMQD9Oa2kYYp"
      },
      "execution_count": 16,
      "outputs": []
    },
    {
      "cell_type": "code",
      "source": [
        "%%time\n",
        "D, I = index.search(xq, k) # 샘플 갯수와 쿼리 벡터"
      ],
      "metadata": {
        "colab": {
          "base_uri": "https://localhost:8080/"
        },
        "id": "jZxIZijxmvjq",
        "outputId": "3d3377a6-d271-488e-d14c-4121afdfeec7"
      },
      "execution_count": 17,
      "outputs": [
        {
          "output_type": "stream",
          "name": "stdout",
          "text": [
            "CPU times: user 223 ms, sys: 0 ns, total: 223 ms\n",
            "Wall time: 208 ms\n"
          ]
        }
      ]
    },
    {
      "cell_type": "code",
      "source": [
        "I # 10개의 가장 가까운 인덱스"
      ],
      "metadata": {
        "colab": {
          "base_uri": "https://localhost:8080/"
        },
        "id": "aewFrvMrnWMv",
        "outputId": "7192c6c5-deca-4001-8921-4f225081d740"
      },
      "execution_count": 18,
      "outputs": [
        {
          "output_type": "execute_result",
          "data": {
            "text/plain": [
              "array([[932085, 934876, 561813, 708177, 706771, 695756, 435345, 701258,\n",
              "        872728, 455537]])"
            ]
          },
          "metadata": {},
          "execution_count": 18
        }
      ]
    },
    {
      "cell_type": "code",
      "source": [
        "baseline = I[0].tolist()\n",
        "baseline"
      ],
      "metadata": {
        "colab": {
          "base_uri": "https://localhost:8080/"
        },
        "id": "D4Xgg8RAnb70",
        "outputId": "884d0f90-6e4f-44d3-ddb6-fe6312bf7022"
      },
      "execution_count": 19,
      "outputs": [
        {
          "output_type": "execute_result",
          "data": {
            "text/plain": [
              "[932085,\n",
              " 934876,\n",
              " 561813,\n",
              " 708177,\n",
              " 706771,\n",
              " 695756,\n",
              " 435345,\n",
              " 701258,\n",
              " 872728,\n",
              " 455537]"
            ]
          },
          "metadata": {},
          "execution_count": 19
        }
      ]
    },
    {
      "cell_type": "markdown",
      "source": [
        "# LSH (Locality Sensitive Hashing)\n",
        "- 50 : 50\n",
        "- hashing 기능 : hash buckets에 값이 중복되는 충돌을 최소화\n",
        "- python의 dictionary 같은 구조\n",
        "- 가까운 버킷을 찾은다음 검색 범위를 제한한다.\n",
        "- 모든 곳을 검색할 필요가 없음.\n",
        "- 아주 직관적"
      ],
      "metadata": {
        "id": "al5mhaVYnm6P"
      }
    },
    {
      "cell_type": "code",
      "source": [
        "nbits = d*5 # 데이터의 차원에 따라 확장됨\n",
        "\n",
        "index = faiss.IndexLSH(d,nbits)\n",
        "index.add(xb)"
      ],
      "metadata": {
        "id": "b289SEHCnjmq"
      },
      "execution_count": 23,
      "outputs": []
    },
    {
      "cell_type": "code",
      "source": [
        "%%time\n",
        "\n",
        "D, I = index.search(xq, k)"
      ],
      "metadata": {
        "colab": {
          "base_uri": "https://localhost:8080/"
        },
        "id": "9ApRTRqBoUST",
        "outputId": "bb78ca07-17c0-4ad2-a156-f03c69819302"
      },
      "execution_count": 24,
      "outputs": [
        {
          "output_type": "stream",
          "name": "stdout",
          "text": [
            "CPU times: user 120 ms, sys: 565 µs, total: 120 ms\n",
            "Wall time: 70.5 ms\n"
          ]
        }
      ]
    },
    {
      "cell_type": "code",
      "source": [
        "np.in1d(baseline, I)"
      ],
      "metadata": {
        "colab": {
          "base_uri": "https://localhost:8080/"
        },
        "id": "Q4I4tYLNoZHB",
        "outputId": "526072a2-e08b-4071-f9a5-29153a98b32c"
      },
      "execution_count": 25,
      "outputs": [
        {
          "output_type": "execute_result",
          "data": {
            "text/plain": [
              "array([False,  True,  True, False, False,  True,  True, False,  True,\n",
              "       False])"
            ]
          },
          "metadata": {},
          "execution_count": 25
        }
      ]
    },
    {
      "cell_type": "markdown",
      "source": [
        "- LSH 알고리즘을 통해 얻은 10개의 결과값.\n",
        "- 대부분이 일치함.\n",
        "- 합리적으로 좋은 회수율.\n",
        "- 시간이 빨라짐.\n",
        "- nbits를 조정하여 더 좋은 결괏값을 얻을 수 있음.\n",
        "- recall graph를 보면 차원을 증가시키면 좋은 recall을 얻을 수 있지만, 차원의 저주가 있다.\n",
        "- 낮은 차원일 수록 좋다."
      ],
      "metadata": {
        "id": "5URv4vLCoiQr"
      }
    },
    {
      "cell_type": "markdown",
      "source": [
        "# HNSW(Hierarchical Navigable Small World)\n",
        "- small world graph를 탐색.\n",
        "- hops로 접근\n",
        "- 인덱스 추가에 더 오래 걸림(더 정확하게 하기 위해)\n",
        "- ef_construction은 크게 해도될것같고.. (대신 메모리 소비 많음)\n",
        "- ef_search는 잘 조절"
      ],
      "metadata": {
        "id": "X5QUNISjpU7e"
      }
    },
    {
      "cell_type": "code",
      "source": [
        "M = 16 # 50~16 number of 꼭짓점의 연결\n",
        "ef_search = 16 #검색의 깊이 (네트워크 더 많이 검색하려는 경우 high or low)\n",
        "ef_construction = 64 #네트워크 구성할 때 네트워크의 양. 얼마나 자세하게 네트워크를 구성할 것인가. 검색 시간에는 영향을 주지 않으므로 높게 설정"
      ],
      "metadata": {
        "id": "YrpS1iGSofvJ"
      },
      "execution_count": 32,
      "outputs": []
    },
    {
      "cell_type": "code",
      "source": [
        "index = faiss.IndexHNSWFlat(d, M)\n",
        "index.hnsw.efSearch = ef_search\n",
        "index.hnsw.efConstruction = ef_construction\n",
        "\n",
        "index.add(xb)"
      ],
      "metadata": {
        "id": "eoQwOIjkqEuK"
      },
      "execution_count": 33,
      "outputs": []
    },
    {
      "cell_type": "code",
      "source": [
        "%%time\n",
        "\n",
        "D, I = index.search(xq, k)"
      ],
      "metadata": {
        "colab": {
          "base_uri": "https://localhost:8080/"
        },
        "id": "ldWmQgijq4bz",
        "outputId": "949bb0a8-70dc-461f-d584-85df6637a80a"
      },
      "execution_count": 34,
      "outputs": [
        {
          "output_type": "stream",
          "name": "stdout",
          "text": [
            "CPU times: user 3.24 ms, sys: 0 ns, total: 3.24 ms\n",
            "Wall time: 3.02 ms\n"
          ]
        }
      ]
    },
    {
      "cell_type": "code",
      "source": [
        "np.in1d(baseline, I)"
      ],
      "metadata": {
        "colab": {
          "base_uri": "https://localhost:8080/"
        },
        "id": "3O9RP_lVrZfs",
        "outputId": "993c3a62-f3c1-4380-87cf-6fbc6a25ec25"
      },
      "execution_count": 35,
      "outputs": [
        {
          "output_type": "execute_result",
          "data": {
            "text/plain": [
              "array([ True,  True, False,  True,  True,  True, False, False, False,\n",
              "       False])"
            ]
          },
          "metadata": {},
          "execution_count": 35
        }
      ]
    },
    {
      "cell_type": "markdown",
      "source": [
        "# IVF(Inverted File Index)\n",
        "- Super cool index\n",
        "- Clustering datapoint를 기반으로 함.\n",
        "- 보로노이 셀 or 디리클레 테셀레이션\n",
        "- 각 영역의 중심과의 거리를 계산\n",
        "- 가까운 곳의 영역 안의 벡터와만 비교\n",
        "### Edge Problem\n",
        "- 쿼리를 사용하면 셀 중 하나의 가장자리에 있다. 그리고 n개의 probe value를 정하면, 1로 되어있다면 검색하는 영역의 수. \n",
        "- 가까운 중심 노드가 있어도 검색하지 않을 것이다. 엣지로 영역이 막혀 있으니. 따라서 search scope를 늘림으로써 (nprobe의 증가) 여러개의 셀을 검색하므로 해결할 수 있다."
      ],
      "metadata": {
        "id": "B2i7EuXrryGj"
      }
    },
    {
      "cell_type": "code",
      "source": [
        "nlist = 128 # 데이터 내에서 가질 중심의 수\n",
        "quantizer = faiss.IndexFlatIP(d) # 최종 검색을 수행하는 방법\n",
        "\n",
        "index = faiss.IndexIVFFlat(quantizer, d, nlist) \n",
        "index.is_trained "
      ],
      "metadata": {
        "colab": {
          "base_uri": "https://localhost:8080/"
        },
        "id": "pGLPvvpRsKQU",
        "outputId": "7aa651d5-189e-46c5-c23c-15283842f696"
      },
      "execution_count": 36,
      "outputs": [
        {
          "output_type": "execute_result",
          "data": {
            "text/plain": [
              "False"
            ]
          },
          "metadata": {},
          "execution_count": 36
        }
      ]
    },
    {
      "cell_type": "code",
      "source": [
        "index.train(xb) # 다른 클러스터링은 훈련이나 최적화가 필요없지만, 사용하기 전 인덱스 트레인을 작성하고 모든 벡터를 전달하며ㅡ 속도는 느리지 않다."
      ],
      "metadata": {
        "id": "5oX6Z0pHvkWr"
      },
      "execution_count": 39,
      "outputs": []
    },
    {
      "cell_type": "code",
      "source": [
        "index.add(xb)"
      ],
      "metadata": {
        "id": "wmUOR5a6tR8F"
      },
      "execution_count": 40,
      "outputs": []
    },
    {
      "cell_type": "code",
      "source": [
        "index.nprobe = 2 # 2로 증가했더니 더 높은 성능"
      ],
      "metadata": {
        "id": "rujSs0HiuNjt"
      },
      "execution_count": 44,
      "outputs": []
    },
    {
      "cell_type": "code",
      "source": [
        "%%time\n",
        "D, I = index.search(xq, k) # Low quality 결과를 제외하고 가장 빠른 것 같음."
      ],
      "metadata": {
        "colab": {
          "base_uri": "https://localhost:8080/"
        },
        "id": "IBbawHbguPls",
        "outputId": "8998b13d-fb73-4507-8850-4752ce838fae"
      },
      "execution_count": 45,
      "outputs": [
        {
          "output_type": "stream",
          "name": "stdout",
          "text": [
            "CPU times: user 17.7 ms, sys: 0 ns, total: 17.7 ms\n",
            "Wall time: 20.3 ms\n"
          ]
        }
      ]
    },
    {
      "cell_type": "code",
      "source": [
        "np.in1d(baseline, I)"
      ],
      "metadata": {
        "colab": {
          "base_uri": "https://localhost:8080/"
        },
        "id": "sHOLmk14uTHU",
        "outputId": "f6a744b4-865d-4b83-c341-6b9648ccfcef"
      },
      "execution_count": 46,
      "outputs": [
        {
          "output_type": "execute_result",
          "data": {
            "text/plain": [
              "array([ True,  True,  True,  True,  True, False,  True,  True,  True,\n",
              "        True])"
            ]
          },
          "metadata": {},
          "execution_count": 46
        }
      ]
    },
    {
      "cell_type": "code",
      "source": [
        ""
      ],
      "metadata": {
        "id": "D96hQ4XguZuX"
      },
      "execution_count": null,
      "outputs": []
    }
  ]
}