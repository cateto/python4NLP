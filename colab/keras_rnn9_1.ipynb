{
  "nbformat": 4,
  "nbformat_minor": 0,
  "metadata": {
    "colab": {
      "name": "keras_rnn9-1.ipynb",
      "provenance": [],
      "authorship_tag": "ABX9TyOXu10w6qMo+6Q248EN2fQQ",
      "include_colab_link": true
    },
    "kernelspec": {
      "name": "python3",
      "display_name": "Python 3"
    },
    "language_info": {
      "name": "python"
    }
  },
  "cells": [
    {
      "cell_type": "markdown",
      "metadata": {
        "id": "view-in-github",
        "colab_type": "text"
      },
      "source": [
        "<a href=\"https://colab.research.google.com/github/cateto/python4NLP/blob/main/colab/keras_rnn9_1.ipynb\" target=\"_parent\"><img src=\"https://colab.research.google.com/assets/colab-badge.svg\" alt=\"Open In Colab\"/></a>"
      ]
    },
    {
      "cell_type": "code",
      "metadata": {
        "id": "tl93ZuJdyb2i"
      },
      "source": [
        "import os\n",
        "os.environ['TF_CPP_MIN_LOG_LEVEL'] = '3' # 디버그 메시지 끄기\n",
        "\n",
        "\n",
        "# 1.데이터\n",
        "import numpy as np\n",
        "\n",
        "x = np.array([[1,2,3],[2,3,4],[3,4,5],[4,5,6]]) # 4행 3열 = (4, 3)\n",
        "y = np.array([4,5,6,7]) # (4, )\n",
        "# 1,2,3으로 4를 예측하겠다\n",
        "\n",
        "print(\"x.shape:\", x.shape)\n",
        "print(\"y.shape:\", y.shape)\n",
        "\n",
        "x = x.reshape(x.shape[0], x.shape[1], 1) # (4,3,1)\n",
        "\n",
        "print(\"reshape x.shape:\", x.shape)\n",
        "\n",
        "\n",
        "\n",
        "\n",
        "# 2. 모델 구성\n",
        "from tensorflow.keras.models import Sequential\n",
        "from tensorflow.keras.layers import Dense, LSTM, SimpleRNN\n",
        "\n",
        "model = Sequential()\n",
        "model.add(SimpleRNN(30, activation='relu', input_shape=(3,1)))\n",
        "model.add(Dense(512))\n",
        "model.add(Dense(256))\n",
        "model.add(Dense(1))\n",
        "\n",
        "model.summary()\n",
        "\n",
        "\n",
        "'''\n",
        "# 3. 컴파일, 훈련\n",
        "model.compile( # 컴파일\n",
        "    loss='mse', # 오차함수는 mean squared error를 사용한다\n",
        "    optimizer='adam', # 최적화 방법은 'adam'을 사용한다\n",
        "    metrics=['mae']) # mean absolute error 지표를 추가한다\n",
        "#데이터가 짧으니 validation은 하지 말자\n",
        "model.fit(x, y, \n",
        "    epochs=512, # 훈련 횟수\n",
        "    batch_size=1, # 훈련 데이터단위\n",
        "    verbose=0)\n",
        "# 4. 평가, 예측\n",
        "# 평가 데이터 넣어서 결과 보기\n",
        "result = model.evaluate(x, y, batch_size=1) \n",
        "print(\"result : \", result)\n",
        "x_input = np.array([5,6,7]) # (3,) -> (1,3,1)로 바꿔야 한다\n",
        "x_input = x_input.reshape(1,3,1)\n",
        "y_predict = model.predict(x_input) # 평가 데이터 다시 넣어 예측값 만들기\n",
        "print(\"y_predict:\\n\", y_predict)\n"
      ],
      "execution_count": null,
      "outputs": []
    },
    {
      "cell_type": "code",
      "metadata": {
        "colab": {
          "base_uri": "https://localhost:8080/"
        },
        "id": "RHrKJ9LSrT1m",
        "outputId": "37210fe7-cf80-4e57-ffd7-e0adfacc2eab"
      },
      "source": [
        "# 2. 모델 구성\n",
        "from keras.models import Sequential\n",
        "from keras.layers import SimpleRNN\n",
        "\n",
        "model = Sequential()\n",
        "model.add(SimpleRNN(3, input_shape=(2,10)))\n",
        "#model.add(SimpleRNN(hidden_size, input_shape=(timesteps, input_dim))) \n",
        "#hidden_size = 은닉 상태의 크기(output_dim과 동일)\n",
        "#timesteps = 입력 시퀀스의 길이 (시점의 수)\n",
        "#input_dim = 입력의 크기 \n",
        "# model.add(SimpleRNN(3, input_length=2, input_dim=10))와 동일함.\n",
        "model.summary()"
      ],
      "execution_count": null,
      "outputs": [
        {
          "output_type": "stream",
          "text": [
            "Model: \"sequential\"\n",
            "_________________________________________________________________\n",
            "Layer (type)                 Output Shape              Param #   \n",
            "=================================================================\n",
            "simple_rnn (SimpleRNN)       (None, 3)                 42        \n",
            "=================================================================\n",
            "Total params: 42\n",
            "Trainable params: 42\n",
            "Non-trainable params: 0\n",
            "_________________________________________________________________\n"
          ],
          "name": "stdout"
        }
      ]
    },
    {
      "cell_type": "markdown",
      "metadata": {
        "id": "IxU4BV_Wz67x"
      },
      "source": [
        "배치 사이즈를 알 수 없으므로 (None, 3)"
      ]
    },
    {
      "cell_type": "code",
      "metadata": {
        "colab": {
          "base_uri": "https://localhost:8080/"
        },
        "id": "pQqmDVAXrxfk",
        "outputId": "5ef187ac-b8e3-4569-cd75-f1d5561ebcb4"
      },
      "source": [
        "model = Sequential()\n",
        "model.add(SimpleRNN(3, batch_input_shape=(8,2,10)))\n",
        "model.summary()"
      ],
      "execution_count": null,
      "outputs": [
        {
          "output_type": "stream",
          "text": [
            "Model: \"sequential_1\"\n",
            "_________________________________________________________________\n",
            "Layer (type)                 Output Shape              Param #   \n",
            "=================================================================\n",
            "simple_rnn_1 (SimpleRNN)     (8, 3)                    42        \n",
            "=================================================================\n",
            "Total params: 42\n",
            "Trainable params: 42\n",
            "Non-trainable params: 0\n",
            "_________________________________________________________________\n"
          ],
          "name": "stdout"
        }
      ]
    },
    {
      "cell_type": "markdown",
      "metadata": {
        "id": "DVPTZV0zz_hF"
      },
      "source": [
        "배치 사이즈를 사전에 미리 정의"
      ]
    },
    {
      "cell_type": "code",
      "metadata": {
        "colab": {
          "base_uri": "https://localhost:8080/"
        },
        "id": "jKAK-HEzr2Hb",
        "outputId": "be125cee-7f17-4b88-d473-b6c5a434ba73"
      },
      "source": [
        "model = Sequential()\n",
        "model.add(SimpleRNN(3, batch_input_shape=(8,2,10), return_sequences=True))\n",
        "model.summary()"
      ],
      "execution_count": null,
      "outputs": [
        {
          "output_type": "stream",
          "text": [
            "Model: \"sequential_2\"\n",
            "_________________________________________________________________\n",
            "Layer (type)                 Output Shape              Param #   \n",
            "=================================================================\n",
            "simple_rnn_2 (SimpleRNN)     (8, 2, 3)                 42        \n",
            "=================================================================\n",
            "Total params: 42\n",
            "Trainable params: 42\n",
            "Non-trainable params: 0\n",
            "_________________________________________________________________\n"
          ],
          "name": "stdout"
        }
      ]
    },
    {
      "cell_type": "markdown",
      "metadata": {
        "id": "SYjwZhad0ClN"
      },
      "source": [
        "모든 시점(time step)에 대해 은닉 상태값을 출력 => many to many 문제를 풀 수 있다."
      ]
    }
  ]
}