{
  "nbformat": 4,
  "nbformat_minor": 0,
  "metadata": {
    "colab": {
      "name": "intro_datastructure.ipynb",
      "provenance": [],
      "collapsed_sections": [],
      "authorship_tag": "ABX9TyPNgpaGOW3uEM5ns9ZAxdQb",
      "include_colab_link": true
    },
    "kernelspec": {
      "name": "python3",
      "display_name": "Python 3"
    },
    "language_info": {
      "name": "python"
    }
  },
  "cells": [
    {
      "cell_type": "markdown",
      "metadata": {
        "id": "view-in-github",
        "colab_type": "text"
      },
      "source": [
        "<a href=\"https://colab.research.google.com/github/cateto/python4NLP/blob/main/colab/intro_datastructure.ipynb\" target=\"_parent\"><img src=\"https://colab.research.google.com/assets/colab-badge.svg\" alt=\"Open In Colab\"/></a>"
      ]
    },
    {
      "cell_type": "code",
      "metadata": {
        "colab": {
          "base_uri": "https://localhost:8080/"
        },
        "id": "_rj4oeEtgqi1",
        "outputId": "d2d49a1e-ed55-46fe-a9dc-c95d273ad954"
      },
      "source": [
        "pip install pandas"
      ],
      "execution_count": 2,
      "outputs": [
        {
          "output_type": "stream",
          "text": [
            "Requirement already satisfied: pandas in /usr/local/lib/python3.7/dist-packages (1.1.5)\n",
            "Requirement already satisfied: pytz>=2017.2 in /usr/local/lib/python3.7/dist-packages (from pandas) (2018.9)\n",
            "Requirement already satisfied: numpy>=1.15.4 in /usr/local/lib/python3.7/dist-packages (from pandas) (1.19.5)\n",
            "Requirement already satisfied: python-dateutil>=2.7.3 in /usr/local/lib/python3.7/dist-packages (from pandas) (2.8.1)\n",
            "Requirement already satisfied: six>=1.5 in /usr/local/lib/python3.7/dist-packages (from python-dateutil>=2.7.3->pandas) (1.15.0)\n"
          ],
          "name": "stdout"
        }
      ]
    },
    {
      "cell_type": "code",
      "metadata": {
        "colab": {
          "base_uri": "https://localhost:8080/"
        },
        "id": "EtY-zpLogxmP",
        "outputId": "926fc07e-0632-443b-81ba-63dac9861a61"
      },
      "source": [
        "import pandas as pd\n",
        "sr = pd.Series([17000, 18000, 1000, 5000], index=[\"피자\", \"치킨\", \"콜라\", \"맥주\"])\n",
        "print(sr)"
      ],
      "execution_count": 4,
      "outputs": [
        {
          "output_type": "stream",
          "text": [
            "피자    17000\n",
            "치킨    18000\n",
            "콜라     1000\n",
            "맥주     5000\n",
            "dtype: int64\n"
          ],
          "name": "stdout"
        }
      ]
    },
    {
      "cell_type": "code",
      "metadata": {
        "colab": {
          "base_uri": "https://localhost:8080/"
        },
        "id": "-IxR8iymgznv",
        "outputId": "b5cd1c39-6f10-45ac-f10e-db5de28466ee"
      },
      "source": [
        "print(sr.values)"
      ],
      "execution_count": 5,
      "outputs": [
        {
          "output_type": "stream",
          "text": [
            "[17000 18000  1000  5000]\n"
          ],
          "name": "stdout"
        }
      ]
    },
    {
      "cell_type": "code",
      "metadata": {
        "colab": {
          "base_uri": "https://localhost:8080/"
        },
        "id": "XNwT0H1wg5i3",
        "outputId": "9a8b2e72-5502-4c2d-f675-2419f5f99d00"
      },
      "source": [
        "print(sr.index)"
      ],
      "execution_count": 6,
      "outputs": [
        {
          "output_type": "stream",
          "text": [
            "Index(['피자', '치킨', '콜라', '맥주'], dtype='object')\n"
          ],
          "name": "stdout"
        }
      ]
    },
    {
      "cell_type": "code",
      "metadata": {
        "colab": {
          "base_uri": "https://localhost:8080/"
        },
        "id": "EAJFMrPBg7gO",
        "outputId": "4b65671e-4cad-4388-de02-4d21767a5857"
      },
      "source": [
        "values = [[1,2,3], [4,5,6], [7,8,9]]\n",
        "index = ['i1', 'i2', 'i3']\n",
        "columns = ['A', 'B', 'C']\n",
        "df = pd.DataFrame(values, index=index, columns=columns)\n",
        "print(df)"
      ],
      "execution_count": 8,
      "outputs": [
        {
          "output_type": "stream",
          "text": [
            "    A  B  C\n",
            "i1  1  2  3\n",
            "i2  4  5  6\n",
            "i3  7  8  9\n"
          ],
          "name": "stdout"
        }
      ]
    },
    {
      "cell_type": "code",
      "metadata": {
        "colab": {
          "base_uri": "https://localhost:8080/"
        },
        "id": "u0jrwYWuhgXn",
        "outputId": "076e5c30-9711-499b-b218-b714654f7c7e"
      },
      "source": [
        "print(df.index)"
      ],
      "execution_count": 9,
      "outputs": [
        {
          "output_type": "stream",
          "text": [
            "Index(['i1', 'i2', 'i3'], dtype='object')\n"
          ],
          "name": "stdout"
        }
      ]
    },
    {
      "cell_type": "code",
      "metadata": {
        "colab": {
          "base_uri": "https://localhost:8080/"
        },
        "id": "PsmhXPtBhiXX",
        "outputId": "e7ebdea0-71d5-48d4-bd39-32384ddd0de0"
      },
      "source": [
        "print(df.columns)"
      ],
      "execution_count": 10,
      "outputs": [
        {
          "output_type": "stream",
          "text": [
            "Index(['A', 'B', 'C'], dtype='object')\n"
          ],
          "name": "stdout"
        }
      ]
    },
    {
      "cell_type": "code",
      "metadata": {
        "colab": {
          "base_uri": "https://localhost:8080/"
        },
        "id": "Up4HIhj7hlk-",
        "outputId": "4861e27f-634e-4519-ebf7-503db72cee19"
      },
      "source": [
        "print(df.values)"
      ],
      "execution_count": 11,
      "outputs": [
        {
          "output_type": "stream",
          "text": [
            "[[1 2 3]\n",
            " [4 5 6]\n",
            " [7 8 9]]\n"
          ],
          "name": "stdout"
        }
      ]
    },
    {
      "cell_type": "code",
      "metadata": {
        "colab": {
          "base_uri": "https://localhost:8080/"
        },
        "id": "Krs2Xg7RhnTm",
        "outputId": "98f3f200-49e9-47d5-8138-4ea4bb261991"
      },
      "source": [
        "# 리스트로 생성하기\n",
        "data = [\n",
        "    ['1000', 'Steve', 90.72], \n",
        "    ['1001', 'James', 78.09], \n",
        "    ['1002', 'Doyeon', 98.43], \n",
        "    ['1003', 'Jane', 64.19], \n",
        "    ['1004', 'Pilwoong', 81.30],\n",
        "    ['1005', 'Tony', 99.14],\n",
        "]\n",
        "df = pd.DataFrame(data)\n",
        "print(df)"
      ],
      "execution_count": 13,
      "outputs": [
        {
          "output_type": "stream",
          "text": [
            "      0         1      2\n",
            "0  1000     Steve  90.72\n",
            "1  1001     James  78.09\n",
            "2  1002    Doyeon  98.43\n",
            "3  1003      Jane  64.19\n",
            "4  1004  Pilwoong  81.30\n",
            "5  1005      Tony  99.14\n"
          ],
          "name": "stdout"
        }
      ]
    },
    {
      "cell_type": "code",
      "metadata": {
        "colab": {
          "base_uri": "https://localhost:8080/"
        },
        "id": "2cHD5LYAhw6O",
        "outputId": "41f13970-3889-444d-e0fc-08b0a5db9ad7"
      },
      "source": [
        "df = pd.DataFrame(data, columns=['학번', '이름', '점수'])\n",
        "print(df)"
      ],
      "execution_count": 14,
      "outputs": [
        {
          "output_type": "stream",
          "text": [
            "     학번        이름     점수\n",
            "0  1000     Steve  90.72\n",
            "1  1001     James  78.09\n",
            "2  1002    Doyeon  98.43\n",
            "3  1003      Jane  64.19\n",
            "4  1004  Pilwoong  81.30\n",
            "5  1005      Tony  99.14\n"
          ],
          "name": "stdout"
        }
      ]
    },
    {
      "cell_type": "code",
      "metadata": {
        "colab": {
          "base_uri": "https://localhost:8080/"
        },
        "id": "jEKda7g4hxZm",
        "outputId": "0fcf4e75-9623-4f35-bcfa-f8a65bd0dfcc"
      },
      "source": [
        "# 딕셔너리로 생성하기\n",
        "data = { '학번' : ['1000', '1001', '1002', '1003', '1004', '1005'],\n",
        "'이름' : [ 'Steve', 'James', 'Doyeon', 'Jane', 'Pilwoong', 'Tony'],\n",
        "         '점수': [90.72, 78.09, 98.43, 64.19, 81.30, 99.14]}\n",
        "\n",
        "df = pd.DataFrame(data)\n",
        "print(df)"
      ],
      "execution_count": 15,
      "outputs": [
        {
          "output_type": "stream",
          "text": [
            "     학번        이름     점수\n",
            "0  1000     Steve  90.72\n",
            "1  1001     James  78.09\n",
            "2  1002    Doyeon  98.43\n",
            "3  1003      Jane  64.19\n",
            "4  1004  Pilwoong  81.30\n",
            "5  1005      Tony  99.14\n"
          ],
          "name": "stdout"
        }
      ]
    },
    {
      "cell_type": "code",
      "metadata": {
        "colab": {
          "base_uri": "https://localhost:8080/",
          "height": 142
        },
        "id": "X5lMZX3sh0km",
        "outputId": "0679eec5-df96-4b00-f2c4-39f8a79f5376"
      },
      "source": [
        "df.head(3)"
      ],
      "execution_count": 17,
      "outputs": [
        {
          "output_type": "execute_result",
          "data": {
            "text/html": [
              "<div>\n",
              "<style scoped>\n",
              "    .dataframe tbody tr th:only-of-type {\n",
              "        vertical-align: middle;\n",
              "    }\n",
              "\n",
              "    .dataframe tbody tr th {\n",
              "        vertical-align: top;\n",
              "    }\n",
              "\n",
              "    .dataframe thead th {\n",
              "        text-align: right;\n",
              "    }\n",
              "</style>\n",
              "<table border=\"1\" class=\"dataframe\">\n",
              "  <thead>\n",
              "    <tr style=\"text-align: right;\">\n",
              "      <th></th>\n",
              "      <th>학번</th>\n",
              "      <th>이름</th>\n",
              "      <th>점수</th>\n",
              "    </tr>\n",
              "  </thead>\n",
              "  <tbody>\n",
              "    <tr>\n",
              "      <th>0</th>\n",
              "      <td>1000</td>\n",
              "      <td>Steve</td>\n",
              "      <td>90.72</td>\n",
              "    </tr>\n",
              "    <tr>\n",
              "      <th>1</th>\n",
              "      <td>1001</td>\n",
              "      <td>James</td>\n",
              "      <td>78.09</td>\n",
              "    </tr>\n",
              "    <tr>\n",
              "      <th>2</th>\n",
              "      <td>1002</td>\n",
              "      <td>Doyeon</td>\n",
              "      <td>98.43</td>\n",
              "    </tr>\n",
              "  </tbody>\n",
              "</table>\n",
              "</div>"
            ],
            "text/plain": [
              "     학번      이름     점수\n",
              "0  1000   Steve  90.72\n",
              "1  1001   James  78.09\n",
              "2  1002  Doyeon  98.43"
            ]
          },
          "metadata": {
            "tags": []
          },
          "execution_count": 17
        }
      ]
    },
    {
      "cell_type": "code",
      "metadata": {
        "colab": {
          "base_uri": "https://localhost:8080/",
          "height": 142
        },
        "id": "KF6V_r0Ih50G",
        "outputId": "8042f75e-ec93-4cd3-e0bd-06ed5af9d9d9"
      },
      "source": [
        "df.tail(3)"
      ],
      "execution_count": 18,
      "outputs": [
        {
          "output_type": "execute_result",
          "data": {
            "text/html": [
              "<div>\n",
              "<style scoped>\n",
              "    .dataframe tbody tr th:only-of-type {\n",
              "        vertical-align: middle;\n",
              "    }\n",
              "\n",
              "    .dataframe tbody tr th {\n",
              "        vertical-align: top;\n",
              "    }\n",
              "\n",
              "    .dataframe thead th {\n",
              "        text-align: right;\n",
              "    }\n",
              "</style>\n",
              "<table border=\"1\" class=\"dataframe\">\n",
              "  <thead>\n",
              "    <tr style=\"text-align: right;\">\n",
              "      <th></th>\n",
              "      <th>학번</th>\n",
              "      <th>이름</th>\n",
              "      <th>점수</th>\n",
              "    </tr>\n",
              "  </thead>\n",
              "  <tbody>\n",
              "    <tr>\n",
              "      <th>3</th>\n",
              "      <td>1003</td>\n",
              "      <td>Jane</td>\n",
              "      <td>64.19</td>\n",
              "    </tr>\n",
              "    <tr>\n",
              "      <th>4</th>\n",
              "      <td>1004</td>\n",
              "      <td>Pilwoong</td>\n",
              "      <td>81.30</td>\n",
              "    </tr>\n",
              "    <tr>\n",
              "      <th>5</th>\n",
              "      <td>1005</td>\n",
              "      <td>Tony</td>\n",
              "      <td>99.14</td>\n",
              "    </tr>\n",
              "  </tbody>\n",
              "</table>\n",
              "</div>"
            ],
            "text/plain": [
              "     학번        이름     점수\n",
              "3  1003      Jane  64.19\n",
              "4  1004  Pilwoong  81.30\n",
              "5  1005      Tony  99.14"
            ]
          },
          "metadata": {
            "tags": []
          },
          "execution_count": 18
        }
      ]
    },
    {
      "cell_type": "code",
      "metadata": {
        "colab": {
          "base_uri": "https://localhost:8080/"
        },
        "id": "1LaQyi5gh9g-",
        "outputId": "efb62ace-540d-4ab9-9e9d-861b3e1a7bf9"
      },
      "source": [
        "df['학번']"
      ],
      "execution_count": 19,
      "outputs": [
        {
          "output_type": "execute_result",
          "data": {
            "text/plain": [
              "0    1000\n",
              "1    1001\n",
              "2    1002\n",
              "3    1003\n",
              "4    1004\n",
              "5    1005\n",
              "Name: 학번, dtype: object"
            ]
          },
          "metadata": {
            "tags": []
          },
          "execution_count": 19
        }
      ]
    },
    {
      "cell_type": "code",
      "metadata": {
        "colab": {
          "base_uri": "https://localhost:8080/"
        },
        "id": "x7n4X1ByiaTO",
        "outputId": "0b9e8919-db0e-4e29-d5a2-d2453a1e04b7"
      },
      "source": [
        "from google.colab import drive\n",
        "drive.mount('/gdrive', force_remount=True)"
      ],
      "execution_count": 23,
      "outputs": [
        {
          "output_type": "stream",
          "text": [
            "Mounted at /gdrive\n"
          ],
          "name": "stdout"
        }
      ]
    },
    {
      "cell_type": "code",
      "metadata": {
        "colab": {
          "base_uri": "https://localhost:8080/"
        },
        "id": "RJTyGtMpiirm",
        "outputId": "31f95685-4d21-4c22-ac66-f3973df34868"
      },
      "source": [
        "fileDf = pd.read_csv('/gdrive/MyDrive/dataset/pima-indians-diabetes.csv')\n",
        "print(fileDf)"
      ],
      "execution_count": 25,
      "outputs": [
        {
          "output_type": "stream",
          "text": [
            "     6  148  72  1\n",
            "0    1   85  66  0\n",
            "1    8  183  64  1\n",
            "2    1   89  66  0\n",
            "3    0  137  40  1\n",
            "4    5  116  74  0\n",
            "..  ..  ...  .. ..\n",
            "594  0  188  82  1\n",
            "595  0   67  76  0\n",
            "596  1   89  24  0\n",
            "597  1  173  74  1\n",
            "598  1  109  38  0\n",
            "\n",
            "[599 rows x 4 columns]\n"
          ],
          "name": "stdout"
        }
      ]
    },
    {
      "cell_type": "code",
      "metadata": {
        "colab": {
          "base_uri": "https://localhost:8080/"
        },
        "id": "EwwoQqtjirhP",
        "outputId": "006b24e6-dfc2-4c9d-c1d8-c9388326123f"
      },
      "source": [
        "print(fileDf.index)"
      ],
      "execution_count": 28,
      "outputs": [
        {
          "output_type": "stream",
          "text": [
            "RangeIndex(start=0, stop=599, step=1)\n"
          ],
          "name": "stdout"
        }
      ]
    },
    {
      "cell_type": "code",
      "metadata": {
        "colab": {
          "base_uri": "https://localhost:8080/"
        },
        "id": "AlTrT6KAitam",
        "outputId": "7c869a49-eb95-4d82-f4e6-43a2ae5a51b9"
      },
      "source": [
        "pip install numpy"
      ],
      "execution_count": 29,
      "outputs": [
        {
          "output_type": "stream",
          "text": [
            "Requirement already satisfied: numpy in /usr/local/lib/python3.7/dist-packages (1.19.5)\n"
          ],
          "name": "stdout"
        }
      ]
    },
    {
      "cell_type": "code",
      "metadata": {
        "colab": {
          "base_uri": "https://localhost:8080/"
        },
        "id": "R58ljkqXjM_w",
        "outputId": "928f875d-adcb-4b3a-bf7b-0e491c31f892"
      },
      "source": [
        "import numpy as np\n",
        "a = np.array([1,2,3,4,5])\n",
        "type(a)"
      ],
      "execution_count": 30,
      "outputs": [
        {
          "output_type": "execute_result",
          "data": {
            "text/plain": [
              "numpy.ndarray"
            ]
          },
          "metadata": {
            "tags": []
          },
          "execution_count": 30
        }
      ]
    },
    {
      "cell_type": "code",
      "metadata": {
        "colab": {
          "base_uri": "https://localhost:8080/"
        },
        "id": "YVx8We2TjVSn",
        "outputId": "8bfcc439-598d-4c30-8790-7fd596d89a57"
      },
      "source": [
        "b = np.array([[1,2,3],[4,5,6]])\n",
        "b"
      ],
      "execution_count": 34,
      "outputs": [
        {
          "output_type": "execute_result",
          "data": {
            "text/plain": [
              "array([[1, 2, 3],\n",
              "       [4, 5, 6]])"
            ]
          },
          "metadata": {
            "tags": []
          },
          "execution_count": 34
        }
      ]
    },
    {
      "cell_type": "code",
      "metadata": {
        "colab": {
          "base_uri": "https://localhost:8080/"
        },
        "id": "0yCi3UN_jbbG",
        "outputId": "d23e53cb-eca2-4919-a597-78f701173ce9"
      },
      "source": [
        "print(b.ndim) # n 차원\n",
        "print(b.shape) # 크기"
      ],
      "execution_count": 39,
      "outputs": [
        {
          "output_type": "stream",
          "text": [
            "2\n",
            "(2, 3)\n"
          ],
          "name": "stdout"
        }
      ]
    },
    {
      "cell_type": "code",
      "metadata": {
        "colab": {
          "base_uri": "https://localhost:8080/"
        },
        "id": "J33dDRJ1jlXu",
        "outputId": "e2c9102f-a2a4-4d84-a857-1eb8106b2593"
      },
      "source": [
        "print(a.ndim)\n",
        "print(a.shape)"
      ],
      "execution_count": 38,
      "outputs": [
        {
          "output_type": "stream",
          "text": [
            "1\n",
            "(5,)\n"
          ],
          "name": "stdout"
        }
      ]
    },
    {
      "cell_type": "code",
      "metadata": {
        "colab": {
          "base_uri": "https://localhost:8080/"
        },
        "id": "EyVHgZjoj_t_",
        "outputId": "86859a0d-c12d-4857-a2aa-3dc2448a5ddd"
      },
      "source": [
        "a = np.zeros((2, 3))\n",
        "print(a)"
      ],
      "execution_count": 42,
      "outputs": [
        {
          "output_type": "stream",
          "text": [
            "[[0. 0. 0.]\n",
            " [0. 0. 0.]]\n"
          ],
          "name": "stdout"
        }
      ]
    },
    {
      "cell_type": "code",
      "metadata": {
        "colab": {
          "base_uri": "https://localhost:8080/"
        },
        "id": "lCCNiTHVlAII",
        "outputId": "a2a744f2-80c6-4f2d-f247-32bed484ac17"
      },
      "source": [
        "a = np.zeros(3)\n",
        "print(a)"
      ],
      "execution_count": 43,
      "outputs": [
        {
          "output_type": "stream",
          "text": [
            "[0. 0. 0.]\n"
          ],
          "name": "stdout"
        }
      ]
    },
    {
      "cell_type": "code",
      "metadata": {
        "colab": {
          "base_uri": "https://localhost:8080/"
        },
        "id": "KLmBAKT3lITV",
        "outputId": "2bfd51cc-4298-41e3-bdba-775eea347991"
      },
      "source": [
        "a = np.ones((2,3))\n",
        "print(a)"
      ],
      "execution_count": 44,
      "outputs": [
        {
          "output_type": "stream",
          "text": [
            "[[1. 1. 1.]\n",
            " [1. 1. 1.]]\n"
          ],
          "name": "stdout"
        }
      ]
    },
    {
      "cell_type": "code",
      "metadata": {
        "colab": {
          "base_uri": "https://localhost:8080/"
        },
        "id": "1XmKmoVJlMxu",
        "outputId": "e6981c7c-30c6-444e-c85f-a6eec8b083cd"
      },
      "source": [
        "a = np.full((2,2), 8)\n",
        "print(a)"
      ],
      "execution_count": 45,
      "outputs": [
        {
          "output_type": "stream",
          "text": [
            "[[8 8]\n",
            " [8 8]]\n"
          ],
          "name": "stdout"
        }
      ]
    },
    {
      "cell_type": "code",
      "metadata": {
        "colab": {
          "base_uri": "https://localhost:8080/"
        },
        "id": "bdNtU9e6lbVX",
        "outputId": "1eaa4fc1-ca75-49d2-d05f-e8ff248e4c2e"
      },
      "source": [
        "a = np.eye(3)\n",
        "print(a)"
      ],
      "execution_count": 47,
      "outputs": [
        {
          "output_type": "stream",
          "text": [
            "[[1. 0. 0.]\n",
            " [0. 1. 0.]\n",
            " [0. 0. 1.]]\n"
          ],
          "name": "stdout"
        }
      ]
    },
    {
      "cell_type": "code",
      "metadata": {
        "colab": {
          "base_uri": "https://localhost:8080/"
        },
        "id": "mYCisa4yleKm",
        "outputId": "edda9e0d-f68d-4e46-cf87-d15924d474a6"
      },
      "source": [
        "a = np.random.random((2,2))\n",
        "print(a)"
      ],
      "execution_count": 48,
      "outputs": [
        {
          "output_type": "stream",
          "text": [
            "[[0.08224157 0.803584  ]\n",
            " [0.04623711 0.04455207]]\n"
          ],
          "name": "stdout"
        }
      ]
    },
    {
      "cell_type": "code",
      "metadata": {
        "colab": {
          "base_uri": "https://localhost:8080/"
        },
        "id": "UBcuBgy-loKG",
        "outputId": "e459230b-87d0-41af-9fe6-ada3e735caa3"
      },
      "source": [
        "a = np.arange(10)\n",
        "print(a)"
      ],
      "execution_count": 49,
      "outputs": [
        {
          "output_type": "stream",
          "text": [
            "[0 1 2 3 4 5 6 7 8 9]\n"
          ],
          "name": "stdout"
        }
      ]
    },
    {
      "cell_type": "code",
      "metadata": {
        "colab": {
          "base_uri": "https://localhost:8080/"
        },
        "id": "vb4Nu0s2mZ7n",
        "outputId": "05aa282f-c9f8-45dd-8bea-d4c635b0df13"
      },
      "source": [
        " a = np.arange(1, 10, 2)\n",
        " print(a)"
      ],
      "execution_count": 51,
      "outputs": [
        {
          "output_type": "stream",
          "text": [
            "[1 3 5 7 9]\n"
          ],
          "name": "stdout"
        }
      ]
    },
    {
      "cell_type": "code",
      "metadata": {
        "colab": {
          "base_uri": "https://localhost:8080/"
        },
        "id": "GhsxuTKepJ-P",
        "outputId": "9f1ee8b5-f7b2-45ad-dbb5-9b19495d4f52"
      },
      "source": [
        "a = np.array(np.arange(30)).reshape((5,6))\n",
        "print(a)"
      ],
      "execution_count": 54,
      "outputs": [
        {
          "output_type": "stream",
          "text": [
            "[[ 0  1  2  3  4  5]\n",
            " [ 6  7  8  9 10 11]\n",
            " [12 13 14 15 16 17]\n",
            " [18 19 20 21 22 23]\n",
            " [24 25 26 27 28 29]]\n"
          ],
          "name": "stdout"
        }
      ]
    },
    {
      "cell_type": "code",
      "metadata": {
        "colab": {
          "base_uri": "https://localhost:8080/"
        },
        "id": "bf2DFBlKpUym",
        "outputId": "38420247-6b65-4969-ffa7-f38597dabd28"
      },
      "source": [
        "import numpy as np\n",
        "a = np.array([[1,2,3], [4,5,6]])\n",
        "b = a[0:2, 0:2]\n",
        "print(b)"
      ],
      "execution_count": 56,
      "outputs": [
        {
          "output_type": "stream",
          "text": [
            "[[1 2]\n",
            " [4 5]]\n"
          ],
          "name": "stdout"
        }
      ]
    },
    {
      "cell_type": "code",
      "metadata": {
        "colab": {
          "base_uri": "https://localhost:8080/"
        },
        "id": "2tw_5W6epp9e",
        "outputId": "291f1470-b317-4323-bdd6-646af7ccceaa"
      },
      "source": [
        "b = a[0, :]\n",
        "print(b)"
      ],
      "execution_count": 57,
      "outputs": [
        {
          "output_type": "stream",
          "text": [
            "[1 2 3]\n"
          ],
          "name": "stdout"
        }
      ]
    },
    {
      "cell_type": "code",
      "metadata": {
        "colab": {
          "base_uri": "https://localhost:8080/"
        },
        "id": "FMGGm6qipwtG",
        "outputId": "bd3667a9-8655-405f-d1fb-136d11c852f3"
      },
      "source": [
        "b = a[:, 1]\n",
        "print(b)"
      ],
      "execution_count": 58,
      "outputs": [
        {
          "output_type": "stream",
          "text": [
            "[2 5]\n"
          ],
          "name": "stdout"
        }
      ]
    },
    {
      "cell_type": "code",
      "metadata": {
        "colab": {
          "base_uri": "https://localhost:8080/"
        },
        "id": "oBA974Ubp0ue",
        "outputId": "1617c454-50df-4ca9-9d12-5f391502c0c9"
      },
      "source": [
        "a = np.array([[1,2],[4,5],[7,8]])\n",
        "b = a[[2,1],[1,0]]\n",
        "print(b)"
      ],
      "execution_count": 59,
      "outputs": [
        {
          "output_type": "stream",
          "text": [
            "[8 4]\n"
          ],
          "name": "stdout"
        }
      ]
    },
    {
      "cell_type": "code",
      "metadata": {
        "colab": {
          "base_uri": "https://localhost:8080/"
        },
        "id": "tL13EYWXragD",
        "outputId": "323d8ab6-84ad-45e5-eff2-3dc611db50d4"
      },
      "source": [
        "x = np.array([1,2,3])\n",
        "y = np.array([4,5,6])\n",
        "b = x + y\n",
        "print(b)"
      ],
      "execution_count": 60,
      "outputs": [
        {
          "output_type": "stream",
          "text": [
            "[5 7 9]\n"
          ],
          "name": "stdout"
        }
      ]
    },
    {
      "cell_type": "code",
      "metadata": {
        "colab": {
          "base_uri": "https://localhost:8080/"
        },
        "id": "Nx1O-7MOrj1m",
        "outputId": "e62a3cb2-6a07-411e-ccfd-97dabb6764ea"
      },
      "source": [
        "b = x - y\n",
        "print(b)"
      ],
      "execution_count": 61,
      "outputs": [
        {
          "output_type": "stream",
          "text": [
            "[-3 -3 -3]\n"
          ],
          "name": "stdout"
        }
      ]
    },
    {
      "cell_type": "code",
      "metadata": {
        "colab": {
          "base_uri": "https://localhost:8080/"
        },
        "id": "pXzFyC_IrnY1",
        "outputId": "5276db46-3500-473f-c1b2-3bfd10baef41"
      },
      "source": [
        "b = b * x\n",
        "print(b)"
      ],
      "execution_count": 62,
      "outputs": [
        {
          "output_type": "stream",
          "text": [
            "[-3 -6 -9]\n"
          ],
          "name": "stdout"
        }
      ]
    },
    {
      "cell_type": "code",
      "metadata": {
        "colab": {
          "base_uri": "https://localhost:8080/"
        },
        "id": "TV9qvWDtrqZt",
        "outputId": "eb5892e0-d863-48e2-b328-c748e76013d2"
      },
      "source": [
        "b = b / x\n",
        "print(b)"
      ],
      "execution_count": 63,
      "outputs": [
        {
          "output_type": "stream",
          "text": [
            "[-3. -3. -3.]\n"
          ],
          "name": "stdout"
        }
      ]
    },
    {
      "cell_type": "code",
      "metadata": {
        "colab": {
          "base_uri": "https://localhost:8080/"
        },
        "id": "uFNRuTnwr1jW",
        "outputId": "75975c1b-ac5e-43c6-fc2e-ffa5af8b6a35"
      },
      "source": [
        "a = np.array([[1,2],[3,4]])\n",
        "print(a)\n",
        "b = np.array([[5,6],[7,8]])\n",
        "print(b)\n",
        "c = np.dot(a, b) # 벡터와 행렬의 곱 또는 행렬 곱을 위해서 dot()을 사용한다.\n",
        "print(c) "
      ],
      "execution_count": 65,
      "outputs": [
        {
          "output_type": "stream",
          "text": [
            "[[1 2]\n",
            " [3 4]]\n",
            "[[5 6]\n",
            " [7 8]]\n",
            "[[19 22]\n",
            " [43 50]]\n"
          ],
          "name": "stdout"
        }
      ]
    },
    {
      "cell_type": "code",
      "metadata": {
        "colab": {
          "base_uri": "https://localhost:8080/",
          "height": 281
        },
        "id": "4YTW1gaSsA9W",
        "outputId": "e494dad8-6360-43a0-fab5-ea746eb98102"
      },
      "source": [
        "%matplotlib inline\n",
        "import matplotlib.pyplot as plt\n",
        "\n",
        "plt.title('test')\n",
        "plt.plot([1,2,3,4],[2,4,8,6])\n",
        "plt.show()"
      ],
      "execution_count": 67,
      "outputs": [
        {
          "output_type": "display_data",
          "data": {
            "image/png": "[encoded data removed]",
            "text/plain": [
              "<Figure size 432x288 with 1 Axes>"
            ]
          },
          "metadata": {
            "tags": [],
            "needs_background": "light"
          }
        }
      ]
    },
    {
      "cell_type": "code",
      "metadata": {
        "id": "SMzwAtdsukAC"
      },
      "source": [
        ""
      ],
      "execution_count": null,
      "outputs": []
    }
  ]
}