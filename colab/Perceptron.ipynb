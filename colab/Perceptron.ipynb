{
  "nbformat": 4,
  "nbformat_minor": 0,
  "metadata": {
    "colab": {
      "name": "Perceptron.ipynb",
      "provenance": [],
      "authorship_tag": "ABX9TyMaSLfRiCuesxPQAuOKGyjG",
      "include_colab_link": true
    },
    "kernelspec": {
      "name": "python3",
      "display_name": "Python 3"
    },
    "language_info": {
      "name": "python"
    }
  },
  "cells": [
    {
      "cell_type": "markdown",
      "metadata": {
        "id": "view-in-github",
        "colab_type": "text"
      },
      "source": [
        "<a href=\"https://colab.research.google.com/github/cateto/python4NLP/blob/main/colab/Perceptron.ipynb\" target=\"_parent\"><img src=\"https://colab.research.google.com/assets/colab-badge.svg\" alt=\"Open In Colab\"/></a>"
      ]
    },
    {
      "cell_type": "code",
      "metadata": {
        "id": "v7foxQe2mwz0"
      },
      "source": [
        "# 단층 퍼셉트론 AND 게이트\n",
        "def AND_gate(x1, x2):\n",
        "  w1=0.5 # 가중치1\n",
        "  w2=0.5 # 가중치2\n",
        "  b=-0.7 # 편향\n",
        "  result=x1*w1 + x2*w2 + b\n",
        "  if result <= 0:\n",
        "    return 0\n",
        "  else:\n",
        "    return 1"
      ],
      "execution_count": 5,
      "outputs": []
    },
    {
      "cell_type": "code",
      "metadata": {
        "colab": {
          "base_uri": "https://localhost:8080/"
        },
        "id": "-uWAzLbinCOE",
        "outputId": "16a18de9-fc85-4768-b8e6-cb0ceaf40fd2"
      },
      "source": [
        "AND_gate(0,0), AND_gate(0,1), AND_gate(1,0), AND_gate(1,1)"
      ],
      "execution_count": 6,
      "outputs": [
        {
          "output_type": "execute_result",
          "data": {
            "text/plain": [
              "(0, 0, 0, 1)"
            ]
          },
          "metadata": {
            "tags": []
          },
          "execution_count": 6
        }
      ]
    },
    {
      "cell_type": "code",
      "metadata": {
        "id": "NUgeYWFjnJlN"
      },
      "source": [
        "# NAND 게이트\n",
        "def NAND_gate(x1, x2):\n",
        "    w1=-0.5 #가중치1\n",
        "    w2=-0.5 #가중치2\n",
        "    b=0.7 #편향\n",
        "    result = x1*w1 + x2*w2 + b\n",
        "    if result <= 0:\n",
        "        return 0\n",
        "    else:\n",
        "        return 1"
      ],
      "execution_count": 7,
      "outputs": []
    },
    {
      "cell_type": "code",
      "metadata": {
        "colab": {
          "base_uri": "https://localhost:8080/"
        },
        "id": "0-TazT-Endxc",
        "outputId": "8d812e5c-fa7f-4b11-b4b3-9e1bccef9571"
      },
      "source": [
        "NAND_gate(0,0), NAND_gate(0,1), NAND_gate(1,0), NAND_gate(1,1)"
      ],
      "execution_count": 8,
      "outputs": [
        {
          "output_type": "execute_result",
          "data": {
            "text/plain": [
              "(1, 1, 1, 0)"
            ]
          },
          "metadata": {
            "tags": []
          },
          "execution_count": 8
        }
      ]
    },
    {
      "cell_type": "code",
      "metadata": {
        "id": "nQraMVfNnjaT"
      },
      "source": [
        "# OR 게이트\n",
        "def OR_gate(x1, x2):\n",
        "    w1=0.6\n",
        "    w2=0.6\n",
        "    b=-0.5\n",
        "    result = x1*w1 + x2*w2 + b\n",
        "    if result <= 0:\n",
        "        return 0\n",
        "    else:\n",
        "        return 1"
      ],
      "execution_count": 9,
      "outputs": []
    },
    {
      "cell_type": "code",
      "metadata": {
        "colab": {
          "base_uri": "https://localhost:8080/"
        },
        "id": "1gyfXVzrnqJd",
        "outputId": "9c21ccf2-2451-488b-d375-0109d063e008"
      },
      "source": [
        "OR_gate(0,0), OR_gate(0,1), OR_gate(1,0), OR_gate(1,1)"
      ],
      "execution_count": 10,
      "outputs": [
        {
          "output_type": "execute_result",
          "data": {
            "text/plain": [
              "(0, 1, 1, 1)"
            ]
          },
          "metadata": {
            "tags": []
          },
          "execution_count": 10
        }
      ]
    },
    {
      "cell_type": "code",
      "metadata": {
        "id": "-v3rCIfhnuoV"
      },
      "source": [
        ""
      ],
      "execution_count": null,
      "outputs": []
    }
  ]
}