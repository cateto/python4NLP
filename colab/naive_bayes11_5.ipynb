{
  "nbformat": 4,
  "nbformat_minor": 0,
  "metadata": {
    "colab": {
      "name": "naive_bayes11-5.ipynb",
      "provenance": [],
      "authorship_tag": "ABX9TyNEeiNXua2xSrl148I+TDup",
      "include_colab_link": true
    },
    "kernelspec": {
      "name": "python3",
      "display_name": "Python 3"
    },
    "language_info": {
      "name": "python"
    }
  },
  "cells": [
    {
      "cell_type": "markdown",
      "metadata": {
        "id": "view-in-github",
        "colab_type": "text"
      },
      "source": [
        "<a href=\"https://colab.research.google.com/github/cateto/python4NLP/blob/main/colab/naive_bayes11_5.ipynb\" target=\"_parent\"><img src=\"https://colab.research.google.com/assets/colab-badge.svg\" alt=\"Open In Colab\"/></a>"
      ]
    },
    {
      "cell_type": "code",
      "metadata": {
        "colab": {
          "base_uri": "https://localhost:8080/"
        },
        "id": "cQQIh24JrbH9",
        "outputId": "be0ed5cb-adeb-4b54-e991-eb9b0fd8d6f7"
      },
      "source": [
        "from sklearn.datasets import fetch_20newsgroups\n",
        "newsdata=fetch_20newsgroups(subset='train')\n",
        "print(newsdata.keys())"
      ],
      "execution_count": 1,
      "outputs": [
        {
          "output_type": "stream",
          "text": [
            "Downloading 20news dataset. This may take a few minutes.\n",
            "Downloading dataset from https://ndownloader.figshare.com/files/5975967 (14 MB)\n"
          ],
          "name": "stderr"
        },
        {
          "output_type": "stream",
          "text": [
            "dict_keys(['data', 'filenames', 'target_names', 'target', 'DESCR'])\n"
          ],
          "name": "stdout"
        }
      ]
    },
    {
      "cell_type": "code",
      "metadata": {
        "colab": {
          "base_uri": "https://localhost:8080/"
        },
        "id": "iKnm6Wj4rlMY",
        "outputId": "7471d690-fc03-4444-ea48-191c543a82b8"
      },
      "source": [
        "print( len(newsdata.data), len(newsdata.filenames), len(newsdata.target_names), len(newsdata.target))"
      ],
      "execution_count": 2,
      "outputs": [
        {
          "output_type": "stream",
          "text": [
            "11314 11314 20 11314\n"
          ],
          "name": "stdout"
        }
      ]
    },
    {
      "cell_type": "code",
      "metadata": {
        "colab": {
          "base_uri": "https://localhost:8080/"
        },
        "id": "AEXcGjqKrzEh",
        "outputId": "7480e8e6-d8e0-432b-8015-e3db31bb360a"
      },
      "source": [
        "print(newsdata.target_names)"
      ],
      "execution_count": 3,
      "outputs": [
        {
          "output_type": "stream",
          "text": [
            "['alt.atheism', 'comp.graphics', 'comp.os.ms-windows.misc', 'comp.sys.ibm.pc.hardware', 'comp.sys.mac.hardware', 'comp.windows.x', 'misc.forsale', 'rec.autos', 'rec.motorcycles', 'rec.sport.baseball', 'rec.sport.hockey', 'sci.crypt', 'sci.electronics', 'sci.med', 'sci.space', 'soc.religion.christian', 'talk.politics.guns', 'talk.politics.mideast', 'talk.politics.misc', 'talk.religion.misc']\n"
          ],
          "name": "stdout"
        }
      ]
    },
    {
      "cell_type": "code",
      "metadata": {
        "colab": {
          "base_uri": "https://localhost:8080/"
        },
        "id": "krrAVEZAr11u",
        "outputId": "e9c0fd96-5f72-4358-aa11-076d22f4e594"
      },
      "source": [
        "print(newsdata.target[0])"
      ],
      "execution_count": 4,
      "outputs": [
        {
          "output_type": "stream",
          "text": [
            "7\n"
          ],
          "name": "stdout"
        }
      ]
    },
    {
      "cell_type": "code",
      "metadata": {
        "colab": {
          "base_uri": "https://localhost:8080/"
        },
        "id": "t9onKynNr44B",
        "outputId": "ed6590a6-a27b-4518-cafa-fe4d12650f06"
      },
      "source": [
        "print(newsdata.target_names[7])"
      ],
      "execution_count": 5,
      "outputs": [
        {
          "output_type": "stream",
          "text": [
            "rec.autos\n"
          ],
          "name": "stdout"
        }
      ]
    },
    {
      "cell_type": "code",
      "metadata": {
        "colab": {
          "base_uri": "https://localhost:8080/"
        },
        "id": "DGt8vGwfr6ZJ",
        "outputId": "d46dfd0b-1999-45f0-a3b3-c1dc44f1503a"
      },
      "source": [
        "print(newsdata.data[0])"
      ],
      "execution_count": 6,
      "outputs": [
        {
          "output_type": "stream",
          "text": [
            "From: lerxst@wam.umd.edu (where's my thing)\n",
            "Subject: WHAT car is this!?\n",
            "Nntp-Posting-Host: rac3.wam.umd.edu\n",
            "Organization: University of Maryland, College Park\n",
            "Lines: 15\n",
            "\n",
            " I was wondering if anyone out there could enlighten me on this car I saw\n",
            "the other day. It was a 2-door sports car, looked to be from the late 60s/\n",
            "early 70s. It was called a Bricklin. The doors were really small. In addition,\n",
            "the front bumper was separate from the rest of the body. This is \n",
            "all I know. If anyone can tellme a model name, engine specs, years\n",
            "of production, where this car is made, history, or whatever info you\n",
            "have on this funky looking car, please e-mail.\n",
            "\n",
            "Thanks,\n",
            "- IL\n",
            "   ---- brought to you by your neighborhood Lerxst ----\n",
            "\n",
            "\n",
            "\n",
            "\n",
            "\n"
          ],
          "name": "stdout"
        }
      ]
    },
    {
      "cell_type": "code",
      "metadata": {
        "id": "uf_Ytp1lr_DL"
      },
      "source": [
        "# 데이터를 토큰화 -> BoW 로 만듦\n",
        "\n",
        "from sklearn.feature_extraction.text import CountVectorizer\n",
        "from sklearn.feature_extraction.text import TfidfTransformer\n",
        "from sklearn.naive_bayes import MultinomialNB # 다항분포 나이브 베이즈 모델\n",
        "from sklearn.metrics import accuracy_score # 정확도 계산"
      ],
      "execution_count": 7,
      "outputs": []
    },
    {
      "cell_type": "code",
      "metadata": {
        "colab": {
          "base_uri": "https://localhost:8080/"
        },
        "id": "ppfCb0O9sPyb",
        "outputId": "c47d8263-e86d-4733-af20-3f22f6fb3bba"
      },
      "source": [
        "dtmvector = CountVectorizer()\n",
        "X_train_dtm = dtmvector.fit_transform(newsdata.data)\n",
        "print(X_train_dtm.shape)"
      ],
      "execution_count": 8,
      "outputs": [
        {
          "output_type": "stream",
          "text": [
            "(11314, 130107)\n"
          ],
          "name": "stdout"
        }
      ]
    },
    {
      "cell_type": "code",
      "metadata": {
        "colab": {
          "base_uri": "https://localhost:8080/"
        },
        "id": "5oJioaansvRe",
        "outputId": "d63930b8-abec-4ca3-d472-0cc662af2d4d"
      },
      "source": [
        "tdidf_transformer = TfidfTransformer()\n",
        "tfidfv = tdidf_transformer.fit_transform(X_train_dtm)\n",
        "print(tfidfv.shape)"
      ],
      "execution_count": 9,
      "outputs": [
        {
          "output_type": "stream",
          "text": [
            "(11314, 130107)\n"
          ],
          "name": "stdout"
        }
      ]
    },
    {
      "cell_type": "code",
      "metadata": {
        "colab": {
          "base_uri": "https://localhost:8080/"
        },
        "id": "82z_Kx7WtCAM",
        "outputId": "4c334f59-a625-434f-ad9c-b7c34c03fbb4"
      },
      "source": [
        "mod = MultinomialNB()\n",
        "mod.fit(tfidfv, newsdata.target) # X_train , Y_train"
      ],
      "execution_count": 10,
      "outputs": [
        {
          "output_type": "execute_result",
          "data": {
            "text/plain": [
              "MultinomialNB(alpha=1.0, class_prior=None, fit_prior=True)"
            ]
          },
          "metadata": {
            "tags": []
          },
          "execution_count": 10
        }
      ]
    },
    {
      "cell_type": "code",
      "metadata": {
        "colab": {
          "base_uri": "https://localhost:8080/"
        },
        "id": "ACjfV9JJtFr9",
        "outputId": "4691efe1-6af5-4eda-c36c-a0daee7d725f"
      },
      "source": [
        "newsdata_test = fetch_20newsgroups(subset='test',shuffle=True)\n",
        "X_test_dtm = dtmvector.transform(newsdata_test.data) # DTM으로 변환\n",
        "tfidfv_test = tdidf_transformer.transform(X_test_dtm) #Tf-idf 행렬로 변환\n",
        "predicted = mod.predict(tfidfv_test) #예측\n",
        "print(\"정확도:\", accuracy_score(newsdata_test.target, predicted)) #예측값과 실제값 비교"
      ],
      "execution_count": 11,
      "outputs": [
        {
          "output_type": "stream",
          "text": [
            "정확도: 0.7738980350504514\n"
          ],
          "name": "stdout"
        }
      ]
    },
    {
      "cell_type": "code",
      "metadata": {
        "id": "7Bu6BnX9tw95"
      },
      "source": [
        ""
      ],
      "execution_count": null,
      "outputs": []
    }
  ]
}