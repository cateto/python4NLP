{
  "nbformat": 4,
  "nbformat_minor": 0,
  "metadata": {
    "colab": {
      "name": "MLP_practice.ipynb",
      "provenance": [],
      "authorship_tag": "ABX9TyO4stRQsCtf+HKPjEj8YUwP",
      "include_colab_link": true
    },
    "kernelspec": {
      "name": "python3",
      "display_name": "Python 3"
    },
    "language_info": {
      "name": "python"
    }
  },
  "cells": [
    {
      "cell_type": "markdown",
      "metadata": {
        "id": "view-in-github",
        "colab_type": "text"
      },
      "source": [
        "<a href=\"https://colab.research.google.com/github/cateto/python4NLP/blob/main/colab/MLP_practice.ipynb\" target=\"_parent\"><img src=\"https://colab.research.google.com/assets/colab-badge.svg\" alt=\"Open In Colab\"/></a>"
      ]
    },
    {
      "cell_type": "code",
      "metadata": {
        "id": "t7lorzta2XLC"
      },
      "source": [
        "import pandas as pd\n",
        "from sklearn.datasets import fetch_20newsgroups\n",
        "%matplotlib inline\n",
        "import matplotlib.pyplot as plt\n",
        "from tensorflow.keras.preprocessing.text import Tokenizer\n",
        "from tensorflow.keras.utils import to_categorical"
      ],
      "execution_count": 1,
      "outputs": []
    },
    {
      "cell_type": "code",
      "metadata": {
        "colab": {
          "base_uri": "https://localhost:8080/"
        },
        "id": "jpc8YAs32dft",
        "outputId": "a66a7948-24d1-47e8-a90c-0fa0bb2915b3"
      },
      "source": [
        "newsdata = fetch_20newsgroups(subset = 'train') # 'train'을 기재하면 훈련 데이터만 리턴한다."
      ],
      "execution_count": 2,
      "outputs": [
        {
          "output_type": "stream",
          "text": [
            "Downloading 20news dataset. This may take a few minutes.\n",
            "Downloading dataset from https://ndownloader.figshare.com/files/5975967 (14 MB)\n"
          ],
          "name": "stderr"
        }
      ]
    },
    {
      "cell_type": "code",
      "metadata": {
        "colab": {
          "base_uri": "https://localhost:8080/"
        },
        "id": "R40JYMg22fj6",
        "outputId": "27461430-024c-473c-e89d-4c8d557478c5"
      },
      "source": [
        "print(newsdata.keys())"
      ],
      "execution_count": 3,
      "outputs": [
        {
          "output_type": "stream",
          "text": [
            "dict_keys(['data', 'filenames', 'target_names', 'target', 'DESCR'])\n"
          ],
          "name": "stdout"
        }
      ]
    },
    {
      "cell_type": "code",
      "metadata": {
        "colab": {
          "base_uri": "https://localhost:8080/"
        },
        "id": "hMX4kXaS2ipD",
        "outputId": "90aa8440-db60-4b60-f228-c4514d369105"
      },
      "source": [
        "print('훈련용 샘플의 개수 : {}'.format(len(newsdata.data)))"
      ],
      "execution_count": 4,
      "outputs": [
        {
          "output_type": "stream",
          "text": [
            "훈련용 샘플의 개수 : 11314\n"
          ],
          "name": "stdout"
        }
      ]
    },
    {
      "cell_type": "code",
      "metadata": {
        "colab": {
          "base_uri": "https://localhost:8080/"
        },
        "id": "e0RcRD_v2k2N",
        "outputId": "9efbaa1e-d014-408a-a0c4-1afbeb59a277"
      },
      "source": [
        "print('총 주제의 개수 : {}'.format(len(newsdata.target_names)))\n",
        "print(newsdata.target_names)"
      ],
      "execution_count": 5,
      "outputs": [
        {
          "output_type": "stream",
          "text": [
            "총 주제의 개수 : 20\n",
            "['alt.atheism', 'comp.graphics', 'comp.os.ms-windows.misc', 'comp.sys.ibm.pc.hardware', 'comp.sys.mac.hardware', 'comp.windows.x', 'misc.forsale', 'rec.autos', 'rec.motorcycles', 'rec.sport.baseball', 'rec.sport.hockey', 'sci.crypt', 'sci.electronics', 'sci.med', 'sci.space', 'soc.religion.christian', 'talk.politics.guns', 'talk.politics.mideast', 'talk.politics.misc', 'talk.religion.misc']\n"
          ],
          "name": "stdout"
        }
      ]
    },
    {
      "cell_type": "code",
      "metadata": {
        "colab": {
          "base_uri": "https://localhost:8080/"
        },
        "id": "FiSfn9y32mmI",
        "outputId": "250f7170-1765-4939-a82b-e39f50a58a5b"
      },
      "source": [
        "print('첫번째 샘플의 레이블 : {}'.format(newsdata.target[0]))"
      ],
      "execution_count": 6,
      "outputs": [
        {
          "output_type": "stream",
          "text": [
            "첫번째 샘플의 레이블 : 7\n"
          ],
          "name": "stdout"
        }
      ]
    },
    {
      "cell_type": "code",
      "metadata": {
        "colab": {
          "base_uri": "https://localhost:8080/"
        },
        "id": "68OpTbBP2o4-",
        "outputId": "d96d059b-91a9-4f8e-ab77-db637c58a291"
      },
      "source": [
        "print('7번 레이블이 의미하는 주제 : {}'.format(newsdata.target_names[7]))"
      ],
      "execution_count": 7,
      "outputs": [
        {
          "output_type": "stream",
          "text": [
            "7번 레이블이 의미하는 주제 : rec.autos\n"
          ],
          "name": "stdout"
        }
      ]
    },
    {
      "cell_type": "code",
      "metadata": {
        "colab": {
          "base_uri": "https://localhost:8080/"
        },
        "id": "_fIryyh12qDB",
        "outputId": "9c40ea6d-7e2d-4f87-b713-2031b2bb707f"
      },
      "source": [
        "print(newsdata.data[0]) # 첫번째 샘플 출력"
      ],
      "execution_count": 8,
      "outputs": [
        {
          "output_type": "stream",
          "text": [
            "From: lerxst@wam.umd.edu (where's my thing)\n",
            "Subject: WHAT car is this!?\n",
            "Nntp-Posting-Host: rac3.wam.umd.edu\n",
            "Organization: University of Maryland, College Park\n",
            "Lines: 15\n",
            "\n",
            " I was wondering if anyone out there could enlighten me on this car I saw\n",
            "the other day. It was a 2-door sports car, looked to be from the late 60s/\n",
            "early 70s. It was called a Bricklin. The doors were really small. In addition,\n",
            "the front bumper was separate from the rest of the body. This is \n",
            "all I know. If anyone can tellme a model name, engine specs, years\n",
            "of production, where this car is made, history, or whatever info you\n",
            "have on this funky looking car, please e-mail.\n",
            "\n",
            "Thanks,\n",
            "- IL\n",
            "   ---- brought to you by your neighborhood Lerxst ----\n",
            "\n",
            "\n",
            "\n",
            "\n",
            "\n"
          ],
          "name": "stdout"
        }
      ]
    },
    {
      "cell_type": "code",
      "metadata": {
        "colab": {
          "base_uri": "https://localhost:8080/",
          "height": 204
        },
        "id": "xlwwjW8G2rtx",
        "outputId": "b0f1e988-6736-4a55-8f91-bb36a4411549"
      },
      "source": [
        "data = pd.DataFrame(newsdata.data, columns = ['email']) # data로부터 데이터프레임 생성\n",
        "data['target'] = pd.Series(newsdata.target) # target 열 추가\n",
        "data[:5] # 상위 5개 행을 출력"
      ],
      "execution_count": 9,
      "outputs": [
        {
          "output_type": "execute_result",
          "data": {
            "text/html": [
              "<div>\n",
              "<style scoped>\n",
              "    .dataframe tbody tr th:only-of-type {\n",
              "        vertical-align: middle;\n",
              "    }\n",
              "\n",
              "    .dataframe tbody tr th {\n",
              "        vertical-align: top;\n",
              "    }\n",
              "\n",
              "    .dataframe thead th {\n",
              "        text-align: right;\n",
              "    }\n",
              "</style>\n",
              "<table border=\"1\" class=\"dataframe\">\n",
              "  <thead>\n",
              "    <tr style=\"text-align: right;\">\n",
              "      <th></th>\n",
              "      <th>email</th>\n",
              "      <th>target</th>\n",
              "    </tr>\n",
              "  </thead>\n",
              "  <tbody>\n",
              "    <tr>\n",
              "      <th>0</th>\n",
              "      <td>From: lerxst@wam.umd.edu (where's my thing)\\nS...</td>\n",
              "      <td>7</td>\n",
              "    </tr>\n",
              "    <tr>\n",
              "      <th>1</th>\n",
              "      <td>From: guykuo@carson.u.washington.edu (Guy Kuo)...</td>\n",
              "      <td>4</td>\n",
              "    </tr>\n",
              "    <tr>\n",
              "      <th>2</th>\n",
              "      <td>From: twillis@ec.ecn.purdue.edu (Thomas E Will...</td>\n",
              "      <td>4</td>\n",
              "    </tr>\n",
              "    <tr>\n",
              "      <th>3</th>\n",
              "      <td>From: jgreen@amber (Joe Green)\\nSubject: Re: W...</td>\n",
              "      <td>1</td>\n",
              "    </tr>\n",
              "    <tr>\n",
              "      <th>4</th>\n",
              "      <td>From: jcm@head-cfa.harvard.edu (Jonathan McDow...</td>\n",
              "      <td>14</td>\n",
              "    </tr>\n",
              "  </tbody>\n",
              "</table>\n",
              "</div>"
            ],
            "text/plain": [
              "                                               email  target\n",
              "0  From: lerxst@wam.umd.edu (where's my thing)\\nS...       7\n",
              "1  From: guykuo@carson.u.washington.edu (Guy Kuo)...       4\n",
              "2  From: twillis@ec.ecn.purdue.edu (Thomas E Will...       4\n",
              "3  From: jgreen@amber (Joe Green)\\nSubject: Re: W...       1\n",
              "4  From: jcm@head-cfa.harvard.edu (Jonathan McDow...      14"
            ]
          },
          "metadata": {
            "tags": []
          },
          "execution_count": 9
        }
      ]
    },
    {
      "cell_type": "code",
      "metadata": {
        "colab": {
          "base_uri": "https://localhost:8080/"
        },
        "id": "twd32B232yEt",
        "outputId": "93ee36ec-5da5-478d-b131-8dd440dd2efa"
      },
      "source": [
        "data.info()"
      ],
      "execution_count": 10,
      "outputs": [
        {
          "output_type": "stream",
          "text": [
            "<class 'pandas.core.frame.DataFrame'>\n",
            "RangeIndex: 11314 entries, 0 to 11313\n",
            "Data columns (total 2 columns):\n",
            " #   Column  Non-Null Count  Dtype \n",
            "---  ------  --------------  ----- \n",
            " 0   email   11314 non-null  object\n",
            " 1   target  11314 non-null  int64 \n",
            "dtypes: int64(1), object(1)\n",
            "memory usage: 176.9+ KB\n"
          ],
          "name": "stdout"
        }
      ]
    },
    {
      "cell_type": "code",
      "metadata": {
        "colab": {
          "base_uri": "https://localhost:8080/"
        },
        "id": "JIsz4vaK2ztx",
        "outputId": "05b3ee03-1b0b-4121-9d70-b7257db34fb9"
      },
      "source": [
        "data.isnull().values.any() # NULL 체크"
      ],
      "execution_count": 11,
      "outputs": [
        {
          "output_type": "execute_result",
          "data": {
            "text/plain": [
              "False"
            ]
          },
          "metadata": {
            "tags": []
          },
          "execution_count": 11
        }
      ]
    },
    {
      "cell_type": "code",
      "metadata": {
        "colab": {
          "base_uri": "https://localhost:8080/"
        },
        "id": "RrmMS-Ms24Ne",
        "outputId": "d283d9b3-fab6-4449-f460-93912451ad17"
      },
      "source": [
        "print('중복을 제외한 샘플의 수 : {}'.format(data['email'].nunique()))\n",
        "print('중복을 제외한 주제의 수 : {}'.format(data['target'].nunique()))"
      ],
      "execution_count": 12,
      "outputs": [
        {
          "output_type": "stream",
          "text": [
            "중복을 제외한 샘플의 수 : 11314\n",
            "중복을 제외한 주제의 수 : 20\n"
          ],
          "name": "stdout"
        }
      ]
    },
    {
      "cell_type": "code",
      "metadata": {
        "colab": {
          "base_uri": "https://localhost:8080/",
          "height": 268
        },
        "id": "buZGW6_G26_R",
        "outputId": "c0f3707f-de60-48b5-ca91-b15fad75b97b"
      },
      "source": [
        "data['target'].value_counts().plot(kind='bar');"
      ],
      "execution_count": 13,
      "outputs": [
        {
          "output_type": "display_data",
          "data": {
            "image/png": "[encoded data removed]",
            "text/plain": [
              "<Figure size 432x288 with 1 Axes>"
            ]
          },
          "metadata": {
            "tags": [],
            "needs_background": "light"
          }
        }
      ]
    },
    {
      "cell_type": "code",
      "metadata": {
        "colab": {
          "base_uri": "https://localhost:8080/"
        },
        "id": "LFyS_TgS28bo",
        "outputId": "cbefd0fa-aa26-40ed-f5e0-5e9ab4fbe052"
      },
      "source": [
        "print(data.groupby('target').size().reset_index(name='count'))"
      ],
      "execution_count": 14,
      "outputs": [
        {
          "output_type": "stream",
          "text": [
            "    target  count\n",
            "0        0    480\n",
            "1        1    584\n",
            "2        2    591\n",
            "3        3    590\n",
            "4        4    578\n",
            "5        5    593\n",
            "6        6    585\n",
            "7        7    594\n",
            "8        8    598\n",
            "9        9    597\n",
            "10      10    600\n",
            "11      11    595\n",
            "12      12    591\n",
            "13      13    594\n",
            "14      14    593\n",
            "15      15    599\n",
            "16      16    546\n",
            "17      17    564\n",
            "18      18    465\n",
            "19      19    377\n"
          ],
          "name": "stdout"
        }
      ]
    },
    {
      "cell_type": "code",
      "metadata": {
        "id": "2TJPLyQz2_LY"
      },
      "source": [
        "newsdata_test = fetch_20newsgroups(subset='test', shuffle=True) # 'test'를 기재하면 테스트 데이터만 리턴한다.\n",
        "train_email = data['email'] # 훈련 데이터의 본문 저장\n",
        "train_label = data['target'] # 훈련 데이터의 레이블 저장\n",
        "test_email = newsdata_test.data # 테스트 데이터의 본문 저장\n",
        "test_label = newsdata_test.target # 테스트 데이터의 레이블 저장"
      ],
      "execution_count": 15,
      "outputs": []
    },
    {
      "cell_type": "code",
      "metadata": {
        "id": "WVNG9ae63HwM"
      },
      "source": [
        "max_words = 10000 # 실습에 사용할 단어의 최대 개수\n",
        "num_classes = 20 # 레이블의 수"
      ],
      "execution_count": 16,
      "outputs": []
    },
    {
      "cell_type": "code",
      "metadata": {
        "id": "XxOQyT2P3Jqi"
      },
      "source": [
        "def prepare_data(train_data, test_data, mode): # 전처리 함수\n",
        "    t = Tokenizer(num_words = max_words) # max_words 개수만큼의 단어만 사용한다.\n",
        "    t.fit_on_texts(train_data)\n",
        "    X_train = t.texts_to_matrix(train_data, mode=mode) # 샘플 수 × max_words 크기의 행렬 생성\n",
        "    X_test = t.texts_to_matrix(test_data, mode=mode) # 샘플 수 × max_words 크기의 행렬 생성\n",
        "    return X_train, X_test, t.index_word"
      ],
      "execution_count": 17,
      "outputs": []
    },
    {
      "cell_type": "code",
      "metadata": {
        "id": "v-Xgxt_u3Mxw"
      },
      "source": [
        "X_train, X_test, index_to_word = prepare_data(train_email, test_email, 'binary') # binary 모드로 변환\n",
        "y_train = to_categorical(train_label, num_classes) # 원-핫 인코딩\n",
        "y_test = to_categorical(test_label, num_classes) # 원-핫 인코딩"
      ],
      "execution_count": 18,
      "outputs": []
    },
    {
      "cell_type": "code",
      "metadata": {
        "colab": {
          "base_uri": "https://localhost:8080/"
        },
        "id": "Z1TPXDkk3U7H",
        "outputId": "090a5fd2-4d68-4de8-d6b7-b01ef90e14ce"
      },
      "source": [
        "print('훈련 샘플 본문의 크기 : {}'.format(X_train.shape))\n",
        "print('훈련 샘플 레이블의 크기 : {}'.format(y_train.shape))\n",
        "print('테스트 샘플 본문의 크기 : {}'.format(X_test.shape))\n",
        "print('테스트 샘플 레이블의 크기 : {}'.format(y_test.shape))"
      ],
      "execution_count": 19,
      "outputs": [
        {
          "output_type": "stream",
          "text": [
            "훈련 샘플 본문의 크기 : (11314, 10000)\n",
            "훈련 샘플 레이블의 크기 : (11314, 20)\n",
            "테스트 샘플 본문의 크기 : (7532, 10000)\n",
            "테스트 샘플 레이블의 크기 : (7532, 20)\n"
          ],
          "name": "stdout"
        }
      ]
    },
    {
      "cell_type": "code",
      "metadata": {
        "colab": {
          "base_uri": "https://localhost:8080/"
        },
        "id": "h2HdytJE3YK7",
        "outputId": "9371e372-51af-4974-ec10-99fb48f077eb"
      },
      "source": [
        "print('빈도수 상위 1번 단어 : {}'.format(index_to_word[1]))\n",
        "print('빈도수 상위 9999번 단어 : {}'.format(index_to_word[9999]))"
      ],
      "execution_count": 20,
      "outputs": [
        {
          "output_type": "stream",
          "text": [
            "빈도수 상위 1번 단어 : the\n",
            "빈도수 상위 9999번 단어 : mic\n"
          ],
          "name": "stdout"
        }
      ]
    },
    {
      "cell_type": "markdown",
      "metadata": {
        "id": "fNTrHM_y3mrR"
      },
      "source": [
        "## 모델 설계\n"
      ]
    },
    {
      "cell_type": "code",
      "metadata": {
        "id": "Wpsv3k833fEg"
      },
      "source": [
        "from tensorflow.keras.models import Sequential\n",
        "from tensorflow.keras.layers import Dense, Dropout"
      ],
      "execution_count": 21,
      "outputs": []
    },
    {
      "cell_type": "code",
      "metadata": {
        "id": "71FGTPCs3omM"
      },
      "source": [
        "def fit_and_evaluate(X_train, y_train, X_test, y_test):\n",
        "    model = Sequential()\n",
        "    model.add(Dense(256, input_shape=(max_words,), activation='relu'))\n",
        "    model.add(Dropout(0.5)) #과적합을 막기 위해서 두 번의 드롭아웃(Dropout)을 적용\n",
        "    model.add(Dense(128, activation='relu'))\n",
        "    model.add(Dropout(0.5))\n",
        "    model.add(Dense(num_classes, activation='softmax'))\n",
        "\n",
        "    model.compile(loss='categorical_crossentropy', optimizer='adam', metrics=['accuracy'])\n",
        "    model.fit(X_train, y_train, batch_size=128, epochs=5, verbose=1, validation_split=0.1)\n",
        "    score = model.evaluate(X_test, y_test, batch_size=128, verbose=0)\n",
        "    return score[1]"
      ],
      "execution_count": 22,
      "outputs": []
    },
    {
      "cell_type": "markdown",
      "metadata": {
        "id": "Pih5erk33tPj"
      },
      "source": [
        "![image.png](data:image/png;base64,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)"
      ]
    },
    {
      "cell_type": "code",
      "metadata": {
        "colab": {
          "base_uri": "https://localhost:8080/"
        },
        "id": "9WD0_Mh73pg7",
        "outputId": "c6ec6840-47c2-4265-df4b-81952cb8221c"
      },
      "source": [
        "modes = ['binary', 'count', 'tfidf', 'freq'] # 4개의 모드를 리스트에 저장.\n",
        "\n",
        "for mode in modes: # 4개의 모드에 대해서 각각 아래의 작업을 반복한다.\n",
        "    X_train, X_test, _ = prepare_data(train_email, test_email, mode) # 모드에 따라서 데이터를 전처리\n",
        "    score = fit_and_evaluate(X_train, y_train, X_test, y_test) # 모델을 훈련하고 평가.\n",
        "    print(mode+' 모드의 테스트 정확도:', score)"
      ],
      "execution_count": 23,
      "outputs": [
        {
          "output_type": "stream",
          "text": [
            "Epoch 1/5\n",
            "80/80 [==============================] - 4s 45ms/step - loss: 2.2785 - accuracy: 0.3398 - val_loss: 0.9393 - val_accuracy: 0.8242\n",
            "Epoch 2/5\n",
            "80/80 [==============================] - 4s 46ms/step - loss: 0.8702 - accuracy: 0.7635 - val_loss: 0.4631 - val_accuracy: 0.8896\n",
            "Epoch 3/5\n",
            "80/80 [==============================] - 4s 47ms/step - loss: 0.4291 - accuracy: 0.8862 - val_loss: 0.3564 - val_accuracy: 0.9002\n",
            "Epoch 4/5\n",
            "80/80 [==============================] - 4s 47ms/step - loss: 0.2551 - accuracy: 0.9351 - val_loss: 0.3048 - val_accuracy: 0.9090\n",
            "Epoch 5/5\n",
            "80/80 [==============================] - 4s 47ms/step - loss: 0.1677 - accuracy: 0.9596 - val_loss: 0.2888 - val_accuracy: 0.9161\n",
            "binary 모드의 테스트 정확도: 0.8256770968437195\n",
            "Epoch 1/5\n",
            "80/80 [==============================] - 5s 54ms/step - loss: 2.7610 - accuracy: 0.2437 - val_loss: 1.6421 - val_accuracy: 0.7279\n",
            "Epoch 2/5\n",
            "80/80 [==============================] - 4s 51ms/step - loss: 1.4697 - accuracy: 0.6308 - val_loss: 0.7326 - val_accuracy: 0.8481\n",
            "Epoch 3/5\n",
            "80/80 [==============================] - 4s 52ms/step - loss: 0.7973 - accuracy: 0.8031 - val_loss: 0.5254 - val_accuracy: 0.8737\n",
            "Epoch 4/5\n",
            "80/80 [==============================] - 4s 52ms/step - loss: 0.5344 - accuracy: 0.8699 - val_loss: 0.4426 - val_accuracy: 0.8958\n",
            "Epoch 5/5\n",
            "80/80 [==============================] - 4s 51ms/step - loss: 0.3974 - accuracy: 0.9112 - val_loss: 0.4323 - val_accuracy: 0.8922\n",
            "count 모드의 테스트 정확도: 0.8187732100486755\n",
            "Epoch 1/5\n",
            "80/80 [==============================] - 4s 46ms/step - loss: 2.2753 - accuracy: 0.3497 - val_loss: 0.8456 - val_accuracy: 0.8472\n",
            "Epoch 2/5\n",
            "80/80 [==============================] - 4s 44ms/step - loss: 0.8866 - accuracy: 0.7588 - val_loss: 0.4429 - val_accuracy: 0.8860\n",
            "Epoch 3/5\n",
            "80/80 [==============================] - 3s 43ms/step - loss: 0.4798 - accuracy: 0.8736 - val_loss: 0.3587 - val_accuracy: 0.9055\n",
            "Epoch 4/5\n",
            "80/80 [==============================] - 4s 44ms/step - loss: 0.3192 - accuracy: 0.9261 - val_loss: 0.3217 - val_accuracy: 0.9125\n",
            "Epoch 5/5\n",
            "80/80 [==============================] - 4s 44ms/step - loss: 0.2190 - accuracy: 0.9470 - val_loss: 0.3216 - val_accuracy: 0.9117\n",
            "tfidf 모드의 테스트 정확도: 0.8313860893249512\n",
            "Epoch 1/5\n",
            "80/80 [==============================] - 4s 46ms/step - loss: 2.9747 - accuracy: 0.0898 - val_loss: 2.9137 - val_accuracy: 0.2155\n",
            "Epoch 2/5\n",
            "80/80 [==============================] - 3s 44ms/step - loss: 2.6998 - accuracy: 0.1953 - val_loss: 2.3790 - val_accuracy: 0.3489\n",
            "Epoch 3/5\n",
            "80/80 [==============================] - 3s 44ms/step - loss: 2.1940 - accuracy: 0.3227 - val_loss: 1.8913 - val_accuracy: 0.5521\n",
            "Epoch 4/5\n",
            "80/80 [==============================] - 3s 43ms/step - loss: 1.7476 - accuracy: 0.4734 - val_loss: 1.4650 - val_accuracy: 0.6475\n",
            "Epoch 5/5\n",
            "80/80 [==============================] - 3s 43ms/step - loss: 1.3825 - accuracy: 0.5795 - val_loss: 1.1545 - val_accuracy: 0.7447\n",
            "freq 모드의 테스트 정확도: 0.6833510398864746\n"
          ],
          "name": "stdout"
        }
      ]
    },
    {
      "cell_type": "code",
      "metadata": {
        "id": "ItTJpi4d39qN"
      },
      "source": [
        ""
      ],
      "execution_count": null,
      "outputs": []
    }
  ]
}