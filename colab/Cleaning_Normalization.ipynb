{
  "nbformat": 4,
  "nbformat_minor": 0,
  "metadata": {
    "colab": {
      "name": "Cleaning_Normalization.ipynb",
      "provenance": [],
      "authorship_tag": "ABX9TyP3luBNJMbZ/PdR0z/9llU2",
      "include_colab_link": true
    },
    "kernelspec": {
      "name": "python3",
      "display_name": "Python 3"
    },
    "language_info": {
      "name": "python"
    }
  },
  "cells": [
    {
      "cell_type": "markdown",
      "metadata": {
        "id": "view-in-github",
        "colab_type": "text"
      },
      "source": [
        "<a href=\"https://colab.research.google.com/github/cateto/python4NLP/blob/main/colab/Cleaning_Normalization.ipynb\" target=\"_parent\"><img src=\"https://colab.research.google.com/assets/colab-badge.svg\" alt=\"Open In Colab\"/></a>"
      ]
    },
    {
      "cell_type": "code",
      "metadata": {
        "colab": {
          "base_uri": "https://localhost:8080/"
        },
        "id": "84SJmtVt69_g",
        "outputId": "225b56bd-37d9-4864-99c6-4747221411c1"
      },
      "source": [
        "import re\n",
        "text = \"I was wondering if anyone out there could enlighten me on this car.\"\n",
        "shortword = re.compile(r'\\W*\\b\\w{1,2}\\b')\n",
        "print(shortword.sub('', text))"
      ],
      "execution_count": 1,
      "outputs": [
        {
          "output_type": "stream",
          "text": [
            " was wondering anyone out there could enlighten this car.\n"
          ],
          "name": "stdout"
        }
      ]
    },
    {
      "cell_type": "code",
      "metadata": {
        "id": "WDar6cbl-bFF"
      },
      "source": [
        ""
      ],
      "execution_count": null,
      "outputs": []
    },
    {
      "cell_type": "markdown",
      "metadata": {
        "id": "14dsVvxg_h66"
      },
      "source": [
        "# 영어 기반(?) 정제와 정규화 기법\n",
        "- 표기가 다르지만 같은 의미인 단어들의 통합\n",
        "  - 어간 추출(stemming)\n",
        "  - 표제어 추출(lemmatizaiton)\n",
        "- 대, 소문자 통합\n",
        "  - US / us, Bush 같은 예시 제외하고 통합\n",
        "- 불필요한 단어의 제거\n",
        "  - 등장 빈도가 적은 단어\n",
        "  - 길이가 짧은 단어 (영어권 같은 경우 1-2인단어는 중요도가 낮음)\n",
        "- 정규 표현식 ★★★\n"
      ]
    },
    {
      "cell_type": "code",
      "metadata": {
        "id": "Yapsx8v-E3pP"
      },
      "source": [
        ""
      ],
      "execution_count": null,
      "outputs": []
    }
  ]
}