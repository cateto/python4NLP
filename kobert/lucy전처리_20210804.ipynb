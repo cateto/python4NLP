{
  "nbformat": 4,
  "nbformat_minor": 0,
  "metadata": {
    "colab": {
      "name": "lucy전처리_20210804.ipynb",
      "provenance": [],
      "collapsed_sections": [],
      "mount_file_id": "1V1j3ZaaiPKjfa55AmXuw8sFE98TuLnUc",
      "authorship_tag": "ABX9TyP2tzcq0Ljy5wgKu+XgSUoJ",
      "include_colab_link": true
    },
    "kernelspec": {
      "name": "python3",
      "display_name": "Python 3"
    },
    "language_info": {
      "name": "python"
    }
  },
  "cells": [
    {
      "cell_type": "markdown",
      "metadata": {
        "id": "view-in-github",
        "colab_type": "text"
      },
      "source": [
        "<a href=\"https://colab.research.google.com/github/cateto/python4NLP/blob/main/kobert/lucy%EC%A0%84%EC%B2%98%EB%A6%AC_20210804.ipynb\" target=\"_parent\"><img src=\"https://colab.research.google.com/assets/colab-badge.svg\" alt=\"Open In Colab\"/></a>"
      ]
    },
    {
      "cell_type": "code",
      "metadata": {
        "id": "Hs_xhXOAJCjd"
      },
      "source": [
        "import pandas as pd\n",
        "import re\n",
        "\n",
        "lucy_data = pd.read_csv('lucy_data0729.csv')"
      ],
      "execution_count": 2,
      "outputs": []
    },
    {
      "cell_type": "code",
      "metadata": {
        "id": "-NNMqMK4UoYc"
      },
      "source": [
        "lucy_data['contents'] = lucy_data['contents'].str.replace(\"\\(.*\\)|\\s-\\s.*\",\" \" ,regex=True)\n",
        "lucy_data['contents'] = lucy_data['contents'].str.replace(\"\\[.*\\]|\\s-\\s.*\",\" \",regex=True)\n",
        "lucy_data['contents'] = lucy_data['contents'].str.replace(\"\\<.*\\>|\\s-\\s.*\",\" \",regex=True)\n",
        "lucy_data['contents'] = lucy_data['contents'].str.replace(\"무단전재 및 재배포 금지\",\" \",regex=True)\n",
        "lucy_data['contents'] = lucy_data['contents'].str.replace(\"©\",\" \",regex=True)\n",
        "lucy_data['contents'] = lucy_data['contents'].str.replace(\"저작권자\",\" \",regex=True)\n",
        "lucy_data['contents'] = lucy_data['contents'].str.replace(\".* 기자\", \" \", regex=True) #기자 이름에서 오는 유사도 차단\n",
        "lucy_data['contents'] = lucy_data['contents'].str.replace(\"사진 = .*\", \" \", regex=True) #사진 첨부 문구 삭제\n",
        "lucy_data['contents'] = lucy_data['contents'].str.replace(\"사진=.*\", \" \", regex=True) #사진 첨부 문구 삭제\n",
        "lucy_data['contents'] = lucy_data['contents'].str.replace(\"([a-zA-Z0-9_.+-]+@[a-zA-Z0-9-]+.[a-zA-Z0-9-.]+)\", \" \", regex=True) #이메일 주소에서 오는 유사도 차단\n",
        "lucy_data['contents'] = lucy_data['contents'].str.replace(\"[ ]{2,}\",\" \",regex=True)\n"
      ],
      "execution_count": 21,
      "outputs": []
    },
    {
      "cell_type": "code",
      "metadata": {
        "colab": {
          "base_uri": "https://localhost:8080/",
          "height": 103
        },
        "id": "pQLj6HnQVGLk",
        "outputId": "45fce72c-b375-4bd0-c822-d291c442fad5"
      },
      "source": [
        "lucy_data['contents'][130]"
      ],
      "execution_count": 27,
      "outputs": [
        {
          "output_type": "execute_result",
          "data": {
            "application/vnd.google.colaboratory.intrinsic+json": {
              "type": "string"
            },
            "text/plain": [
              "' \\n미국 상무부가 1분기 국내총생산, GDP 증가율이 연율 6.4%로 최종 집계됐다고 현지시간으로 24일 발표했습니다.\\r\\n\\r\\n 코로나19 대유행으로 지난해 1·2분기 연속 마이너스 성장에 그친 미국 경제는 이후 3개 분기 연속 플러스 성장세를 이어갔습니다.\\r\\n\\r\\n 특히 올해 1분기에는 조 바이든 행정부가 1조9천억달러 규모의 추가부양책을 집행하고 코로나19 백신 접종이 본격화하면서 경제 정상화에 속도를 냈습니다.\\r\\n\\r\\n 경제 전문가들은 2분기 성장률이 10% 이상으로 성장곡선이 더 가팔라질 것으로 예상했습니다.\\r\\n\\r\\n 미 중앙은행인 연방준비제도는 올해 미국의 연간 성장률이 1984년 이후 최대인 7%에 달할 것으로 전망했습니다.'"
            ]
          },
          "metadata": {
            "tags": []
          },
          "execution_count": 27
        }
      ]
    },
    {
      "cell_type": "markdown",
      "metadata": {
        "id": "QjrOoO5DQpaX"
      },
      "source": [
        "### () 소괄호 안 문자 제거 \n",
        "- 예) (영문자),(사진=이데일리DB(종목홈))"
      ]
    },
    {
      "cell_type": "code",
      "metadata": {
        "colab": {
          "base_uri": "https://localhost:8080/"
        },
        "id": "Gwsmsz9dNGss",
        "outputId": "43d268e0-360f-4123-a60b-374ec7364775"
      },
      "source": [
        "lucy_data['contents'][0] = re.sub(\"\\(.*\\)|\\s-\\s.*\", \"\", lucy_data['contents'][0])\n",
        "print(lucy_data['contents'][0])"
      ],
      "execution_count": 35,
      "outputs": [
        {
          "output_type": "stream",
          "text": [
            "- \"공정소득은 코로나 이후 악화되는 K자형 양극화에 대비하자는 것\" 반박\n",
            "\n",
            "[이데일리 권오석 기자] 야권의 대선 주자인 유승민 바른정당 전 대표가 자신의 공정소득 이론을 비판한 이재명 경기도지사를 향해 “ 앞으로 토론을 하려면 뭐든지 똑바로 알고 똑바로 인용하라. 노벨경제학상 수상자들의 말까지 왜곡해가며 나를 비난하려 애쓰는 모습이 안타깝다”고 비판했다.\n",
            "를 비판하면서 ‘수백 수천만원을 그것도 일을 적게 할수록 더 많이 주자는 것’이라고 했다”고 지적했다.\n",
            "\n",
            "유 전 대표는 자신은 이런 말을 한 적이 없다며 “나는 ‘공정소득의 원리는 단순하고 분명하다. 고소득층은 세금을 내고 저소득층은 보조금을 받는 것이다. 이는 사회복지의 원칙이고 상식이다. 공정소득은 코로나 이후 악화되는 K자형 양극화에 대비하자는 것이다’고 했다”고 설명했다.\n",
            "\n",
            "아울러 이 지사가 ‘노벨경제학상을 수상한 바네르지-뒤플로 교수 부부가 기본소득을 찬성했다’고 주장한 것에 대해서도 “잘못된 인용이자 왜곡이다. 이 지사의 잘못된 인용이 고의로 거짓말을 지어낸 것인지, 아니면 책도 안 읽어본 참모들이 잘못 써준대로 한 것인지 알 수 없다”고 일갈했다.\n",
            "\n",
            "이어 그는 “노벨경제학상을 받은 사람들 중에는 기본소득에 찬성하는 사람도 있고 공정소득에 찬성하는 사람도 있다. 기본소득에 찬성하는 사람들도 그들이 말하는 기본소득이 전국민 대상이 아니라 저소득층이나 일부 국민들 대상인 경우가 많다”며 “상대방이 하지도 않은 말을 자기 맘대로 지어내어 덮어씌우는 것은 거짓말쟁이들이나 하는 행태다”고 덧붙였다.\n"
          ],
          "name": "stdout"
        }
      ]
    },
    {
      "cell_type": "markdown",
      "metadata": {
        "id": "ee8ub3UUQ4s0"
      },
      "source": [
        "### [] 대괄호 안 문자 제거 \n",
        "- 예) [이데일리 권오석 기자]"
      ]
    },
    {
      "cell_type": "code",
      "metadata": {
        "colab": {
          "base_uri": "https://localhost:8080/"
        },
        "id": "r320g8u6QYA5",
        "outputId": "24c812d0-860e-4aa8-b23d-3db639f33b41"
      },
      "source": [
        "lucy_data['contents'][0] = re.sub(\"\\[.*\\]|\\s-\\s.*\", \"\", lucy_data['contents'][0])\n",
        "print(lucy_data['contents'][0])"
      ],
      "execution_count": 36,
      "outputs": [
        {
          "output_type": "stream",
          "text": [
            "- \"공정소득은 코로나 이후 악화되는 K자형 양극화에 대비하자는 것\" 반박\n",
            "\n",
            " 야권의 대선 주자인 유승민 바른정당 전 대표가 자신의 공정소득 이론을 비판한 이재명 경기도지사를 향해 “ 앞으로 토론을 하려면 뭐든지 똑바로 알고 똑바로 인용하라. 노벨경제학상 수상자들의 말까지 왜곡해가며 나를 비난하려 애쓰는 모습이 안타깝다”고 비판했다.\n",
            "를 비판하면서 ‘수백 수천만원을 그것도 일을 적게 할수록 더 많이 주자는 것’이라고 했다”고 지적했다.\n",
            "\n",
            "유 전 대표는 자신은 이런 말을 한 적이 없다며 “나는 ‘공정소득의 원리는 단순하고 분명하다. 고소득층은 세금을 내고 저소득층은 보조금을 받는 것이다. 이는 사회복지의 원칙이고 상식이다. 공정소득은 코로나 이후 악화되는 K자형 양극화에 대비하자는 것이다’고 했다”고 설명했다.\n",
            "\n",
            "아울러 이 지사가 ‘노벨경제학상을 수상한 바네르지-뒤플로 교수 부부가 기본소득을 찬성했다’고 주장한 것에 대해서도 “잘못된 인용이자 왜곡이다. 이 지사의 잘못된 인용이 고의로 거짓말을 지어낸 것인지, 아니면 책도 안 읽어본 참모들이 잘못 써준대로 한 것인지 알 수 없다”고 일갈했다.\n",
            "\n",
            "이어 그는 “노벨경제학상을 받은 사람들 중에는 기본소득에 찬성하는 사람도 있고 공정소득에 찬성하는 사람도 있다. 기본소득에 찬성하는 사람들도 그들이 말하는 기본소득이 전국민 대상이 아니라 저소득층이나 일부 국민들 대상인 경우가 많다”며 “상대방이 하지도 않은 말을 자기 맘대로 지어내어 덮어씌우는 것은 거짓말쟁이들이나 하는 행태다”고 덧붙였다.\n"
          ],
          "name": "stdout"
        }
      ]
    },
    {
      "cell_type": "code",
      "metadata": {
        "colab": {
          "base_uri": "https://localhost:8080/",
          "height": 239
        },
        "id": "dvweMBNMK7D1",
        "outputId": "6e6f4708-14b5-49cc-f8e5-750a9acc87e3"
      },
      "source": [
        "lucy_data['contents'][1]"
      ],
      "execution_count": 8,
      "outputs": [
        {
          "output_type": "execute_result",
          "data": {
            "application/vnd.google.colaboratory.intrinsic+json": {
              "type": "string"
            },
            "text/plain": [
              "\"- 공동대표 및 정책자문위원 등 임명장 수여\\n\\r- 본격적인 충남대선공약 정책 제안 시작 \\n\\r\\r\\r\\r\\r\\r\\n'내 삶을 지켜주는 나라, 신복지 충남포럼'(상임대표 어기구 국회의원)은 지난 12일(토) 오전 10시 충남근로자복지회관에서 공동대표 등에 대한 ‘임명장 수여 및 충남대선공약 제안 1차 전달식’을 개최하였다.\\n\\r\\r\\n이날 행사에서는 정재택 상임고문을 포함한 공동대표, 운영위원, 정책자문위원, 법률자문위원, 지역본부장 등 96명을 대상으로 임명장 수여식이 진행되었다.\\n\\r\\r\\n어기구 상임대표는 인사말에서 “충청권의 민심이 대선의 향방을 결정해 왔다. 결국 충청을 위한 대선공약이 중요한 역할을 한다. 오늘 ‘신복지 충남포럼’에 임명장을 받고, 함께 참여하는 여러분의 정책제안이 ‘내 삶을 지켜주는 나라’의 마중물이 될 것이다. 그 출발이 오늘 충남대선공약 1차 정책제안이 될 것이다”라고 전했다.\\n\\r\\r\\n이날 신복지 충남포럼에 제안된 ‘충남대선공약’으로는 ‘세종시 행정수도 헌법 명문화 추진’, ‘한·중 해저터널을 통한 선도적 성장동력’, ‘충남 국제공항 유치를 통한 국가균형발전’ 등 이다.\\n\\r\\r\\n‘내 삶을 지켜주는 나라, 신복지 충남포럼’은 지난 5월 22일. 회원 400여명이 참석한 가운데 더불어민주당 이낙연 전 대표의 특강과 함께 성황리에 출범하였다.\\n\\r\\r\\n'내 삶을 지켜주는 나라'는 이낙연 전 대표가 제안한 국가 비전이다. 4차 산업혁명과 코로나19로 사회격차와 불안이 심화하는 상황에서 국민을 보호하기 위한 ‘보편적 사회 보호 체계’로서 신복지제도의 국가철학을 쉽게 표현한 말이다.\\n\\r\\r\\n'신복지 충남포럼'은 2030년까지 소득, 교육, 의료, 주거, 노동, 문화, 환경 등, 삶의 전반적인 영역에서 선진국 수준의 '국민 생활 적정기준'을 보장하고 살기 좋은 대한민국과 충남을 만들기 위해 설립됐다.\\n\\r\\r\\n \\n \\n저작권자 © 보령시장신문 무단전재 및 재배포 금지\""
            ]
          },
          "metadata": {
            "tags": []
          },
          "execution_count": 8
        }
      ]
    },
    {
      "cell_type": "markdown",
      "metadata": {
        "id": "wRqyHYYESegs"
      },
      "source": [
        "### 신문에서 자주 등장하는 표현 및 문자 제거\n",
        "- 예) 무단전재 및 재배포 금지, ©, 저작권자"
      ]
    },
    {
      "cell_type": "code",
      "metadata": {
        "colab": {
          "base_uri": "https://localhost:8080/"
        },
        "id": "um87CsV8QhG5",
        "outputId": "7378c68e-f1e8-4814-85c6-7fa2d2a2ae20"
      },
      "source": [
        "lucy_data['contents'][1] = re.sub(\"무단전재 및 재배포 금지\", \"\", lucy_data['contents'][1])\n",
        "lucy_data['contents'][1] = re.sub(\"©\", \"\", lucy_data['contents'][1])\n",
        "lucy_data['contents'][1] = re.sub(\"저작권자\", \"\", lucy_data['contents'][1])\n",
        "print(lucy_data['contents'][1])"
      ],
      "execution_count": 39,
      "outputs": [
        {
          "output_type": "stream",
          "text": [
            "- 공동대표 및 정책자문위원 등 임명장 수여\n",
            "\n",
            "\r\r\r\r\r\r\n",
            "'내 삶을 지켜주는 나라, 신복지 충남포럼' 오전 10시 충남근로자복지회관에서 공동대표 등에 대한 ‘임명장 수여 및 충남대선공약 제안 1차 전달식’을 개최하였다.\n",
            "\r\r\n",
            "이날 행사에서는 정재택 상임고문을 포함한 공동대표, 운영위원, 정책자문위원, 법률자문위원, 지역본부장 등 96명을 대상으로 임명장 수여식이 진행되었다.\n",
            "\r\r\n",
            "어기구 상임대표는 인사말에서 “충청권의 민심이 대선의 향방을 결정해 왔다. 결국 충청을 위한 대선공약이 중요한 역할을 한다. 오늘 ‘신복지 충남포럼’에 임명장을 받고, 함께 참여하는 여러분의 정책제안이 ‘내 삶을 지켜주는 나라’의 마중물이 될 것이다. 그 출발이 오늘 충남대선공약 1차 정책제안이 될 것이다”라고 전했다.\n",
            "\r\r\n",
            "이날 신복지 충남포럼에 제안된 ‘충남대선공약’으로는 ‘세종시 행정수도 헌법 명문화 추진’, ‘한·중 해저터널을 통한 선도적 성장동력’, ‘충남 국제공항 유치를 통한 국가균형발전’ 등 이다.\n",
            "\r\r\n",
            "‘내 삶을 지켜주는 나라, 신복지 충남포럼’은 지난 5월 22일. 회원 400여명이 참석한 가운데 더불어민주당 이낙연 전 대표의 특강과 함께 성황리에 출범하였다.\n",
            "\r\r\n",
            "'내 삶을 지켜주는 나라'는 이낙연 전 대표가 제안한 국가 비전이다. 4차 산업혁명과 코로나19로 사회격차와 불안이 심화하는 상황에서 국민을 보호하기 위한 ‘보편적 사회 보호 체계’로서 신복지제도의 국가철학을 쉽게 표현한 말이다.\n",
            "\r\r\n",
            "'신복지 충남포럼'은 2030년까지 소득, 교육, 의료, 주거, 노동, 문화, 환경 등, 삶의 전반적인 영역에서 선진국 수준의 '국민 생활 적정기준'을 보장하고 살기 좋은 대한민국과 충남을 만들기 위해 설립됐다.\n",
            "\r\r\n",
            " \n",
            " \n",
            "  보령시장신문 \n"
          ],
          "name": "stdout"
        }
      ]
    },
    {
      "cell_type": "code",
      "metadata": {
        "id": "R3hz0yrfLCii"
      },
      "source": [
        "lucy_data['contents'][2]"
      ],
      "execution_count": null,
      "outputs": []
    },
    {
      "cell_type": "code",
      "metadata": {
        "id": "WHxyMdZvSw8F"
      },
      "source": [
        ""
      ],
      "execution_count": null,
      "outputs": []
    },
    {
      "cell_type": "markdown",
      "metadata": {
        "id": "9O_D95DwS4u3"
      },
      "source": [
        "### <> 꺽쇠 안 문자 제거 \n",
        "- 예) <황진 기자>"
      ]
    },
    {
      "cell_type": "code",
      "metadata": {
        "colab": {
          "base_uri": "https://localhost:8080/",
          "height": 171
        },
        "id": "AwvYkklFLEGW",
        "outputId": "09f59906-8e95-41df-8f3b-d41f6095bd64"
      },
      "source": [
        "lucy_data['contents'][3]"
      ],
      "execution_count": 10,
      "outputs": [
        {
          "output_type": "execute_result",
          "data": {
            "application/vnd.google.colaboratory.intrinsic+json": {
              "type": "string"
            },
            "text/plain": [
              "'\\xa0 \\xa0\\xa0\\n\\n\\xa0더불어민주당 신영대 의원(전북 군산시)이 민주당의 혁신과 흥행을 담당할 대선경선기획단에 인선됐다.\\n\\xa0더불어민주당 강훈식 대선경선기획단장은 27일, 기획단의 내부인사 구성을 발표하며 초선대표로 신 의원을 인선했다고 밝혔다.\\n\\xa0강 단장은 이번 구성에 당 전체의 목소리를 모으는 데 집중하고자 당의 모든 인사로부터 추천을 받고 정치와 국회의 경험을 고려해 인선했다고 취지를 설명했다.\\n\\xa0신 의원은 21대 국회 들어 초대 원내부대표와 당 대변인을 역임하는 등 초선에도 불구하고 당과 국회에서 중추적인 역할을 맡아, 현안에 대한 독창적인 대안과 민심을 읽어내는 정무적인 감각에서 두각을 나타낸 것이 높이 평가받은 것으로 알려졌다.\\n\\xa0특히 전북 정치권에서 민주당 대선경선기획단에 포함된 것은 신 의원이 유일하다.\\n\\xa0신영대 의원은 “중책을 맡아 어깨가 무겁지만, 당원과 국민의 의견을 받들어 당내 구성원들의 합의를 이끌고, 반드시 정권 재창출을 이뤄낼 수 있도록 최선을 다 하겠다”고 소회를 밝혔다.\\n\\xa0한편 민주당 대선경선기획단은 외부인사 인선까지 마무리하게 되면, 오는 7월 11일 경선후보 컷오프를 시작으로 9월 10일 대선후보 확정까지의 당내 경선 전체 과정을 관리하게 된다.<황진 기자>'"
            ]
          },
          "metadata": {
            "tags": []
          },
          "execution_count": 10
        }
      ]
    },
    {
      "cell_type": "code",
      "metadata": {
        "colab": {
          "base_uri": "https://localhost:8080/"
        },
        "id": "bzkGvYwLS-Ah",
        "outputId": "d5326d6c-c112-4f60-b968-972d0bfdddfd"
      },
      "source": [
        "lucy_data['contents'][3] = re.sub(\"\\<.*\\>|\\s-\\s.*\", \"\", lucy_data['contents'][3])\n",
        "print(lucy_data['contents'][3])"
      ],
      "execution_count": 41,
      "outputs": [
        {
          "output_type": "stream",
          "text": [
            "    \n",
            "\n",
            " 더불어민주당 신영대 의원(전북 군산시)이 민주당의 혁신과 흥행을 담당할 대선경선기획단에 인선됐다.\n",
            " 더불어민주당 강훈식 대선경선기획단장은 27일, 기획단의 내부인사 구성을 발표하며 초선대표로 신 의원을 인선했다고 밝혔다.\n",
            " 강 단장은 이번 구성에 당 전체의 목소리를 모으는 데 집중하고자 당의 모든 인사로부터 추천을 받고 정치와 국회의 경험을 고려해 인선했다고 취지를 설명했다.\n",
            " 신 의원은 21대 국회 들어 초대 원내부대표와 당 대변인을 역임하는 등 초선에도 불구하고 당과 국회에서 중추적인 역할을 맡아, 현안에 대한 독창적인 대안과 민심을 읽어내는 정무적인 감각에서 두각을 나타낸 것이 높이 평가받은 것으로 알려졌다.\n",
            " 특히 전북 정치권에서 민주당 대선경선기획단에 포함된 것은 신 의원이 유일하다.\n",
            " 신영대 의원은 “중책을 맡아 어깨가 무겁지만, 당원과 국민의 의견을 받들어 당내 구성원들의 합의를 이끌고, 반드시 정권 재창출을 이뤄낼 수 있도록 최선을 다 하겠다”고 소회를 밝혔다.\n",
            " 한편 민주당 대선경선기획단은 외부인사 인선까지 마무리하게 되면, 오는 7월 11일 경선후보 컷오프를 시작으로 9월 10일 대선후보 확정까지의 당내 경선 전체 과정을 관리하게 된다.\n"
          ],
          "name": "stdout"
        }
      ]
    },
    {
      "cell_type": "code",
      "metadata": {
        "colab": {
          "base_uri": "https://localhost:8080/",
          "height": 52
        },
        "id": "jPDSRGHtLFIv",
        "outputId": "f9082cec-a683-4345-8b16-7434c2b8b76e"
      },
      "source": [
        "lucy_data['contents'][4]"
      ],
      "execution_count": 11,
      "outputs": [
        {
          "output_type": "execute_result",
          "data": {
            "application/vnd.google.colaboratory.intrinsic+json": {
              "type": "string"
            },
            "text/plain": [
              "'\\xa0지난 19일 미·멕시코 국경지대인 텍사스주 엘패소와 멕시코 시우대드후아레스 사이에서 떨어져 지내는 이민자들이 만나는 상봉 행사가‘장벽 대신 허그를’이라는 주제로 열렸다. 이날 행사에서 만난 이민자 가족들이 서로 껴안고 있다. [로이터]\\n\\xa0\\n\\n\\xa0'"
            ]
          },
          "metadata": {
            "tags": []
          },
          "execution_count": 11
        }
      ]
    },
    {
      "cell_type": "code",
      "metadata": {
        "colab": {
          "base_uri": "https://localhost:8080/",
          "height": 222
        },
        "id": "0Z1EU955L0fN",
        "outputId": "05ef3c5b-6885-4132-8bd2-c69cee257da5"
      },
      "source": [
        "lucy_data['contents'][290]"
      ],
      "execution_count": 12,
      "outputs": [
        {
          "output_type": "execute_result",
          "data": {
            "application/vnd.google.colaboratory.intrinsic+json": {
              "type": "string"
            },
            "text/plain": [
              "'[이데일리 김태형 기자] 유성훈(왼쪽) 금천구청장이 한국매니페스토실천본부에서 실시한 민선7기 전국 기초단체장 대상 공약이행평가에서 최우수 등급인 ‘SA’를 받아 공약을 가장 잘 이행하고 있는 기초단체장으로 1일 선정됐다.\\n\\n 한국매니페스토실천본부는 전국 기초단체장을 대상으로 2020년 12월 31일 기준 △ 공약이행완료분야 △ 목표달성분야 △ 주민소통분야 △ 웹소통 △ 일치도 등 5개 분야를 평가하고 그 결과를 ‘SA’, ‘A’, ‘B’, ‘C’, ‘D’ 5개 등급으로 분류하여 공개했다. \\n\\n평가결과에 따르면 유성훈 금천구청장은 공약 \\'이행완료 분야\\' 73.91%(서울시 자치구 평균 69.98%), \\'목표달성 분야\\' 97.10%(서울시 자치구 평균 95.26%), \\'주민소통 분야\\' ‘90점 이상’, \\'웹소통\\'과 \\'일치도\\' 모두 ‘PASS’로 \\'SA\\' 기준인 총점 70점 이상은 물론, 모든 분야에서 서울시 자치구 평균을 상회하는 평점을 얻었다.\\n\\n 2021년 평가 기준에 따라 유성훈 금천구청장은 전체 공약 69개 중 \\'완료\\' 51개, \\'정상추진\\' 16개로 주민과의 약속을 성실히 지켜나가고 있다. \\n특히, 주민숙원 사업인 \\'신안산선 복선전철 건설사업\\', \\'대형종합병원 건립 추진\\', \\'공군부대 이전 및 개발계획 추진\\', \\'금천구청 역사 시설개선사업\\'을 \\'3+1\\' 핵심 현안으로 선정해 집중 관리한 결과 가시적 성과를 이뤄내고 있다. \\n\\n유성훈 구청장은 \"항상 주민과의 약속을 최우선으로 생각하며 구정을 이끌어 온 결과라고 생각한다\"며, \"앞으로 남은 임기동안에도 골목길 이곳저곳을 찾아가며 주민의 삶 속으로 더 가까이 다가가 주민 한분 한분의 목소리에 귀 기울이며 약속을 지켜나가겠다\"고 말했다. (사진=금천구)'"
            ]
          },
          "metadata": {
            "tags": []
          },
          "execution_count": 12
        }
      ]
    }
  ]
}