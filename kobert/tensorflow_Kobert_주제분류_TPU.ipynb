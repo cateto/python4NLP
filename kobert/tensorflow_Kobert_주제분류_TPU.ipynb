{
  "nbformat": 4,
  "nbformat_minor": 0,
  "metadata": {
    "colab": {
      "name": "tensorflow_Kobert_주제분류_TPU.ipynb",
      "provenance": [],
      "collapsed_sections": [],
      "machine_shape": "hm",
      "include_colab_link": true
    },
    "kernelspec": {
      "name": "python3",
      "display_name": "Python 3"
    },
    "language_info": {
      "name": "python"
    },
    "accelerator": "TPU",
    "widgets": {
      "application/vnd.jupyter.widget-state+json": {
        "032503ff993e4831ab867ee7710cc2b9": {
          "model_module": "@jupyter-widgets/controls",
          "model_name": "HBoxModel",
          "model_module_version": "1.5.0",
          "state": {
            "_view_name": "HBoxView",
            "_dom_classes": [],
            "_model_name": "HBoxModel",
            "_view_module": "@jupyter-widgets/controls",
            "_model_module_version": "1.5.0",
            "_view_count": null,
            "_view_module_version": "1.5.0",
            "box_style": "",
            "layout": "IPY_MODEL_72bf0874ff4f46a9a46ff001acbea81d",
            "_model_module": "@jupyter-widgets/controls",
            "children": [
              "IPY_MODEL_e2fbe6c41fa94fcab882f75ad96cab5c",
              "IPY_MODEL_2481bc8a42824a2fbd73d626d07c222c",
              "IPY_MODEL_9d8385ffe79142728770d3351eff7fe8"
            ]
          }
        },
        "72bf0874ff4f46a9a46ff001acbea81d": {
          "model_module": "@jupyter-widgets/base",
          "model_name": "LayoutModel",
          "model_module_version": "1.2.0",
          "state": {
            "_view_name": "LayoutView",
            "grid_template_rows": null,
            "right": null,
            "justify_content": null,
            "_view_module": "@jupyter-widgets/base",
            "overflow": null,
            "_model_module_version": "1.2.0",
            "_view_count": null,
            "flex_flow": null,
            "width": null,
            "min_width": null,
            "border": null,
            "align_items": null,
            "bottom": null,
            "_model_module": "@jupyter-widgets/base",
            "top": null,
            "grid_column": null,
            "overflow_y": null,
            "overflow_x": null,
            "grid_auto_flow": null,
            "grid_area": null,
            "grid_template_columns": null,
            "flex": null,
            "_model_name": "LayoutModel",
            "justify_items": null,
            "grid_row": null,
            "max_height": null,
            "align_content": null,
            "visibility": null,
            "align_self": null,
            "height": null,
            "min_height": null,
            "padding": null,
            "grid_auto_rows": null,
            "grid_gap": null,
            "max_width": null,
            "order": null,
            "_view_module_version": "1.2.0",
            "grid_template_areas": null,
            "object_position": null,
            "object_fit": null,
            "grid_auto_columns": null,
            "margin": null,
            "display": null,
            "left": null
          }
        },
        "e2fbe6c41fa94fcab882f75ad96cab5c": {
          "model_module": "@jupyter-widgets/controls",
          "model_name": "HTMLModel",
          "model_module_version": "1.5.0",
          "state": {
            "_view_name": "HTMLView",
            "style": "IPY_MODEL_08d3cd54eed34154b7938c7884697f13",
            "_dom_classes": [],
            "description": "",
            "_model_name": "HTMLModel",
            "placeholder": "​",
            "_view_module": "@jupyter-widgets/controls",
            "_model_module_version": "1.5.0",
            "value": "Downloading: 100%",
            "_view_count": null,
            "_view_module_version": "1.5.0",
            "description_tooltip": null,
            "_model_module": "@jupyter-widgets/controls",
            "layout": "IPY_MODEL_d67c05bce8ec467f95781ea2d43aeeab"
          }
        },
        "2481bc8a42824a2fbd73d626d07c222c": {
          "model_module": "@jupyter-widgets/controls",
          "model_name": "FloatProgressModel",
          "model_module_version": "1.5.0",
          "state": {
            "_view_name": "ProgressView",
            "style": "IPY_MODEL_ffaffe9361a348d3aa72595ee0bdd94f",
            "_dom_classes": [],
            "description": "",
            "_model_name": "FloatProgressModel",
            "bar_style": "success",
            "max": 426,
            "_view_module": "@jupyter-widgets/controls",
            "_model_module_version": "1.5.0",
            "value": 426,
            "_view_count": null,
            "_view_module_version": "1.5.0",
            "orientation": "horizontal",
            "min": 0,
            "description_tooltip": null,
            "_model_module": "@jupyter-widgets/controls",
            "layout": "IPY_MODEL_9902afeb75204d64914559e0f25cfe61"
          }
        },
        "9d8385ffe79142728770d3351eff7fe8": {
          "model_module": "@jupyter-widgets/controls",
          "model_name": "HTMLModel",
          "model_module_version": "1.5.0",
          "state": {
            "_view_name": "HTMLView",
            "style": "IPY_MODEL_4f57aa45fc814112adafbe7b85f2a4e7",
            "_dom_classes": [],
            "description": "",
            "_model_name": "HTMLModel",
            "placeholder": "​",
            "_view_module": "@jupyter-widgets/controls",
            "_model_module_version": "1.5.0",
            "value": " 426/426 [00:00&lt;00:00, 15.6kB/s]",
            "_view_count": null,
            "_view_module_version": "1.5.0",
            "description_tooltip": null,
            "_model_module": "@jupyter-widgets/controls",
            "layout": "IPY_MODEL_9f5fa88363bc4f9e8ab4034684f327dc"
          }
        },
        "08d3cd54eed34154b7938c7884697f13": {
          "model_module": "@jupyter-widgets/controls",
          "model_name": "DescriptionStyleModel",
          "model_module_version": "1.5.0",
          "state": {
            "_view_name": "StyleView",
            "_model_name": "DescriptionStyleModel",
            "description_width": "",
            "_view_module": "@jupyter-widgets/base",
            "_model_module_version": "1.5.0",
            "_view_count": null,
            "_view_module_version": "1.2.0",
            "_model_module": "@jupyter-widgets/controls"
          }
        },
        "d67c05bce8ec467f95781ea2d43aeeab": {
          "model_module": "@jupyter-widgets/base",
          "model_name": "LayoutModel",
          "model_module_version": "1.2.0",
          "state": {
            "_view_name": "LayoutView",
            "grid_template_rows": null,
            "right": null,
            "justify_content": null,
            "_view_module": "@jupyter-widgets/base",
            "overflow": null,
            "_model_module_version": "1.2.0",
            "_view_count": null,
            "flex_flow": null,
            "width": null,
            "min_width": null,
            "border": null,
            "align_items": null,
            "bottom": null,
            "_model_module": "@jupyter-widgets/base",
            "top": null,
            "grid_column": null,
            "overflow_y": null,
            "overflow_x": null,
            "grid_auto_flow": null,
            "grid_area": null,
            "grid_template_columns": null,
            "flex": null,
            "_model_name": "LayoutModel",
            "justify_items": null,
            "grid_row": null,
            "max_height": null,
            "align_content": null,
            "visibility": null,
            "align_self": null,
            "height": null,
            "min_height": null,
            "padding": null,
            "grid_auto_rows": null,
            "grid_gap": null,
            "max_width": null,
            "order": null,
            "_view_module_version": "1.2.0",
            "grid_template_areas": null,
            "object_position": null,
            "object_fit": null,
            "grid_auto_columns": null,
            "margin": null,
            "display": null,
            "left": null
          }
        },
        "ffaffe9361a348d3aa72595ee0bdd94f": {
          "model_module": "@jupyter-widgets/controls",
          "model_name": "ProgressStyleModel",
          "model_module_version": "1.5.0",
          "state": {
            "_view_name": "StyleView",
            "_model_name": "ProgressStyleModel",
            "description_width": "",
            "_view_module": "@jupyter-widgets/base",
            "_model_module_version": "1.5.0",
            "_view_count": null,
            "_view_module_version": "1.2.0",
            "bar_color": null,
            "_model_module": "@jupyter-widgets/controls"
          }
        },
        "9902afeb75204d64914559e0f25cfe61": {
          "model_module": "@jupyter-widgets/base",
          "model_name": "LayoutModel",
          "model_module_version": "1.2.0",
          "state": {
            "_view_name": "LayoutView",
            "grid_template_rows": null,
            "right": null,
            "justify_content": null,
            "_view_module": "@jupyter-widgets/base",
            "overflow": null,
            "_model_module_version": "1.2.0",
            "_view_count": null,
            "flex_flow": null,
            "width": null,
            "min_width": null,
            "border": null,
            "align_items": null,
            "bottom": null,
            "_model_module": "@jupyter-widgets/base",
            "top": null,
            "grid_column": null,
            "overflow_y": null,
            "overflow_x": null,
            "grid_auto_flow": null,
            "grid_area": null,
            "grid_template_columns": null,
            "flex": null,
            "_model_name": "LayoutModel",
            "justify_items": null,
            "grid_row": null,
            "max_height": null,
            "align_content": null,
            "visibility": null,
            "align_self": null,
            "height": null,
            "min_height": null,
            "padding": null,
            "grid_auto_rows": null,
            "grid_gap": null,
            "max_width": null,
            "order": null,
            "_view_module_version": "1.2.0",
            "grid_template_areas": null,
            "object_position": null,
            "object_fit": null,
            "grid_auto_columns": null,
            "margin": null,
            "display": null,
            "left": null
          }
        },
        "4f57aa45fc814112adafbe7b85f2a4e7": {
          "model_module": "@jupyter-widgets/controls",
          "model_name": "DescriptionStyleModel",
          "model_module_version": "1.5.0",
          "state": {
            "_view_name": "StyleView",
            "_model_name": "DescriptionStyleModel",
            "description_width": "",
            "_view_module": "@jupyter-widgets/base",
            "_model_module_version": "1.5.0",
            "_view_count": null,
            "_view_module_version": "1.2.0",
            "_model_module": "@jupyter-widgets/controls"
          }
        },
        "9f5fa88363bc4f9e8ab4034684f327dc": {
          "model_module": "@jupyter-widgets/base",
          "model_name": "LayoutModel",
          "model_module_version": "1.2.0",
          "state": {
            "_view_name": "LayoutView",
            "grid_template_rows": null,
            "right": null,
            "justify_content": null,
            "_view_module": "@jupyter-widgets/base",
            "overflow": null,
            "_model_module_version": "1.2.0",
            "_view_count": null,
            "flex_flow": null,
            "width": null,
            "min_width": null,
            "border": null,
            "align_items": null,
            "bottom": null,
            "_model_module": "@jupyter-widgets/base",
            "top": null,
            "grid_column": null,
            "overflow_y": null,
            "overflow_x": null,
            "grid_auto_flow": null,
            "grid_area": null,
            "grid_template_columns": null,
            "flex": null,
            "_model_name": "LayoutModel",
            "justify_items": null,
            "grid_row": null,
            "max_height": null,
            "align_content": null,
            "visibility": null,
            "align_self": null,
            "height": null,
            "min_height": null,
            "padding": null,
            "grid_auto_rows": null,
            "grid_gap": null,
            "max_width": null,
            "order": null,
            "_view_module_version": "1.2.0",
            "grid_template_areas": null,
            "object_position": null,
            "object_fit": null,
            "grid_auto_columns": null,
            "margin": null,
            "display": null,
            "left": null
          }
        },
        "88c4506e214541c896d96098f43fe410": {
          "model_module": "@jupyter-widgets/controls",
          "model_name": "HBoxModel",
          "model_module_version": "1.5.0",
          "state": {
            "_view_name": "HBoxView",
            "_dom_classes": [],
            "_model_name": "HBoxModel",
            "_view_module": "@jupyter-widgets/controls",
            "_model_module_version": "1.5.0",
            "_view_count": null,
            "_view_module_version": "1.5.0",
            "box_style": "",
            "layout": "IPY_MODEL_cf1d06e647874b50bff7071ae3487697",
            "_model_module": "@jupyter-widgets/controls",
            "children": [
              "IPY_MODEL_ca2c0965554c48aa97e21283df0e462d",
              "IPY_MODEL_20aa25e5307c48e18e2813644131d50c",
              "IPY_MODEL_47323d07f36c46cc85b039169e35a1b4"
            ]
          }
        },
        "cf1d06e647874b50bff7071ae3487697": {
          "model_module": "@jupyter-widgets/base",
          "model_name": "LayoutModel",
          "model_module_version": "1.2.0",
          "state": {
            "_view_name": "LayoutView",
            "grid_template_rows": null,
            "right": null,
            "justify_content": null,
            "_view_module": "@jupyter-widgets/base",
            "overflow": null,
            "_model_module_version": "1.2.0",
            "_view_count": null,
            "flex_flow": null,
            "width": null,
            "min_width": null,
            "border": null,
            "align_items": null,
            "bottom": null,
            "_model_module": "@jupyter-widgets/base",
            "top": null,
            "grid_column": null,
            "overflow_y": null,
            "overflow_x": null,
            "grid_auto_flow": null,
            "grid_area": null,
            "grid_template_columns": null,
            "flex": null,
            "_model_name": "LayoutModel",
            "justify_items": null,
            "grid_row": null,
            "max_height": null,
            "align_content": null,
            "visibility": null,
            "align_self": null,
            "height": null,
            "min_height": null,
            "padding": null,
            "grid_auto_rows": null,
            "grid_gap": null,
            "max_width": null,
            "order": null,
            "_view_module_version": "1.2.0",
            "grid_template_areas": null,
            "object_position": null,
            "object_fit": null,
            "grid_auto_columns": null,
            "margin": null,
            "display": null,
            "left": null
          }
        },
        "ca2c0965554c48aa97e21283df0e462d": {
          "model_module": "@jupyter-widgets/controls",
          "model_name": "HTMLModel",
          "model_module_version": "1.5.0",
          "state": {
            "_view_name": "HTMLView",
            "style": "IPY_MODEL_c8a6c73d7a9d49ff8d2384a0bd24a828",
            "_dom_classes": [],
            "description": "",
            "_model_name": "HTMLModel",
            "placeholder": "​",
            "_view_module": "@jupyter-widgets/controls",
            "_model_module_version": "1.5.0",
            "value": "Downloading: 100%",
            "_view_count": null,
            "_view_module_version": "1.5.0",
            "description_tooltip": null,
            "_model_module": "@jupyter-widgets/controls",
            "layout": "IPY_MODEL_5ab1b4a62c0f4232a4ff0b421d2d142c"
          }
        },
        "20aa25e5307c48e18e2813644131d50c": {
          "model_module": "@jupyter-widgets/controls",
          "model_name": "FloatProgressModel",
          "model_module_version": "1.5.0",
          "state": {
            "_view_name": "ProgressView",
            "style": "IPY_MODEL_599b47d16abf4b86aefaa02e62814f80",
            "_dom_classes": [],
            "description": "",
            "_model_name": "FloatProgressModel",
            "bar_style": "success",
            "max": 368792146,
            "_view_module": "@jupyter-widgets/controls",
            "_model_module_version": "1.5.0",
            "value": 368792146,
            "_view_count": null,
            "_view_module_version": "1.5.0",
            "orientation": "horizontal",
            "min": 0,
            "description_tooltip": null,
            "_model_module": "@jupyter-widgets/controls",
            "layout": "IPY_MODEL_c9341802be5e4c3ca951ffd6eccfc382"
          }
        },
        "47323d07f36c46cc85b039169e35a1b4": {
          "model_module": "@jupyter-widgets/controls",
          "model_name": "HTMLModel",
          "model_module_version": "1.5.0",
          "state": {
            "_view_name": "HTMLView",
            "style": "IPY_MODEL_ef310617e1de43f287c785b48d711ea3",
            "_dom_classes": [],
            "description": "",
            "_model_name": "HTMLModel",
            "placeholder": "​",
            "_view_module": "@jupyter-widgets/controls",
            "_model_module_version": "1.5.0",
            "value": " 369M/369M [00:07&lt;00:00, 56.2MB/s]",
            "_view_count": null,
            "_view_module_version": "1.5.0",
            "description_tooltip": null,
            "_model_module": "@jupyter-widgets/controls",
            "layout": "IPY_MODEL_6401a57b4e624700b263427f6455d012"
          }
        },
        "c8a6c73d7a9d49ff8d2384a0bd24a828": {
          "model_module": "@jupyter-widgets/controls",
          "model_name": "DescriptionStyleModel",
          "model_module_version": "1.5.0",
          "state": {
            "_view_name": "StyleView",
            "_model_name": "DescriptionStyleModel",
            "description_width": "",
            "_view_module": "@jupyter-widgets/base",
            "_model_module_version": "1.5.0",
            "_view_count": null,
            "_view_module_version": "1.2.0",
            "_model_module": "@jupyter-widgets/controls"
          }
        },
        "5ab1b4a62c0f4232a4ff0b421d2d142c": {
          "model_module": "@jupyter-widgets/base",
          "model_name": "LayoutModel",
          "model_module_version": "1.2.0",
          "state": {
            "_view_name": "LayoutView",
            "grid_template_rows": null,
            "right": null,
            "justify_content": null,
            "_view_module": "@jupyter-widgets/base",
            "overflow": null,
            "_model_module_version": "1.2.0",
            "_view_count": null,
            "flex_flow": null,
            "width": null,
            "min_width": null,
            "border": null,
            "align_items": null,
            "bottom": null,
            "_model_module": "@jupyter-widgets/base",
            "top": null,
            "grid_column": null,
            "overflow_y": null,
            "overflow_x": null,
            "grid_auto_flow": null,
            "grid_area": null,
            "grid_template_columns": null,
            "flex": null,
            "_model_name": "LayoutModel",
            "justify_items": null,
            "grid_row": null,
            "max_height": null,
            "align_content": null,
            "visibility": null,
            "align_self": null,
            "height": null,
            "min_height": null,
            "padding": null,
            "grid_auto_rows": null,
            "grid_gap": null,
            "max_width": null,
            "order": null,
            "_view_module_version": "1.2.0",
            "grid_template_areas": null,
            "object_position": null,
            "object_fit": null,
            "grid_auto_columns": null,
            "margin": null,
            "display": null,
            "left": null
          }
        },
        "599b47d16abf4b86aefaa02e62814f80": {
          "model_module": "@jupyter-widgets/controls",
          "model_name": "ProgressStyleModel",
          "model_module_version": "1.5.0",
          "state": {
            "_view_name": "StyleView",
            "_model_name": "ProgressStyleModel",
            "description_width": "",
            "_view_module": "@jupyter-widgets/base",
            "_model_module_version": "1.5.0",
            "_view_count": null,
            "_view_module_version": "1.2.0",
            "bar_color": null,
            "_model_module": "@jupyter-widgets/controls"
          }
        },
        "c9341802be5e4c3ca951ffd6eccfc382": {
          "model_module": "@jupyter-widgets/base",
          "model_name": "LayoutModel",
          "model_module_version": "1.2.0",
          "state": {
            "_view_name": "LayoutView",
            "grid_template_rows": null,
            "right": null,
            "justify_content": null,
            "_view_module": "@jupyter-widgets/base",
            "overflow": null,
            "_model_module_version": "1.2.0",
            "_view_count": null,
            "flex_flow": null,
            "width": null,
            "min_width": null,
            "border": null,
            "align_items": null,
            "bottom": null,
            "_model_module": "@jupyter-widgets/base",
            "top": null,
            "grid_column": null,
            "overflow_y": null,
            "overflow_x": null,
            "grid_auto_flow": null,
            "grid_area": null,
            "grid_template_columns": null,
            "flex": null,
            "_model_name": "LayoutModel",
            "justify_items": null,
            "grid_row": null,
            "max_height": null,
            "align_content": null,
            "visibility": null,
            "align_self": null,
            "height": null,
            "min_height": null,
            "padding": null,
            "grid_auto_rows": null,
            "grid_gap": null,
            "max_width": null,
            "order": null,
            "_view_module_version": "1.2.0",
            "grid_template_areas": null,
            "object_position": null,
            "object_fit": null,
            "grid_auto_columns": null,
            "margin": null,
            "display": null,
            "left": null
          }
        },
        "ef310617e1de43f287c785b48d711ea3": {
          "model_module": "@jupyter-widgets/controls",
          "model_name": "DescriptionStyleModel",
          "model_module_version": "1.5.0",
          "state": {
            "_view_name": "StyleView",
            "_model_name": "DescriptionStyleModel",
            "description_width": "",
            "_view_module": "@jupyter-widgets/base",
            "_model_module_version": "1.5.0",
            "_view_count": null,
            "_view_module_version": "1.2.0",
            "_model_module": "@jupyter-widgets/controls"
          }
        },
        "6401a57b4e624700b263427f6455d012": {
          "model_module": "@jupyter-widgets/base",
          "model_name": "LayoutModel",
          "model_module_version": "1.2.0",
          "state": {
            "_view_name": "LayoutView",
            "grid_template_rows": null,
            "right": null,
            "justify_content": null,
            "_view_module": "@jupyter-widgets/base",
            "overflow": null,
            "_model_module_version": "1.2.0",
            "_view_count": null,
            "flex_flow": null,
            "width": null,
            "min_width": null,
            "border": null,
            "align_items": null,
            "bottom": null,
            "_model_module": "@jupyter-widgets/base",
            "top": null,
            "grid_column": null,
            "overflow_y": null,
            "overflow_x": null,
            "grid_auto_flow": null,
            "grid_area": null,
            "grid_template_columns": null,
            "flex": null,
            "_model_name": "LayoutModel",
            "justify_items": null,
            "grid_row": null,
            "max_height": null,
            "align_content": null,
            "visibility": null,
            "align_self": null,
            "height": null,
            "min_height": null,
            "padding": null,
            "grid_auto_rows": null,
            "grid_gap": null,
            "max_width": null,
            "order": null,
            "_view_module_version": "1.2.0",
            "grid_template_areas": null,
            "object_position": null,
            "object_fit": null,
            "grid_auto_columns": null,
            "margin": null,
            "display": null,
            "left": null
          }
        },
        "8667fceb039b4eee8d38a0d0db11f243": {
          "model_module": "@jupyter-widgets/controls",
          "model_name": "HBoxModel",
          "model_module_version": "1.5.0",
          "state": {
            "_view_name": "HBoxView",
            "_dom_classes": [],
            "_model_name": "HBoxModel",
            "_view_module": "@jupyter-widgets/controls",
            "_model_module_version": "1.5.0",
            "_view_count": null,
            "_view_module_version": "1.5.0",
            "box_style": "",
            "layout": "IPY_MODEL_5588dd11494a4ac0b2c1f41321af9529",
            "_model_module": "@jupyter-widgets/controls",
            "children": [
              "IPY_MODEL_2efa073282ac4b1bad2b4b13cdbd4fd3",
              "IPY_MODEL_7b5c8f82b3934ca791cece4dc576fa92",
              "IPY_MODEL_b3a174e3f06940ae96774e690c211419"
            ]
          }
        },
        "5588dd11494a4ac0b2c1f41321af9529": {
          "model_module": "@jupyter-widgets/base",
          "model_name": "LayoutModel",
          "model_module_version": "1.2.0",
          "state": {
            "_view_name": "LayoutView",
            "grid_template_rows": null,
            "right": null,
            "justify_content": null,
            "_view_module": "@jupyter-widgets/base",
            "overflow": null,
            "_model_module_version": "1.2.0",
            "_view_count": null,
            "flex_flow": null,
            "width": null,
            "min_width": null,
            "border": null,
            "align_items": null,
            "bottom": null,
            "_model_module": "@jupyter-widgets/base",
            "top": null,
            "grid_column": null,
            "overflow_y": null,
            "overflow_x": null,
            "grid_auto_flow": null,
            "grid_area": null,
            "grid_template_columns": null,
            "flex": null,
            "_model_name": "LayoutModel",
            "justify_items": null,
            "grid_row": null,
            "max_height": null,
            "align_content": null,
            "visibility": null,
            "align_self": null,
            "height": null,
            "min_height": null,
            "padding": null,
            "grid_auto_rows": null,
            "grid_gap": null,
            "max_width": null,
            "order": null,
            "_view_module_version": "1.2.0",
            "grid_template_areas": null,
            "object_position": null,
            "object_fit": null,
            "grid_auto_columns": null,
            "margin": null,
            "display": null,
            "left": null
          }
        },
        "2efa073282ac4b1bad2b4b13cdbd4fd3": {
          "model_module": "@jupyter-widgets/controls",
          "model_name": "HTMLModel",
          "model_module_version": "1.5.0",
          "state": {
            "_view_name": "HTMLView",
            "style": "IPY_MODEL_387fd7cfdace4e8a956e75c682a801d5",
            "_dom_classes": [],
            "description": "",
            "_model_name": "HTMLModel",
            "placeholder": "​",
            "_view_module": "@jupyter-widgets/controls",
            "_model_module_version": "1.5.0",
            "value": "Downloading: 100%",
            "_view_count": null,
            "_view_module_version": "1.5.0",
            "description_tooltip": null,
            "_model_module": "@jupyter-widgets/controls",
            "layout": "IPY_MODEL_069b01000e6945359e8d61ec72dc115d"
          }
        },
        "7b5c8f82b3934ca791cece4dc576fa92": {
          "model_module": "@jupyter-widgets/controls",
          "model_name": "FloatProgressModel",
          "model_module_version": "1.5.0",
          "state": {
            "_view_name": "ProgressView",
            "style": "IPY_MODEL_73c18619b39b438796efa032b1db2316",
            "_dom_classes": [],
            "description": "",
            "_model_name": "FloatProgressModel",
            "bar_style": "success",
            "max": 371391,
            "_view_module": "@jupyter-widgets/controls",
            "_model_module_version": "1.5.0",
            "value": 371391,
            "_view_count": null,
            "_view_module_version": "1.5.0",
            "orientation": "horizontal",
            "min": 0,
            "description_tooltip": null,
            "_model_module": "@jupyter-widgets/controls",
            "layout": "IPY_MODEL_987324cba5774b6eb04f496fbac283e8"
          }
        },
        "b3a174e3f06940ae96774e690c211419": {
          "model_module": "@jupyter-widgets/controls",
          "model_name": "HTMLModel",
          "model_module_version": "1.5.0",
          "state": {
            "_view_name": "HTMLView",
            "style": "IPY_MODEL_ba0aa7b0759040edb272d2b6dab52e5e",
            "_dom_classes": [],
            "description": "",
            "_model_name": "HTMLModel",
            "placeholder": "​",
            "_view_module": "@jupyter-widgets/controls",
            "_model_module_version": "1.5.0",
            "value": " 371k/371k [00:00&lt;00:00, 2.21MB/s]",
            "_view_count": null,
            "_view_module_version": "1.5.0",
            "description_tooltip": null,
            "_model_module": "@jupyter-widgets/controls",
            "layout": "IPY_MODEL_104d1d22313f4671b3f5b03d8d88d304"
          }
        },
        "387fd7cfdace4e8a956e75c682a801d5": {
          "model_module": "@jupyter-widgets/controls",
          "model_name": "DescriptionStyleModel",
          "model_module_version": "1.5.0",
          "state": {
            "_view_name": "StyleView",
            "_model_name": "DescriptionStyleModel",
            "description_width": "",
            "_view_module": "@jupyter-widgets/base",
            "_model_module_version": "1.5.0",
            "_view_count": null,
            "_view_module_version": "1.2.0",
            "_model_module": "@jupyter-widgets/controls"
          }
        },
        "069b01000e6945359e8d61ec72dc115d": {
          "model_module": "@jupyter-widgets/base",
          "model_name": "LayoutModel",
          "model_module_version": "1.2.0",
          "state": {
            "_view_name": "LayoutView",
            "grid_template_rows": null,
            "right": null,
            "justify_content": null,
            "_view_module": "@jupyter-widgets/base",
            "overflow": null,
            "_model_module_version": "1.2.0",
            "_view_count": null,
            "flex_flow": null,
            "width": null,
            "min_width": null,
            "border": null,
            "align_items": null,
            "bottom": null,
            "_model_module": "@jupyter-widgets/base",
            "top": null,
            "grid_column": null,
            "overflow_y": null,
            "overflow_x": null,
            "grid_auto_flow": null,
            "grid_area": null,
            "grid_template_columns": null,
            "flex": null,
            "_model_name": "LayoutModel",
            "justify_items": null,
            "grid_row": null,
            "max_height": null,
            "align_content": null,
            "visibility": null,
            "align_self": null,
            "height": null,
            "min_height": null,
            "padding": null,
            "grid_auto_rows": null,
            "grid_gap": null,
            "max_width": null,
            "order": null,
            "_view_module_version": "1.2.0",
            "grid_template_areas": null,
            "object_position": null,
            "object_fit": null,
            "grid_auto_columns": null,
            "margin": null,
            "display": null,
            "left": null
          }
        },
        "73c18619b39b438796efa032b1db2316": {
          "model_module": "@jupyter-widgets/controls",
          "model_name": "ProgressStyleModel",
          "model_module_version": "1.5.0",
          "state": {
            "_view_name": "StyleView",
            "_model_name": "ProgressStyleModel",
            "description_width": "",
            "_view_module": "@jupyter-widgets/base",
            "_model_module_version": "1.5.0",
            "_view_count": null,
            "_view_module_version": "1.2.0",
            "bar_color": null,
            "_model_module": "@jupyter-widgets/controls"
          }
        },
        "987324cba5774b6eb04f496fbac283e8": {
          "model_module": "@jupyter-widgets/base",
          "model_name": "LayoutModel",
          "model_module_version": "1.2.0",
          "state": {
            "_view_name": "LayoutView",
            "grid_template_rows": null,
            "right": null,
            "justify_content": null,
            "_view_module": "@jupyter-widgets/base",
            "overflow": null,
            "_model_module_version": "1.2.0",
            "_view_count": null,
            "flex_flow": null,
            "width": null,
            "min_width": null,
            "border": null,
            "align_items": null,
            "bottom": null,
            "_model_module": "@jupyter-widgets/base",
            "top": null,
            "grid_column": null,
            "overflow_y": null,
            "overflow_x": null,
            "grid_auto_flow": null,
            "grid_area": null,
            "grid_template_columns": null,
            "flex": null,
            "_model_name": "LayoutModel",
            "justify_items": null,
            "grid_row": null,
            "max_height": null,
            "align_content": null,
            "visibility": null,
            "align_self": null,
            "height": null,
            "min_height": null,
            "padding": null,
            "grid_auto_rows": null,
            "grid_gap": null,
            "max_width": null,
            "order": null,
            "_view_module_version": "1.2.0",
            "grid_template_areas": null,
            "object_position": null,
            "object_fit": null,
            "grid_auto_columns": null,
            "margin": null,
            "display": null,
            "left": null
          }
        },
        "ba0aa7b0759040edb272d2b6dab52e5e": {
          "model_module": "@jupyter-widgets/controls",
          "model_name": "DescriptionStyleModel",
          "model_module_version": "1.5.0",
          "state": {
            "_view_name": "StyleView",
            "_model_name": "DescriptionStyleModel",
            "description_width": "",
            "_view_module": "@jupyter-widgets/base",
            "_model_module_version": "1.5.0",
            "_view_count": null,
            "_view_module_version": "1.2.0",
            "_model_module": "@jupyter-widgets/controls"
          }
        },
        "104d1d22313f4671b3f5b03d8d88d304": {
          "model_module": "@jupyter-widgets/base",
          "model_name": "LayoutModel",
          "model_module_version": "1.2.0",
          "state": {
            "_view_name": "LayoutView",
            "grid_template_rows": null,
            "right": null,
            "justify_content": null,
            "_view_module": "@jupyter-widgets/base",
            "overflow": null,
            "_model_module_version": "1.2.0",
            "_view_count": null,
            "flex_flow": null,
            "width": null,
            "min_width": null,
            "border": null,
            "align_items": null,
            "bottom": null,
            "_model_module": "@jupyter-widgets/base",
            "top": null,
            "grid_column": null,
            "overflow_y": null,
            "overflow_x": null,
            "grid_auto_flow": null,
            "grid_area": null,
            "grid_template_columns": null,
            "flex": null,
            "_model_name": "LayoutModel",
            "justify_items": null,
            "grid_row": null,
            "max_height": null,
            "align_content": null,
            "visibility": null,
            "align_self": null,
            "height": null,
            "min_height": null,
            "padding": null,
            "grid_auto_rows": null,
            "grid_gap": null,
            "max_width": null,
            "order": null,
            "_view_module_version": "1.2.0",
            "grid_template_areas": null,
            "object_position": null,
            "object_fit": null,
            "grid_auto_columns": null,
            "margin": null,
            "display": null,
            "left": null
          }
        },
        "0fe67a7daa9b41698f7d7b322b3427ae": {
          "model_module": "@jupyter-widgets/controls",
          "model_name": "HBoxModel",
          "model_module_version": "1.5.0",
          "state": {
            "_view_name": "HBoxView",
            "_dom_classes": [],
            "_model_name": "HBoxModel",
            "_view_module": "@jupyter-widgets/controls",
            "_model_module_version": "1.5.0",
            "_view_count": null,
            "_view_module_version": "1.5.0",
            "box_style": "",
            "layout": "IPY_MODEL_e931907e3df34f32b7f5b7c515751ece",
            "_model_module": "@jupyter-widgets/controls",
            "children": [
              "IPY_MODEL_cd7be48280b8414b8e9a40de12a75e4a",
              "IPY_MODEL_f5f462d74929453b89d0fd87d4791237",
              "IPY_MODEL_541df09442e54acbbae77910084affa1"
            ]
          }
        },
        "e931907e3df34f32b7f5b7c515751ece": {
          "model_module": "@jupyter-widgets/base",
          "model_name": "LayoutModel",
          "model_module_version": "1.2.0",
          "state": {
            "_view_name": "LayoutView",
            "grid_template_rows": null,
            "right": null,
            "justify_content": null,
            "_view_module": "@jupyter-widgets/base",
            "overflow": null,
            "_model_module_version": "1.2.0",
            "_view_count": null,
            "flex_flow": null,
            "width": null,
            "min_width": null,
            "border": null,
            "align_items": null,
            "bottom": null,
            "_model_module": "@jupyter-widgets/base",
            "top": null,
            "grid_column": null,
            "overflow_y": null,
            "overflow_x": null,
            "grid_auto_flow": null,
            "grid_area": null,
            "grid_template_columns": null,
            "flex": null,
            "_model_name": "LayoutModel",
            "justify_items": null,
            "grid_row": null,
            "max_height": null,
            "align_content": null,
            "visibility": null,
            "align_self": null,
            "height": null,
            "min_height": null,
            "padding": null,
            "grid_auto_rows": null,
            "grid_gap": null,
            "max_width": null,
            "order": null,
            "_view_module_version": "1.2.0",
            "grid_template_areas": null,
            "object_position": null,
            "object_fit": null,
            "grid_auto_columns": null,
            "margin": null,
            "display": null,
            "left": null
          }
        },
        "cd7be48280b8414b8e9a40de12a75e4a": {
          "model_module": "@jupyter-widgets/controls",
          "model_name": "HTMLModel",
          "model_module_version": "1.5.0",
          "state": {
            "_view_name": "HTMLView",
            "style": "IPY_MODEL_a7bec51655824291b8d5a64a2ab36477",
            "_dom_classes": [],
            "description": "",
            "_model_name": "HTMLModel",
            "placeholder": "​",
            "_view_module": "@jupyter-widgets/controls",
            "_model_module_version": "1.5.0",
            "value": "Downloading: 100%",
            "_view_count": null,
            "_view_module_version": "1.5.0",
            "description_tooltip": null,
            "_model_module": "@jupyter-widgets/controls",
            "layout": "IPY_MODEL_90b62e1f615249599d816fa2b0986ef1"
          }
        },
        "f5f462d74929453b89d0fd87d4791237": {
          "model_module": "@jupyter-widgets/controls",
          "model_name": "FloatProgressModel",
          "model_module_version": "1.5.0",
          "state": {
            "_view_name": "ProgressView",
            "style": "IPY_MODEL_e15084455f8b4f9babb224be6ba2c6be",
            "_dom_classes": [],
            "description": "",
            "_model_name": "FloatProgressModel",
            "bar_style": "success",
            "max": 77779,
            "_view_module": "@jupyter-widgets/controls",
            "_model_module_version": "1.5.0",
            "value": 77779,
            "_view_count": null,
            "_view_module_version": "1.5.0",
            "orientation": "horizontal",
            "min": 0,
            "description_tooltip": null,
            "_model_module": "@jupyter-widgets/controls",
            "layout": "IPY_MODEL_db69a65aad3a46099cadaa7966997a4a"
          }
        },
        "541df09442e54acbbae77910084affa1": {
          "model_module": "@jupyter-widgets/controls",
          "model_name": "HTMLModel",
          "model_module_version": "1.5.0",
          "state": {
            "_view_name": "HTMLView",
            "style": "IPY_MODEL_8a83f045ef5a4055b48f3f629605285f",
            "_dom_classes": [],
            "description": "",
            "_model_name": "HTMLModel",
            "placeholder": "​",
            "_view_module": "@jupyter-widgets/controls",
            "_model_module_version": "1.5.0",
            "value": " 77.8k/77.8k [00:00&lt;00:00, 2.41MB/s]",
            "_view_count": null,
            "_view_module_version": "1.5.0",
            "description_tooltip": null,
            "_model_module": "@jupyter-widgets/controls",
            "layout": "IPY_MODEL_0e0b59087a5a44fd9c741bd75de9bc24"
          }
        },
        "a7bec51655824291b8d5a64a2ab36477": {
          "model_module": "@jupyter-widgets/controls",
          "model_name": "DescriptionStyleModel",
          "model_module_version": "1.5.0",
          "state": {
            "_view_name": "StyleView",
            "_model_name": "DescriptionStyleModel",
            "description_width": "",
            "_view_module": "@jupyter-widgets/base",
            "_model_module_version": "1.5.0",
            "_view_count": null,
            "_view_module_version": "1.2.0",
            "_model_module": "@jupyter-widgets/controls"
          }
        },
        "90b62e1f615249599d816fa2b0986ef1": {
          "model_module": "@jupyter-widgets/base",
          "model_name": "LayoutModel",
          "model_module_version": "1.2.0",
          "state": {
            "_view_name": "LayoutView",
            "grid_template_rows": null,
            "right": null,
            "justify_content": null,
            "_view_module": "@jupyter-widgets/base",
            "overflow": null,
            "_model_module_version": "1.2.0",
            "_view_count": null,
            "flex_flow": null,
            "width": null,
            "min_width": null,
            "border": null,
            "align_items": null,
            "bottom": null,
            "_model_module": "@jupyter-widgets/base",
            "top": null,
            "grid_column": null,
            "overflow_y": null,
            "overflow_x": null,
            "grid_auto_flow": null,
            "grid_area": null,
            "grid_template_columns": null,
            "flex": null,
            "_model_name": "LayoutModel",
            "justify_items": null,
            "grid_row": null,
            "max_height": null,
            "align_content": null,
            "visibility": null,
            "align_self": null,
            "height": null,
            "min_height": null,
            "padding": null,
            "grid_auto_rows": null,
            "grid_gap": null,
            "max_width": null,
            "order": null,
            "_view_module_version": "1.2.0",
            "grid_template_areas": null,
            "object_position": null,
            "object_fit": null,
            "grid_auto_columns": null,
            "margin": null,
            "display": null,
            "left": null
          }
        },
        "e15084455f8b4f9babb224be6ba2c6be": {
          "model_module": "@jupyter-widgets/controls",
          "model_name": "ProgressStyleModel",
          "model_module_version": "1.5.0",
          "state": {
            "_view_name": "StyleView",
            "_model_name": "ProgressStyleModel",
            "description_width": "",
            "_view_module": "@jupyter-widgets/base",
            "_model_module_version": "1.5.0",
            "_view_count": null,
            "_view_module_version": "1.2.0",
            "bar_color": null,
            "_model_module": "@jupyter-widgets/controls"
          }
        },
        "db69a65aad3a46099cadaa7966997a4a": {
          "model_module": "@jupyter-widgets/base",
          "model_name": "LayoutModel",
          "model_module_version": "1.2.0",
          "state": {
            "_view_name": "LayoutView",
            "grid_template_rows": null,
            "right": null,
            "justify_content": null,
            "_view_module": "@jupyter-widgets/base",
            "overflow": null,
            "_model_module_version": "1.2.0",
            "_view_count": null,
            "flex_flow": null,
            "width": null,
            "min_width": null,
            "border": null,
            "align_items": null,
            "bottom": null,
            "_model_module": "@jupyter-widgets/base",
            "top": null,
            "grid_column": null,
            "overflow_y": null,
            "overflow_x": null,
            "grid_auto_flow": null,
            "grid_area": null,
            "grid_template_columns": null,
            "flex": null,
            "_model_name": "LayoutModel",
            "justify_items": null,
            "grid_row": null,
            "max_height": null,
            "align_content": null,
            "visibility": null,
            "align_self": null,
            "height": null,
            "min_height": null,
            "padding": null,
            "grid_auto_rows": null,
            "grid_gap": null,
            "max_width": null,
            "order": null,
            "_view_module_version": "1.2.0",
            "grid_template_areas": null,
            "object_position": null,
            "object_fit": null,
            "grid_auto_columns": null,
            "margin": null,
            "display": null,
            "left": null
          }
        },
        "8a83f045ef5a4055b48f3f629605285f": {
          "model_module": "@jupyter-widgets/controls",
          "model_name": "DescriptionStyleModel",
          "model_module_version": "1.5.0",
          "state": {
            "_view_name": "StyleView",
            "_model_name": "DescriptionStyleModel",
            "description_width": "",
            "_view_module": "@jupyter-widgets/base",
            "_model_module_version": "1.5.0",
            "_view_count": null,
            "_view_module_version": "1.2.0",
            "_model_module": "@jupyter-widgets/controls"
          }
        },
        "0e0b59087a5a44fd9c741bd75de9bc24": {
          "model_module": "@jupyter-widgets/base",
          "model_name": "LayoutModel",
          "model_module_version": "1.2.0",
          "state": {
            "_view_name": "LayoutView",
            "grid_template_rows": null,
            "right": null,
            "justify_content": null,
            "_view_module": "@jupyter-widgets/base",
            "overflow": null,
            "_model_module_version": "1.2.0",
            "_view_count": null,
            "flex_flow": null,
            "width": null,
            "min_width": null,
            "border": null,
            "align_items": null,
            "bottom": null,
            "_model_module": "@jupyter-widgets/base",
            "top": null,
            "grid_column": null,
            "overflow_y": null,
            "overflow_x": null,
            "grid_auto_flow": null,
            "grid_area": null,
            "grid_template_columns": null,
            "flex": null,
            "_model_name": "LayoutModel",
            "justify_items": null,
            "grid_row": null,
            "max_height": null,
            "align_content": null,
            "visibility": null,
            "align_self": null,
            "height": null,
            "min_height": null,
            "padding": null,
            "grid_auto_rows": null,
            "grid_gap": null,
            "max_width": null,
            "order": null,
            "_view_module_version": "1.2.0",
            "grid_template_areas": null,
            "object_position": null,
            "object_fit": null,
            "grid_auto_columns": null,
            "margin": null,
            "display": null,
            "left": null
          }
        },
        "80abb0240aa44a94a0a655b40696c4a0": {
          "model_module": "@jupyter-widgets/controls",
          "model_name": "HBoxModel",
          "model_module_version": "1.5.0",
          "state": {
            "_view_name": "HBoxView",
            "_dom_classes": [],
            "_model_name": "HBoxModel",
            "_view_module": "@jupyter-widgets/controls",
            "_model_module_version": "1.5.0",
            "_view_count": null,
            "_view_module_version": "1.5.0",
            "box_style": "",
            "layout": "IPY_MODEL_fc818a930810433e8dc7c4dde4a5c5fd",
            "_model_module": "@jupyter-widgets/controls",
            "children": [
              "IPY_MODEL_0b2943e33c454fdca83dfe06b035a4a9",
              "IPY_MODEL_e9a7dc8e6afd497c86aa2b763d16609b",
              "IPY_MODEL_30295514276a4a6daacea87a4fc9d947"
            ]
          }
        },
        "fc818a930810433e8dc7c4dde4a5c5fd": {
          "model_module": "@jupyter-widgets/base",
          "model_name": "LayoutModel",
          "model_module_version": "1.2.0",
          "state": {
            "_view_name": "LayoutView",
            "grid_template_rows": null,
            "right": null,
            "justify_content": null,
            "_view_module": "@jupyter-widgets/base",
            "overflow": null,
            "_model_module_version": "1.2.0",
            "_view_count": null,
            "flex_flow": null,
            "width": null,
            "min_width": null,
            "border": null,
            "align_items": null,
            "bottom": null,
            "_model_module": "@jupyter-widgets/base",
            "top": null,
            "grid_column": null,
            "overflow_y": null,
            "overflow_x": null,
            "grid_auto_flow": null,
            "grid_area": null,
            "grid_template_columns": null,
            "flex": null,
            "_model_name": "LayoutModel",
            "justify_items": null,
            "grid_row": null,
            "max_height": null,
            "align_content": null,
            "visibility": null,
            "align_self": null,
            "height": null,
            "min_height": null,
            "padding": null,
            "grid_auto_rows": null,
            "grid_gap": null,
            "max_width": null,
            "order": null,
            "_view_module_version": "1.2.0",
            "grid_template_areas": null,
            "object_position": null,
            "object_fit": null,
            "grid_auto_columns": null,
            "margin": null,
            "display": null,
            "left": null
          }
        },
        "0b2943e33c454fdca83dfe06b035a4a9": {
          "model_module": "@jupyter-widgets/controls",
          "model_name": "HTMLModel",
          "model_module_version": "1.5.0",
          "state": {
            "_view_name": "HTMLView",
            "style": "IPY_MODEL_8a297898951f4cc5836adc667e37c094",
            "_dom_classes": [],
            "description": "",
            "_model_name": "HTMLModel",
            "placeholder": "​",
            "_view_module": "@jupyter-widgets/controls",
            "_model_module_version": "1.5.0",
            "value": "Downloading: 100%",
            "_view_count": null,
            "_view_module_version": "1.5.0",
            "description_tooltip": null,
            "_model_module": "@jupyter-widgets/controls",
            "layout": "IPY_MODEL_63493dc457ea4543b98652917076fa5c"
          }
        },
        "e9a7dc8e6afd497c86aa2b763d16609b": {
          "model_module": "@jupyter-widgets/controls",
          "model_name": "FloatProgressModel",
          "model_module_version": "1.5.0",
          "state": {
            "_view_name": "ProgressView",
            "style": "IPY_MODEL_7d4cb8b24ba84fd0912543a5c72d777e",
            "_dom_classes": [],
            "description": "",
            "_model_name": "FloatProgressModel",
            "bar_style": "success",
            "max": 51,
            "_view_module": "@jupyter-widgets/controls",
            "_model_module_version": "1.5.0",
            "value": 51,
            "_view_count": null,
            "_view_module_version": "1.5.0",
            "orientation": "horizontal",
            "min": 0,
            "description_tooltip": null,
            "_model_module": "@jupyter-widgets/controls",
            "layout": "IPY_MODEL_5788527ac94c49dabb6d02bdcb6508d4"
          }
        },
        "30295514276a4a6daacea87a4fc9d947": {
          "model_module": "@jupyter-widgets/controls",
          "model_name": "HTMLModel",
          "model_module_version": "1.5.0",
          "state": {
            "_view_name": "HTMLView",
            "style": "IPY_MODEL_cec9797a6677476d9dac0948b4cb7b44",
            "_dom_classes": [],
            "description": "",
            "_model_name": "HTMLModel",
            "placeholder": "​",
            "_view_module": "@jupyter-widgets/controls",
            "_model_module_version": "1.5.0",
            "value": " 51.0/51.0 [00:00&lt;00:00, 1.73kB/s]",
            "_view_count": null,
            "_view_module_version": "1.5.0",
            "description_tooltip": null,
            "_model_module": "@jupyter-widgets/controls",
            "layout": "IPY_MODEL_0bc3cd06b4bb4d25a9e4253ed60c1d61"
          }
        },
        "8a297898951f4cc5836adc667e37c094": {
          "model_module": "@jupyter-widgets/controls",
          "model_name": "DescriptionStyleModel",
          "model_module_version": "1.5.0",
          "state": {
            "_view_name": "StyleView",
            "_model_name": "DescriptionStyleModel",
            "description_width": "",
            "_view_module": "@jupyter-widgets/base",
            "_model_module_version": "1.5.0",
            "_view_count": null,
            "_view_module_version": "1.2.0",
            "_model_module": "@jupyter-widgets/controls"
          }
        },
        "63493dc457ea4543b98652917076fa5c": {
          "model_module": "@jupyter-widgets/base",
          "model_name": "LayoutModel",
          "model_module_version": "1.2.0",
          "state": {
            "_view_name": "LayoutView",
            "grid_template_rows": null,
            "right": null,
            "justify_content": null,
            "_view_module": "@jupyter-widgets/base",
            "overflow": null,
            "_model_module_version": "1.2.0",
            "_view_count": null,
            "flex_flow": null,
            "width": null,
            "min_width": null,
            "border": null,
            "align_items": null,
            "bottom": null,
            "_model_module": "@jupyter-widgets/base",
            "top": null,
            "grid_column": null,
            "overflow_y": null,
            "overflow_x": null,
            "grid_auto_flow": null,
            "grid_area": null,
            "grid_template_columns": null,
            "flex": null,
            "_model_name": "LayoutModel",
            "justify_items": null,
            "grid_row": null,
            "max_height": null,
            "align_content": null,
            "visibility": null,
            "align_self": null,
            "height": null,
            "min_height": null,
            "padding": null,
            "grid_auto_rows": null,
            "grid_gap": null,
            "max_width": null,
            "order": null,
            "_view_module_version": "1.2.0",
            "grid_template_areas": null,
            "object_position": null,
            "object_fit": null,
            "grid_auto_columns": null,
            "margin": null,
            "display": null,
            "left": null
          }
        },
        "7d4cb8b24ba84fd0912543a5c72d777e": {
          "model_module": "@jupyter-widgets/controls",
          "model_name": "ProgressStyleModel",
          "model_module_version": "1.5.0",
          "state": {
            "_view_name": "StyleView",
            "_model_name": "ProgressStyleModel",
            "description_width": "",
            "_view_module": "@jupyter-widgets/base",
            "_model_module_version": "1.5.0",
            "_view_count": null,
            "_view_module_version": "1.2.0",
            "bar_color": null,
            "_model_module": "@jupyter-widgets/controls"
          }
        },
        "5788527ac94c49dabb6d02bdcb6508d4": {
          "model_module": "@jupyter-widgets/base",
          "model_name": "LayoutModel",
          "model_module_version": "1.2.0",
          "state": {
            "_view_name": "LayoutView",
            "grid_template_rows": null,
            "right": null,
            "justify_content": null,
            "_view_module": "@jupyter-widgets/base",
            "overflow": null,
            "_model_module_version": "1.2.0",
            "_view_count": null,
            "flex_flow": null,
            "width": null,
            "min_width": null,
            "border": null,
            "align_items": null,
            "bottom": null,
            "_model_module": "@jupyter-widgets/base",
            "top": null,
            "grid_column": null,
            "overflow_y": null,
            "overflow_x": null,
            "grid_auto_flow": null,
            "grid_area": null,
            "grid_template_columns": null,
            "flex": null,
            "_model_name": "LayoutModel",
            "justify_items": null,
            "grid_row": null,
            "max_height": null,
            "align_content": null,
            "visibility": null,
            "align_self": null,
            "height": null,
            "min_height": null,
            "padding": null,
            "grid_auto_rows": null,
            "grid_gap": null,
            "max_width": null,
            "order": null,
            "_view_module_version": "1.2.0",
            "grid_template_areas": null,
            "object_position": null,
            "object_fit": null,
            "grid_auto_columns": null,
            "margin": null,
            "display": null,
            "left": null
          }
        },
        "cec9797a6677476d9dac0948b4cb7b44": {
          "model_module": "@jupyter-widgets/controls",
          "model_name": "DescriptionStyleModel",
          "model_module_version": "1.5.0",
          "state": {
            "_view_name": "StyleView",
            "_model_name": "DescriptionStyleModel",
            "description_width": "",
            "_view_module": "@jupyter-widgets/base",
            "_model_module_version": "1.5.0",
            "_view_count": null,
            "_view_module_version": "1.2.0",
            "_model_module": "@jupyter-widgets/controls"
          }
        },
        "0bc3cd06b4bb4d25a9e4253ed60c1d61": {
          "model_module": "@jupyter-widgets/base",
          "model_name": "LayoutModel",
          "model_module_version": "1.2.0",
          "state": {
            "_view_name": "LayoutView",
            "grid_template_rows": null,
            "right": null,
            "justify_content": null,
            "_view_module": "@jupyter-widgets/base",
            "overflow": null,
            "_model_module_version": "1.2.0",
            "_view_count": null,
            "flex_flow": null,
            "width": null,
            "min_width": null,
            "border": null,
            "align_items": null,
            "bottom": null,
            "_model_module": "@jupyter-widgets/base",
            "top": null,
            "grid_column": null,
            "overflow_y": null,
            "overflow_x": null,
            "grid_auto_flow": null,
            "grid_area": null,
            "grid_template_columns": null,
            "flex": null,
            "_model_name": "LayoutModel",
            "justify_items": null,
            "grid_row": null,
            "max_height": null,
            "align_content": null,
            "visibility": null,
            "align_self": null,
            "height": null,
            "min_height": null,
            "padding": null,
            "grid_auto_rows": null,
            "grid_gap": null,
            "max_width": null,
            "order": null,
            "_view_module_version": "1.2.0",
            "grid_template_areas": null,
            "object_position": null,
            "object_fit": null,
            "grid_auto_columns": null,
            "margin": null,
            "display": null,
            "left": null
          }
        }
      }
    }
  },
  "cells": [
    {
      "cell_type": "markdown",
      "metadata": {
        "id": "view-in-github",
        "colab_type": "text"
      },
      "source": [
        "<a href=\"https://colab.research.google.com/github/cateto/python4NLP/blob/main/kobert/tensorflow_Kobert_%EC%A3%BC%EC%A0%9C%EB%B6%84%EB%A5%98_TPU.ipynb\" target=\"_parent\"><img src=\"https://colab.research.google.com/assets/colab-badge.svg\" alt=\"Open In Colab\"/></a>"
      ]
    },
    {
      "cell_type": "code",
      "metadata": {
        "colab": {
          "base_uri": "https://localhost:8080/"
        },
        "id": "h7TPztkdcdLO",
        "outputId": "a2602b6a-c6c8-4191-8e83-7abaffd1b6e4"
      },
      "source": [
        "!pip install transformers==4.4.2"
      ],
      "execution_count": 1,
      "outputs": [
        {
          "output_type": "stream",
          "name": "stdout",
          "text": [
            "Collecting transformers==4.4.2\n",
            "  Downloading transformers-4.4.2-py3-none-any.whl (2.0 MB)\n",
            "\u001b[K     |████████████████████████████████| 2.0 MB 5.4 MB/s \n",
            "\u001b[?25hRequirement already satisfied: requests in /usr/local/lib/python3.7/dist-packages (from transformers==4.4.2) (2.23.0)\n",
            "Collecting tokenizers<0.11,>=0.10.1\n",
            "  Downloading tokenizers-0.10.3-cp37-cp37m-manylinux_2_5_x86_64.manylinux1_x86_64.manylinux_2_12_x86_64.manylinux2010_x86_64.whl (3.3 MB)\n",
            "\u001b[K     |████████████████████████████████| 3.3 MB 65.0 MB/s \n",
            "\u001b[?25hRequirement already satisfied: importlib-metadata in /usr/local/lib/python3.7/dist-packages (from transformers==4.4.2) (4.6.4)\n",
            "Requirement already satisfied: filelock in /usr/local/lib/python3.7/dist-packages (from transformers==4.4.2) (3.0.12)\n",
            "Requirement already satisfied: regex!=2019.12.17 in /usr/local/lib/python3.7/dist-packages (from transformers==4.4.2) (2019.12.20)\n",
            "Requirement already satisfied: numpy>=1.17 in /usr/local/lib/python3.7/dist-packages (from transformers==4.4.2) (1.19.5)\n",
            "Collecting sacremoses\n",
            "  Downloading sacremoses-0.0.45-py3-none-any.whl (895 kB)\n",
            "\u001b[K     |████████████████████████████████| 895 kB 67.8 MB/s \n",
            "\u001b[?25hRequirement already satisfied: tqdm>=4.27 in /usr/local/lib/python3.7/dist-packages (from transformers==4.4.2) (4.62.0)\n",
            "Requirement already satisfied: packaging in /usr/local/lib/python3.7/dist-packages (from transformers==4.4.2) (21.0)\n",
            "Requirement already satisfied: typing-extensions>=3.6.4 in /usr/local/lib/python3.7/dist-packages (from importlib-metadata->transformers==4.4.2) (3.7.4.3)\n",
            "Requirement already satisfied: zipp>=0.5 in /usr/local/lib/python3.7/dist-packages (from importlib-metadata->transformers==4.4.2) (3.5.0)\n",
            "Requirement already satisfied: pyparsing>=2.0.2 in /usr/local/lib/python3.7/dist-packages (from packaging->transformers==4.4.2) (2.4.7)\n",
            "Requirement already satisfied: urllib3!=1.25.0,!=1.25.1,<1.26,>=1.21.1 in /usr/local/lib/python3.7/dist-packages (from requests->transformers==4.4.2) (1.24.3)\n",
            "Requirement already satisfied: certifi>=2017.4.17 in /usr/local/lib/python3.7/dist-packages (from requests->transformers==4.4.2) (2021.5.30)\n",
            "Requirement already satisfied: idna<3,>=2.5 in /usr/local/lib/python3.7/dist-packages (from requests->transformers==4.4.2) (2.10)\n",
            "Requirement already satisfied: chardet<4,>=3.0.2 in /usr/local/lib/python3.7/dist-packages (from requests->transformers==4.4.2) (3.0.4)\n",
            "Requirement already satisfied: click in /usr/local/lib/python3.7/dist-packages (from sacremoses->transformers==4.4.2) (7.1.2)\n",
            "Requirement already satisfied: six in /usr/local/lib/python3.7/dist-packages (from sacremoses->transformers==4.4.2) (1.15.0)\n",
            "Requirement already satisfied: joblib in /usr/local/lib/python3.7/dist-packages (from sacremoses->transformers==4.4.2) (1.0.1)\n",
            "Installing collected packages: tokenizers, sacremoses, transformers\n",
            "Successfully installed sacremoses-0.0.45 tokenizers-0.10.3 transformers-4.4.2\n"
          ]
        }
      ]
    },
    {
      "cell_type": "markdown",
      "metadata": {
        "id": "HRoV47h_xzL9"
      },
      "source": [
        "transformers라는 패키지는 허깅페이스라는 스타트업에서 만들었습니다."
      ]
    },
    {
      "cell_type": "code",
      "metadata": {
        "colab": {
          "base_uri": "https://localhost:8080/"
        },
        "id": "IEsuB1z1hAjz",
        "outputId": "b752e1f8-09e3-4508-ffd4-d1a69a4e9c39"
      },
      "source": [
        "!pip install sentencepiece"
      ],
      "execution_count": 2,
      "outputs": [
        {
          "output_type": "stream",
          "name": "stdout",
          "text": [
            "Collecting sentencepiece\n",
            "  Downloading sentencepiece-0.1.96-cp37-cp37m-manylinux_2_17_x86_64.manylinux2014_x86_64.whl (1.2 MB)\n",
            "\u001b[?25l\r\u001b[K     |▎                               | 10 kB 26.3 MB/s eta 0:00:01\r\u001b[K     |▌                               | 20 kB 31.2 MB/s eta 0:00:01\r\u001b[K     |▉                               | 30 kB 12.4 MB/s eta 0:00:01\r\u001b[K     |█                               | 40 kB 9.6 MB/s eta 0:00:01\r\u001b[K     |█▍                              | 51 kB 5.3 MB/s eta 0:00:01\r\u001b[K     |█▋                              | 61 kB 5.9 MB/s eta 0:00:01\r\u001b[K     |██                              | 71 kB 5.6 MB/s eta 0:00:01\r\u001b[K     |██▏                             | 81 kB 6.3 MB/s eta 0:00:01\r\u001b[K     |██▍                             | 92 kB 4.9 MB/s eta 0:00:01\r\u001b[K     |██▊                             | 102 kB 5.2 MB/s eta 0:00:01\r\u001b[K     |███                             | 112 kB 5.2 MB/s eta 0:00:01\r\u001b[K     |███▎                            | 122 kB 5.2 MB/s eta 0:00:01\r\u001b[K     |███▌                            | 133 kB 5.2 MB/s eta 0:00:01\r\u001b[K     |███▉                            | 143 kB 5.2 MB/s eta 0:00:01\r\u001b[K     |████                            | 153 kB 5.2 MB/s eta 0:00:01\r\u001b[K     |████▎                           | 163 kB 5.2 MB/s eta 0:00:01\r\u001b[K     |████▋                           | 174 kB 5.2 MB/s eta 0:00:01\r\u001b[K     |████▉                           | 184 kB 5.2 MB/s eta 0:00:01\r\u001b[K     |█████▏                          | 194 kB 5.2 MB/s eta 0:00:01\r\u001b[K     |█████▍                          | 204 kB 5.2 MB/s eta 0:00:01\r\u001b[K     |█████▊                          | 215 kB 5.2 MB/s eta 0:00:01\r\u001b[K     |██████                          | 225 kB 5.2 MB/s eta 0:00:01\r\u001b[K     |██████▏                         | 235 kB 5.2 MB/s eta 0:00:01\r\u001b[K     |██████▌                         | 245 kB 5.2 MB/s eta 0:00:01\r\u001b[K     |██████▊                         | 256 kB 5.2 MB/s eta 0:00:01\r\u001b[K     |███████                         | 266 kB 5.2 MB/s eta 0:00:01\r\u001b[K     |███████▎                        | 276 kB 5.2 MB/s eta 0:00:01\r\u001b[K     |███████▋                        | 286 kB 5.2 MB/s eta 0:00:01\r\u001b[K     |███████▉                        | 296 kB 5.2 MB/s eta 0:00:01\r\u001b[K     |████████                        | 307 kB 5.2 MB/s eta 0:00:01\r\u001b[K     |████████▍                       | 317 kB 5.2 MB/s eta 0:00:01\r\u001b[K     |████████▋                       | 327 kB 5.2 MB/s eta 0:00:01\r\u001b[K     |█████████                       | 337 kB 5.2 MB/s eta 0:00:01\r\u001b[K     |█████████▏                      | 348 kB 5.2 MB/s eta 0:00:01\r\u001b[K     |█████████▌                      | 358 kB 5.2 MB/s eta 0:00:01\r\u001b[K     |█████████▊                      | 368 kB 5.2 MB/s eta 0:00:01\r\u001b[K     |██████████                      | 378 kB 5.2 MB/s eta 0:00:01\r\u001b[K     |██████████▎                     | 389 kB 5.2 MB/s eta 0:00:01\r\u001b[K     |██████████▌                     | 399 kB 5.2 MB/s eta 0:00:01\r\u001b[K     |██████████▉                     | 409 kB 5.2 MB/s eta 0:00:01\r\u001b[K     |███████████                     | 419 kB 5.2 MB/s eta 0:00:01\r\u001b[K     |███████████▍                    | 430 kB 5.2 MB/s eta 0:00:01\r\u001b[K     |███████████▋                    | 440 kB 5.2 MB/s eta 0:00:01\r\u001b[K     |███████████▉                    | 450 kB 5.2 MB/s eta 0:00:01\r\u001b[K     |████████████▏                   | 460 kB 5.2 MB/s eta 0:00:01\r\u001b[K     |████████████▍                   | 471 kB 5.2 MB/s eta 0:00:01\r\u001b[K     |████████████▊                   | 481 kB 5.2 MB/s eta 0:00:01\r\u001b[K     |█████████████                   | 491 kB 5.2 MB/s eta 0:00:01\r\u001b[K     |█████████████▎                  | 501 kB 5.2 MB/s eta 0:00:01\r\u001b[K     |█████████████▌                  | 512 kB 5.2 MB/s eta 0:00:01\r\u001b[K     |█████████████▊                  | 522 kB 5.2 MB/s eta 0:00:01\r\u001b[K     |██████████████                  | 532 kB 5.2 MB/s eta 0:00:01\r\u001b[K     |██████████████▎                 | 542 kB 5.2 MB/s eta 0:00:01\r\u001b[K     |██████████████▋                 | 552 kB 5.2 MB/s eta 0:00:01\r\u001b[K     |██████████████▉                 | 563 kB 5.2 MB/s eta 0:00:01\r\u001b[K     |███████████████▏                | 573 kB 5.2 MB/s eta 0:00:01\r\u001b[K     |███████████████▍                | 583 kB 5.2 MB/s eta 0:00:01\r\u001b[K     |███████████████▋                | 593 kB 5.2 MB/s eta 0:00:01\r\u001b[K     |████████████████                | 604 kB 5.2 MB/s eta 0:00:01\r\u001b[K     |████████████████▏               | 614 kB 5.2 MB/s eta 0:00:01\r\u001b[K     |████████████████▌               | 624 kB 5.2 MB/s eta 0:00:01\r\u001b[K     |████████████████▊               | 634 kB 5.2 MB/s eta 0:00:01\r\u001b[K     |█████████████████               | 645 kB 5.2 MB/s eta 0:00:01\r\u001b[K     |█████████████████▎              | 655 kB 5.2 MB/s eta 0:00:01\r\u001b[K     |█████████████████▌              | 665 kB 5.2 MB/s eta 0:00:01\r\u001b[K     |█████████████████▉              | 675 kB 5.2 MB/s eta 0:00:01\r\u001b[K     |██████████████████              | 686 kB 5.2 MB/s eta 0:00:01\r\u001b[K     |██████████████████▍             | 696 kB 5.2 MB/s eta 0:00:01\r\u001b[K     |██████████████████▋             | 706 kB 5.2 MB/s eta 0:00:01\r\u001b[K     |███████████████████             | 716 kB 5.2 MB/s eta 0:00:01\r\u001b[K     |███████████████████▏            | 727 kB 5.2 MB/s eta 0:00:01\r\u001b[K     |███████████████████▍            | 737 kB 5.2 MB/s eta 0:00:01\r\u001b[K     |███████████████████▊            | 747 kB 5.2 MB/s eta 0:00:01\r\u001b[K     |████████████████████            | 757 kB 5.2 MB/s eta 0:00:01\r\u001b[K     |████████████████████▎           | 768 kB 5.2 MB/s eta 0:00:01\r\u001b[K     |████████████████████▌           | 778 kB 5.2 MB/s eta 0:00:01\r\u001b[K     |████████████████████▉           | 788 kB 5.2 MB/s eta 0:00:01\r\u001b[K     |█████████████████████           | 798 kB 5.2 MB/s eta 0:00:01\r\u001b[K     |█████████████████████▎          | 808 kB 5.2 MB/s eta 0:00:01\r\u001b[K     |█████████████████████▋          | 819 kB 5.2 MB/s eta 0:00:01\r\u001b[K     |█████████████████████▉          | 829 kB 5.2 MB/s eta 0:00:01\r\u001b[K     |██████████████████████▏         | 839 kB 5.2 MB/s eta 0:00:01\r\u001b[K     |██████████████████████▍         | 849 kB 5.2 MB/s eta 0:00:01\r\u001b[K     |██████████████████████▊         | 860 kB 5.2 MB/s eta 0:00:01\r\u001b[K     |███████████████████████         | 870 kB 5.2 MB/s eta 0:00:01\r\u001b[K     |███████████████████████▏        | 880 kB 5.2 MB/s eta 0:00:01\r\u001b[K     |███████████████████████▌        | 890 kB 5.2 MB/s eta 0:00:01\r\u001b[K     |███████████████████████▊        | 901 kB 5.2 MB/s eta 0:00:01\r\u001b[K     |████████████████████████        | 911 kB 5.2 MB/s eta 0:00:01\r\u001b[K     |████████████████████████▎       | 921 kB 5.2 MB/s eta 0:00:01\r\u001b[K     |████████████████████████▋       | 931 kB 5.2 MB/s eta 0:00:01\r\u001b[K     |████████████████████████▉       | 942 kB 5.2 MB/s eta 0:00:01\r\u001b[K     |█████████████████████████       | 952 kB 5.2 MB/s eta 0:00:01\r\u001b[K     |█████████████████████████▍      | 962 kB 5.2 MB/s eta 0:00:01\r\u001b[K     |█████████████████████████▋      | 972 kB 5.2 MB/s eta 0:00:01\r\u001b[K     |██████████████████████████      | 983 kB 5.2 MB/s eta 0:00:01\r\u001b[K     |██████████████████████████▏     | 993 kB 5.2 MB/s eta 0:00:01\r\u001b[K     |██████████████████████████▌     | 1.0 MB 5.2 MB/s eta 0:00:01\r\u001b[K     |██████████████████████████▊     | 1.0 MB 5.2 MB/s eta 0:00:01\r\u001b[K     |███████████████████████████     | 1.0 MB 5.2 MB/s eta 0:00:01\r\u001b[K     |███████████████████████████▎    | 1.0 MB 5.2 MB/s eta 0:00:01\r\u001b[K     |███████████████████████████▌    | 1.0 MB 5.2 MB/s eta 0:00:01\r\u001b[K     |███████████████████████████▉    | 1.1 MB 5.2 MB/s eta 0:00:01\r\u001b[K     |████████████████████████████    | 1.1 MB 5.2 MB/s eta 0:00:01\r\u001b[K     |████████████████████████████▍   | 1.1 MB 5.2 MB/s eta 0:00:01\r\u001b[K     |████████████████████████████▋   | 1.1 MB 5.2 MB/s eta 0:00:01\r\u001b[K     |████████████████████████████▉   | 1.1 MB 5.2 MB/s eta 0:00:01\r\u001b[K     |█████████████████████████████▏  | 1.1 MB 5.2 MB/s eta 0:00:01\r\u001b[K     |█████████████████████████████▍  | 1.1 MB 5.2 MB/s eta 0:00:01\r\u001b[K     |█████████████████████████████▊  | 1.1 MB 5.2 MB/s eta 0:00:01\r\u001b[K     |██████████████████████████████  | 1.1 MB 5.2 MB/s eta 0:00:01\r\u001b[K     |██████████████████████████████▎ | 1.1 MB 5.2 MB/s eta 0:00:01\r\u001b[K     |██████████████████████████████▌ | 1.2 MB 5.2 MB/s eta 0:00:01\r\u001b[K     |██████████████████████████████▊ | 1.2 MB 5.2 MB/s eta 0:00:01\r\u001b[K     |███████████████████████████████ | 1.2 MB 5.2 MB/s eta 0:00:01\r\u001b[K     |███████████████████████████████▎| 1.2 MB 5.2 MB/s eta 0:00:01\r\u001b[K     |███████████████████████████████▋| 1.2 MB 5.2 MB/s eta 0:00:01\r\u001b[K     |███████████████████████████████▉| 1.2 MB 5.2 MB/s eta 0:00:01\r\u001b[K     |████████████████████████████████| 1.2 MB 5.2 MB/s \n",
            "\u001b[?25hInstalling collected packages: sentencepiece\n",
            "Successfully installed sentencepiece-0.1.96\n"
          ]
        }
      ]
    },
    {
      "cell_type": "code",
      "metadata": {
        "colab": {
          "base_uri": "https://localhost:8080/"
        },
        "id": "mDlb5LaOdBfM",
        "outputId": "777f06fe-522c-4286-c6a0-2629c83001ac"
      },
      "source": [
        "!pip install tensorflow_addons"
      ],
      "execution_count": 3,
      "outputs": [
        {
          "output_type": "stream",
          "name": "stdout",
          "text": [
            "Collecting tensorflow_addons\n",
            "  Downloading tensorflow_addons-0.14.0-cp37-cp37m-manylinux_2_12_x86_64.manylinux2010_x86_64.whl (1.1 MB)\n",
            "\u001b[K     |████████████████████████████████| 1.1 MB 5.2 MB/s \n",
            "\u001b[?25hRequirement already satisfied: typeguard>=2.7 in /usr/local/lib/python3.7/dist-packages (from tensorflow_addons) (2.7.1)\n",
            "Installing collected packages: tensorflow-addons\n",
            "Successfully installed tensorflow-addons-0.14.0\n"
          ]
        }
      ]
    },
    {
      "cell_type": "code",
      "metadata": {
        "id": "cUDm22CsdGVy"
      },
      "source": [
        "import tensorflow as tf\n",
        "import numpy as np\n",
        "import pandas as pd\n",
        "from transformers import *\n",
        "import numpy as np\n",
        "import pandas as pd\n",
        "from tqdm import tqdm\n",
        "import os\n",
        "import urllib.request\n",
        "import logging\n",
        "import tensorflow_addons as tfa"
      ],
      "execution_count": 4,
      "outputs": []
    },
    {
      "cell_type": "code",
      "metadata": {
        "id": "W2ERrejodIHL"
      },
      "source": [
        "logging.basicConfig(level=logging.ERROR)"
      ],
      "execution_count": 5,
      "outputs": []
    },
    {
      "cell_type": "code",
      "metadata": {
        "colab": {
          "base_uri": "https://localhost:8080/",
          "height": 204
        },
        "id": "S_0hZv32fEgb",
        "outputId": "5185eec4-c7fe-4da0-8721-71127c8e0f94"
      },
      "source": [
        "from sklearn.model_selection import train_test_split\n",
        "from sklearn.preprocessing import LabelEncoder\n",
        "import pandas as pd\n",
        "dataset = pd.read_csv('/content/drive/MyDrive/202109_nlp_renew/train_0902.csv')\n",
        "\n",
        "#라벨 데이터 category 정수로 변환\n",
        "\n",
        "data_colname = 'contents'\n",
        "label_colname = 'category'\n",
        "\n",
        "encoder = LabelEncoder()\n",
        "encoder.fit(dataset[label_colname])\n",
        "dataset[label_colname] = encoder.transform(dataset[label_colname])\n",
        "\n",
        "\n",
        "#이어서 contents 전처리(정제)\n",
        "dataset[data_colname] = dataset[data_colname].str.replace(\"\\(.*\\)|\\s-\\s.*\",\" \" ,regex=True)\n",
        "dataset[data_colname] = dataset[data_colname].str.replace(\"\\[.*\\]|\\s-\\s.*\",\" \",regex=True)\n",
        "dataset[data_colname] = dataset[data_colname].str.replace(\"\\<.*\\>|\\s-\\s.*\",\" \",regex=True)\n",
        "dataset[data_colname] = dataset[data_colname].str.replace(\"무단전재 및 재배포 금지\",\" \",regex=True)\n",
        "dataset[data_colname] = dataset[data_colname].str.replace(\"무단 전재 및 재배포 금지\",\" \",regex=True)\n",
        "dataset[data_colname] = dataset[data_colname].str.replace(\"©\",\" \",regex=True)\n",
        "dataset[data_colname] = dataset[data_colname].str.replace(\"ⓒ\",\" \",regex=True)\n",
        "dataset[data_colname] = dataset[data_colname].str.replace(\"저작권자\",\" \",regex=True)\n",
        "dataset[data_colname] = dataset[data_colname].str.replace(\".* 기자\", \" \", regex=True) #기자 이름에서 오는 유사도 차단\n",
        "dataset[data_colname] = dataset[data_colname].str.replace(\"사진 = .*\", \" \", regex=True) #사진 첨부 문구 삭제\n",
        "dataset[data_colname] = dataset[data_colname].str.replace(\"사진=.*\", \" \", regex=True) #사진 첨부 문구 삭제\n",
        "dataset[data_colname] = dataset[data_colname].str.replace('\\\"', \"\",regex=True)\n",
        "dataset[data_colname] = dataset[data_colname].str.replace(\"([a-zA-Z0-9_.+-]+@[a-zA-Z0-9-]+.[a-zA-Z0-9-.]+)\", \" \", regex=True) #이메일 주소에서 오는 유사도 차단\n",
        "dataset[data_colname] = dataset[data_colname].str.replace(\"\\n\",\" \")\n",
        "dataset[data_colname] = dataset[data_colname].str.replace(\"\\r\",\" \")\n",
        "dataset[data_colname] = dataset[data_colname].str.replace(\"\\t\",\" \")\n",
        "dataset[data_colname] = dataset[data_colname].str.replace( \"\\’\" , \"\", regex=True)\n",
        "dataset[data_colname] = dataset[data_colname].str.replace(\"[ ]{2,}\",\" \",regex=True)\n",
        "\n",
        "dataset.head()"
      ],
      "execution_count": 9,
      "outputs": [
        {
          "output_type": "execute_result",
          "data": {
            "text/html": [
              "<div>\n",
              "<style scoped>\n",
              "    .dataframe tbody tr th:only-of-type {\n",
              "        vertical-align: middle;\n",
              "    }\n",
              "\n",
              "    .dataframe tbody tr th {\n",
              "        vertical-align: top;\n",
              "    }\n",
              "\n",
              "    .dataframe thead th {\n",
              "        text-align: right;\n",
              "    }\n",
              "</style>\n",
              "<table border=\"1\" class=\"dataframe\">\n",
              "  <thead>\n",
              "    <tr style=\"text-align: right;\">\n",
              "      <th></th>\n",
              "      <th>id</th>\n",
              "      <th>contents</th>\n",
              "      <th>category</th>\n",
              "    </tr>\n",
              "  </thead>\n",
              "  <tbody>\n",
              "    <tr>\n",
              "      <th>0</th>\n",
              "      <td>NWRW2000000001.1</td>\n",
              "      <td>조국 330개 문건 을 한 데 대해선 정부의 각종 기밀이 언론에 유출됐을 때는 동...</td>\n",
              "      <td>8</td>\n",
              "    </tr>\n",
              "    <tr>\n",
              "      <th>1</th>\n",
              "      <td>NWRW2000000001.2</td>\n",
              "      <td>김 프로 그거 알아? 캐디한테 방향 봐달라 하면 이제 반칙이야 모든 스포츠 중 가...</td>\n",
              "      <td>6</td>\n",
              "    </tr>\n",
              "    <tr>\n",
              "      <th>2</th>\n",
              "      <td>NWRW2000000001.3</td>\n",
              "      <td>임종석, 정부의 KT&amp;G 김 수사관이 자신의 비위 행위를 숨기고자 희대의 농간을 ...</td>\n",
              "      <td>8</td>\n",
              "    </tr>\n",
              "    <tr>\n",
              "      <th>3</th>\n",
              "      <td>NWRW2000000001.4</td>\n",
              "      <td>'를 요구했다. 주요 선진국에서 젊은 리더가 등장할 수 있었던 것은 정부·정당들이...</td>\n",
              "      <td>8</td>\n",
              "    </tr>\n",
              "    <tr>\n",
              "      <th>4</th>\n",
              "      <td>NWRW2000000001.5</td>\n",
              "      <td>7월 光州 세계수영선수권, 11월 야구 국가대항전… 축구 말고도 볼 게 많네 지난...</td>\n",
              "      <td>6</td>\n",
              "    </tr>\n",
              "  </tbody>\n",
              "</table>\n",
              "</div>"
            ],
            "text/plain": [
              "                 id  ... category\n",
              "0  NWRW2000000001.1  ...        8\n",
              "1  NWRW2000000001.2  ...        6\n",
              "2  NWRW2000000001.3  ...        8\n",
              "3  NWRW2000000001.4  ...        8\n",
              "4  NWRW2000000001.5  ...        6\n",
              "\n",
              "[5 rows x 3 columns]"
            ]
          },
          "metadata": {},
          "execution_count": 9
        }
      ]
    },
    {
      "cell_type": "code",
      "metadata": {
        "id": "XGmlK1QVPs57"
      },
      "source": [
        "# # 앞에서 뒤에서 자르기\n",
        "# for idx, x in enumerate(dataset['contents']):\n",
        "#   if(len(x) > 510):\n",
        "#     head = x[:128]\n",
        "#     tail = x[-382:]\n",
        "#     x = head + ' ' + tail"
      ],
      "execution_count": 49,
      "outputs": []
    },
    {
      "cell_type": "code",
      "metadata": {
        "colab": {
          "base_uri": "https://localhost:8080/"
        },
        "id": "u-8XTYCHf63B",
        "outputId": "b06534b4-254f-4c29-921c-376cb5cc359f"
      },
      "source": [
        "mapping = dict(zip(range(len(encoder.classes_)), encoder.classes_))\n",
        "mapping"
      ],
      "execution_count": 10,
      "outputs": [
        {
          "output_type": "execute_result",
          "data": {
            "text/plain": [
              "{0: 'IT/과학',\n",
              " 1: '경제',\n",
              " 2: '문화',\n",
              " 3: '미용/건강',\n",
              " 4: '사회',\n",
              " 5: '생활',\n",
              " 6: '스포츠',\n",
              " 7: '연예',\n",
              " 8: '정치'}"
            ]
          },
          "metadata": {},
          "execution_count": 10
        }
      ]
    },
    {
      "cell_type": "code",
      "metadata": {
        "id": "g1zLAy72f-7s"
      },
      "source": [
        "train, test = train_test_split(dataset, test_size=0.2, random_state=42)"
      ],
      "execution_count": 11,
      "outputs": []
    },
    {
      "cell_type": "code",
      "metadata": {
        "colab": {
          "base_uri": "https://localhost:8080/"
        },
        "id": "aiF5GOyxelOY",
        "outputId": "85303d06-05cb-43a5-cede-8ced956d7fb9"
      },
      "source": [
        "print('훈련용 데이터 개수 :',len(train)) # 훈련용 데이터 개수 출력"
      ],
      "execution_count": 12,
      "outputs": [
        {
          "output_type": "stream",
          "name": "stdout",
          "text": [
            "훈련용 데이터 개수 : 90615\n"
          ]
        }
      ]
    },
    {
      "cell_type": "code",
      "metadata": {
        "colab": {
          "base_uri": "https://localhost:8080/"
        },
        "id": "ZfefWt-2eoDS",
        "outputId": "ed4b5d85-af1f-4e1c-b209-a2a5b4b73df0"
      },
      "source": [
        "print('테스트용 데이터 개수 :',len(test)) # 테스트용 데이터 개수 출력"
      ],
      "execution_count": 13,
      "outputs": [
        {
          "output_type": "stream",
          "name": "stdout",
          "text": [
            "테스트용 데이터 개수 : 22654\n"
          ]
        }
      ]
    },
    {
      "cell_type": "code",
      "metadata": {
        "id": "4ivMnddygJvR"
      },
      "source": [
        "train.reset_index(drop=True, inplace=True) #중요!!!!\n",
        "test.reset_index(drop=True, inplace=True) #중요!!!!"
      ],
      "execution_count": 14,
      "outputs": []
    },
    {
      "cell_type": "code",
      "metadata": {
        "colab": {
          "base_uri": "https://localhost:8080/",
          "height": 204
        },
        "id": "vvzQl1j7eqhS",
        "outputId": "80f06162-db7d-484e-acf4-55ad94865d4a"
      },
      "source": [
        "train[:5] # 상위 5개 출력"
      ],
      "execution_count": 15,
      "outputs": [
        {
          "output_type": "execute_result",
          "data": {
            "text/html": [
              "<div>\n",
              "<style scoped>\n",
              "    .dataframe tbody tr th:only-of-type {\n",
              "        vertical-align: middle;\n",
              "    }\n",
              "\n",
              "    .dataframe tbody tr th {\n",
              "        vertical-align: top;\n",
              "    }\n",
              "\n",
              "    .dataframe thead th {\n",
              "        text-align: right;\n",
              "    }\n",
              "</style>\n",
              "<table border=\"1\" class=\"dataframe\">\n",
              "  <thead>\n",
              "    <tr style=\"text-align: right;\">\n",
              "      <th></th>\n",
              "      <th>id</th>\n",
              "      <th>contents</th>\n",
              "      <th>category</th>\n",
              "    </tr>\n",
              "  </thead>\n",
              "  <tbody>\n",
              "    <tr>\n",
              "      <th>0</th>\n",
              "      <td>NIRW2000000002.978</td>\n",
              "      <td>현대차, 광주형 일자리 투자 확정 경형 SUV로 新시장 개척 현대자동차가 국내 최...</td>\n",
              "      <td>4</td>\n",
              "    </tr>\n",
              "    <tr>\n",
              "      <th>1</th>\n",
              "      <td>NWRW2000000002.3853</td>\n",
              "      <td>회견에서도 최 부상은 귀국길에 김 위원장이 ‘대체 무슨 이유로 우리가 다시 이런 ...</td>\n",
              "      <td>4</td>\n",
              "    </tr>\n",
              "    <tr>\n",
              "      <th>2</th>\n",
              "      <td>NIRW2000000001.24636</td>\n",
              "      <td>국악과 함께하는 경복궁 봄 나들이 어떠세요? 전통공연예술진흥재단 에서 소원을 이루...</td>\n",
              "      <td>2</td>\n",
              "    </tr>\n",
              "    <tr>\n",
              "      <th>3</th>\n",
              "      <td>NWRW2000000002.24759</td>\n",
              "      <td>검찰, 삼성바이오 분식회계 ‘회계법인부터 겨눈다 삼성바이오로직스 는 “삼정과 삼일...</td>\n",
              "      <td>4</td>\n",
              "    </tr>\n",
              "    <tr>\n",
              "      <th>4</th>\n",
              "      <td>NWRW2000000002.2558</td>\n",
              "      <td>외제차·여행 비용에 실종된 반려견 전단지값까지…‘알뜰하게 받아챙긴 법원공무원 대법...</td>\n",
              "      <td>4</td>\n",
              "    </tr>\n",
              "  </tbody>\n",
              "</table>\n",
              "</div>"
            ],
            "text/plain": [
              "                     id  ... category\n",
              "0    NIRW2000000002.978  ...        4\n",
              "1   NWRW2000000002.3853  ...        4\n",
              "2  NIRW2000000001.24636  ...        2\n",
              "3  NWRW2000000002.24759  ...        4\n",
              "4   NWRW2000000002.2558  ...        4\n",
              "\n",
              "[5 rows x 3 columns]"
            ]
          },
          "metadata": {},
          "execution_count": 15
        }
      ]
    },
    {
      "cell_type": "code",
      "metadata": {
        "colab": {
          "base_uri": "https://localhost:8080/",
          "height": 204
        },
        "id": "W9ppfuX4erVK",
        "outputId": "514ff87f-b107-4df4-dba2-91610bb4a06e"
      },
      "source": [
        "test[:5] # 상위 5개 출력"
      ],
      "execution_count": 16,
      "outputs": [
        {
          "output_type": "execute_result",
          "data": {
            "text/html": [
              "<div>\n",
              "<style scoped>\n",
              "    .dataframe tbody tr th:only-of-type {\n",
              "        vertical-align: middle;\n",
              "    }\n",
              "\n",
              "    .dataframe tbody tr th {\n",
              "        vertical-align: top;\n",
              "    }\n",
              "\n",
              "    .dataframe thead th {\n",
              "        text-align: right;\n",
              "    }\n",
              "</style>\n",
              "<table border=\"1\" class=\"dataframe\">\n",
              "  <thead>\n",
              "    <tr style=\"text-align: right;\">\n",
              "      <th></th>\n",
              "      <th>id</th>\n",
              "      <th>contents</th>\n",
              "      <th>category</th>\n",
              "    </tr>\n",
              "  </thead>\n",
              "  <tbody>\n",
              "    <tr>\n",
              "      <th>0</th>\n",
              "      <td>NWRW2000000003.2116</td>\n",
              "      <td>트럼프 국가 비상사태 vs 美언론 트럼프 비상사태 멕시코 국경장벽 건설비 확보를 ...</td>\n",
              "      <td>4</td>\n",
              "    </tr>\n",
              "    <tr>\n",
              "      <th>1</th>\n",
              "      <td>NIRW2000000001.18591</td>\n",
              "      <td>광주세계수영선수권대회, 수구경기 진출팀 최종 확정 90여 일 앞으로 다가온 광주세...</td>\n",
              "      <td>6</td>\n",
              "    </tr>\n",
              "    <tr>\n",
              "      <th>2</th>\n",
              "      <td>NIRW2000000001.13136</td>\n",
              "      <td>실에서 회견을 갖고 '플라즈마 열분해 가스에너지화 시범사업' 추진에 반대한다고 밝...</td>\n",
              "      <td>4</td>\n",
              "    </tr>\n",
              "    <tr>\n",
              "      <th>3</th>\n",
              "      <td>NWRW2000000003.22684</td>\n",
              "      <td>오지·낙도서 '살고 싶은 곳‘ 거듭난 전남 섬… 주민 소득도 껑충 ‘오지·낙도로 ...</td>\n",
              "      <td>5</td>\n",
              "    </tr>\n",
              "    <tr>\n",
              "      <th>4</th>\n",
              "      <td>NWRW2000000003.22690</td>\n",
              "      <td>롯데푸드 중화권에 분유 수출 확대 추진…대만, 홍콩, 마카오에 우선 판매 롯데푸드...</td>\n",
              "      <td>5</td>\n",
              "    </tr>\n",
              "  </tbody>\n",
              "</table>\n",
              "</div>"
            ],
            "text/plain": [
              "                     id  ... category\n",
              "0   NWRW2000000003.2116  ...        4\n",
              "1  NIRW2000000001.18591  ...        6\n",
              "2  NIRW2000000001.13136  ...        4\n",
              "3  NWRW2000000003.22684  ...        5\n",
              "4  NWRW2000000003.22690  ...        5\n",
              "\n",
              "[5 rows x 3 columns]"
            ]
          },
          "metadata": {},
          "execution_count": 16
        }
      ]
    },
    {
      "cell_type": "markdown",
      "metadata": {
        "id": "BCH4WH9YyQ0M"
      },
      "source": [
        "Hugginface라는 스타트업의 transformers라는 패키지를 설치하시면  \n",
        "모델 사용할 때는 항상 model.from_pretrained()"
      ]
    },
    {
      "cell_type": "code",
      "metadata": {
        "colab": {
          "base_uri": "https://localhost:8080/",
          "height": 153,
          "referenced_widgets": [
            "032503ff993e4831ab867ee7710cc2b9",
            "72bf0874ff4f46a9a46ff001acbea81d",
            "e2fbe6c41fa94fcab882f75ad96cab5c",
            "2481bc8a42824a2fbd73d626d07c222c",
            "9d8385ffe79142728770d3351eff7fe8",
            "08d3cd54eed34154b7938c7884697f13",
            "d67c05bce8ec467f95781ea2d43aeeab",
            "ffaffe9361a348d3aa72595ee0bdd94f",
            "9902afeb75204d64914559e0f25cfe61",
            "4f57aa45fc814112adafbe7b85f2a4e7",
            "9f5fa88363bc4f9e8ab4034684f327dc",
            "88c4506e214541c896d96098f43fe410",
            "cf1d06e647874b50bff7071ae3487697",
            "ca2c0965554c48aa97e21283df0e462d",
            "20aa25e5307c48e18e2813644131d50c",
            "47323d07f36c46cc85b039169e35a1b4",
            "c8a6c73d7a9d49ff8d2384a0bd24a828",
            "5ab1b4a62c0f4232a4ff0b421d2d142c",
            "599b47d16abf4b86aefaa02e62814f80",
            "c9341802be5e4c3ca951ffd6eccfc382",
            "ef310617e1de43f287c785b48d711ea3",
            "6401a57b4e624700b263427f6455d012"
          ]
        },
        "id": "dp6ZAIpYevaC",
        "outputId": "3e5aeb8d-ab05-4aad-c4e3-b90031a6713d"
      },
      "source": [
        "# 모델 로드\n",
        "model = TFBertModel.from_pretrained(\"monologg/kobert\", from_pt=True)"
      ],
      "execution_count": 17,
      "outputs": [
        {
          "output_type": "display_data",
          "data": {
            "application/vnd.jupyter.widget-view+json": {
              "model_id": "032503ff993e4831ab867ee7710cc2b9",
              "version_minor": 0,
              "version_major": 2
            },
            "text/plain": [
              "Downloading:   0%|          | 0.00/426 [00:00<?, ?B/s]"
            ]
          },
          "metadata": {}
        },
        {
          "output_type": "display_data",
          "data": {
            "application/vnd.jupyter.widget-view+json": {
              "model_id": "88c4506e214541c896d96098f43fe410",
              "version_minor": 0,
              "version_major": 2
            },
            "text/plain": [
              "Downloading:   0%|          | 0.00/369M [00:00<?, ?B/s]"
            ]
          },
          "metadata": {}
        },
        {
          "output_type": "stream",
          "name": "stderr",
          "text": [
            "All PyTorch model weights were used when initializing TFBertModel.\n",
            "\n",
            "All the weights of TFBertModel were initialized from the PyTorch model.\n",
            "If your task is similar to the task the model of the checkpoint was trained on, you can already use TFBertModel for predictions without further training.\n"
          ]
        }
      ]
    },
    {
      "cell_type": "markdown",
      "metadata": {
        "id": "eKs3p6Moygov"
      },
      "source": [
        "Koelectra 깃허브 : https://github.com/monologg/KoELECTRA"
      ]
    },
    {
      "cell_type": "markdown",
      "metadata": {
        "id": "yo1Mro6rlVuv"
      },
      "source": [
        "모델의 출력을 체크해봅시다."
      ]
    },
    {
      "cell_type": "code",
      "metadata": {
        "id": "K-_jc-ft8tUp"
      },
      "source": [
        "max_seq_len = 128"
      ],
      "execution_count": 18,
      "outputs": []
    },
    {
      "cell_type": "code",
      "metadata": {
        "colab": {
          "base_uri": "https://localhost:8080/"
        },
        "id": "p_lt6RAclTjU",
        "outputId": "26425389-1fed-4c90-f50c-f885042271f4"
      },
      "source": [
        "input_ids_layer = tf.keras.layers.Input(shape=(max_seq_len,), dtype=tf.int32)\n",
        "attention_masks_layer = tf.keras.layers.Input(shape=(max_seq_len,), dtype=tf.int32)\n",
        "token_type_ids_layer = tf.keras.layers.Input(shape=(max_seq_len,), dtype=tf.int32)\n",
        "\n",
        "outputs = model([input_ids_layer, attention_masks_layer, token_type_ids_layer])"
      ],
      "execution_count": 19,
      "outputs": [
        {
          "output_type": "stream",
          "name": "stdout",
          "text": [
            "WARNING:tensorflow:The parameters `output_attentions`, `output_hidden_states` and `use_cache` cannot be updated when calling a model.They have to be set to True/False in the config object (i.e.: `config=XConfig.from_pretrained('name', output_attentions=True)`).\n",
            "WARNING:tensorflow:AutoGraph could not transform <bound method Socket.send of <zmq.Socket(zmq.PUSH) at 0x7f844637bf30>> and will run it as-is.\n",
            "Please report this to the TensorFlow team. When filing the bug, set the verbosity to 10 (on Linux, `export AUTOGRAPH_VERBOSITY=10`) and attach the full output.\n",
            "Cause: module, class, method, function, traceback, frame, or code object was expected, got cython_function_or_method\n",
            "To silence this warning, decorate the function with @tf.autograph.experimental.do_not_convert\n"
          ]
        },
        {
          "output_type": "stream",
          "name": "stderr",
          "text": [
            "WARNING:tensorflow:AutoGraph could not transform <bound method Socket.send of <zmq.Socket(zmq.PUSH) at 0x7f844637bf30>> and will run it as-is.\n",
            "Please report this to the TensorFlow team. When filing the bug, set the verbosity to 10 (on Linux, `export AUTOGRAPH_VERBOSITY=10`) and attach the full output.\n",
            "Cause: module, class, method, function, traceback, frame, or code object was expected, got cython_function_or_method\n",
            "To silence this warning, decorate the function with @tf.autograph.experimental.do_not_convert\n"
          ]
        },
        {
          "output_type": "stream",
          "name": "stdout",
          "text": [
            "WARNING: AutoGraph could not transform <bound method Socket.send of <zmq.Socket(zmq.PUSH) at 0x7f844637bf30>> and will run it as-is.\n",
            "Please report this to the TensorFlow team. When filing the bug, set the verbosity to 10 (on Linux, `export AUTOGRAPH_VERBOSITY=10`) and attach the full output.\n",
            "Cause: module, class, method, function, traceback, frame, or code object was expected, got cython_function_or_method\n",
            "To silence this warning, decorate the function with @tf.autograph.experimental.do_not_convert\n",
            "WARNING:tensorflow:AutoGraph could not transform <function wrap at 0x7f845c826950> and will run it as-is.\n",
            "Cause: while/else statement not yet supported\n",
            "To silence this warning, decorate the function with @tf.autograph.experimental.do_not_convert\n"
          ]
        },
        {
          "output_type": "stream",
          "name": "stderr",
          "text": [
            "WARNING:tensorflow:The parameters `output_attentions`, `output_hidden_states` and `use_cache` cannot be updated when calling a model.They have to be set to True/False in the config object (i.e.: `config=XConfig.from_pretrained('name', output_attentions=True)`).\n",
            "WARNING:tensorflow:AutoGraph could not transform <function wrap at 0x7f845c826950> and will run it as-is.\n",
            "Cause: while/else statement not yet supported\n",
            "To silence this warning, decorate the function with @tf.autograph.experimental.do_not_convert\n"
          ]
        },
        {
          "output_type": "stream",
          "name": "stdout",
          "text": [
            "WARNING:tensorflow:The parameter `return_dict` cannot be set in graph mode and will always be set to `True`.\n",
            "WARNING: AutoGraph could not transform <function wrap at 0x7f845c826950> and will run it as-is.\n",
            "Cause: while/else statement not yet supported\n",
            "To silence this warning, decorate the function with @tf.autograph.experimental.do_not_convert\n"
          ]
        },
        {
          "output_type": "stream",
          "name": "stderr",
          "text": [
            "WARNING:tensorflow:The parameter `return_dict` cannot be set in graph mode and will always be set to `True`.\n"
          ]
        }
      ]
    },
    {
      "cell_type": "code",
      "metadata": {
        "colab": {
          "base_uri": "https://localhost:8080/"
        },
        "id": "W68IEgzUlay_",
        "outputId": "e5faaec3-f42b-49ff-96ef-0d6039140959"
      },
      "source": [
        "outputs"
      ],
      "execution_count": 20,
      "outputs": [
        {
          "output_type": "execute_result",
          "data": {
            "text/plain": [
              "TFBaseModelOutputWithPooling([('last_hidden_state',\n",
              "                               <KerasTensor: shape=(None, 512, 768) dtype=float32 (created by layer 'tf_bert_model')>),\n",
              "                              ('pooler_output',\n",
              "                               <KerasTensor: shape=(None, 768) dtype=float32 (created by layer 'tf_bert_model')>)])"
            ]
          },
          "metadata": {},
          "execution_count": 20
        }
      ]
    },
    {
      "cell_type": "markdown",
      "metadata": {
        "id": "PGHwU2S6lieJ"
      },
      "source": [
        "출력이 2개입니다."
      ]
    },
    {
      "cell_type": "markdown",
      "metadata": {
        "id": "LnJoCA3qonc9"
      },
      "source": [
        "outputs[0]은 모든 시점의 BERT의 최종 벡터. 문장 길이가 64일 경우에는 64 x 768  \n",
        "outputs[1]은 CLS 시점의 BERT의 벡터"
      ]
    },
    {
      "cell_type": "code",
      "metadata": {
        "colab": {
          "base_uri": "https://localhost:8080/"
        },
        "id": "FIZh3VRMlfE-",
        "outputId": "5ad42077-b877-4a51-ed6c-f499045605fc"
      },
      "source": [
        "outputs[0]"
      ],
      "execution_count": 19,
      "outputs": [
        {
          "output_type": "execute_result",
          "data": {
            "text/plain": [
              "<KerasTensor: shape=(None, 512, 768) dtype=float32 (created by layer 'tf_bert_model')>"
            ]
          },
          "metadata": {},
          "execution_count": 19
        }
      ]
    },
    {
      "cell_type": "code",
      "metadata": {
        "colab": {
          "base_uri": "https://localhost:8080/"
        },
        "id": "WJdoCSSylgc5",
        "outputId": "0e1fdb69-b272-4d69-9f73-ff1e8ba3e01f"
      },
      "source": [
        "outputs[1]"
      ],
      "execution_count": 20,
      "outputs": [
        {
          "output_type": "execute_result",
          "data": {
            "text/plain": [
              "<KerasTensor: shape=(None, 768) dtype=float32 (created by layer 'tf_bert_model')>"
            ]
          },
          "metadata": {},
          "execution_count": 20
        }
      ]
    },
    {
      "cell_type": "code",
      "metadata": {
        "colab": {
          "base_uri": "https://localhost:8080/"
        },
        "id": "QpCMaDm3e_lL",
        "outputId": "c7cec3b6-022e-4d3a-bbe9-bd93844bf5fd"
      },
      "source": [
        "# 토크나이저 코드 로드\n",
        "urllib.request.urlretrieve(\"https://raw.githubusercontent.com/monologg/KoBERT-Transformers/master/kobert_transformers/tokenization_kobert.py\", filename=\"tokenization_kobert.py\")"
      ],
      "execution_count": 21,
      "outputs": [
        {
          "output_type": "execute_result",
          "data": {
            "text/plain": [
              "('tokenization_kobert.py', <http.client.HTTPMessage at 0x7f81e8db6850>)"
            ]
          },
          "metadata": {},
          "execution_count": 21
        }
      ]
    },
    {
      "cell_type": "code",
      "metadata": {
        "colab": {
          "base_uri": "https://localhost:8080/",
          "height": 113,
          "referenced_widgets": [
            "8667fceb039b4eee8d38a0d0db11f243",
            "5588dd11494a4ac0b2c1f41321af9529",
            "2efa073282ac4b1bad2b4b13cdbd4fd3",
            "7b5c8f82b3934ca791cece4dc576fa92",
            "b3a174e3f06940ae96774e690c211419",
            "387fd7cfdace4e8a956e75c682a801d5",
            "069b01000e6945359e8d61ec72dc115d",
            "73c18619b39b438796efa032b1db2316",
            "987324cba5774b6eb04f496fbac283e8",
            "ba0aa7b0759040edb272d2b6dab52e5e",
            "104d1d22313f4671b3f5b03d8d88d304",
            "0fe67a7daa9b41698f7d7b322b3427ae",
            "e931907e3df34f32b7f5b7c515751ece",
            "cd7be48280b8414b8e9a40de12a75e4a",
            "f5f462d74929453b89d0fd87d4791237",
            "541df09442e54acbbae77910084affa1",
            "a7bec51655824291b8d5a64a2ab36477",
            "90b62e1f615249599d816fa2b0986ef1",
            "e15084455f8b4f9babb224be6ba2c6be",
            "db69a65aad3a46099cadaa7966997a4a",
            "8a83f045ef5a4055b48f3f629605285f",
            "0e0b59087a5a44fd9c741bd75de9bc24",
            "80abb0240aa44a94a0a655b40696c4a0",
            "fc818a930810433e8dc7c4dde4a5c5fd",
            "0b2943e33c454fdca83dfe06b035a4a9",
            "e9a7dc8e6afd497c86aa2b763d16609b",
            "30295514276a4a6daacea87a4fc9d947",
            "8a297898951f4cc5836adc667e37c094",
            "63493dc457ea4543b98652917076fa5c",
            "7d4cb8b24ba84fd0912543a5c72d777e",
            "5788527ac94c49dabb6d02bdcb6508d4",
            "cec9797a6677476d9dac0948b4cb7b44",
            "0bc3cd06b4bb4d25a9e4253ed60c1d61"
          ]
        },
        "id": "Nx_D1rlXfcB6",
        "outputId": "a2fb9e71-6e40-436a-f0d7-9ab765302d35"
      },
      "source": [
        "from tokenization_kobert import KoBertTokenizer\n",
        "tokenizer = KoBertTokenizer.from_pretrained('monologg/kobert')"
      ],
      "execution_count": 22,
      "outputs": [
        {
          "output_type": "display_data",
          "data": {
            "application/vnd.jupyter.widget-view+json": {
              "model_id": "8667fceb039b4eee8d38a0d0db11f243",
              "version_minor": 0,
              "version_major": 2
            },
            "text/plain": [
              "Downloading:   0%|          | 0.00/371k [00:00<?, ?B/s]"
            ]
          },
          "metadata": {}
        },
        {
          "output_type": "display_data",
          "data": {
            "application/vnd.jupyter.widget-view+json": {
              "model_id": "0fe67a7daa9b41698f7d7b322b3427ae",
              "version_minor": 0,
              "version_major": 2
            },
            "text/plain": [
              "Downloading:   0%|          | 0.00/77.8k [00:00<?, ?B/s]"
            ]
          },
          "metadata": {}
        },
        {
          "output_type": "display_data",
          "data": {
            "application/vnd.jupyter.widget-view+json": {
              "model_id": "80abb0240aa44a94a0a655b40696c4a0",
              "version_minor": 0,
              "version_major": 2
            },
            "text/plain": [
              "Downloading:   0%|          | 0.00/51.0 [00:00<?, ?B/s]"
            ]
          },
          "metadata": {}
        }
      ]
    },
    {
      "cell_type": "code",
      "metadata": {
        "id": "sNLCIe7nLsok"
      },
      "source": [
        "text = \"\"\"\n",
        "기사 제도가 발전하면서 기독교 세계에서는 교회를 존경하고 영주와 군대의 상관에게 충성하며 자기 명예를 지키는 이라는 이상적인 기사상(騎士像)이 널리 퍼졌다. 이런 이상에 가까운 기사들이 나타난 것은 11세기말부터 유럽 기독교 세계의 기사들이 교회를 보호한다는 공동 대의 아래 모였던 십자군전쟁 때였다. 십자군전쟁 때 최초의 기사단들, 즉 예루살렘의 구호기사단과 성전(聖殿)기사단이 생겼고 이보다 좀 뒤에는 나병환자 병원을 지키는 특별임무를 맡은 성(聖) 라자루스 기사단이 조직되었다. 이 기사단들은 그 목적이나 형태로 볼 때 종교적·국제적인 성격을 띠고 있었다. 기사들은 독신생활을 했고 위계질서를 갖추고 있어 기사단은 교회의 직제(職制)를 그대로 본떠 기사단장과 관구장(官區長)을 비롯해 수도원장·분단장·일반기사로 구성되었다. 그러나 기사단의 기사 수와 재물이 늘어남에 따라 얼마 안가서 그들은 종교적 목적은 제쳐두고 정치활동을 벌이게 되었다.\n",
        "\n",
        "이와 동시에 국가적인 문제에 더 비중을 둔 십자군 기사단들이 나타났다. 스페인의 카스티야 왕국에서는 이슬람교도와 싸우고 순례자를 보호한다는 목적 아래 1156~71년에 칼라트라바·알칸타라·산티아고(성 야코부스) 등의 기사단이 각각 생겨났고 같은 시기에 포르투갈에서는 아비스 기사단이 조직되었다. 아라곤 왕국의 몬테사 기사단(1317)과 포르투갈의 그리스도 기사단은 성전 기사단이 해체된 뒤에야 비로소 생겨났고 독일 출신 기사들도 대규모 기사단을 조직했는데(→ 튜턴 기사단), 이런 국가편향적인 십자군 기사단들은 다른 국제적인 규모의 기사단들처럼 세속적인 입지를 넓히는 데 치중했다. 그러나 이들이 유럽에서 벌인 활동은 팔레스타인에서 벌인 국제적인 활약 못지 않게 오랫동안 해외의 기사들과 심지어는 기사가 아닌 사람들의 마음까지도 사로잡았다.\n",
        "\n",
        "11세기말~13세기 중반에는 봉건제와 기사제도의 관계가 변하기 시작했다. 봉건영주들은 기사들에게 봉토를 주고 보통 매년 40일 동안 군역의무를 지웠다. 이것은 왕의 영토를 지키고 봉사의무를 수행하기에는 충분했다. 그러나 십자군전쟁을 비롯해 백년전쟁 때 벌인 장기(長期) 침공작전처럼 잦은 장거리 해외 원정에는 맞지 않아 국왕이 토지보유자들에게 기사가 되라고 강요하는 일이 늘어났다. 또한 돈을 받고 싸우는 용병(庸兵)들이 군대에 점점 많아졌으므로 과거 군대의 주류를 이루던 기사들은 소수파가 되어 일종의 장교계층과 비슷하게 되었다.\n",
        "\n",
        "점차 십자군운동이 시들해지고, 기사들로 이루어진 기병대가 보병과 궁수(弓手)부대에게 참담한 패배를 당하는 일이 생기는 한편 대포의 발달과 중앙집권제를 통한 왕권강화로 14~15세기에 걸쳐 전통적인 기사 제도는 무너졌다. 게다가 16세기에 들어와서는 군사적인 의미를 잃고 국왕이 마음 내킬 때 수여하는 명예 지위로 전락했다. 군주의 측근인 고위 귀족들 사이에서는 이같은 칭호를 갖는 것이 유행했다.\n",
        "\n",
        "중세말부터 종교와 관계없는 세속적인 기사작위들이 많이 생겨 이들에게 훈장(勳章)을 주게 되었다. 이런 작위는 귀족이나 행정관리, 각종 직업과 예술분야에서 훌륭한 업적을 이룩한 사람들에게 수여했다. 오늘날 이같은 작위는 영국의 경우 국왕과 작위를 받을 사람 모두 개인자격으로 참여하는 의식을 통해 받는 명예 칭호에 불과하다. 오늘날 작위를 받는 사람이 국왕 앞에 무릎을 꿇으면 국왕은 용검(龍劍：영국 국가의식 때 국왕 앞에서 받드는 칼)을 칼집에서 뽑아 수상자의 오른쪽 어깨와 왼쪽 어깨에 차례로 가볍게 댄다. 수상자가 남자일 경우에는 이름에 '써'(Sir, 卿), 여자는 '데임'(Dame) 칭호를 붙인다.\n",
        "\n",
        "기사는 사용하는 무기에 따라 호칭이 달랐다. 활을 사용하면 궁기사, 창을 사용하면 창기사라 불렸는데 총을 사용하면 용기병(dragoon)이라 불렀다. 총을 사용하는 기사가 용기사라 불리는 이유는, 용기병이 사용하는 총에 드래곤의 문양이 박혀져 있어 기병용 총을 '드래건'이라고 불렀기 때문이다. 그런데 엄밀히 말하면 용기병들은 이동에만 말을 이용하고 싸울때는 말에서 내려서 전투하는 하마보병에 가까웠다.\n",
        "\"\"\""
      ],
      "execution_count": 68,
      "outputs": []
    },
    {
      "cell_type": "code",
      "metadata": {
        "id": "c-jMWdqCLvPI"
      },
      "source": [
        "head = text[:128]\n",
        "tail = text[-382:]"
      ],
      "execution_count": 69,
      "outputs": []
    },
    {
      "cell_type": "code",
      "metadata": {
        "colab": {
          "base_uri": "https://localhost:8080/",
          "height": 89
        },
        "id": "cUQKauPRPQJ-",
        "outputId": "9acb7e91-0ea7-497c-e075-2b0e2b20370e"
      },
      "source": [
        "tail"
      ],
      "execution_count": 70,
      "outputs": [
        {
          "output_type": "execute_result",
          "data": {
            "application/vnd.google.colaboratory.intrinsic+json": {
              "type": "string"
            },
            "text/plain": [
              "\"작위를 받는 사람이 국왕 앞에 무릎을 꿇으면 국왕은 용검(龍劍：영국 국가의식 때 국왕 앞에서 받드는 칼)을 칼집에서 뽑아 수상자의 오른쪽 어깨와 왼쪽 어깨에 차례로 가볍게 댄다. 수상자가 남자일 경우에는 이름에 '써'(Sir, 卿), 여자는 '데임'(Dame) 칭호를 붙인다.\\n\\n기사는 사용하는 무기에 따라 호칭이 달랐다. 활을 사용하면 궁기사, 창을 사용하면 창기사라 불렸는데 총을 사용하면 용기병(dragoon)이라 불렀다. 총을 사용하는 기사가 용기사라 불리는 이유는, 용기병이 사용하는 총에 드래곤의 문양이 박혀져 있어 기병용 총을 '드래건'이라고 불렀기 때문이다. 그런데 엄밀히 말하면 용기병들은 이동에만 말을 이용하고 싸울때는 말에서 내려서 전투하는 하마보병에 가까웠다.\\n\""
            ]
          },
          "metadata": {},
          "execution_count": 70
        }
      ]
    },
    {
      "cell_type": "code",
      "metadata": {
        "colab": {
          "base_uri": "https://localhost:8080/"
        },
        "id": "xhUrAmj2PIWC",
        "outputId": "d0888848-c586-4b3f-dd6e-61b08db89384"
      },
      "source": [
        "text = head + ' ' + tail\n",
        "print(len(text))"
      ],
      "execution_count": 72,
      "outputs": [
        {
          "output_type": "stream",
          "name": "stdout",
          "text": [
            "511\n"
          ]
        }
      ]
    },
    {
      "cell_type": "code",
      "metadata": {
        "colab": {
          "base_uri": "https://localhost:8080/"
        },
        "id": "gHigtMypgOKz",
        "outputId": "0b81f2a7-68ed-4262-c3da-ff786799f67d"
      },
      "source": [
        "len(tokenizer.encode(text))"
      ],
      "execution_count": 73,
      "outputs": [
        {
          "output_type": "execute_result",
          "data": {
            "text/plain": [
              "287"
            ]
          },
          "metadata": {},
          "execution_count": 73
        }
      ]
    },
    {
      "cell_type": "code",
      "metadata": {
        "colab": {
          "base_uri": "https://localhost:8080/"
        },
        "id": "kHO4iiqQhP6D",
        "outputId": "bbcdfb04-6a54-45e1-f9fe-18cd32316303"
      },
      "source": [
        "print(tokenizer.tokenize(text))"
      ],
      "execution_count": 74,
      "outputs": [
        {
          "output_type": "stream",
          "name": "stdout",
          "text": [
            "['▁기사', '▁제도', '가', '▁발전', '하면서', '▁기', '독', '교', '▁세계', '에서는', '▁교', '회를', '▁존', '경', '하고', '▁영', '주', '와', '▁군', '대의', '▁상', '관', '에게', '▁충', '성', '하며', '▁자기', '▁명예', '를', '▁지키', '는', '▁', '이라는', '▁이상', '적인', '▁기사', '상', '(', '騎士像', ')', '이', '▁', '널', '리', '▁퍼', '졌다', '.', '▁이런', '▁이상', '에', '▁가까운', '▁기사', '들이', '▁나타난', '▁것은', '▁11', '세', '기', '말', '부터', '▁유럽', '▁기', '독', '교', '▁세', '▁작', '위를', '▁받는', '▁사람이', '▁국', '왕', '▁앞에', '▁무릎', '을', '▁', '꿇', '으면', '▁국', '왕', '은', '▁용', '검', '(', '龍劍', ':', '영', '국', '▁국가', '의', '식', '▁때', '▁국', '왕', '▁앞에서', '▁받', '드는', '▁칼', ')', '을', '▁칼', '집', '에서', '▁뽑아', '▁수상', '자의', '▁', '오른쪽', '▁어깨', '와', '▁왼쪽', '▁어깨', '에', '▁차례', '로', '▁', '가', '볍', '게', '▁', '댄', '다', '.', '▁수상', '자가', '▁남자', '일', '▁경우', '에는', '▁이름', '에', \"▁'\", '써', \"'(\", 'S', 'ir', ',', '▁', '卿', '),', '▁여자', '는', \"▁'\", '데', '임', \"'(\", 'D', 'am', 'e', ')', '▁', '칭', '호', '를', '▁붙', '인', '다', '.', '▁기사', '는', '▁사용하는', '▁무기', '에', '▁따라', '▁호', '칭', '이', '▁달', '랐', '다', '.', '▁', '활', '을', '▁사용', '하면', '▁', '궁', '기사', ',', '▁창', '을', '▁사용', '하면', '▁창', '기사', '라', '▁불', '렸', '는데', '▁총', '을', '▁사용', '하면', '▁용', '기', '병', '(', 'd', 'ra', 'go', 'on', ')', '이라', '▁불', '렀다', '.', '▁총', '을', '▁사용하는', '▁기사', '가', '▁용', '기사', '라', '▁불리는', '▁이유는', ',', '▁용', '기', '병', '이', '▁사용하는', '▁총', '에', '▁', '드래곤', '의', '▁문', '양', '이', '▁박', '혀', '져', '▁있어', '▁기', '병', '용', '▁총', '을', \"▁'\", '드', '래', '건', \"'\", '이라고', '▁불', '렀', '기', '▁때문이다', '.', '▁그런데', '▁엄', '밀', '히', '▁말', '하면', '▁용', '기', '병', '들은', '▁이동', '에만', '▁말을', '▁이용', '하고', '▁싸', '울', '때', '는', '▁말', '에서', '▁내려', '서', '▁전투', '하는', '▁하', '마', '보', '병', '에', '▁', '가', '까', '웠다', '.']\n"
          ]
        }
      ]
    },
    {
      "cell_type": "code",
      "metadata": {
        "colab": {
          "base_uri": "https://localhost:8080/"
        },
        "id": "vaFHN_zahR4i",
        "outputId": "21507239-5cb4-47c4-b56e-15d755339636"
      },
      "source": [
        "for elem in tokenizer.encode(text):\n",
        "  print(tokenizer.decode(elem))"
      ],
      "execution_count": 75,
      "outputs": [
        {
          "output_type": "stream",
          "name": "stdout",
          "text": [
            "[CLS]\n",
            "기사\n",
            "제도\n",
            "가\n",
            "발전\n",
            "하면서\n",
            "기\n",
            "독\n",
            "교\n",
            "세계\n",
            "에서는\n",
            "교\n",
            "회를\n",
            "존\n",
            "경\n",
            "하고\n",
            "영\n",
            "주\n",
            "와\n",
            "군\n",
            "대의\n",
            "상\n",
            "관\n",
            "에게\n",
            "충\n",
            "성\n",
            "하며\n",
            "자기\n",
            "명예\n",
            "를\n",
            "지키\n",
            "는\n",
            "\n",
            "이라는\n",
            "이상\n",
            "적인\n",
            "기사\n",
            "상\n",
            "(\n",
            "[UNK]\n",
            ")\n",
            "이\n",
            "\n",
            "널\n",
            "리\n",
            "퍼\n",
            "졌다\n",
            ".\n",
            "이런\n",
            "이상\n",
            "에\n",
            "가까운\n",
            "기사\n",
            "들이\n",
            "나타난\n",
            "것은\n",
            "11\n",
            "세\n",
            "기\n",
            "말\n",
            "부터\n",
            "유럽\n",
            "기\n",
            "독\n",
            "교\n",
            "세\n",
            "작\n",
            "위를\n",
            "받는\n",
            "사람이\n",
            "국\n",
            "왕\n",
            "앞에\n",
            "무릎\n",
            "을\n",
            "\n",
            "꿇\n",
            "으면\n",
            "국\n",
            "왕\n",
            "은\n",
            "용\n",
            "검\n",
            "(\n",
            "[UNK]\n",
            ":\n",
            "영\n",
            "국\n",
            "국가\n",
            "의\n",
            "식\n",
            "때\n",
            "국\n",
            "왕\n",
            "앞에서\n",
            "받\n",
            "드는\n",
            "칼\n",
            ")\n",
            "을\n",
            "칼\n",
            "집\n",
            "에서\n",
            "뽑아\n",
            "수상\n",
            "자의\n",
            "\n",
            "오른쪽\n",
            "어깨\n",
            "와\n",
            "왼쪽\n",
            "어깨\n",
            "에\n",
            "차례\n",
            "로\n",
            "\n",
            "가\n",
            "볍\n",
            "게\n",
            "\n",
            "댄\n",
            "다\n",
            ".\n",
            "수상\n",
            "자가\n",
            "남자\n",
            "일\n",
            "경우\n",
            "에는\n",
            "이름\n",
            "에\n",
            "'\n",
            "써\n",
            "'(\n",
            "S\n",
            "ir\n",
            ",\n",
            "\n",
            "[UNK]\n",
            "),\n",
            "여자\n",
            "는\n",
            "'\n",
            "데\n",
            "임\n",
            "'(\n",
            "D\n",
            "am\n",
            "e\n",
            ")\n",
            "\n",
            "칭\n",
            "호\n",
            "를\n",
            "붙\n",
            "인\n",
            "다\n",
            ".\n",
            "기사\n",
            "는\n",
            "사용하는\n",
            "무기\n",
            "에\n",
            "따라\n",
            "호\n",
            "칭\n",
            "이\n",
            "달\n",
            "랐\n",
            "다\n",
            ".\n",
            "\n",
            "활\n",
            "을\n",
            "사용\n",
            "하면\n",
            "\n",
            "궁\n",
            "기사\n",
            ",\n",
            "창\n",
            "을\n",
            "사용\n",
            "하면\n",
            "창\n",
            "기사\n",
            "라\n",
            "불\n",
            "렸\n",
            "는데\n",
            "총\n",
            "을\n",
            "사용\n",
            "하면\n",
            "용\n",
            "기\n",
            "병\n",
            "(\n",
            "d\n",
            "ra\n",
            "go\n",
            "on\n",
            ")\n",
            "이라\n",
            "불\n",
            "렀다\n",
            ".\n",
            "총\n",
            "을\n",
            "사용하는\n",
            "기사\n",
            "가\n",
            "용\n",
            "기사\n",
            "라\n",
            "불리는\n",
            "이유는\n",
            ",\n",
            "용\n",
            "기\n",
            "병\n",
            "이\n",
            "사용하는\n",
            "총\n",
            "에\n",
            "\n",
            "드래곤\n",
            "의\n",
            "문\n",
            "양\n",
            "이\n",
            "박\n",
            "혀\n",
            "져\n",
            "있어\n",
            "기\n",
            "병\n",
            "용\n",
            "총\n",
            "을\n",
            "'\n",
            "드\n",
            "래\n",
            "건\n",
            "'\n",
            "이라고\n",
            "불\n",
            "렀\n",
            "기\n",
            "때문이다\n",
            ".\n",
            "그런데\n",
            "엄\n",
            "밀\n",
            "히\n",
            "말\n",
            "하면\n",
            "용\n",
            "기\n",
            "병\n",
            "들은\n",
            "이동\n",
            "에만\n",
            "말을\n",
            "이용\n",
            "하고\n",
            "싸\n",
            "울\n",
            "때\n",
            "는\n",
            "말\n",
            "에서\n",
            "내려\n",
            "서\n",
            "전투\n",
            "하는\n",
            "하\n",
            "마\n",
            "보\n",
            "병\n",
            "에\n",
            "\n",
            "가\n",
            "까\n",
            "웠다\n",
            ".\n",
            "[SEP]\n"
          ]
        }
      ]
    },
    {
      "cell_type": "code",
      "metadata": {
        "colab": {
          "base_uri": "https://localhost:8080/"
        },
        "id": "aOmogNVXhS1S",
        "outputId": "085a92e2-7162-4f15-8122-3378e7a85e43"
      },
      "source": [
        "for elem in tokenizer.encode(\"happy birthday~!\"):\n",
        "  print(tokenizer.decode(elem))"
      ],
      "execution_count": null,
      "outputs": [
        {
          "output_type": "stream",
          "text": [
            "[CLS]\n",
            "\n",
            "ha\n",
            "p\n",
            "p\n",
            "y\n",
            "\n",
            "b\n",
            "ir\n",
            "th\n",
            "d\n",
            "ay\n",
            "~\n",
            "!\n",
            "[SEP]\n"
          ],
          "name": "stdout"
        }
      ]
    },
    {
      "cell_type": "code",
      "metadata": {
        "colab": {
          "base_uri": "https://localhost:8080/"
        },
        "id": "Z3WINg5UhTzq",
        "outputId": "4dd943c0-cee4-40ae-bdc3-1c1eafebed80"
      },
      "source": [
        "print(tokenizer.decode(2))"
      ],
      "execution_count": 80,
      "outputs": [
        {
          "output_type": "stream",
          "name": "stdout",
          "text": [
            "[CLS]\n"
          ]
        }
      ]
    },
    {
      "cell_type": "code",
      "metadata": {
        "colab": {
          "base_uri": "https://localhost:8080/"
        },
        "id": "-EM6Nw-LhUqq",
        "outputId": "55bef22c-a315-456e-cd5a-76c4eecf0cc6"
      },
      "source": [
        "print(tokenizer.decode(3))"
      ],
      "execution_count": 77,
      "outputs": [
        {
          "output_type": "stream",
          "name": "stdout",
          "text": [
            "[SEP]\n"
          ]
        }
      ]
    },
    {
      "cell_type": "code",
      "metadata": {
        "id": "VhPmUfylhVRy"
      },
      "source": [
        "max_seq_len=512"
      ],
      "execution_count": null,
      "outputs": []
    },
    {
      "cell_type": "code",
      "metadata": {
        "colab": {
          "base_uri": "https://localhost:8080/"
        },
        "id": "GDnicNWphV-y",
        "outputId": "b97b9023-8c3b-4779-a8ad-0ee5f171a9be"
      },
      "source": [
        "print(tokenizer.encode(text, max_length=max_seq_len, pad_to_max_length=True))"
      ],
      "execution_count": 78,
      "outputs": [
        {
          "output_type": "stream",
          "name": "stderr",
          "text": [
            "Truncation was not explicitly activated but `max_length` is provided a specific value, please use `truncation=True` to explicitly truncate examples to max length. Defaulting to 'longest_first' truncation strategy. If you encode pairs of sequences (GLUE-style) with the tokenizer you can select this strategy more precisely by providing a specific strategy to `truncation`.\n"
          ]
        },
        {
          "output_type": "stream",
          "name": "stdout",
          "text": [
            "[2, 1283, 4137, 5330, 2249, 7812, 1258, 5865, 5488, 2802, 6904, 1103, 7955, 4192, 5424, 7788, 3376, 7276, 6983, 1165, 5818, 2658, 5474, 6897, 4588, 6573, 7810, 3890, 2037, 6116, 4344, 5760, 517, 7103, 3704, 7206, 1283, 6527, 18, 0, 40, 7096, 517, 5696, 6122, 4826, 7250, 54, 3672, 3704, 6896, 734, 1283, 5940, 1400, 910, 538, 6579, 5561, 6160, 6410, 3581, 1258, 5865, 5488, 2801, 3930, 7049, 2224, 2589, 1132, 6992, 3190, 2106, 7088, 517, 5631, 7083, 1132, 6992, 7086, 3494, 5392, 18, 0, 249, 6951, 5503, 1133, 7095, 6730, 1844, 1132, 6992, 3191, 2220, 5921, 4642, 40, 7088, 4642, 7354, 6903, 2569, 2884, 7167, 517, 6967, 3221, 6983, 3479, 3221, 6896, 4407, 6079, 517, 5330, 6359, 5400, 517, 5831, 5782, 54, 2884, 7148, 1423, 7126, 968, 6900, 3687, 6896, 520, 6761, 16, 343, 411, 46, 517, 0, 42, 3318, 5760, 520, 5850, 7136, 16, 278, 373, 389, 40, 517, 7494, 7925, 6116, 2503, 7119, 5782, 54, 1283, 5760, 2615, 2097, 6896, 1835, 5090, 7494, 7096, 1597, 6021, 5782, 54, 517, 7948, 7088, 2613, 7811, 517, 5521, 5574, 46, 4438, 7088, 2613, 7811, 4438, 5574, 6003, 2485, 6072, 5761, 4512, 7088, 2613, 7811, 3494, 5561, 6361, 18, 388, 436, 400, 429, 40, 7101, 2485, 6047, 54, 4512, 7088, 2615, 1283, 5330, 3494, 5574, 6003, 2494, 3733, 46, 3494, 5561, 6361, 7096, 2615, 4512, 6896, 517, 5923, 7095, 2120, 6853, 7096, 2199, 7899, 7245, 3868, 1258, 6361, 7003, 4512, 7088, 520, 5920, 6023, 5384, 15, 7102, 2485, 6046, 5561, 1850, 54, 1202, 3255, 6267, 7996, 1958, 7811, 3494, 5561, 6361, 5937, 3662, 6902, 1962, 3726, 7788, 3076, 7013, 5965, 5760, 1958, 6903, 1442, 6553, 4057, 7794, 4924, 6141, 6364, 6361, 6896, 517, 5330, 5591, 7037, 54, 3, 1, 1, 1, 1, 1, 1, 1, 1, 1, 1, 1, 1, 1, 1, 1, 1, 1, 1, 1, 1, 1, 1, 1, 1, 1, 1, 1, 1, 1, 1, 1, 1, 1, 1, 1, 1, 1, 1, 1, 1, 1, 1, 1, 1, 1, 1, 1, 1, 1, 1, 1, 1, 1, 1, 1, 1, 1, 1, 1, 1, 1, 1, 1, 1, 1, 1, 1, 1, 1, 1, 1, 1, 1, 1, 1, 1, 1, 1, 1, 1, 1, 1, 1, 1, 1, 1, 1, 1, 1, 1, 1, 1, 1, 1, 1, 1, 1, 1, 1, 1, 1, 1, 1, 1, 1, 1, 1, 1, 1, 1, 1, 1, 1, 1, 1, 1, 1, 1, 1, 1, 1, 1, 1, 1, 1, 1, 1, 1, 1, 1, 1, 1, 1, 1, 1, 1, 1, 1, 1, 1, 1, 1, 1, 1, 1, 1, 1, 1, 1, 1, 1, 1, 1, 1, 1, 1, 1, 1, 1, 1, 1, 1, 1, 1, 1, 1, 1, 1, 1, 1, 1, 1, 1, 1, 1, 1, 1, 1, 1, 1, 1, 1, 1, 1, 1, 1, 1, 1, 1, 1, 1, 1, 1, 1, 1, 1, 1, 1, 1, 1, 1, 1, 1, 1, 1, 1, 1, 1, 1, 1, 1, 1, 1, 1, 1, 1, 1, 1, 1, 1, 1, 1, 1, 1, 1]\n"
          ]
        },
        {
          "output_type": "stream",
          "name": "stderr",
          "text": [
            "/usr/local/lib/python3.7/dist-packages/transformers/tokenization_utils_base.py:2074: FutureWarning: The `pad_to_max_length` argument is deprecated and will be removed in a future version, use `padding=True` or `padding='longest'` to pad to the longest sequence in the batch, or use `padding='max_length'` to pad to a max length. In this case, you can give a specific length with `max_length` (e.g. `max_length=45`) or leave max_length to None to pad to the maximal input size of the model (e.g. 512 for Bert).\n",
            "  FutureWarning,\n"
          ]
        }
      ]
    },
    {
      "cell_type": "markdown",
      "metadata": {
        "id": "5nzz6EnKoZXN"
      },
      "source": [
        "\n",
        "토큰 인풋의 예를 들면 다음과 같습니다.  \n",
        "문장을 토크나이징 하면 \"전율을 일으키는 영화. 다시 보고싶은 영화\"가\n",
        "\"'전', '##율', '##을', '일', '##으', '##키는', '영화', '.', '다시', '보고', '##싶', '##은', '영화'\" 로 토크나이징이 됩니다.  \n",
        "이거를 버트 인풋에 들어갈 숫자로 바꿔주면,  \n",
        "[\"2, 4012, 7071, 3815, 5760, 3394, 54, 1574, 2358, 6751, 7086, 3394, 3\"]  \n",
        "로 바뀌게 됩니다. 여기 나오는 숫자들이 버트 인풋에 들어가는 토큰 인풋입니다.\n",
        "버트 모형에 들어가는 인풋은 사실 일정한 길이를 가져야 합니다.(본 예제에서는 64)\n",
        "따라서 남는 부분은 1로 채워지게 됩니다(패딩)"
      ]
    },
    {
      "cell_type": "code",
      "metadata": {
        "colab": {
          "base_uri": "https://localhost:8080/"
        },
        "id": "Qxyu7SXVhWzS",
        "outputId": "055f75e3-cae5-41bb-a27e-4d081decf5c8"
      },
      "source": [
        "# 세그멘트 인풋\n",
        "print([0]*512)"
      ],
      "execution_count": 81,
      "outputs": [
        {
          "output_type": "stream",
          "name": "stdout",
          "text": [
            "[0, 0, 0, 0, 0, 0, 0, 0, 0, 0, 0, 0, 0, 0, 0, 0, 0, 0, 0, 0, 0, 0, 0, 0, 0, 0, 0, 0, 0, 0, 0, 0, 0, 0, 0, 0, 0, 0, 0, 0, 0, 0, 0, 0, 0, 0, 0, 0, 0, 0, 0, 0, 0, 0, 0, 0, 0, 0, 0, 0, 0, 0, 0, 0, 0, 0, 0, 0, 0, 0, 0, 0, 0, 0, 0, 0, 0, 0, 0, 0, 0, 0, 0, 0, 0, 0, 0, 0, 0, 0, 0, 0, 0, 0, 0, 0, 0, 0, 0, 0, 0, 0, 0, 0, 0, 0, 0, 0, 0, 0, 0, 0, 0, 0, 0, 0, 0, 0, 0, 0, 0, 0, 0, 0, 0, 0, 0, 0, 0, 0, 0, 0, 0, 0, 0, 0, 0, 0, 0, 0, 0, 0, 0, 0, 0, 0, 0, 0, 0, 0, 0, 0, 0, 0, 0, 0, 0, 0, 0, 0, 0, 0, 0, 0, 0, 0, 0, 0, 0, 0, 0, 0, 0, 0, 0, 0, 0, 0, 0, 0, 0, 0, 0, 0, 0, 0, 0, 0, 0, 0, 0, 0, 0, 0, 0, 0, 0, 0, 0, 0, 0, 0, 0, 0, 0, 0, 0, 0, 0, 0, 0, 0, 0, 0, 0, 0, 0, 0, 0, 0, 0, 0, 0, 0, 0, 0, 0, 0, 0, 0, 0, 0, 0, 0, 0, 0, 0, 0, 0, 0, 0, 0, 0, 0, 0, 0, 0, 0, 0, 0, 0, 0, 0, 0, 0, 0, 0, 0, 0, 0, 0, 0, 0, 0, 0, 0, 0, 0, 0, 0, 0, 0, 0, 0, 0, 0, 0, 0, 0, 0, 0, 0, 0, 0, 0, 0, 0, 0, 0, 0, 0, 0, 0, 0, 0, 0, 0, 0, 0, 0, 0, 0, 0, 0, 0, 0, 0, 0, 0, 0, 0, 0, 0, 0, 0, 0, 0, 0, 0, 0, 0, 0, 0, 0, 0, 0, 0, 0, 0, 0, 0, 0, 0, 0, 0, 0, 0, 0, 0, 0, 0, 0, 0, 0, 0, 0, 0, 0, 0, 0, 0, 0, 0, 0, 0, 0, 0, 0, 0, 0, 0, 0, 0, 0, 0, 0, 0, 0, 0, 0, 0, 0, 0, 0, 0, 0, 0, 0, 0, 0, 0, 0, 0, 0, 0, 0, 0, 0, 0, 0, 0, 0, 0, 0, 0, 0, 0, 0, 0, 0, 0, 0, 0, 0, 0, 0, 0, 0, 0, 0, 0, 0, 0, 0, 0, 0, 0, 0, 0, 0, 0, 0, 0, 0, 0, 0, 0, 0, 0, 0, 0, 0, 0, 0, 0, 0, 0, 0, 0, 0, 0, 0, 0, 0, 0, 0, 0, 0, 0, 0, 0, 0, 0, 0, 0, 0, 0, 0, 0, 0, 0, 0, 0, 0, 0, 0, 0, 0, 0, 0, 0, 0, 0, 0, 0, 0, 0, 0, 0, 0, 0, 0, 0, 0, 0, 0, 0, 0, 0, 0, 0, 0, 0, 0, 0, 0, 0, 0, 0, 0, 0, 0, 0, 0, 0, 0, 0, 0, 0, 0, 0, 0]\n"
          ]
        }
      ]
    },
    {
      "cell_type": "markdown",
      "metadata": {
        "id": "9bZ5vJT7ob1n"
      },
      "source": [
        "세그멘트 인풋은 문장이 앞문장인지 뒷문장인지 구분해주는 역할을 하는데요 본 문장에서는 문장 하나만 인풋으로 들어가기 때문에 0만 들어가게 되고, 문장 길이만큼의 0이 인풋으로 들어가게 됩니다."
      ]
    },
    {
      "cell_type": "code",
      "metadata": {
        "colab": {
          "base_uri": "https://localhost:8080/"
        },
        "id": "-z_odn7QhXzK",
        "outputId": "19ac327e-43a8-4d91-8f02-a833a2b6c66c"
      },
      "source": [
        "# 마스크 인풋\n",
        "valid_num = len(tokenizer.encode(\"전율을 일으키는 영화. 다시 보고싶은 영화\"))\n",
        "print(valid_num * [1] + (max_seq_len - valid_num) * [0])"
      ],
      "execution_count": 82,
      "outputs": [
        {
          "output_type": "stream",
          "name": "stdout",
          "text": [
            "[1, 1, 1, 1, 1, 1, 1, 1, 1, 1, 1, 1, 1, 0, 0, 0, 0, 0, 0, 0, 0, 0, 0, 0, 0, 0, 0, 0, 0, 0, 0, 0, 0, 0, 0, 0, 0, 0, 0, 0, 0, 0, 0, 0, 0, 0, 0, 0, 0, 0, 0, 0, 0, 0, 0, 0, 0, 0, 0, 0, 0, 0, 0, 0, 0, 0, 0, 0, 0, 0, 0, 0, 0, 0, 0, 0, 0, 0, 0, 0, 0, 0, 0, 0, 0, 0, 0, 0, 0, 0, 0, 0, 0, 0, 0, 0, 0, 0, 0, 0, 0, 0, 0, 0, 0, 0, 0, 0, 0, 0, 0, 0, 0, 0, 0, 0, 0, 0, 0, 0, 0, 0, 0, 0, 0, 0, 0, 0, 0, 0, 0, 0, 0, 0, 0, 0, 0, 0, 0, 0, 0, 0, 0, 0, 0, 0, 0, 0, 0, 0, 0, 0, 0, 0, 0, 0, 0, 0, 0, 0, 0, 0, 0, 0, 0, 0, 0, 0, 0, 0, 0, 0, 0, 0, 0, 0, 0, 0, 0, 0, 0, 0, 0, 0, 0, 0, 0, 0, 0, 0, 0, 0, 0, 0, 0, 0, 0, 0, 0, 0, 0, 0, 0, 0, 0, 0, 0, 0, 0, 0, 0, 0, 0, 0, 0, 0, 0, 0, 0, 0, 0, 0, 0, 0, 0, 0, 0, 0, 0, 0, 0, 0, 0, 0, 0, 0, 0, 0, 0, 0, 0, 0, 0, 0, 0, 0, 0, 0, 0, 0, 0, 0, 0, 0, 0, 0, 0, 0, 0, 0, 0, 0, 0, 0, 0, 0, 0, 0, 0, 0, 0, 0, 0, 0, 0, 0, 0, 0, 0, 0, 0, 0, 0, 0, 0, 0, 0, 0, 0, 0, 0, 0, 0, 0, 0, 0, 0, 0, 0, 0, 0, 0, 0, 0, 0, 0, 0, 0, 0, 0, 0, 0, 0, 0, 0, 0, 0, 0, 0, 0, 0, 0, 0, 0, 0, 0, 0, 0, 0, 0, 0, 0, 0, 0, 0, 0, 0, 0, 0, 0, 0, 0, 0, 0, 0, 0, 0, 0, 0, 0, 0, 0, 0, 0, 0, 0, 0, 0, 0, 0, 0, 0, 0, 0, 0, 0, 0, 0, 0, 0, 0, 0, 0, 0, 0, 0, 0, 0, 0, 0, 0, 0, 0, 0, 0, 0, 0, 0, 0, 0, 0, 0, 0, 0, 0, 0, 0, 0, 0, 0, 0, 0, 0, 0, 0, 0, 0, 0, 0, 0, 0, 0, 0, 0, 0, 0, 0, 0, 0, 0, 0, 0, 0, 0, 0, 0, 0, 0, 0, 0, 0, 0, 0, 0, 0, 0, 0, 0, 0, 0, 0, 0, 0, 0, 0, 0, 0, 0, 0, 0, 0, 0, 0, 0, 0, 0, 0, 0, 0, 0, 0, 0, 0, 0, 0, 0, 0, 0, 0, 0, 0, 0, 0, 0, 0, 0, 0, 0, 0, 0, 0, 0, 0, 0, 0, 0, 0, 0, 0, 0, 0, 0, 0, 0, 0, 0, 0, 0, 0, 0, 0, 0, 0, 0, 0, 0, 0, 0, 0, 0, 0, 0]\n"
          ]
        }
      ]
    },
    {
      "cell_type": "markdown",
      "metadata": {
        "id": "dM8SA0Z0odv4"
      },
      "source": [
        "숫자 2 : [CLS]  \n",
        "숫자 3 : [SEP]"
      ]
    },
    {
      "cell_type": "markdown",
      "metadata": {
        "id": "VO-W-Rasof2B"
      },
      "source": [
        "\n",
        "어텐션 마스크 인풋은 토큰 인풋에서 패딩이 아닌 부분은 1, 패딩인 부분은 0으로 두게 됩니다.  \n",
        "\n",
        "종합하면,\n",
        "버트의 인풋은 토큰, 세그먼트, 마스크로 이루어져 있습니다.\n",
        "\"전율을 일으키는 영화. 다시 보고싶은 영화\" 라는 문장을 가지고 예를 들면,  \n",
        "\n",
        "토큰 인풋 : \n",
        "[2, 4012, 7071, 3815, 5760, 3394, 54, 1574, 2358, 6751, 7086, 3394, 3, 1, 1, 1, 1, 1, 1, 1, 1, 1, 1, 1, 1, 1, 1, 1, 1, 1, 1, 1, 1, 1, 1, 1, 1, 1, 1, 1, 1, 1, 1, 1, 1, 1, 1, 1, 1, 1, 1, 1, 1, 1, 1, 1, 1, 1, 1, 1, 1, 1, 1, 1]\n",
        "\n",
        "세그먼트 인풋 : [0, 0, 0, 0, 0, 0, 0, 0, 0, 0, 0, 0, 0, 0, 0, 0, 0, 0, 0, 0, 0, 0, 0, 0, 0, 0, 0, 0, 0, 0, 0, 0, 0, 0, 0, 0, 0, 0, 0, 0, 0, 0, 0, 0, 0, 0, 0, 0, 0, 0, 0, 0, 0, 0, 0, 0, 0, 0, 0, 0, 0, 0, 0, 0]\n",
        "\n",
        "어텐션 마스크 인풋 : [1, 1, 1, 1, 1, 1, 1, 1, 1, 1, 1, 1, 1, 0, 0, 0, 0, 0, 0, 0, 0, 0, 0, 0, 0, 0, 0, 0, 0, 0, 0, 0, 0, 0, 0, 0, 0, 0, 0, 0, 0, 0, 0, 0, 0, 0, 0, 0, 0, 0, 0, 0, 0, 0, 0, 0, 0, 0, 0, 0, 0, 0, 0, 0]  \n",
        "\n",
        "네이버 영화 평가 문장들을 버트 인풋으로 바꿔보도록 하겠습니다.\n",
        "문장이 토큰 인풋, 세그먼트 인풋, 마스크 인풋으로 변환 됩니다.\n",
        "huggingface에서는 순서가 [토큰 인풋, 마스크 인풋, 세그먼트 인풋] 입니다."
      ]
    },
    {
      "cell_type": "code",
      "metadata": {
        "id": "qk8DJZ_khYgK"
      },
      "source": [
        "from tensorflow.keras.utils import to_categorical\n",
        "NUM_CLASS = 9\n",
        "\n",
        "def convert_examples_to_features(examples, labels, max_seq_len, tokenizer):\n",
        "    \n",
        "    input_ids, attention_masks, token_type_ids, data_labels = [], [], [], []\n",
        "    \n",
        "    for example, label in tqdm(zip(examples, labels), total=len(examples)):\n",
        "        # input_id는 워드 임베딩을 위한 문장의 정수 인코딩\n",
        "        input_id = tokenizer.encode(example, max_length=max_seq_len, pad_to_max_length=True)\n",
        "       \n",
        "        # attention_mask는 실제 단어가 위치하면 1, 패딩의 위치에는 0인 시퀀스.\n",
        "        padding_count = input_id.count(tokenizer.pad_token_id)\n",
        "        attention_mask = [1] * (max_seq_len - padding_count) + [0] * padding_count\n",
        "        \n",
        "        # token_type_id는 세그먼트 임베딩을 위한 것으로 이번 예제는 문장이 1개이므로 전부 0으로 통일.\n",
        "        token_type_id = [0] * max_seq_len\n",
        "\n",
        "        assert len(input_id) == max_seq_len, \"Error with input length {} vs {}\".format(len(input_id), max_seq_len)\n",
        "        assert len(attention_mask) == max_seq_len, \"Error with attention mask length {} vs {}\".format(len(attention_mask), max_seq_len)\n",
        "        assert len(token_type_id) == max_seq_len, \"Error with token type length {} vs {}\".format(len(token_type_id), max_seq_len)\n",
        "\n",
        "        input_ids.append(input_id)\n",
        "        attention_masks.append(attention_mask)\n",
        "        token_type_ids.append(token_type_id)\n",
        "        label = to_categorical(label, num_classes=NUM_CLASS, dtype=np.int32)\n",
        "        data_labels.append(label)\n",
        "\n",
        "    input_ids = np.array(input_ids, dtype=int)\n",
        "    attention_masks = np.array(attention_masks, dtype=int)\n",
        "    token_type_ids = np.array(token_type_ids, dtype=int)\n",
        "\n",
        "    data_labels = np.asarray(data_labels, dtype=np.int32)\n",
        "\n",
        "    return (input_ids, attention_masks, token_type_ids), data_labels"
      ],
      "execution_count": 23,
      "outputs": []
    },
    {
      "cell_type": "code",
      "metadata": {
        "id": "qkbvq3yPiEE4"
      },
      "source": [
        "max_seq_len = 128"
      ],
      "execution_count": 24,
      "outputs": []
    },
    {
      "cell_type": "code",
      "metadata": {
        "colab": {
          "base_uri": "https://localhost:8080/"
        },
        "id": "2q81CbrDhZYi",
        "outputId": "3b6f927d-ddc6-4c1f-aa05-be0138fc3d14"
      },
      "source": [
        "train_X, train_y = convert_examples_to_features(train['contents'], train['category'], max_seq_len=max_seq_len, tokenizer=tokenizer)"
      ],
      "execution_count": 25,
      "outputs": [
        {
          "output_type": "stream",
          "name": "stderr",
          "text": [
            "  0%|          | 0/90615 [00:00<?, ?it/s]Truncation was not explicitly activated but `max_length` is provided a specific value, please use `truncation=True` to explicitly truncate examples to max length. Defaulting to 'longest_first' truncation strategy. If you encode pairs of sequences (GLUE-style) with the tokenizer you can select this strategy more precisely by providing a specific strategy to `truncation`.\n",
            "/usr/local/lib/python3.7/dist-packages/transformers/tokenization_utils_base.py:2074: FutureWarning: The `pad_to_max_length` argument is deprecated and will be removed in a future version, use `padding=True` or `padding='longest'` to pad to the longest sequence in the batch, or use `padding='max_length'` to pad to a max length. In this case, you can give a specific length with `max_length` (e.g. `max_length=45`) or leave max_length to None to pad to the maximal input size of the model (e.g. 512 for Bert).\n",
            "  FutureWarning,\n",
            "100%|██████████| 90615/90615 [02:32<00:00, 595.66it/s]\n"
          ]
        }
      ]
    },
    {
      "cell_type": "code",
      "metadata": {
        "colab": {
          "base_uri": "https://localhost:8080/"
        },
        "id": "A0LLv-CchaTS",
        "outputId": "e8d10d44-f3d2-4391-9e5b-c7865bf55ea9"
      },
      "source": [
        "test_X, test_y = convert_examples_to_features(test['contents'], test['category'], max_seq_len=max_seq_len, tokenizer=tokenizer)"
      ],
      "execution_count": 26,
      "outputs": [
        {
          "output_type": "stream",
          "name": "stderr",
          "text": [
            "  0%|          | 0/22654 [00:00<?, ?it/s]/usr/local/lib/python3.7/dist-packages/transformers/tokenization_utils_base.py:2074: FutureWarning: The `pad_to_max_length` argument is deprecated and will be removed in a future version, use `padding=True` or `padding='longest'` to pad to the longest sequence in the batch, or use `padding='max_length'` to pad to a max length. In this case, you can give a specific length with `max_length` (e.g. `max_length=45`) or leave max_length to None to pad to the maximal input size of the model (e.g. 512 for Bert).\n",
            "  FutureWarning,\n",
            "100%|██████████| 22654/22654 [00:39<00:00, 569.53it/s]\n"
          ]
        }
      ]
    },
    {
      "cell_type": "code",
      "metadata": {
        "colab": {
          "base_uri": "https://localhost:8080/"
        },
        "id": "X1NT5huFhbDy",
        "outputId": "46597fc5-3bc4-42d0-c102-326e2666ff8c"
      },
      "source": [
        "# 최대 길이: 128\n",
        "input_id = train_X[0][0]\n",
        "attention_mask = train_X[1][0]\n",
        "token_type_id = train_X[2][0]\n",
        "label = train_y[0]\n",
        "\n",
        "print('단어에 대한 정수 인코딩 :',input_id)\n",
        "print('어텐션 마스크 :',attention_mask)\n",
        "print('세그먼트 인코딩 :',token_type_id)\n",
        "print('정수 인코딩 복원 :',tokenizer.decode(input_id))\n",
        "print('레이블 :',label)"
      ],
      "execution_count": 27,
      "outputs": [
        {
          "output_type": "stream",
          "name": "stdout",
          "text": [
            "단어에 대한 정수 인코딩 : [   2 5056   46 1098 7921 3819 4768 5134  953 7921  687  356  357 6079\n",
            "  517 5282 6716  853 5054 5330 1138 4539 7095 1485 2669 7921 3819 2046\n",
            " 6079 1349 5760  520 5481 7276 7921 3819   15 2609 6896 1381 5407 1046\n",
            " 2253   54 5056 5760  596 7126 1098 5483 4220 7095 3014 3893 2714 4984\n",
            " 7170 6338 6896 4241 7095 3803 7023 4435 7786 2261   54 1099 6983 5056\n",
            " 1826 2714 4984 7170 6338 7088 2772 7848 3519 5889  520 5481 7276 7921\n",
            " 3819   15 6896 1046 7203 4435 3629 6116 2264  913   54 4768 5077 6896\n",
            " 1838 3019 6338 7086 3902 5550 3211  553  223 6861 1815 4512  517  209\n",
            " 6861 1180 2772 5900   54 1098 5330 4527 4241 6079 3902 5550 7095  553\n",
            "   94    3]\n",
            "어텐션 마스크 : [1 1 1 1 1 1 1 1 1 1 1 1 1 1 1 1 1 1 1 1 1 1 1 1 1 1 1 1 1 1 1 1 1 1 1 1 1\n",
            " 1 1 1 1 1 1 1 1 1 1 1 1 1 1 1 1 1 1 1 1 1 1 1 1 1 1 1 1 1 1 1 1 1 1 1 1 1\n",
            " 1 1 1 1 1 1 1 1 1 1 1 1 1 1 1 1 1 1 1 1 1 1 1 1 1 1 1 1 1 1 1 1 1 1 1 1 1\n",
            " 1 1 1 1 1 1 1 1 1 1 1 1 1 1 1 1 1]\n",
            "세그먼트 인코딩 : [0 0 0 0 0 0 0 0 0 0 0 0 0 0 0 0 0 0 0 0 0 0 0 0 0 0 0 0 0 0 0 0 0 0 0 0 0\n",
            " 0 0 0 0 0 0 0 0 0 0 0 0 0 0 0 0 0 0 0 0 0 0 0 0 0 0 0 0 0 0 0 0 0 0 0 0 0\n",
            " 0 0 0 0 0 0 0 0 0 0 0 0 0 0 0 0 0 0 0 0 0 0 0 0 0 0 0 0 0 0 0 0 0 0 0 0 0\n",
            " 0 0 0 0 0 0 0 0 0 0 0 0 0 0 0 0 0]\n",
            "정수 인코딩 복원 : [CLS] 현대차, 광주형 일자리 투자 확정 경형 SUV로 新시장 개척 현대자동차가 국내 최초의 노사 상생형 일자리 모델로 꼽히는 '광주형 일자리' 사업에 나서겠다고 공식 발표했다. 현대차는 31일 광주광역시 주도의 신규 자동차 생산 합작법인에 주주의 일원으로 참여하겠다고 밝혔다. 광주시와 현대차 등이 생산 합작법인을 설립해 운용되는 '광주형 일자리'에 공식적으로 참여 의사를 밝힌 것이다. 투자 협약에 따르면 신설법인은 자본금 약 2800억원 등 총 7000억원 규모로 설립된다. 광주가 최대 주주로 자본금의 21%[SEP]\n",
            "레이블 : [0 0 0 0 1 0 0 0 0]\n"
          ]
        }
      ]
    },
    {
      "cell_type": "code",
      "metadata": {
        "colab": {
          "base_uri": "https://localhost:8080/"
        },
        "id": "seXX1WYghbyr",
        "outputId": "64262399-183c-4456-cdfb-e7962cd18480"
      },
      "source": [
        "train_X[0].shape, train_X[1].shape, train_X[2].shape, train_y.shape"
      ],
      "execution_count": 28,
      "outputs": [
        {
          "output_type": "execute_result",
          "data": {
            "text/plain": [
              "((90615, 128), (90615, 128), (90615, 128), (90615, 9))"
            ]
          },
          "metadata": {},
          "execution_count": 28
        }
      ]
    },
    {
      "cell_type": "markdown",
      "metadata": {
        "id": "W0ZgufoPH5-b"
      },
      "source": [
        "TPU 사용법 : https://wikidocs.net/119990"
      ]
    },
    {
      "cell_type": "code",
      "metadata": {
        "colab": {
          "base_uri": "https://localhost:8080/"
        },
        "id": "9_6nzezphcoy",
        "outputId": "253d34e2-dfe5-414d-cff5-317da524f674"
      },
      "source": [
        "# TPU 작동을 위한 코드 TPU 작동을 위한 코드\n",
        "resolver = tf.distribute.cluster_resolver.TPUClusterResolver(tpu='grpc://' + os.environ['COLAB_TPU_ADDR'])\n",
        "tf.config.experimental_connect_to_cluster(resolver)\n",
        "tf.tpu.experimental.initialize_tpu_system(resolver)"
      ],
      "execution_count": 29,
      "outputs": [
        {
          "output_type": "stream",
          "name": "stderr",
          "text": [
            "INFO:absl:Entering into master device scope: /job:worker/replica:0/task:0/device:CPU:0\n"
          ]
        },
        {
          "output_type": "stream",
          "name": "stdout",
          "text": [
            "INFO:tensorflow:Clearing out eager caches\n"
          ]
        },
        {
          "output_type": "stream",
          "name": "stderr",
          "text": [
            "INFO:tensorflow:Clearing out eager caches\n"
          ]
        },
        {
          "output_type": "stream",
          "name": "stdout",
          "text": [
            "INFO:tensorflow:Initializing the TPU system: grpc://10.72.88.106:8470\n"
          ]
        },
        {
          "output_type": "stream",
          "name": "stderr",
          "text": [
            "INFO:tensorflow:Initializing the TPU system: grpc://10.72.88.106:8470\n"
          ]
        },
        {
          "output_type": "stream",
          "name": "stdout",
          "text": [
            "INFO:tensorflow:Finished initializing TPU system.\n"
          ]
        },
        {
          "output_type": "stream",
          "name": "stderr",
          "text": [
            "INFO:tensorflow:Finished initializing TPU system.\n"
          ]
        },
        {
          "output_type": "execute_result",
          "data": {
            "text/plain": [
              "<tensorflow.python.tpu.topology.Topology at 0x7f81e9119410>"
            ]
          },
          "metadata": {},
          "execution_count": 29
        }
      ]
    },
    {
      "cell_type": "code",
      "metadata": {
        "id": "XYIFjJoGhdcK"
      },
      "source": [
        "num_epochs = 5\n",
        "num_batch = 16"
      ],
      "execution_count": 30,
      "outputs": []
    },
    {
      "cell_type": "code",
      "metadata": {
        "id": "wDqup7vknBcx"
      },
      "source": [
        "warmup_ratio = 0.1\n",
        "\n",
        "t_total = len(train) * num_epochs\n",
        "warmup_step = int(t_total * warmup_ratio)"
      ],
      "execution_count": 31,
      "outputs": []
    },
    {
      "cell_type": "code",
      "metadata": {
        "id": "nG2revnCmKP7"
      },
      "source": [
        "LR = tf.keras.optimizers.schedules.CosineDecayRestarts(initial_learning_rate=2e-5, first_decay_steps=warmup_step)"
      ],
      "execution_count": 32,
      "outputs": []
    },
    {
      "cell_type": "code",
      "metadata": {
        "id": "V2Ohx30UheMS"
      },
      "source": [
        "initializer_range = 0.2"
      ],
      "execution_count": 33,
      "outputs": []
    },
    {
      "cell_type": "code",
      "metadata": {
        "id": "pz_C2MNHhfAK"
      },
      "source": [
        "def create_model():\n",
        "  model = TFBertModel.from_pretrained(\"monologg/kobert\", from_pt=True)\n",
        "\n",
        "  input_ids_layer = tf.keras.layers.Input(shape=(max_seq_len,), dtype=tf.int32)\n",
        "  attention_masks_layer = tf.keras.layers.Input(shape=(max_seq_len,), dtype=tf.int32)\n",
        "  token_type_ids_layer = tf.keras.layers.Input(shape=(max_seq_len,), dtype=tf.int32)\n",
        "\n",
        "  outputs = model([input_ids_layer, attention_masks_layer, token_type_ids_layer])\n",
        "  pooled_output = outputs[1]\n",
        "\n",
        "  optimizer = tf.keras.optimizers.Adam(learning_rate=LR)\n",
        "  \n",
        "  pooled_output = tf.keras.layers.Dropout(0.5)(pooled_output)\n",
        "  prediction = tf.keras.layers.Dense(9, activation='softmax', kernel_initializer=tf.keras.initializers.TruncatedNormal(stddev=initializer_range))(pooled_output)\n",
        "  cls_model = tf.keras.Model([input_ids_layer, attention_masks_layer, token_type_ids_layer], prediction)\n",
        "  cls_model.compile(optimizer=optimizer, loss=tf.keras.losses.CategoricalCrossentropy(), metrics = ['accuracy'])\n",
        "  cls_model.summary()\n",
        "\n",
        "  return cls_model"
      ],
      "execution_count": 34,
      "outputs": []
    },
    {
      "cell_type": "code",
      "metadata": {
        "id": "wXmmg3FTYWWI"
      },
      "source": [
        "from google.colab import auth\n",
        "auth.authenticate_user()"
      ],
      "execution_count": 35,
      "outputs": []
    },
    {
      "cell_type": "code",
      "metadata": {
        "colab": {
          "base_uri": "https://localhost:8080/"
        },
        "id": "rr1xZtiKhmMq",
        "outputId": "8d5d334c-4aa1-488c-e056-fe773c9eeb3a"
      },
      "source": [
        "from tensorflow.keras.callbacks import EarlyStopping, ModelCheckpoint\n",
        "####\n",
        "es = EarlyStopping(monitor='val_loss', mode='min', verbose=1, patience=5)\n",
        "mc = ModelCheckpoint('gs://cateto/best_model', monitor='accuracy', mode='max', save_weights_only=True, verbose=1, save_best_only=True)\n",
        "####\n",
        "strategy = tf.distribute.experimental.TPUStrategy(resolver)\n",
        "# TPU를 활용하기 위해 context로 묶어주기\n",
        "with strategy.scope():\n",
        "  cls_model = create_model()\n",
        "  cls_model.fit(train_X, train_y, callbacks=[es, mc], epochs=num_epochs, batch_size=num_batch, validation_data=(test_X, test_y))"
      ],
      "execution_count": 38,
      "outputs": [
        {
          "metadata": {
            "tags": null
          },
          "name": "stderr",
          "output_type": "stream",
          "text": [
            "WARNING:absl:`tf.distribute.experimental.TPUStrategy` is deprecated, please use  the non experimental symbol `tf.distribute.TPUStrategy` instead.\n"
          ]
        },
        {
          "metadata": {
            "tags": null
          },
          "name": "stdout",
          "output_type": "stream",
          "text": [
            "INFO:tensorflow:Found TPU system:\n"
          ]
        },
        {
          "metadata": {
            "tags": null
          },
          "name": "stderr",
          "output_type": "stream",
          "text": [
            "INFO:tensorflow:Found TPU system:\n"
          ]
        },
        {
          "metadata": {
            "tags": null
          },
          "name": "stdout",
          "output_type": "stream",
          "text": [
            "INFO:tensorflow:*** Num TPU Cores: 8\n"
          ]
        },
        {
          "metadata": {
            "tags": null
          },
          "name": "stderr",
          "output_type": "stream",
          "text": [
            "INFO:tensorflow:*** Num TPU Cores: 8\n"
          ]
        },
        {
          "metadata": {
            "tags": null
          },
          "name": "stdout",
          "output_type": "stream",
          "text": [
            "INFO:tensorflow:*** Num TPU Workers: 1\n"
          ]
        },
        {
          "metadata": {
            "tags": null
          },
          "name": "stderr",
          "output_type": "stream",
          "text": [
            "INFO:tensorflow:*** Num TPU Workers: 1\n"
          ]
        },
        {
          "metadata": {
            "tags": null
          },
          "name": "stdout",
          "output_type": "stream",
          "text": [
            "INFO:tensorflow:*** Num TPU Cores Per Worker: 8\n"
          ]
        },
        {
          "metadata": {
            "tags": null
          },
          "name": "stderr",
          "output_type": "stream",
          "text": [
            "INFO:tensorflow:*** Num TPU Cores Per Worker: 8\n"
          ]
        },
        {
          "metadata": {
            "tags": null
          },
          "name": "stdout",
          "output_type": "stream",
          "text": [
            "INFO:tensorflow:*** Available Device: _DeviceAttributes(/job:localhost/replica:0/task:0/device:CPU:0, CPU, 0, 0)\n"
          ]
        },
        {
          "metadata": {
            "tags": null
          },
          "name": "stderr",
          "output_type": "stream",
          "text": [
            "INFO:tensorflow:*** Available Device: _DeviceAttributes(/job:localhost/replica:0/task:0/device:CPU:0, CPU, 0, 0)\n"
          ]
        },
        {
          "metadata": {
            "tags": null
          },
          "name": "stdout",
          "output_type": "stream",
          "text": [
            "INFO:tensorflow:*** Available Device: _DeviceAttributes(/job:worker/replica:0/task:0/device:CPU:0, CPU, 0, 0)\n"
          ]
        },
        {
          "metadata": {
            "tags": null
          },
          "name": "stderr",
          "output_type": "stream",
          "text": [
            "INFO:tensorflow:*** Available Device: _DeviceAttributes(/job:worker/replica:0/task:0/device:CPU:0, CPU, 0, 0)\n"
          ]
        },
        {
          "metadata": {
            "tags": null
          },
          "name": "stdout",
          "output_type": "stream",
          "text": [
            "INFO:tensorflow:*** Available Device: _DeviceAttributes(/job:worker/replica:0/task:0/device:TPU:0, TPU, 0, 0)\n"
          ]
        },
        {
          "metadata": {
            "tags": null
          },
          "name": "stderr",
          "output_type": "stream",
          "text": [
            "INFO:tensorflow:*** Available Device: _DeviceAttributes(/job:worker/replica:0/task:0/device:TPU:0, TPU, 0, 0)\n"
          ]
        },
        {
          "metadata": {
            "tags": null
          },
          "name": "stdout",
          "output_type": "stream",
          "text": [
            "INFO:tensorflow:*** Available Device: _DeviceAttributes(/job:worker/replica:0/task:0/device:TPU:1, TPU, 0, 0)\n"
          ]
        },
        {
          "metadata": {
            "tags": null
          },
          "name": "stderr",
          "output_type": "stream",
          "text": [
            "INFO:tensorflow:*** Available Device: _DeviceAttributes(/job:worker/replica:0/task:0/device:TPU:1, TPU, 0, 0)\n"
          ]
        },
        {
          "metadata": {
            "tags": null
          },
          "name": "stdout",
          "output_type": "stream",
          "text": [
            "INFO:tensorflow:*** Available Device: _DeviceAttributes(/job:worker/replica:0/task:0/device:TPU:2, TPU, 0, 0)\n"
          ]
        },
        {
          "metadata": {
            "tags": null
          },
          "name": "stderr",
          "output_type": "stream",
          "text": [
            "INFO:tensorflow:*** Available Device: _DeviceAttributes(/job:worker/replica:0/task:0/device:TPU:2, TPU, 0, 0)\n"
          ]
        },
        {
          "metadata": {
            "tags": null
          },
          "name": "stdout",
          "output_type": "stream",
          "text": [
            "INFO:tensorflow:*** Available Device: _DeviceAttributes(/job:worker/replica:0/task:0/device:TPU:3, TPU, 0, 0)\n"
          ]
        },
        {
          "metadata": {
            "tags": null
          },
          "name": "stderr",
          "output_type": "stream",
          "text": [
            "INFO:tensorflow:*** Available Device: _DeviceAttributes(/job:worker/replica:0/task:0/device:TPU:3, TPU, 0, 0)\n"
          ]
        },
        {
          "metadata": {
            "tags": null
          },
          "name": "stdout",
          "output_type": "stream",
          "text": [
            "INFO:tensorflow:*** Available Device: _DeviceAttributes(/job:worker/replica:0/task:0/device:TPU:4, TPU, 0, 0)\n"
          ]
        },
        {
          "metadata": {
            "tags": null
          },
          "name": "stderr",
          "output_type": "stream",
          "text": [
            "INFO:tensorflow:*** Available Device: _DeviceAttributes(/job:worker/replica:0/task:0/device:TPU:4, TPU, 0, 0)\n"
          ]
        },
        {
          "metadata": {
            "tags": null
          },
          "name": "stdout",
          "output_type": "stream",
          "text": [
            "INFO:tensorflow:*** Available Device: _DeviceAttributes(/job:worker/replica:0/task:0/device:TPU:5, TPU, 0, 0)\n"
          ]
        },
        {
          "metadata": {
            "tags": null
          },
          "name": "stderr",
          "output_type": "stream",
          "text": [
            "INFO:tensorflow:*** Available Device: _DeviceAttributes(/job:worker/replica:0/task:0/device:TPU:5, TPU, 0, 0)\n"
          ]
        },
        {
          "metadata": {
            "tags": null
          },
          "name": "stdout",
          "output_type": "stream",
          "text": [
            "INFO:tensorflow:*** Available Device: _DeviceAttributes(/job:worker/replica:0/task:0/device:TPU:6, TPU, 0, 0)\n"
          ]
        },
        {
          "metadata": {
            "tags": null
          },
          "name": "stderr",
          "output_type": "stream",
          "text": [
            "INFO:tensorflow:*** Available Device: _DeviceAttributes(/job:worker/replica:0/task:0/device:TPU:6, TPU, 0, 0)\n"
          ]
        },
        {
          "metadata": {
            "tags": null
          },
          "name": "stdout",
          "output_type": "stream",
          "text": [
            "INFO:tensorflow:*** Available Device: _DeviceAttributes(/job:worker/replica:0/task:0/device:TPU:7, TPU, 0, 0)\n"
          ]
        },
        {
          "metadata": {
            "tags": null
          },
          "name": "stderr",
          "output_type": "stream",
          "text": [
            "INFO:tensorflow:*** Available Device: _DeviceAttributes(/job:worker/replica:0/task:0/device:TPU:7, TPU, 0, 0)\n"
          ]
        },
        {
          "metadata": {
            "tags": null
          },
          "name": "stdout",
          "output_type": "stream",
          "text": [
            "INFO:tensorflow:*** Available Device: _DeviceAttributes(/job:worker/replica:0/task:0/device:TPU_SYSTEM:0, TPU_SYSTEM, 0, 0)\n"
          ]
        },
        {
          "metadata": {
            "tags": null
          },
          "name": "stderr",
          "output_type": "stream",
          "text": [
            "INFO:tensorflow:*** Available Device: _DeviceAttributes(/job:worker/replica:0/task:0/device:TPU_SYSTEM:0, TPU_SYSTEM, 0, 0)\n"
          ]
        },
        {
          "metadata": {
            "tags": null
          },
          "name": "stdout",
          "output_type": "stream",
          "text": [
            "INFO:tensorflow:*** Available Device: _DeviceAttributes(/job:worker/replica:0/task:0/device:XLA_CPU:0, XLA_CPU, 0, 0)\n"
          ]
        },
        {
          "metadata": {
            "tags": null
          },
          "name": "stderr",
          "output_type": "stream",
          "text": [
            "INFO:tensorflow:*** Available Device: _DeviceAttributes(/job:worker/replica:0/task:0/device:XLA_CPU:0, XLA_CPU, 0, 0)\n",
            "All PyTorch model weights were used when initializing TFBertModel.\n",
            "\n",
            "All the weights of TFBertModel were initialized from the PyTorch model.\n",
            "If your task is similar to the task the model of the checkpoint was trained on, you can already use TFBertModel for predictions without further training.\n"
          ]
        },
        {
          "metadata": {
            "tags": null
          },
          "name": "stdout",
          "output_type": "stream",
          "text": [
            "WARNING:tensorflow:The parameters `output_attentions`, `output_hidden_states` and `use_cache` cannot be updated when calling a model.They have to be set to True/False in the config object (i.e.: `config=XConfig.from_pretrained('name', output_attentions=True)`).\n"
          ]
        },
        {
          "metadata": {
            "tags": null
          },
          "name": "stderr",
          "output_type": "stream",
          "text": [
            "WARNING:tensorflow:The parameters `output_attentions`, `output_hidden_states` and `use_cache` cannot be updated when calling a model.They have to be set to True/False in the config object (i.e.: `config=XConfig.from_pretrained('name', output_attentions=True)`).\n"
          ]
        },
        {
          "metadata": {
            "tags": null
          },
          "name": "stdout",
          "output_type": "stream",
          "text": [
            "WARNING:tensorflow:The parameter `return_dict` cannot be set in graph mode and will always be set to `True`.\n"
          ]
        },
        {
          "metadata": {
            "tags": null
          },
          "name": "stderr",
          "output_type": "stream",
          "text": [
            "WARNING:tensorflow:The parameter `return_dict` cannot be set in graph mode and will always be set to `True`.\n"
          ]
        },
        {
          "metadata": {
            "tags": null
          },
          "name": "stdout",
          "output_type": "stream",
          "text": [
            "Model: \"model_2\"\n",
            "__________________________________________________________________________________________________\n",
            "Layer (type)                    Output Shape         Param #     Connected to                     \n",
            "==================================================================================================\n",
            "input_10 (InputLayer)           [(None, 128)]        0                                            \n",
            "__________________________________________________________________________________________________\n",
            "input_11 (InputLayer)           [(None, 128)]        0                                            \n",
            "__________________________________________________________________________________________________\n",
            "input_12 (InputLayer)           [(None, 128)]        0                                            \n",
            "__________________________________________________________________________________________________\n",
            "tf_bert_model_3 (TFBertModel)   TFBaseModelOutputWit 92186880    input_10[0][0]                   \n",
            "                                                                 input_11[0][0]                   \n",
            "                                                                 input_12[0][0]                   \n",
            "__________________________________________________________________________________________________\n",
            "dropout_150 (Dropout)           (None, 768)          0           tf_bert_model_3[0][1]            \n",
            "__________________________________________________________________________________________________\n",
            "dense_2 (Dense)                 (None, 9)            6921        dropout_150[0][0]                \n",
            "==================================================================================================\n",
            "Total params: 92,193,801\n",
            "Trainable params: 92,193,801\n",
            "Non-trainable params: 0\n",
            "__________________________________________________________________________________________________\n",
            "Epoch 1/5\n"
          ]
        },
        {
          "metadata": {
            "tags": null
          },
          "name": "stderr",
          "output_type": "stream",
          "text": [
            "INFO:absl:TPU has inputs with dynamic shapes: [<tf.Tensor 'Const:0' shape=() dtype=int32>, <tf.Tensor 'cond_8/Identity:0' shape=(None, 128) dtype=int64>, <tf.Tensor 'cond_8/Identity_1:0' shape=(None, 128) dtype=int64>, <tf.Tensor 'cond_8/Identity_2:0' shape=(None, 128) dtype=int64>, <tf.Tensor 'cond_8/Identity_3:0' shape=(None, 9) dtype=int32>]\n"
          ]
        },
        {
          "metadata": {
            "tags": null
          },
          "name": "stdout",
          "output_type": "stream",
          "text": [
            "WARNING:tensorflow:The parameters `output_attentions`, `output_hidden_states` and `use_cache` cannot be updated when calling a model.They have to be set to True/False in the config object (i.e.: `config=XConfig.from_pretrained('name', output_attentions=True)`).\n"
          ]
        },
        {
          "metadata": {
            "tags": null
          },
          "name": "stderr",
          "output_type": "stream",
          "text": [
            "WARNING:tensorflow:The parameters `output_attentions`, `output_hidden_states` and `use_cache` cannot be updated when calling a model.They have to be set to True/False in the config object (i.e.: `config=XConfig.from_pretrained('name', output_attentions=True)`).\n"
          ]
        },
        {
          "metadata": {
            "tags": null
          },
          "name": "stdout",
          "output_type": "stream",
          "text": [
            "WARNING:tensorflow:The parameter `return_dict` cannot be set in graph mode and will always be set to `True`.\n"
          ]
        },
        {
          "metadata": {
            "tags": null
          },
          "name": "stderr",
          "output_type": "stream",
          "text": [
            "WARNING:tensorflow:The parameter `return_dict` cannot be set in graph mode and will always be set to `True`.\n",
            "INFO:absl:TPU has inputs with dynamic shapes: [<tf.Tensor 'Const:0' shape=() dtype=int32>, <tf.Tensor 'cond_8/Identity:0' shape=(None, 128) dtype=int64>, <tf.Tensor 'cond_8/Identity_1:0' shape=(None, 128) dtype=int64>, <tf.Tensor 'cond_8/Identity_2:0' shape=(None, 128) dtype=int64>, <tf.Tensor 'cond_8/Identity_3:0' shape=(None, 9) dtype=int32>]\n"
          ]
        },
        {
          "metadata": {
            "tags": null
          },
          "name": "stdout",
          "output_type": "stream",
          "text": [
            "WARNING:tensorflow:The parameters `output_attentions`, `output_hidden_states` and `use_cache` cannot be updated when calling a model.They have to be set to True/False in the config object (i.e.: `config=XConfig.from_pretrained('name', output_attentions=True)`).\n"
          ]
        },
        {
          "metadata": {
            "tags": null
          },
          "name": "stderr",
          "output_type": "stream",
          "text": [
            "WARNING:tensorflow:The parameters `output_attentions`, `output_hidden_states` and `use_cache` cannot be updated when calling a model.They have to be set to True/False in the config object (i.e.: `config=XConfig.from_pretrained('name', output_attentions=True)`).\n"
          ]
        },
        {
          "metadata": {
            "tags": null
          },
          "name": "stdout",
          "output_type": "stream",
          "text": [
            "WARNING:tensorflow:The parameter `return_dict` cannot be set in graph mode and will always be set to `True`.\n"
          ]
        },
        {
          "metadata": {
            "tags": null
          },
          "name": "stderr",
          "output_type": "stream",
          "text": [
            "WARNING:tensorflow:The parameter `return_dict` cannot be set in graph mode and will always be set to `True`.\n"
          ]
        },
        {
          "metadata": {
            "tags": null
          },
          "name": "stdout",
          "output_type": "stream",
          "text": [
            "5664/5664 [==============================] - ETA: 0s - loss: 0.6324 - accuracy: 0.7961"
          ]
        },
        {
          "metadata": {
            "tags": null
          },
          "name": "stderr",
          "output_type": "stream",
          "text": [
            "INFO:absl:TPU has inputs with dynamic shapes: [<tf.Tensor 'Const:0' shape=() dtype=int32>, <tf.Tensor 'cond_8/Identity:0' shape=(None, 128) dtype=int64>, <tf.Tensor 'cond_8/Identity_1:0' shape=(None, 128) dtype=int64>, <tf.Tensor 'cond_8/Identity_2:0' shape=(None, 128) dtype=int64>, <tf.Tensor 'cond_8/Identity_3:0' shape=(None, 9) dtype=int32>]\n"
          ]
        },
        {
          "metadata": {
            "tags": null
          },
          "name": "stdout",
          "output_type": "stream",
          "text": [
            "WARNING:tensorflow:The parameters `output_attentions`, `output_hidden_states` and `use_cache` cannot be updated when calling a model.They have to be set to True/False in the config object (i.e.: `config=XConfig.from_pretrained('name', output_attentions=True)`).\n"
          ]
        },
        {
          "metadata": {
            "tags": null
          },
          "name": "stderr",
          "output_type": "stream",
          "text": [
            "WARNING:tensorflow:The parameters `output_attentions`, `output_hidden_states` and `use_cache` cannot be updated when calling a model.They have to be set to True/False in the config object (i.e.: `config=XConfig.from_pretrained('name', output_attentions=True)`).\n"
          ]
        },
        {
          "metadata": {
            "tags": null
          },
          "name": "stdout",
          "output_type": "stream",
          "text": [
            "WARNING:tensorflow:The parameter `return_dict` cannot be set in graph mode and will always be set to `True`.\n"
          ]
        },
        {
          "metadata": {
            "tags": null
          },
          "name": "stderr",
          "output_type": "stream",
          "text": [
            "WARNING:tensorflow:The parameter `return_dict` cannot be set in graph mode and will always be set to `True`.\n"
          ]
        },
        {
          "output_type": "stream",
          "name": "stdout",
          "text": [
            "5664/5664 [==============================] - 466s 63ms/step - loss: 0.6324 - accuracy: 0.7961 - val_loss: 0.4676 - val_accuracy: 0.8435\n",
            "\n",
            "Epoch 00001: accuracy improved from -inf to 0.79610, saving model to gs://cateto/best_model\n",
            "Epoch 2/5\n",
            "5664/5664 [==============================] - 355s 61ms/step - loss: 0.4218 - accuracy: 0.8595 - val_loss: 0.4632 - val_accuracy: 0.8437\n",
            "\n",
            "Epoch 00002: accuracy improved from 0.79610 to 0.85954, saving model to gs://cateto/best_model\n",
            "Epoch 3/5\n",
            "5664/5664 [==============================] - 357s 61ms/step - loss: 0.2964 - accuracy: 0.9012 - val_loss: 0.4605 - val_accuracy: 0.8575\n",
            "\n",
            "Epoch 00003: accuracy improved from 0.85954 to 0.90123, saving model to gs://cateto/best_model\n",
            "Epoch 4/5\n",
            "5664/5664 [==============================] - 352s 60ms/step - loss: 0.1896 - accuracy: 0.9387 - val_loss: 0.5172 - val_accuracy: 0.8586\n",
            "\n",
            "Epoch 00004: accuracy improved from 0.90123 to 0.93865, saving model to gs://cateto/best_model\n",
            "Epoch 5/5\n",
            "5664/5664 [==============================] - 349s 60ms/step - loss: 0.1084 - accuracy: 0.9658 - val_loss: 0.6553 - val_accuracy: 0.8559\n",
            "\n",
            "Epoch 00005: accuracy improved from 0.93865 to 0.96582, saving model to gs://cateto/best_model\n"
          ]
        }
      ]
    },
    {
      "cell_type": "code",
      "metadata": {
        "colab": {
          "base_uri": "https://localhost:8080/"
        },
        "id": "8IVXL0d1hnkz",
        "outputId": "d470a2da-2be8-4ddc-ca65-6de8c89b3fe7"
      },
      "source": [
        "results = cls_model.evaluate(test_X, test_y, batch_size=1024)\n",
        "print(\"test loss, test acc: \", results)"
      ],
      "execution_count": 39,
      "outputs": [
        {
          "output_type": "stream",
          "name": "stdout",
          "text": [
            "23/23 [==============================] - 19s 489ms/step - loss: 0.6553 - accuracy: 0.8559\n",
            "test loss, test acc:  [0.6552583575248718, 0.8559194803237915]\n"
          ]
        }
      ]
    },
    {
      "cell_type": "code",
      "metadata": {
        "id": "bxRR_lNZBhgN"
      },
      "source": [
        "def sentence_prediction(example):\n",
        "    global tokenizer\n",
        "\n",
        "    input_ids, attention_masks, token_type_ids = [], [], []\n",
        "\n",
        "    input_id = tokenizer.encode(example, max_length=max_seq_len, pad_to_max_length=True)\n",
        "       \n",
        "    # attention_mask는 실제 단어가 위치하면 1, 패딩의 위치에는 0인 시퀀스.\n",
        "    padding_count = input_id.count(tokenizer.pad_token_id)\n",
        "    attention_mask = [1] * (max_seq_len - padding_count) + [0] * padding_count\n",
        "        \n",
        "    # token_type_id는 세그먼트 임베딩을 위한 것으로 이번 예제는 문장이 1개이므로 전부 0으로 통일.\n",
        "    token_type_id = [0] * max_seq_len\n",
        "  \n",
        "    input_ids.append(input_id)\n",
        "    attention_masks.append(attention_mask)\n",
        "    token_type_ids.append(token_type_id)\n",
        "\n",
        "    input_ids = np.array(input_ids)\n",
        "    attention_masks = np.array(attention_masks)\n",
        "    token_type_ids = np.array(token_type_ids)\n",
        "    return [input_ids, attention_masks, token_type_ids]\n",
        "\n",
        "def evaluation_predict(sentence):\n",
        "    data_x = sentence_prediction(sentence)\n",
        "    predict = cls_model.predict(data_x)\n",
        "\n",
        "    print('예측 결과 수치', predict)\n",
        "    print(predict)\n",
        "    predict_answer = np.argmax(predict[0])\n",
        "    predict_value = predict[0][predict_answer]\n",
        "    \n",
        "    if predict_answer == 0:\n",
        "      print(\"(IT/과학 확률 : %.2f) IT/과학 뉴스입니다.\" % (1-predict_value))\n",
        "      return 0\n",
        "    elif predict_answer == 1:\n",
        "      print(\"(경제 확률 : %.2f) 경제 뉴스입니다.\" % predict_value)\n",
        "      return 1\n",
        "    elif predict_answer == 2:\n",
        "      print(\"(문화 확률 : %.2f) 문화 뉴스입니다.\" % predict_value)\n",
        "      return 2\n",
        "    elif predict_answer == 3:\n",
        "      print(\"(미용/건강 확률 : %.2f) 미용/건강 뉴스입니다.\" % predict_value)\n",
        "      return 3\n",
        "    elif predict_answer == 4:\n",
        "      print(\"(사회 확률 : %.2f) 사회 뉴스입니다.\" % predict_value)\n",
        "      return 4\n",
        "    elif predict_answer == 5:\n",
        "      print(\"(생활 확률 : %.2f) 생활 뉴스입니다.\" % predict_value)\n",
        "      return 5\n",
        "    elif predict_answer == 6:\n",
        "      print(\"(스포츠 확률 : %.2f) 스포츠 뉴스입니다.\" % predict_value)\n",
        "      return 6\n",
        "    elif predict_answer == 7:\n",
        "      print(\"(연예 확률 : %.2f) 연예 뉴스입니다.\" % predict_value)\n",
        "      return 7\n",
        "    elif predict_answer == 8:\n",
        "      print(\"(정치 확률 : %.2f) 정치 뉴스입니다.\" % predict_value)\n",
        "      return 8"
      ],
      "execution_count": 40,
      "outputs": []
    },
    {
      "cell_type": "code",
      "metadata": {
        "colab": {
          "base_uri": "https://localhost:8080/"
        },
        "id": "lboD9wC8CRwG",
        "outputId": "a756bdfc-8d35-4177-8f4d-25dc3f8bdbc0"
      },
      "source": [
        "text = \"\"\"\n",
        "진중권 전 동양대 교수는 이준석 국민의힘 대표에게 국민권익위원회가 발표한 부동산 거래내역 전수조사 결과 국민의힘 소속 의원들의 엄정한 조치를 요구했습니다. 이를 잘 해결할 경우 ‘리더십 리스크’를 해결할 수 있을 것이라 내다봤습니다.\n",
        "진 전 교수는 지난 23일 CBS라디오 ‘한판 승부’에 출연해 국민권익위 전수조사 결과 국민의힘 의원 12명에 대해 투기 의혹이 제기된 것에 대해 “대선에 큰 변수가 될 것 같지 않다”고 전망했습니다.\n",
        "이어 “경찰수사, 검찰 수사에서 무혐의가 나올 것들이 상당히 많고 진짜 투기를 한 사람이 얼마나 되는지는 좀 더 지켜봐야” 한다며 “국민의힘에서 어떻게 처리할 것인가 더 큰 문제”라고 했습니다.\"\"\"\n",
        "evaluation_predict(text)"
      ],
      "execution_count": 41,
      "outputs": [
        {
          "output_type": "stream",
          "name": "stderr",
          "text": [
            "/usr/local/lib/python3.7/dist-packages/transformers/tokenization_utils_base.py:2074: FutureWarning: The `pad_to_max_length` argument is deprecated and will be removed in a future version, use `padding=True` or `padding='longest'` to pad to the longest sequence in the batch, or use `padding='max_length'` to pad to a max length. In this case, you can give a specific length with `max_length` (e.g. `max_length=45`) or leave max_length to None to pad to the maximal input size of the model (e.g. 512 for Bert).\n",
            "  FutureWarning,\n",
            "INFO:absl:TPU has inputs with dynamic shapes: [<tf.Tensor 'Const:0' shape=() dtype=int32>, <tf.Tensor 'cond_8/Identity:0' shape=(None, 128) dtype=int64>, <tf.Tensor 'cond_8/Identity_1:0' shape=(None, 128) dtype=int64>, <tf.Tensor 'cond_8/Identity_2:0' shape=(None, 128) dtype=int64>]\n"
          ]
        },
        {
          "output_type": "stream",
          "name": "stdout",
          "text": [
            "WARNING:tensorflow:The parameters `output_attentions`, `output_hidden_states` and `use_cache` cannot be updated when calling a model.They have to be set to True/False in the config object (i.e.: `config=XConfig.from_pretrained('name', output_attentions=True)`).\n"
          ]
        },
        {
          "output_type": "stream",
          "name": "stderr",
          "text": [
            "WARNING:tensorflow:The parameters `output_attentions`, `output_hidden_states` and `use_cache` cannot be updated when calling a model.They have to be set to True/False in the config object (i.e.: `config=XConfig.from_pretrained('name', output_attentions=True)`).\n"
          ]
        },
        {
          "output_type": "stream",
          "name": "stdout",
          "text": [
            "WARNING:tensorflow:The parameter `return_dict` cannot be set in graph mode and will always be set to `True`.\n"
          ]
        },
        {
          "output_type": "stream",
          "name": "stderr",
          "text": [
            "WARNING:tensorflow:The parameter `return_dict` cannot be set in graph mode and will always be set to `True`.\n"
          ]
        },
        {
          "output_type": "stream",
          "name": "stdout",
          "text": [
            "예측 결과 수치 [[9.1432346e-05 2.5908675e-02 5.0710285e-05 5.4441378e-05 5.1167244e-05\n",
            "  1.6264745e-04 9.7335673e-05 1.3014692e-04 9.7345328e-01]]\n",
            "[[9.1432346e-05 2.5908675e-02 5.0710285e-05 5.4441378e-05 5.1167244e-05\n",
            "  1.6264745e-04 9.7335673e-05 1.3014692e-04 9.7345328e-01]]\n",
            "(정치 확률 : 0.97) 정치 뉴스입니다.\n"
          ]
        },
        {
          "output_type": "execute_result",
          "data": {
            "text/plain": [
              "8"
            ]
          },
          "metadata": {},
          "execution_count": 41
        }
      ]
    }
  ]
}